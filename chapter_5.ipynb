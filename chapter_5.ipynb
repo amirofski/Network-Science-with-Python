{
 "cells": [
  {
   "cell_type": "code",
   "execution_count": 194,
   "id": "ae5c9f0c",
   "metadata": {},
   "outputs": [
    {
     "name": "stdout",
     "output_type": "stream",
     "text": [
      "Requirement already satisfied: networkx in c:\\users\\amird\\appdata\\local\\programs\\python\\python39\\lib\\site-packages (3.2.1)\n",
      "Requirement already satisfied: scikit-network in c:\\users\\amird\\appdata\\local\\programs\\python\\python39\\lib\\site-packages (0.31.0)\n",
      "Requirement already satisfied: numpy>=1.22.4 in c:\\users\\amird\\appdata\\local\\programs\\python\\python39\\lib\\site-packages (from scikit-network) (1.26.3)\n",
      "Requirement already satisfied: scipy>=1.7.3 in c:\\users\\amird\\appdata\\local\\programs\\python\\python39\\lib\\site-packages (from scikit-network) (1.12.0)\n",
      "Note: you may need to restart the kernel to use updated packages.\n",
      "Requirement already satisfied: tqdm in c:\\users\\amird\\appdata\\local\\programs\\python\\python39\\lib\\site-packages (4.66.1)\n",
      "Requirement already satisfied: colorama in c:\\users\\amird\\appdata\\roaming\\python\\python39\\site-packages (from tqdm) (0.4.6)\n",
      "Note: you may need to restart the kernel to use updated packages.\n"
     ]
    }
   ],
   "source": [
    "%pip install networkx scikit-network\n",
    "%pip install tqdm"
   ]
  },
  {
   "cell_type": "code",
   "execution_count": 195,
   "id": "f7100612",
   "metadata": {},
   "outputs": [],
   "source": [
    "import networkx as nx\n",
    "import numpy as np\n",
    "from IPython.display import SVG\n",
    "from sknetwork.visualization import svg_graph\n",
    "from sknetwork.data import Bunch\n",
    "import pandas as pd\n",
    "from tqdm import tqdm\n",
    "from newspaper import Article\n",
    "import time\n",
    "import spacy\n",
    "import scipy.sparse as sp\n",
    "\n",
    "\n",
    "def draw_graph(G, show_names=False, node_size=1, font_size=10, edge_width=0.5):\n",
    "    if not isinstance(G, nx.Graph):\n",
    "        raise ValueError(\"Input graph must be a NetworkX Graph object.\")\n",
    "\n",
    "    adjacency = nx.to_numpy_array(G, nodelist=None, dtype=None, order=None, multigraph_weight=sum, weight='weight', nonedge=0.0)\n",
    "    adjacency = sp.csr_matrix(adjacency)\n",
    "    #adjacency = nx.to_numpy_array(G, weight='weight', multigraph_weight=sum)\n",
    "    names = np.array(list(G.nodes()))\n",
    "    print(names)\n",
    "    graph = Bunch()\n",
    "    graph.adjacency = adjacency\n",
    "    graph.names = names\n",
    "\n",
    "    if show_names and 'names' not in graph:\n",
    "        raise ValueError(\"Graph must have node names if show_names is True.\")\n",
    "\n",
    "    image = svg_graph(\n",
    "        graph.adjacency,  # Remove unused pagerank scores\n",
    "        edge_width=edge_width,\n",
    "        display_node_weight=True,\n",
    "        node_size=node_size,\n",
    "        font_size=font_size,\n",
    "        names=graph.names if show_names else None,\n",
    "        width=800,\n",
    "        height=800,\n",
    "        margin=0,\n",
    "        scale=1.0,\n",
    "        node_color=\"lightblue\",\n",
    "        edge_color=\"black\",\n",
    "        filename=None,\n",
    "\n",
    "    )\n",
    "\n",
    "    return SVG(image)"
   ]
  },
  {
   "cell_type": "code",
   "execution_count": 196,
   "id": "ae5cadd4",
   "metadata": {},
   "outputs": [],
   "source": [
    "def get_story_df(domain):\n",
    "    paper = newspaper.build(domain, memoize_articles=False)\n",
    "    urls = paper.article_urls()\n",
    "    urls = sorted([u for u in urls if 'category' not in u and len(u) > 60])\n",
    "    titles = []\n",
    "    texts = []\n",
    "    languages = []\n",
    "    keywords = []\n",
    "\n",
    "    for url in tqdm(urls):\n",
    "        article = Article(url)\n",
    "        article.download()\n",
    "        article.parse()\n",
    "        article.nlp()\n",
    "\n",
    "        titles.append(article.title)\n",
    "        texts.append(article.text)\n",
    "        languages.append(article.meta_lang)\n",
    "        keywords.append(article.keywords)\n",
    "\n",
    "    df = pd.DataFrame({'urls': urls, 'title': titles, 'text': texts, 'lang': languages, 'keywords': keywords})\n",
    "\n",
    "    return df"
   ]
  },
  {
   "cell_type": "markdown",
   "id": "971fe274",
   "metadata": {},
   "source": [
    "# Newspaper3k"
   ]
  },
  {
   "cell_type": "code",
   "execution_count": 197,
   "id": "ca996e15",
   "metadata": {},
   "outputs": [
    {
     "name": "stdout",
     "output_type": "stream",
     "text": [
      "Requirement already satisfied: newspaper3k in c:\\users\\amird\\appdata\\local\\programs\\python\\python39\\lib\\site-packages (0.2.8)\n",
      "Requirement already satisfied: beautifulsoup4>=4.4.1 in c:\\users\\amird\\appdata\\local\\programs\\python\\python39\\lib\\site-packages (from newspaper3k) (4.12.3)\n",
      "Requirement already satisfied: Pillow>=3.3.0 in c:\\users\\amird\\appdata\\local\\programs\\python\\python39\\lib\\site-packages (from newspaper3k) (10.2.0)\n",
      "Requirement already satisfied: PyYAML>=3.11 in c:\\users\\amird\\appdata\\local\\programs\\python\\python39\\lib\\site-packages (from newspaper3k) (6.0.1)\n",
      "Requirement already satisfied: cssselect>=0.9.2 in c:\\users\\amird\\appdata\\local\\programs\\python\\python39\\lib\\site-packages (from newspaper3k) (1.2.0)\n",
      "Requirement already satisfied: lxml>=3.6.0 in c:\\users\\amird\\appdata\\local\\programs\\python\\python39\\lib\\site-packages (from newspaper3k) (5.1.0)\n",
      "Requirement already satisfied: nltk>=3.2.1 in c:\\users\\amird\\appdata\\local\\programs\\python\\python39\\lib\\site-packages (from newspaper3k) (3.8.1)\n",
      "Requirement already satisfied: requests>=2.10.0 in c:\\users\\amird\\appdata\\local\\programs\\python\\python39\\lib\\site-packages (from newspaper3k) (2.31.0)\n",
      "Requirement already satisfied: feedparser>=5.2.1 in c:\\users\\amird\\appdata\\local\\programs\\python\\python39\\lib\\site-packages (from newspaper3k) (6.0.11)\n",
      "Requirement already satisfied: tldextract>=2.0.1 in c:\\users\\amird\\appdata\\local\\programs\\python\\python39\\lib\\site-packages (from newspaper3k) (5.1.1)\n",
      "Requirement already satisfied: feedfinder2>=0.0.4 in c:\\users\\amird\\appdata\\local\\programs\\python\\python39\\lib\\site-packages (from newspaper3k) (0.0.4)\n",
      "Requirement already satisfied: jieba3k>=0.35.1 in c:\\users\\amird\\appdata\\local\\programs\\python\\python39\\lib\\site-packages (from newspaper3k) (0.35.1)\n",
      "Requirement already satisfied: python-dateutil>=2.5.3 in c:\\users\\amird\\appdata\\roaming\\python\\python39\\site-packages (from newspaper3k) (2.8.2)\n",
      "Requirement already satisfied: tinysegmenter==0.3 in c:\\users\\amird\\appdata\\local\\programs\\python\\python39\\lib\\site-packages (from newspaper3k) (0.3)\n",
      "Requirement already satisfied: soupsieve>1.2 in c:\\users\\amird\\appdata\\local\\programs\\python\\python39\\lib\\site-packages (from beautifulsoup4>=4.4.1->newspaper3k) (2.5)\n",
      "Requirement already satisfied: six in c:\\users\\amird\\appdata\\roaming\\python\\python39\\site-packages (from feedfinder2>=0.0.4->newspaper3k) (1.16.0)\n",
      "Requirement already satisfied: sgmllib3k in c:\\users\\amird\\appdata\\local\\programs\\python\\python39\\lib\\site-packages (from feedparser>=5.2.1->newspaper3k) (1.0.0)\n",
      "Requirement already satisfied: click in c:\\users\\amird\\appdata\\local\\programs\\python\\python39\\lib\\site-packages (from nltk>=3.2.1->newspaper3k) (8.1.7)\n",
      "Requirement already satisfied: joblib in c:\\users\\amird\\appdata\\local\\programs\\python\\python39\\lib\\site-packages (from nltk>=3.2.1->newspaper3k) (1.3.2)\n",
      "Requirement already satisfied: regex>=2021.8.3 in c:\\users\\amird\\appdata\\local\\programs\\python\\python39\\lib\\site-packages (from nltk>=3.2.1->newspaper3k) (2023.12.25)\n",
      "Requirement already satisfied: tqdm in c:\\users\\amird\\appdata\\local\\programs\\python\\python39\\lib\\site-packages (from nltk>=3.2.1->newspaper3k) (4.66.1)\n",
      "Requirement already satisfied: charset-normalizer<4,>=2 in c:\\users\\amird\\appdata\\local\\programs\\python\\python39\\lib\\site-packages (from requests>=2.10.0->newspaper3k) (3.3.2)\n",
      "Requirement already satisfied: idna<4,>=2.5 in c:\\users\\amird\\appdata\\local\\programs\\python\\python39\\lib\\site-packages (from requests>=2.10.0->newspaper3k) (3.6)\n",
      "Requirement already satisfied: urllib3<3,>=1.21.1 in c:\\users\\amird\\appdata\\local\\programs\\python\\python39\\lib\\site-packages (from requests>=2.10.0->newspaper3k) (2.2.0)\n",
      "Requirement already satisfied: certifi>=2017.4.17 in c:\\users\\amird\\appdata\\local\\programs\\python\\python39\\lib\\site-packages (from requests>=2.10.0->newspaper3k) (2024.2.2)\n",
      "Requirement already satisfied: requests-file>=1.4 in c:\\users\\amird\\appdata\\local\\programs\\python\\python39\\lib\\site-packages (from tldextract>=2.0.1->newspaper3k) (2.0.0)\n",
      "Requirement already satisfied: filelock>=3.0.8 in c:\\users\\amird\\appdata\\local\\programs\\python\\python39\\lib\\site-packages (from tldextract>=2.0.1->newspaper3k) (3.13.1)\n",
      "Requirement already satisfied: colorama in c:\\users\\amird\\appdata\\roaming\\python\\python39\\site-packages (from click->nltk>=3.2.1->newspaper3k) (0.4.6)\n",
      "Note: you may need to restart the kernel to use updated packages.\n"
     ]
    }
   ],
   "source": [
    "%pip install newspaper3k"
   ]
  },
  {
   "cell_type": "code",
   "execution_count": 198,
   "id": "2c059de5",
   "metadata": {},
   "outputs": [],
   "source": [
    "import newspaper \n",
    "\n",
    "domain = 'https://www.goodnewsnetwork.org' \n",
    "\n",
    "paper = newspaper.build(domain, memoize_articles=False) \n",
    "\n",
    "urls = paper.article_urls() "
   ]
  },
  {
   "cell_type": "code",
   "execution_count": 199,
   "id": "318133e1",
   "metadata": {},
   "outputs": [
    {
     "data": {
      "text/plain": [
       "['https://www.goodnewsnetwork.org/category/news/',\n",
       " 'https://www.goodnewsnetwork.org/category/news/horoscopes/',\n",
       " 'https://www.goodnewsnetwork.org/category/news/usa/',\n",
       " 'https://www.goodnewsnetwork.org/category/news/world/',\n",
       " 'https://www.goodnewsnetwork.org/category/news/inspiring/',\n",
       " 'https://www.goodnewsnetwork.org/category/news/animals/',\n",
       " 'https://www.goodnewsnetwork.org/category/news/laughs/',\n",
       " 'https://www.goodnewsnetwork.org/category/news/earth/',\n",
       " 'https://www.goodnewsnetwork.org/category/news/heroes/',\n",
       " 'https://www.goodnewsnetwork.org/category/news/kids/',\n",
       " 'https://www.goodnewsnetwork.org/category/news/self-help/',\n",
       " 'https://www.goodnewsnetwork.org/category/news/founders-blog/',\n",
       " 'https://www.goodnewsnetwork.org/category/news/science/',\n",
       " 'https://www.goodnewsnetwork.org/category/news/health/',\n",
       " 'https://www.goodnewsnetwork.org/category/news/arts-leisure/',\n",
       " 'https://www.goodnewsnetwork.org/category/news/celebrities/',\n",
       " 'https://www.goodnewsnetwork.org/category/news/sports/',\n",
       " 'https://www.goodnewsnetwork.org/category/news/religion/',\n",
       " 'https://www.goodnewsnetwork.org/category/news/reviews/',\n",
       " 'https://www.goodnewsnetwork.org/category/news/at-home/',\n",
       " 'https://www.goodnewsnetwork.org/category/news/business/',\n",
       " 'https://www.goodnewsnetwork.org/category/news/top-videos/',\n",
       " 'https://www.goodnewsnetwork.org/our-new-good-news-app-for-android-and-iphone/',\n",
       " 'https://www.goodnewsnetwork.org/more/press/',\n",
       " 'https://www.goodnewsnetwork.org/single-dose-of-gene-therapy-hailed-as-magic-wand-for-patients-with-deadly-condition-transforming-lives/',\n",
       " 'https://www.goodnewsnetwork.org/whimsical-street-art-catches-everyone-off-guard-and-delights-downtown-boston-at-16-locations-look/',\n",
       " 'https://www.goodnewsnetwork.org/social-media-goes-crazy-for-customer-who-went-above-and-beyond-to-mail-20-tip/',\n",
       " 'https://www.goodnewsnetwork.org/child-naturalist-discovers-a-giant-new-stick-insect-then-co-authors-the-paper-and-names-the-bug/',\n",
       " 'https://www.goodnewsnetwork.org/how-to-love-yourself-let-go-of-the-bank-and-flow-with-the-river-good-talk/',\n",
       " 'https://www.goodnewsnetwork.org/good-gardening-week-15-all-about-spring-flowers-plus-last-weeks-early-growing-images/',\n",
       " 'https://www.goodnewsnetwork.org/gnn-founder-talks-with-bbc-world-service-about-positive-news-in-media-landscape-listen/',\n",
       " 'https://www.goodnewsnetwork.org/good-gardening-a-new-year-what-have-you-got-in-the-ground/',\n",
       " 'https://www.goodnewsnetwork.org/a-daily-dose-of-positivity-right-on-your-toes/',\n",
       " 'https://www.goodnewsnetwork.org/the-gnn-paperback-book-and-now-the-good-news/',\n",
       " 'https://www.goodnewsnetwork.org/puratae-product-nutrition-company-that-helps-others/',\n",
       " 'https://www.goodnewsnetwork.org/gopatch-drug-free-patches-good-gifts/',\n",
       " 'https://www.goodnewsnetwork.org/the-heartwarming-feel-good-book-we-all-need/',\n",
       " 'https://www.goodnewsnetwork.org/mapa-antiguo-de-la-tierra-te-deja-ver-su-evolucion/',\n",
       " 'https://www.goodnewsnetwork.org/enorme-en-anidacion-de-tortugasen-tailandia-y-florida/',\n",
       " 'https://www.goodnewsnetwork.org/video-de-placas-tectonicas-de-mil-millones-de-anos/',\n",
       " 'https://www.goodnewsnetwork.org/pinguino-papua-perseguido-por-orcas-se-subio-a-un-barco-turistico-en-la-antartida/',\n",
       " 'https://www.goodnewsnetwork.org/dying-aviator-gets-final-tribute-with-smiley-face-drawn-in-sky-over-hospice/',\n",
       " 'https://www.goodnewsnetwork.org/353000-us-jobs-added-in-january-2024-smashes-expectations/',\n",
       " 'https://www.goodnewsnetwork.org/82pt-of-us-adults-hopeful-about-their-own-future-and-communitys-future/',\n",
       " 'https://www.goodnewsnetwork.org/traditional-chinese-herb-delivered-via-iv-improves-stroke-victims-recovery-in-3000-patients/',\n",
       " 'https://www.goodnewsnetwork.org/most-americans-say-the-best-part-of-the-super-bowl-is-not-the-actual-game/',\n",
       " 'https://www.goodnewsnetwork.org/coastal-ecosystem-on-the-mend-thanks-to-sea-otters-appetite/']"
      ]
     },
     "execution_count": 199,
     "metadata": {},
     "output_type": "execute_result"
    }
   ],
   "source": [
    "urls"
   ]
  },
  {
   "cell_type": "code",
   "execution_count": 200,
   "id": "a629c982",
   "metadata": {},
   "outputs": [],
   "source": [
    "urls = sorted([u for u in urls if 'category' not in u and len(u)>60]) "
   ]
  },
  {
   "cell_type": "code",
   "execution_count": 201,
   "id": "15ce2137",
   "metadata": {},
   "outputs": [
    {
     "data": {
      "text/plain": [
       "['https://www.goodnewsnetwork.org/353000-us-jobs-added-in-january-2024-smashes-expectations/',\n",
       " 'https://www.goodnewsnetwork.org/82pt-of-us-adults-hopeful-about-their-own-future-and-communitys-future/',\n",
       " 'https://www.goodnewsnetwork.org/a-daily-dose-of-positivity-right-on-your-toes/',\n",
       " 'https://www.goodnewsnetwork.org/child-naturalist-discovers-a-giant-new-stick-insect-then-co-authors-the-paper-and-names-the-bug/',\n",
       " 'https://www.goodnewsnetwork.org/coastal-ecosystem-on-the-mend-thanks-to-sea-otters-appetite/',\n",
       " 'https://www.goodnewsnetwork.org/dying-aviator-gets-final-tribute-with-smiley-face-drawn-in-sky-over-hospice/',\n",
       " 'https://www.goodnewsnetwork.org/enorme-en-anidacion-de-tortugasen-tailandia-y-florida/',\n",
       " 'https://www.goodnewsnetwork.org/gnn-founder-talks-with-bbc-world-service-about-positive-news-in-media-landscape-listen/',\n",
       " 'https://www.goodnewsnetwork.org/good-gardening-a-new-year-what-have-you-got-in-the-ground/',\n",
       " 'https://www.goodnewsnetwork.org/good-gardening-week-15-all-about-spring-flowers-plus-last-weeks-early-growing-images/']"
      ]
     },
     "execution_count": 201,
     "metadata": {},
     "output_type": "execute_result"
    }
   ],
   "source": [
    "urls[0:10]"
   ]
  },
  {
   "cell_type": "code",
   "execution_count": 202,
   "id": "0f700a2e",
   "metadata": {},
   "outputs": [],
   "source": [
    "from newspaper import Article \n",
    "\n",
    "url = urls[5] \n",
    "\n",
    "article = Article(url) \n",
    "article.download() \n",
    "article.parse() \n",
    "article.nlp() "
   ]
  },
  {
   "cell_type": "code",
   "execution_count": 203,
   "id": "060d5939",
   "metadata": {},
   "outputs": [
    {
     "data": {
      "text/plain": [
       "'Dying Aviator Gets Final Tribute With Smiley Face Drawn in Sky Over Hospice'"
      ]
     },
     "execution_count": 203,
     "metadata": {},
     "output_type": "execute_result"
    }
   ],
   "source": [
    "title = article.title \n",
    "\n",
    "title "
   ]
  },
  {
   "cell_type": "code",
   "execution_count": 204,
   "id": "e10eb50a",
   "metadata": {},
   "outputs": [
    {
     "data": {
      "text/plain": [
       "'A heartwarming moment was captured outside a hospice room when family members said farewell to an aviation super-fan diagnosed with a terminal cancer.\\n\\nThe 66-year-old was stunned when he was invited outside by hospice staff and told to look up.\\n\\nHis family had arranged for a pilot to draw a smiley face in the sky over Worcester, southwest of Birmingham, England.\\n\\nAerobatic pilot Rich Goodwin skillfully sketched a huge smiling face above Ray Stanton, a former transportation engineer.\\n\\nRay, who h'"
      ]
     },
     "execution_count": 204,
     "metadata": {},
     "output_type": "execute_result"
    }
   ],
   "source": [
    "text = article.text \n",
    "\n",
    "text[0:500] "
   ]
  },
  {
   "cell_type": "code",
   "execution_count": 205,
   "id": "d5774ec6",
   "metadata": {},
   "outputs": [
    {
     "data": {
      "text/plain": [
       "'A heartwarming moment was captured outside a hospice room when family members said farewell to an aviation super-fan diagnosed with a terminal cancer.\\nThe 66-year-old was stunned when he was invited outside by hospice staff and told to look up.\\nHis family had arranged for a pilot to draw a smiley face in the sky over Worcester, southwest of Birmingham, England.\\nAerobatic pilot Rich Goodwin skillfully sketched a huge smiling face above Ray Stanton, a former transportation engineer.\\n“To see the smile in the sky and then look at Ray’s smile was just fantastic.'"
      ]
     },
     "execution_count": 205,
     "metadata": {},
     "output_type": "execute_result"
    }
   ],
   "source": [
    "summary = article.summary \n",
    "\n",
    "summary "
   ]
  },
  {
   "cell_type": "code",
   "execution_count": 206,
   "id": "3660812f",
   "metadata": {},
   "outputs": [
    {
     "data": {
      "text/plain": [
       "'en'"
      ]
     },
     "execution_count": 206,
     "metadata": {},
     "output_type": "execute_result"
    }
   ],
   "source": [
    "language = article.meta_lang \n",
    "\n",
    "language "
   ]
  },
  {
   "cell_type": "code",
   "execution_count": 207,
   "id": "8e9f7581",
   "metadata": {},
   "outputs": [
    {
     "data": {
      "text/plain": [
       "['smile',\n",
       " 'outside',\n",
       " 'final',\n",
       " 'look',\n",
       " 'staff',\n",
       " 'dying',\n",
       " 'aviator',\n",
       " 'face',\n",
       " 'hospice',\n",
       " 'tribute',\n",
       " 'moment',\n",
       " 'goodbye',\n",
       " 'drawn',\n",
       " 'pilot',\n",
       " 'smiley',\n",
       " 'gets',\n",
       " 'ray',\n",
       " 'sky']"
      ]
     },
     "execution_count": 207,
     "metadata": {},
     "output_type": "execute_result"
    }
   ],
   "source": [
    "keywords = article.keywords \n",
    "\n",
    "keywords "
   ]
  },
  {
   "cell_type": "code",
   "execution_count": 208,
   "id": "8cc4539f",
   "metadata": {},
   "outputs": [
    {
     "data": {
      "text/plain": [
       "'https://www.goodnewsnetwork.org/wp-content/uploads/2024/02/patient-Ray-Stanton-family-St-Richards-Hospice-in-Worcester–released-SWNS-.jpg'"
      ]
     },
     "execution_count": 208,
     "metadata": {},
     "output_type": "execute_result"
    }
   ],
   "source": [
    "image = article.meta_img \n",
    "\n",
    "image "
   ]
  },
  {
   "cell_type": "code",
   "execution_count": 209,
   "id": "5938c07a",
   "metadata": {},
   "outputs": [],
   "source": [
    "from newspaper import Config \n",
    "\n",
    "config = Config() \n",
    "config.browser_user_agent = 'Mozilla/5.0 (Macintosh; Intel Mac OS X 12.0; rv:95.0) Gecko/20100101 Firefox/95.0' \n",
    "config.request_timeout = 3 "
   ]
  },
  {
   "cell_type": "code",
   "execution_count": 210,
   "id": "f39a571d",
   "metadata": {},
   "outputs": [],
   "source": [
    "import time \n",
    "\n",
    "time.sleep(1)"
   ]
  },
  {
   "cell_type": "code",
   "execution_count": 211,
   "id": "8d054419",
   "metadata": {},
   "outputs": [],
   "source": [
    "import spacy\n",
    "\n",
    "nlp = spacy.load(\"en_core_web_md\")\n",
    "\n",
    "def extract_entities(text): \n",
    "\n",
    "    doc = nlp(text) \n",
    "\n",
    "    sentences = list(doc.sents) \n",
    "\n",
    "    entities = [] \n",
    "\n",
    "    for sentence in sentences: \n",
    "\n",
    "        sentence_entities = [] \n",
    "\n",
    "        sent_doc = nlp(sentence.text) \n",
    "\n",
    "         \n",
    "\n",
    "        for ent in sent_doc.ents: \n",
    "\n",
    "            if ent.label_ in ['PERSON', 'ORG', 'GPE']: \n",
    "\n",
    "                entity = ent.text.strip() \n",
    "\n",
    "                if \"'s\" in entity: \n",
    "\n",
    "                    cutoff = entity.index(\"'s\") \n",
    "\n",
    "                    entity = entity[:cutoff] \n",
    "\n",
    "                if entity != '': \n",
    "\n",
    "                    sentence_entities.append(entity)   \n",
    "\n",
    "        sentence_entities = list(set(sentence_entities))       \n",
    "\n",
    "        if len(sentence_entities) > 1: \n",
    "\n",
    "            entities.append(sentence_entities) \n",
    "\n",
    "    return entities "
   ]
  },
  {
   "cell_type": "code",
   "execution_count": 212,
   "id": "dcf50e56",
   "metadata": {},
   "outputs": [
    {
     "data": {
      "text/plain": [
       "[['Birmingham', 'Worcester', 'England'],\n",
       " ['Aerobatic', 'Rich Goodwin', 'Ray Stanton'],\n",
       " ['Ray', 'Angela'],\n",
       " ['Ray', 'St Richard’s Hospice', 'Mike Wilkerson']]"
      ]
     },
     "execution_count": 212,
     "metadata": {},
     "output_type": "execute_result"
    }
   ],
   "source": [
    "entities = extract_entities(text) \n",
    "\n",
    "entities "
   ]
  },
  {
   "cell_type": "code",
   "execution_count": 213,
   "id": "8862897b",
   "metadata": {},
   "outputs": [],
   "source": [
    "import pandas as pd\n",
    "\n",
    "def get_network_data(entities): \n",
    "\n",
    "    final_sources = [] \n",
    "    final_targets = [] \n",
    "\n",
    "    for row in entities: \n",
    "\n",
    "        source = row[0] \n",
    "        targets = row[1:] \n",
    "\n",
    "        for target in targets: \n",
    "\n",
    "            final_sources.append(source) \n",
    "            final_targets.append(target)   \n",
    "\n",
    "    df = pd.DataFrame({'source':final_sources, 'target':final_targets}) \n",
    "    \n",
    "    return df "
   ]
  },
  {
   "cell_type": "code",
   "execution_count": 214,
   "id": "b571c108",
   "metadata": {},
   "outputs": [
    {
     "data": {
      "text/html": [
       "<div>\n",
       "<style scoped>\n",
       "    .dataframe tbody tr th:only-of-type {\n",
       "        vertical-align: middle;\n",
       "    }\n",
       "\n",
       "    .dataframe tbody tr th {\n",
       "        vertical-align: top;\n",
       "    }\n",
       "\n",
       "    .dataframe thead th {\n",
       "        text-align: right;\n",
       "    }\n",
       "</style>\n",
       "<table border=\"1\" class=\"dataframe\">\n",
       "  <thead>\n",
       "    <tr style=\"text-align: right;\">\n",
       "      <th></th>\n",
       "      <th>source</th>\n",
       "      <th>target</th>\n",
       "    </tr>\n",
       "  </thead>\n",
       "  <tbody>\n",
       "    <tr>\n",
       "      <th>0</th>\n",
       "      <td>Birmingham</td>\n",
       "      <td>Worcester</td>\n",
       "    </tr>\n",
       "    <tr>\n",
       "      <th>1</th>\n",
       "      <td>Birmingham</td>\n",
       "      <td>England</td>\n",
       "    </tr>\n",
       "    <tr>\n",
       "      <th>2</th>\n",
       "      <td>Aerobatic</td>\n",
       "      <td>Rich Goodwin</td>\n",
       "    </tr>\n",
       "    <tr>\n",
       "      <th>3</th>\n",
       "      <td>Aerobatic</td>\n",
       "      <td>Ray Stanton</td>\n",
       "    </tr>\n",
       "    <tr>\n",
       "      <th>4</th>\n",
       "      <td>Ray</td>\n",
       "      <td>Angela</td>\n",
       "    </tr>\n",
       "  </tbody>\n",
       "</table>\n",
       "</div>"
      ],
      "text/plain": [
       "       source        target\n",
       "0  Birmingham     Worcester\n",
       "1  Birmingham       England\n",
       "2   Aerobatic  Rich Goodwin\n",
       "3   Aerobatic   Ray Stanton\n",
       "4         Ray        Angela"
      ]
     },
     "execution_count": 214,
     "metadata": {},
     "output_type": "execute_result"
    }
   ],
   "source": [
    "network_df = get_network_data(entities) \n",
    "\n",
    "network_df.head() "
   ]
  },
  {
   "cell_type": "code",
   "execution_count": 216,
   "id": "9e415958",
   "metadata": {},
   "outputs": [
    {
     "name": "stderr",
     "output_type": "stream",
     "text": [
      "100%|██████████| 24/24 [00:37<00:00,  1.57s/it]\n"
     ]
    },
    {
     "data": {
      "text/html": [
       "<div>\n",
       "<style scoped>\n",
       "    .dataframe tbody tr th:only-of-type {\n",
       "        vertical-align: middle;\n",
       "    }\n",
       "\n",
       "    .dataframe tbody tr th {\n",
       "        vertical-align: top;\n",
       "    }\n",
       "\n",
       "    .dataframe thead th {\n",
       "        text-align: right;\n",
       "    }\n",
       "</style>\n",
       "<table border=\"1\" class=\"dataframe\">\n",
       "  <thead>\n",
       "    <tr style=\"text-align: right;\">\n",
       "      <th></th>\n",
       "      <th>urls</th>\n",
       "      <th>title</th>\n",
       "      <th>text</th>\n",
       "      <th>lang</th>\n",
       "      <th>keywords</th>\n",
       "    </tr>\n",
       "  </thead>\n",
       "  <tbody>\n",
       "    <tr>\n",
       "      <th>0</th>\n",
       "      <td>https://www.goodnewsnetwork.org/353000-us-jobs...</td>\n",
       "      <td>353,000 U.S. Jobs Added in January; Monthly Re...</td>\n",
       "      <td>The jobs report released Friday by the U.S. Bu...</td>\n",
       "      <td>en</td>\n",
       "      <td>[inflation, report, smashes, jobs, 353000, add...</td>\n",
       "    </tr>\n",
       "    <tr>\n",
       "      <th>1</th>\n",
       "      <td>https://www.goodnewsnetwork.org/82pt-of-us-adu...</td>\n",
       "      <td>82% of U.S. Adults Are Hopeful About Their Own...</td>\n",
       "      <td>The United States has a reputation for being a...</td>\n",
       "      <td>en</td>\n",
       "      <td>[82, respondents, report, communitys, future, ...</td>\n",
       "    </tr>\n",
       "    <tr>\n",
       "      <th>2</th>\n",
       "      <td>https://www.goodnewsnetwork.org/a-daily-dose-o...</td>\n",
       "      <td>A Daily Dose of Positive Affirmations–Right on...</td>\n",
       "      <td>Description\\n\\nThe words we tell ourselves mat...</td>\n",
       "      <td>en</td>\n",
       "      <td>[smart, gift, affirmations, words, socks, wear...</td>\n",
       "    </tr>\n",
       "    <tr>\n",
       "      <th>3</th>\n",
       "      <td>https://www.goodnewsnetwork.org/child-naturali...</td>\n",
       "      <td>Child Naturalist Discovers a Giant New Stick I...</td>\n",
       "      <td>By Ebed de Rosary\\n\\nIn March 2021, Davis Mart...</td>\n",
       "      <td>en</td>\n",
       "      <td>[mongabay, indonesia, stick, species, paper, d...</td>\n",
       "    </tr>\n",
       "    <tr>\n",
       "      <th>4</th>\n",
       "      <td>https://www.goodnewsnetwork.org/coastal-ecosys...</td>\n",
       "      <td>Sea Otters Returned to a Degraded Coastline At...</td>\n",
       "      <td>Against all odds, a distressed California coas...</td>\n",
       "      <td>en</td>\n",
       "      <td>[restore, erosion, conservation, coastal, coas...</td>\n",
       "    </tr>\n",
       "  </tbody>\n",
       "</table>\n",
       "</div>"
      ],
      "text/plain": [
       "                                                urls  \\\n",
       "0  https://www.goodnewsnetwork.org/353000-us-jobs...   \n",
       "1  https://www.goodnewsnetwork.org/82pt-of-us-adu...   \n",
       "2  https://www.goodnewsnetwork.org/a-daily-dose-o...   \n",
       "3  https://www.goodnewsnetwork.org/child-naturali...   \n",
       "4  https://www.goodnewsnetwork.org/coastal-ecosys...   \n",
       "\n",
       "                                               title  \\\n",
       "0  353,000 U.S. Jobs Added in January; Monthly Re...   \n",
       "1  82% of U.S. Adults Are Hopeful About Their Own...   \n",
       "2  A Daily Dose of Positive Affirmations–Right on...   \n",
       "3  Child Naturalist Discovers a Giant New Stick I...   \n",
       "4  Sea Otters Returned to a Degraded Coastline At...   \n",
       "\n",
       "                                                text lang  \\\n",
       "0  The jobs report released Friday by the U.S. Bu...   en   \n",
       "1  The United States has a reputation for being a...   en   \n",
       "2  Description\\n\\nThe words we tell ourselves mat...   en   \n",
       "3  By Ebed de Rosary\\n\\nIn March 2021, Davis Mart...   en   \n",
       "4  Against all odds, a distressed California coas...   en   \n",
       "\n",
       "                                            keywords  \n",
       "0  [inflation, report, smashes, jobs, 353000, add...  \n",
       "1  [82, respondents, report, communitys, future, ...  \n",
       "2  [smart, gift, affirmations, words, socks, wear...  \n",
       "3  [mongabay, indonesia, stick, species, paper, d...  \n",
       "4  [restore, erosion, conservation, coastal, coas...  "
      ]
     },
     "execution_count": 216,
     "metadata": {},
     "output_type": "execute_result"
    }
   ],
   "source": [
    "domain = 'https://www.goodnewsnetwork.org' \n",
    "\n",
    "df = get_story_df(domain) \n",
    "\n",
    "df.head() "
   ]
  },
  {
   "cell_type": "code",
   "execution_count": 215,
   "id": "cb452b07",
   "metadata": {},
   "outputs": [],
   "source": [
    "import newspaper \n",
    "from newspaper import Article \n",
    "from tqdm import tqdm \n",
    "\n",
    "def get_story_df(domain): \n",
    "\n",
    "    paper = newspaper.build(domain, memoize_articles=False) \n",
    "\n",
    "    urls = paper.article_urls() \n",
    "\n",
    "    urls = sorted([u for u in urls if 'category' not in u and len(u)>60]) \n",
    "\n",
    "    titles = [] \n",
    "    texts = [] \n",
    "    languages = [] \n",
    "    keywords = [] \n",
    "\n",
    "    for url in tqdm(urls): \n",
    "\n",
    "        article = Article(url) \n",
    "        article.download() \n",
    "        article.parse() \n",
    "        article.nlp() \n",
    "        \n",
    "        titles.append(article.title) \n",
    "        texts.append(article.text) \n",
    "        languages.append(article.meta_lang) \n",
    "        keywords.append(article.keywords) \n",
    "\n",
    "    df = pd.DataFrame({'urls':urls, 'title':titles, 'text':texts, 'lang':languages, 'keywords':keywords}) \n",
    "\n",
    "    return df "
   ]
  },
  {
   "cell_type": "code",
   "execution_count": 217,
   "id": "5aeb219b",
   "metadata": {},
   "outputs": [
    {
     "name": "stdout",
     "output_type": "stream",
     "text": [
      "['Kansas' 'America' 'USA' 'GNN' 'Laura']\n"
     ]
    },
    {
     "data": {
      "image/svg+xml": [
       "<svg xmlns=\"http://www.w3.org/2000/svg\" width=\"840.0\" height=\"840.0\">\n",
       "<path stroke-width=\"0.5\" stroke=\"black\" d=\"M 20 111 78 20\"/>\n",
       "<path stroke-width=\"0.5\" stroke=\"black\" d=\"M 78 20 20 111\"/>\n",
       "<path stroke-width=\"0.5\" stroke=\"black\" d=\"M 776 683 820 541\"/>\n",
       "<path stroke-width=\"0.5\" stroke=\"black\" d=\"M 776 683 727 820\"/>\n",
       "<path stroke-width=\"0.5\" stroke=\"black\" d=\"M 820 541 776 683\"/>\n",
       "<path stroke-width=\"0.5\" stroke=\"black\" d=\"M 727 820 776 683\"/>\n",
       "<circle cx=\"20\" cy=\"111\" r=\"10.5\" style=\"fill:lightblue;stroke:black;stroke-width:1.0\"/>\n",
       "<circle cx=\"78\" cy=\"20\" r=\"10.5\" style=\"fill:lightblue;stroke:black;stroke-width:1.0\"/>\n",
       "<circle cx=\"776\" cy=\"683\" r=\"20.0\" style=\"fill:lightblue;stroke:black;stroke-width:1.0\"/>\n",
       "<circle cx=\"820\" cy=\"541\" r=\"10.5\" style=\"fill:lightblue;stroke:black;stroke-width:1.0\"/>\n",
       "<circle cx=\"727\" cy=\"820\" r=\"10.5\" style=\"fill:lightblue;stroke:black;stroke-width:1.0\"/>\n",
       "</svg>"
      ],
      "text/plain": [
       "<IPython.core.display.SVG object>"
      ]
     },
     "execution_count": 217,
     "metadata": {},
     "output_type": "execute_result"
    }
   ],
   "source": [
    "import networkx as nx\n",
    "\n",
    "text = df['text'][2] # change this number if story is mangled and get an error\n",
    "\n",
    "entities = extract_entities(text) \n",
    "\n",
    "network_df = get_network_data(entities) \n",
    "\n",
    "G = nx.from_pandas_edgelist(network_df) \n",
    "\n",
    "draw_graph(G, node_size=4, font_size=12) "
   ]
  },
  {
   "cell_type": "code",
   "execution_count": 218,
   "id": "b1dfaa39",
   "metadata": {},
   "outputs": [
    {
     "name": "stdout",
     "output_type": "stream",
     "text": [
      "['Indonesia' 'Dantje' 'Davis Marthin Damaledo' 'Oemasi' 'Timor Island'\n",
      " 'Davis' 'Mongabay' 'Phasmid Forum' 'Garda Bagus Damastra' 'Garda'\n",
      " 'Royce T. Cumming' 'Hennemann' 'Stéphane Le Tirant'\n",
      " 'City University of New York' 'Montréal Insectarium' 'Canada'\n",
      " 'Frank H. Hennemann' 'the American Museum of Natural History'\n",
      " 'Backyard Discovery Reveals ‘Mind' 'Nesiophasma sobesonbaii n. sp'\n",
      " 'Timor' 'Nesiophasma Günther' 'Nesiophasma sobesonbaii'\n",
      " 'Sobe Sonbaii III' 'NTT' 'Tenggara' 'East Nusa' 'UK' 'Royal Society'\n",
      " 'academy of sciences' 'CC BY-ND']\n"
     ]
    },
    {
     "data": {
      "image/svg+xml": [
       "<svg xmlns=\"http://www.w3.org/2000/svg\" width=\"1224.0\" height=\"840.0\">\n",
       "<path stroke-width=\"0.5\" stroke=\"black\" d=\"M 288 282 269 350\"/>\n",
       "<path stroke-width=\"0.5\" stroke=\"black\" d=\"M 96 365 104 436\"/>\n",
       "<path stroke-width=\"0.5\" stroke=\"black\" d=\"M 96 365 57 434\"/>\n",
       "<path stroke-width=\"0.5\" stroke=\"black\" d=\"M 96 365 23 405\"/>\n",
       "<path stroke-width=\"0.5\" stroke=\"black\" d=\"M 20 360 96 365\"/>\n",
       "<path stroke-width=\"0.5\" stroke=\"black\" d=\"M 104 436 96 365\"/>\n",
       "<path stroke-width=\"0.5\" stroke=\"black\" d=\"M 57 434 96 365\"/>\n",
       "<path stroke-width=\"0.5\" stroke=\"black\" d=\"M 23 405 96 365\"/>\n",
       "<path stroke-width=\"0.5\" stroke=\"black\" d=\"M 820 24 776 20\"/>\n",
       "<path stroke-width=\"0.5\" stroke=\"black\" d=\"M 776 20 820 24\"/>\n",
       "<path stroke-width=\"0.5\" stroke=\"black\" d=\"M 290 174 288 282\"/>\n",
       "<path stroke-width=\"0.5\" stroke=\"black\" d=\"M 290 174 292 98\"/>\n",
       "<path stroke-width=\"0.5\" stroke=\"black\" d=\"M 290 174 212 168\"/>\n",
       "<path stroke-width=\"0.5\" stroke=\"black\" d=\"M 290 174 335 124\"/>\n",
       "<path stroke-width=\"0.5\" stroke=\"black\" d=\"M 292 98 290 174\"/>\n",
       "<path stroke-width=\"0.5\" stroke=\"black\" d=\"M 212 168 202 261\"/>\n",
       "<path stroke-width=\"0.5\" stroke=\"black\" d=\"M 212 168 290 174\"/>\n",
       "<path stroke-width=\"0.5\" stroke=\"black\" d=\"M 212 168 181 95\"/>\n",
       "<path stroke-width=\"0.5\" stroke=\"black\" d=\"M 181 95 212 168\"/>\n",
       "<path stroke-width=\"0.5\" stroke=\"black\" d=\"M 335 124 249 205\"/>\n",
       "<path stroke-width=\"0.5\" stroke=\"black\" d=\"M 335 124 290 174\"/>\n",
       "<path stroke-width=\"0.5\" stroke=\"black\" d=\"M 335 124 409 82\"/>\n",
       "<path stroke-width=\"0.5\" stroke=\"black\" d=\"M 335 124 368 49\"/>\n",
       "<path stroke-width=\"0.5\" stroke=\"black\" d=\"M 409 82 335 124\"/>\n",
       "<path stroke-width=\"0.5\" stroke=\"black\" d=\"M 368 49 335 124\"/>\n",
       "<path stroke-width=\"0.5\" stroke=\"black\" d=\"M 715 372 762 357\"/>\n",
       "<path stroke-width=\"0.5\" stroke=\"black\" d=\"M 715 372 669 388\"/>\n",
       "<path stroke-width=\"0.5\" stroke=\"black\" d=\"M 762 357 715 372\"/>\n",
       "<path stroke-width=\"0.5\" stroke=\"black\" d=\"M 96 365 20 360\"/>\n",
       "<path stroke-width=\"0.5\" stroke=\"black\" d=\"M 96 365 202 261\"/>\n",
       "<path stroke-width=\"0.5\" stroke=\"black\" d=\"M 64 188 145 198\"/>\n",
       "<path stroke-width=\"0.5\" stroke=\"black\" d=\"M 86 143 145 198\"/>\n",
       "<path stroke-width=\"0.5\" stroke=\"black\" d=\"M 288 282 321 343\"/>\n",
       "<path stroke-width=\"0.5\" stroke=\"black\" d=\"M 288 282 202 261\"/>\n",
       "<path stroke-width=\"0.5\" stroke=\"black\" d=\"M 288 282 371 359\"/>\n",
       "<path stroke-width=\"0.5\" stroke=\"black\" d=\"M 288 282 249 205\"/>\n",
       "<path stroke-width=\"0.5\" stroke=\"black\" d=\"M 288 282 290 174\"/>\n",
       "<path stroke-width=\"0.5\" stroke=\"black\" d=\"M 269 350 288 282\"/>\n",
       "<path stroke-width=\"0.5\" stroke=\"black\" d=\"M 321 343 288 282\"/>\n",
       "<path stroke-width=\"0.5\" stroke=\"black\" d=\"M 310 255 394 255\"/>\n",
       "<path stroke-width=\"0.5\" stroke=\"black\" d=\"M 310 255 202 261\"/>\n",
       "<path stroke-width=\"0.5\" stroke=\"black\" d=\"M 394 255 310 255\"/>\n",
       "<path stroke-width=\"0.5\" stroke=\"black\" d=\"M 202 261 288 282\"/>\n",
       "<path stroke-width=\"0.5\" stroke=\"black\" d=\"M 202 261 310 255\"/>\n",
       "<path stroke-width=\"0.5\" stroke=\"black\" d=\"M 202 261 249 205\"/>\n",
       "<path stroke-width=\"0.5\" stroke=\"black\" d=\"M 669 388 715 372\"/>\n",
       "<path stroke-width=\"0.5\" stroke=\"black\" d=\"M 202 261 145 198\"/>\n",
       "<path stroke-width=\"0.5\" stroke=\"black\" d=\"M 202 261 212 168\"/>\n",
       "<path stroke-width=\"0.5\" stroke=\"black\" d=\"M 371 359 288 282\"/>\n",
       "<path stroke-width=\"0.5\" stroke=\"black\" d=\"M 371 359 425 417\"/>\n",
       "<path stroke-width=\"0.5\" stroke=\"black\" d=\"M 461 820 506 813\"/>\n",
       "<path stroke-width=\"0.5\" stroke=\"black\" d=\"M 506 813 461 820\"/>\n",
       "<path stroke-width=\"0.5\" stroke=\"black\" d=\"M 249 205 288 282\"/>\n",
       "<path stroke-width=\"0.5\" stroke=\"black\" d=\"M 249 205 202 261\"/>\n",
       "<path stroke-width=\"0.5\" stroke=\"black\" d=\"M 249 205 145 198\"/>\n",
       "<path stroke-width=\"0.5\" stroke=\"black\" d=\"M 249 205 335 124\"/>\n",
       "<path stroke-width=\"0.5\" stroke=\"black\" d=\"M 145 198 202 261\"/>\n",
       "<path stroke-width=\"0.5\" stroke=\"black\" d=\"M 145 198 249 205\"/>\n",
       "<path stroke-width=\"0.5\" stroke=\"black\" d=\"M 145 198 86 143\"/>\n",
       "<path stroke-width=\"0.5\" stroke=\"black\" d=\"M 145 198 64 188\"/>\n",
       "<path stroke-width=\"0.5\" stroke=\"black\" d=\"M 202 261 96 365\"/>\n",
       "<path stroke-width=\"0.5\" stroke=\"black\" d=\"M 425 417 371 359\"/>\n",
       "<circle cx=\"288\" cy=\"282\" r=\"20.0\" style=\"fill:lightblue;stroke:black;stroke-width:1.0\"/>\n",
       "<circle cx=\"269\" cy=\"350\" r=\"4.166666666666666\" style=\"fill:lightblue;stroke:black;stroke-width:1.0\"/>\n",
       "<circle cx=\"321\" cy=\"343\" r=\"4.166666666666666\" style=\"fill:lightblue;stroke:black;stroke-width:1.0\"/>\n",
       "<circle cx=\"310\" cy=\"255\" r=\"7.333333333333333\" style=\"fill:lightblue;stroke:black;stroke-width:1.0\"/>\n",
       "<circle cx=\"394\" cy=\"255\" r=\"4.166666666666666\" style=\"fill:lightblue;stroke:black;stroke-width:1.0\"/>\n",
       "<circle cx=\"202\" cy=\"261\" r=\"20.0\" style=\"fill:lightblue;stroke:black;stroke-width:1.0\"/>\n",
       "<circle cx=\"371\" cy=\"359\" r=\"7.333333333333333\" style=\"fill:lightblue;stroke:black;stroke-width:1.0\"/>\n",
       "<circle cx=\"461\" cy=\"820\" r=\"4.166666666666666\" style=\"fill:lightblue;stroke:black;stroke-width:1.0\"/>\n",
       "<circle cx=\"506\" cy=\"813\" r=\"4.166666666666666\" style=\"fill:lightblue;stroke:black;stroke-width:1.0\"/>\n",
       "<circle cx=\"249\" cy=\"205\" r=\"13.666666666666666\" style=\"fill:lightblue;stroke:black;stroke-width:1.0\"/>\n",
       "<circle cx=\"145\" cy=\"198\" r=\"13.666666666666666\" style=\"fill:lightblue;stroke:black;stroke-width:1.0\"/>\n",
       "<circle cx=\"86\" cy=\"143\" r=\"4.166666666666666\" style=\"fill:lightblue;stroke:black;stroke-width:1.0\"/>\n",
       "<circle cx=\"64\" cy=\"188\" r=\"4.166666666666666\" style=\"fill:lightblue;stroke:black;stroke-width:1.0\"/>\n",
       "<circle cx=\"96\" cy=\"365\" r=\"16.833333333333336\" style=\"fill:lightblue;stroke:black;stroke-width:1.0\"/>\n",
       "<circle cx=\"20\" cy=\"360\" r=\"4.166666666666666\" style=\"fill:lightblue;stroke:black;stroke-width:1.0\"/>\n",
       "<circle cx=\"104\" cy=\"436\" r=\"4.166666666666666\" style=\"fill:lightblue;stroke:black;stroke-width:1.0\"/>\n",
       "<circle cx=\"57\" cy=\"434\" r=\"4.166666666666666\" style=\"fill:lightblue;stroke:black;stroke-width:1.0\"/>\n",
       "<circle cx=\"23\" cy=\"405\" r=\"4.166666666666666\" style=\"fill:lightblue;stroke:black;stroke-width:1.0\"/>\n",
       "<circle cx=\"820\" cy=\"24\" r=\"4.166666666666666\" style=\"fill:lightblue;stroke:black;stroke-width:1.0\"/>\n",
       "<circle cx=\"776\" cy=\"20\" r=\"4.166666666666666\" style=\"fill:lightblue;stroke:black;stroke-width:1.0\"/>\n",
       "<circle cx=\"290\" cy=\"174\" r=\"13.666666666666666\" style=\"fill:lightblue;stroke:black;stroke-width:1.0\"/>\n",
       "<circle cx=\"292\" cy=\"98\" r=\"4.166666666666666\" style=\"fill:lightblue;stroke:black;stroke-width:1.0\"/>\n",
       "<circle cx=\"212\" cy=\"168\" r=\"10.5\" style=\"fill:lightblue;stroke:black;stroke-width:1.0\"/>\n",
       "<circle cx=\"181\" cy=\"95\" r=\"4.166666666666666\" style=\"fill:lightblue;stroke:black;stroke-width:1.0\"/>\n",
       "<circle cx=\"335\" cy=\"124\" r=\"13.666666666666666\" style=\"fill:lightblue;stroke:black;stroke-width:1.0\"/>\n",
       "<circle cx=\"409\" cy=\"82\" r=\"4.166666666666666\" style=\"fill:lightblue;stroke:black;stroke-width:1.0\"/>\n",
       "<circle cx=\"368\" cy=\"49\" r=\"4.166666666666666\" style=\"fill:lightblue;stroke:black;stroke-width:1.0\"/>\n",
       "<circle cx=\"715\" cy=\"372\" r=\"7.333333333333333\" style=\"fill:lightblue;stroke:black;stroke-width:1.0\"/>\n",
       "<circle cx=\"762\" cy=\"357\" r=\"4.166666666666666\" style=\"fill:lightblue;stroke:black;stroke-width:1.0\"/>\n",
       "<circle cx=\"669\" cy=\"388\" r=\"4.166666666666666\" style=\"fill:lightblue;stroke:black;stroke-width:1.0\"/>\n",
       "<circle cx=\"425\" cy=\"417\" r=\"4.166666666666666\" style=\"fill:lightblue;stroke:black;stroke-width:1.0\"/>\n",
       "<text text-anchor=\"start\" x=\"311\" y=\"282\" font-size=\"12\">Indonesia</text><text text-anchor=\"start\" x=\"276\" y=\"350\" font-size=\"12\">Dantje</text><text text-anchor=\"start\" x=\"328\" y=\"343\" font-size=\"12\">Davis Marthin Damaledo</text><text text-anchor=\"start\" x=\"320\" y=\"255\" font-size=\"12\">Oemasi</text><text text-anchor=\"start\" x=\"401\" y=\"255\" font-size=\"12\">Timor Island</text><text text-anchor=\"start\" x=\"225\" y=\"261\" font-size=\"12\">Davis</text><text text-anchor=\"start\" x=\"381\" y=\"359\" font-size=\"12\">Mongabay</text><text text-anchor=\"start\" x=\"469\" y=\"820\" font-size=\"12\">Phasmid Forum</text><text text-anchor=\"start\" x=\"513\" y=\"813\" font-size=\"12\">Garda Bagus Damastra</text><text text-anchor=\"start\" x=\"265\" y=\"205\" font-size=\"12\">Garda</text><text text-anchor=\"start\" x=\"162\" y=\"198\" font-size=\"12\">Royce T. Cumming</text><text text-anchor=\"start\" x=\"93\" y=\"143\" font-size=\"12\">Hennemann</text><text text-anchor=\"start\" x=\"71\" y=\"188\" font-size=\"12\">Stéphane Le Tirant</text><text text-anchor=\"start\" x=\"116\" y=\"365\" font-size=\"12\">City University of New York</text><text text-anchor=\"start\" x=\"27\" y=\"360\" font-size=\"12\">Montréal Insectarium</text><text text-anchor=\"start\" x=\"112\" y=\"436\" font-size=\"12\">Canada</text><text text-anchor=\"start\" x=\"64\" y=\"434\" font-size=\"12\">Frank H. Hennemann</text><text text-anchor=\"start\" x=\"31\" y=\"405\" font-size=\"12\">the American Museum of Natural History</text><text text-anchor=\"start\" x=\"827\" y=\"24\" font-size=\"12\">Backyard Discovery Reveals ‘Mind</text><text text-anchor=\"start\" x=\"783\" y=\"20\" font-size=\"12\">Nesiophasma sobesonbaii n. sp</text><text text-anchor=\"start\" x=\"307\" y=\"174\" font-size=\"12\">Timor</text><text text-anchor=\"start\" x=\"299\" y=\"98\" font-size=\"12\">Nesiophasma Günther</text><text text-anchor=\"start\" x=\"226\" y=\"168\" font-size=\"12\">Nesiophasma sobesonbaii</text><text text-anchor=\"start\" x=\"188\" y=\"95\" font-size=\"12\">Sobe Sonbaii III</text><text text-anchor=\"start\" x=\"352\" y=\"124\" font-size=\"12\">NTT</text><text text-anchor=\"start\" x=\"416\" y=\"82\" font-size=\"12\">Tenggara</text><text text-anchor=\"start\" x=\"376\" y=\"49\" font-size=\"12\">East Nusa</text><text text-anchor=\"start\" x=\"726\" y=\"372\" font-size=\"12\">UK</text><text text-anchor=\"start\" x=\"769\" y=\"357\" font-size=\"12\">Royal Society</text><text text-anchor=\"start\" x=\"676\" y=\"388\" font-size=\"12\">academy of sciences</text><text text-anchor=\"start\" x=\"432\" y=\"417\" font-size=\"12\">CC BY-ND</text></svg>"
      ],
      "text/plain": [
       "<IPython.core.display.SVG object>"
      ]
     },
     "execution_count": 218,
     "metadata": {},
     "output_type": "execute_result"
    }
   ],
   "source": [
    "text = df['text'][3] \n",
    "\n",
    "entities = extract_entities(text) \n",
    "\n",
    "network_df = get_network_data(entities) \n",
    "\n",
    "#G = nx.from_numpy_array(network_df) \n",
    "G = nx.from_pandas_edgelist(network_df)\n",
    "draw_graph(G, node_size=4, font_size=12, show_names=True) "
   ]
  },
  {
   "cell_type": "markdown",
   "id": "8d54a58e",
   "metadata": {},
   "source": [
    "# Twitter\n",
    "\n",
    "You are going to have to add your bearer token for authentication, so please follow along with the book. "
   ]
  }
 ],
 "metadata": {
  "kernelspec": {
   "display_name": "Python 3",
   "language": "python",
   "name": "python3"
  },
  "language_info": {
   "codemirror_mode": {
    "name": "ipython",
    "version": 3
   },
   "file_extension": ".py",
   "mimetype": "text/x-python",
   "name": "python",
   "nbconvert_exporter": "python",
   "pygments_lexer": "ipython3",
   "version": "3.9.13"
  }
 },
 "nbformat": 4,
 "nbformat_minor": 5
}
