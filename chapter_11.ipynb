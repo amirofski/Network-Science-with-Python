{
 "cells": [
  {
   "cell_type": "code",
   "execution_count": 1,
   "id": "3d8b2a54",
   "metadata": {},
   "outputs": [],
   "source": [
    "# keep this function handy for all network visualizations in all chapters\n",
    "\n",
    "# keep this function handy for all network visualizations in all chapters\n",
    "\n",
    "import networkx as nx\n",
    "import numpy as np\n",
    "from IPython.display import SVG\n",
    "from sknetwork.visualization import svg_graph\n",
    "from sknetwork.data import Bunch\n",
    "import pandas as pd\n",
    "from tqdm import tqdm\n",
    "from newspaper import Article\n",
    "import time\n",
    "import spacy\n",
    "import scipy.sparse as sp\n",
    "\n",
    "\n",
    "def draw_graph(G, show_names=False, node_size=0.2, font_size=10, edge_width=0.2, scale=1.0, node_color=\"lightblue\", edge_color=\"black\"):\n",
    "    if not isinstance(G, nx.Graph):\n",
    "        raise ValueError(\"Input graph must be a NetworkX Graph object.\")\n",
    "\n",
    "    adjacency = nx.to_numpy_array(G, nodelist=None, dtype=None, order=None, multigraph_weight=sum, weight='weight', nonedge=0.0)\n",
    "    adjacency = sp.csr_matrix(adjacency)\n",
    "    #adjacency = nx.to_numpy_array(G, weight='weight', multigraph_weight=sum)\n",
    "    names = np.array(list(G.nodes()))\n",
    "    print(names)\n",
    "    graph = Bunch()\n",
    "    graph.adjacency = adjacency\n",
    "    graph.names = names\n",
    "\n",
    "    if show_names and 'names' not in graph:\n",
    "        raise ValueError(\"Graph must have node names if show_names is True.\")\n",
    "\n",
    "    image = svg_graph(\n",
    "        graph.adjacency,  # Remove unused pagerank scores\n",
    "        edge_width=edge_width,\n",
    "        display_node_weight=True,\n",
    "        node_size=node_size,\n",
    "        font_size=font_size,\n",
    "        names=graph.names if show_names else None,\n",
    "        width=1024,\n",
    "        height=1024,\n",
    "        margin=0,\n",
    "        scale=1.0,\n",
    "        node_color=\"lightblue\",\n",
    "        edge_color=\"black\",\n",
    "        filename=None,\n",
    "        directed=False\n",
    "\n",
    "    )\n",
    "\n",
    "    return SVG(image)"
   ]
  },
  {
   "cell_type": "markdown",
   "id": "426e8321",
   "metadata": {},
   "source": [
    "# constructing a graph"
   ]
  },
  {
   "cell_type": "code",
   "execution_count": 2,
   "id": "687163af",
   "metadata": {},
   "outputs": [],
   "source": [
    "import networkx as nx \n",
    "import pandas as pd \n",
    " \n",
    "G = nx.les_miserables_graph() \n",
    "df = nx.to_pandas_edgelist(G)[['source', 'target']] # dropping 'weight'\n",
    "G = nx.from_pandas_edgelist(df) \n",
    "\n",
    "G_named = G.copy()\n",
    "G = nx.convert_node_labels_to_integers(G, first_label=0, ordering='default', label_attribute=None)\n",
    "nodes = G_named.nodes"
   ]
  },
  {
   "cell_type": "code",
   "execution_count": 3,
   "id": "23b0318a",
   "metadata": {},
   "outputs": [
    {
     "data": {
      "text/html": [
       "<div>\n",
       "<style scoped>\n",
       "    .dataframe tbody tr th:only-of-type {\n",
       "        vertical-align: middle;\n",
       "    }\n",
       "\n",
       "    .dataframe tbody tr th {\n",
       "        vertical-align: top;\n",
       "    }\n",
       "\n",
       "    .dataframe thead th {\n",
       "        text-align: right;\n",
       "    }\n",
       "</style>\n",
       "<table border=\"1\" class=\"dataframe\">\n",
       "  <thead>\n",
       "    <tr style=\"text-align: right;\">\n",
       "      <th></th>\n",
       "      <th>degrees</th>\n",
       "      <th>clustering</th>\n",
       "      <th>triangles</th>\n",
       "      <th>betw_cent</th>\n",
       "      <th>close_cent</th>\n",
       "      <th>pagerank</th>\n",
       "      <th>label</th>\n",
       "    </tr>\n",
       "    <tr>\n",
       "      <th>index</th>\n",
       "      <th></th>\n",
       "      <th></th>\n",
       "      <th></th>\n",
       "      <th></th>\n",
       "      <th></th>\n",
       "      <th></th>\n",
       "      <th></th>\n",
       "    </tr>\n",
       "  </thead>\n",
       "  <tbody>\n",
       "    <tr>\n",
       "      <th>Napoleon</th>\n",
       "      <td>1</td>\n",
       "      <td>0.000000</td>\n",
       "      <td>0</td>\n",
       "      <td>0.000000</td>\n",
       "      <td>0.301587</td>\n",
       "      <td>0.005584</td>\n",
       "      <td>0</td>\n",
       "    </tr>\n",
       "    <tr>\n",
       "      <th>Myriel</th>\n",
       "      <td>10</td>\n",
       "      <td>0.066667</td>\n",
       "      <td>3</td>\n",
       "      <td>0.176842</td>\n",
       "      <td>0.429379</td>\n",
       "      <td>0.042803</td>\n",
       "      <td>0</td>\n",
       "    </tr>\n",
       "    <tr>\n",
       "      <th>MlleBaptistine</th>\n",
       "      <td>3</td>\n",
       "      <td>1.000000</td>\n",
       "      <td>3</td>\n",
       "      <td>0.000000</td>\n",
       "      <td>0.413043</td>\n",
       "      <td>0.010279</td>\n",
       "      <td>0</td>\n",
       "    </tr>\n",
       "    <tr>\n",
       "      <th>MmeMagloire</th>\n",
       "      <td>3</td>\n",
       "      <td>1.000000</td>\n",
       "      <td>3</td>\n",
       "      <td>0.000000</td>\n",
       "      <td>0.413043</td>\n",
       "      <td>0.010279</td>\n",
       "      <td>0</td>\n",
       "    </tr>\n",
       "    <tr>\n",
       "      <th>CountessDeLo</th>\n",
       "      <td>1</td>\n",
       "      <td>0.000000</td>\n",
       "      <td>0</td>\n",
       "      <td>0.000000</td>\n",
       "      <td>0.301587</td>\n",
       "      <td>0.005584</td>\n",
       "      <td>0</td>\n",
       "    </tr>\n",
       "  </tbody>\n",
       "</table>\n",
       "</div>"
      ],
      "text/plain": [
       "                degrees  clustering  triangles  betw_cent  close_cent  \\\n",
       "index                                                                   \n",
       "Napoleon              1    0.000000          0   0.000000    0.301587   \n",
       "Myriel               10    0.066667          3   0.176842    0.429379   \n",
       "MlleBaptistine        3    1.000000          3   0.000000    0.413043   \n",
       "MmeMagloire           3    1.000000          3   0.000000    0.413043   \n",
       "CountessDeLo          1    0.000000          0   0.000000    0.301587   \n",
       "\n",
       "                pagerank  label  \n",
       "index                            \n",
       "Napoleon        0.005584      0  \n",
       "Myriel          0.042803      0  \n",
       "MlleBaptistine  0.010279      0  \n",
       "MmeMagloire     0.010279      0  \n",
       "CountessDeLo    0.005584      0  "
      ]
     },
     "execution_count": 3,
     "metadata": {},
     "output_type": "execute_result"
    }
   ],
   "source": [
    "train_data = 'clf_df.csv'\n",
    "\n",
    "clf_df = pd.read_csv(train_data).set_index('index')\n",
    "clf_df.head()"
   ]
  },
  {
   "cell_type": "code",
   "execution_count": 4,
   "id": "f9e975f3",
   "metadata": {},
   "outputs": [
    {
     "name": "stdout",
     "output_type": "stream",
     "text": [
      "[ 0  1  2  3  4  5  6  7  8  9 10 11 12 13 14 15 16 17 18 19 20 21 22 23\n",
      " 24 25 26 27 28 29 30 31 32 33 34 35 36 37 38 39 40 41 42 43 44 45 46 47\n",
      " 48 49 50 51 52 53 54 55 56 57 58 59 60 61 62 63 64 65 66 67 68 69 70 71\n",
      " 72 73 74 75 76]\n"
     ]
    },
    {
     "data": {
      "image/svg+xml": [
       "<svg xmlns=\"http://www.w3.org/2000/svg\" width=\"1064.0\" height=\"1064.0\">\n",
       "<path stroke-width=\"0.2\" stroke=\"black\" d=\"M 143 707 229 345\"/>\n",
       "<path stroke-width=\"0.2\" stroke=\"black\" d=\"M 517 990 528 809\"/>\n",
       "<path stroke-width=\"0.2\" stroke=\"black\" d=\"M 517 990 548 932\"/>\n",
       "<path stroke-width=\"0.2\" stroke=\"black\" d=\"M 517 990 605 696\"/>\n",
       "<path stroke-width=\"0.2\" stroke=\"black\" d=\"M 584 961 500 917\"/>\n",
       "<path stroke-width=\"0.2\" stroke=\"black\" d=\"M 584 961 559 1007\"/>\n",
       "<path stroke-width=\"0.2\" stroke=\"black\" d=\"M 584 961 517 990\"/>\n",
       "<path stroke-width=\"0.2\" stroke=\"black\" d=\"M 584 961 481 965\"/>\n",
       "<path stroke-width=\"0.2\" stroke=\"black\" d=\"M 584 961 528 809\"/>\n",
       "<path stroke-width=\"0.2\" stroke=\"black\" d=\"M 584 961 548 932\"/>\n",
       "<path stroke-width=\"0.2\" stroke=\"black\" d=\"M 584 961 605 696\"/>\n",
       "<path stroke-width=\"0.2\" stroke=\"black\" d=\"M 481 965 500 917\"/>\n",
       "<path stroke-width=\"0.2\" stroke=\"black\" d=\"M 481 965 559 1007\"/>\n",
       "<path stroke-width=\"0.2\" stroke=\"black\" d=\"M 481 965 517 990\"/>\n",
       "<path stroke-width=\"0.2\" stroke=\"black\" d=\"M 481 965 584 961\"/>\n",
       "<path stroke-width=\"0.2\" stroke=\"black\" d=\"M 481 965 528 809\"/>\n",
       "<path stroke-width=\"0.2\" stroke=\"black\" d=\"M 481 965 548 932\"/>\n",
       "<path stroke-width=\"0.2\" stroke=\"black\" d=\"M 481 965 605 696\"/>\n",
       "<path stroke-width=\"0.2\" stroke=\"black\" d=\"M 528 809 500 917\"/>\n",
       "<path stroke-width=\"0.2\" stroke=\"black\" d=\"M 528 809 559 1007\"/>\n",
       "<path stroke-width=\"0.2\" stroke=\"black\" d=\"M 528 809 517 990\"/>\n",
       "<path stroke-width=\"0.2\" stroke=\"black\" d=\"M 528 809 584 961\"/>\n",
       "<path stroke-width=\"0.2\" stroke=\"black\" d=\"M 528 809 481 965\"/>\n",
       "<path stroke-width=\"0.2\" stroke=\"black\" d=\"M 528 809 548 932\"/>\n",
       "<path stroke-width=\"0.2\" stroke=\"black\" d=\"M 528 809 548 442\"/>\n",
       "<path stroke-width=\"0.2\" stroke=\"black\" d=\"M 528 809 532 544\"/>\n",
       "<path stroke-width=\"0.2\" stroke=\"black\" d=\"M 528 809 605 696\"/>\n",
       "<path stroke-width=\"0.2\" stroke=\"black\" d=\"M 548 932 500 917\"/>\n",
       "<path stroke-width=\"0.2\" stroke=\"black\" d=\"M 517 990 481 965\"/>\n",
       "<path stroke-width=\"0.2\" stroke=\"black\" d=\"M 517 990 584 961\"/>\n",
       "<path stroke-width=\"0.2\" stroke=\"black\" d=\"M 517 990 559 1007\"/>\n",
       "<path stroke-width=\"0.2\" stroke=\"black\" d=\"M 517 990 500 917\"/>\n",
       "<path stroke-width=\"0.2\" stroke=\"black\" d=\"M 318 369 460 479\"/>\n",
       "<path stroke-width=\"0.2\" stroke=\"black\" d=\"M 448 360 615 323\"/>\n",
       "<path stroke-width=\"0.2\" stroke=\"black\" d=\"M 448 360 631 552\"/>\n",
       "<path stroke-width=\"0.2\" stroke=\"black\" d=\"M 448 360 435 276\"/>\n",
       "<path stroke-width=\"0.2\" stroke=\"black\" d=\"M 448 360 318 369\"/>\n",
       "<path stroke-width=\"0.2\" stroke=\"black\" d=\"M 448 360 485 369\"/>\n",
       "<path stroke-width=\"0.2\" stroke=\"black\" d=\"M 448 360 513 354\"/>\n",
       "<path stroke-width=\"0.2\" stroke=\"black\" d=\"M 448 360 490 310\"/>\n",
       "<path stroke-width=\"0.2\" stroke=\"black\" d=\"M 448 360 521 314\"/>\n",
       "<path stroke-width=\"0.2\" stroke=\"black\" d=\"M 448 360 548 442\"/>\n",
       "<path stroke-width=\"0.2\" stroke=\"black\" d=\"M 448 360 478 531\"/>\n",
       "<path stroke-width=\"0.2\" stroke=\"black\" d=\"M 448 360 460 479\"/>\n",
       "<path stroke-width=\"0.2\" stroke=\"black\" d=\"M 835 706 755 601\"/>\n",
       "<path stroke-width=\"0.2\" stroke=\"black\" d=\"M 548 932 559 1007\"/>\n",
       "<path stroke-width=\"0.2\" stroke=\"black\" d=\"M 835 706 605 696\"/>\n",
       "<path stroke-width=\"0.2\" stroke=\"black\" d=\"M 500 917 517 990\"/>\n",
       "<path stroke-width=\"0.2\" stroke=\"black\" d=\"M 500 917 584 961\"/>\n",
       "<path stroke-width=\"0.2\" stroke=\"black\" d=\"M 500 917 481 965\"/>\n",
       "<path stroke-width=\"0.2\" stroke=\"black\" d=\"M 500 917 528 809\"/>\n",
       "<path stroke-width=\"0.2\" stroke=\"black\" d=\"M 500 917 548 932\"/>\n",
       "<path stroke-width=\"0.2\" stroke=\"black\" d=\"M 500 917 605 696\"/>\n",
       "<path stroke-width=\"0.2\" stroke=\"black\" d=\"M 559 1007 500 917\"/>\n",
       "<path stroke-width=\"0.2\" stroke=\"black\" d=\"M 559 1007 517 990\"/>\n",
       "<path stroke-width=\"0.2\" stroke=\"black\" d=\"M 559 1007 584 961\"/>\n",
       "<path stroke-width=\"0.2\" stroke=\"black\" d=\"M 559 1007 481 965\"/>\n",
       "<path stroke-width=\"0.2\" stroke=\"black\" d=\"M 559 1007 528 809\"/>\n",
       "<path stroke-width=\"0.2\" stroke=\"black\" d=\"M 559 1007 548 932\"/>\n",
       "<path stroke-width=\"0.2\" stroke=\"black\" d=\"M 559 1007 605 696\"/>\n",
       "<path stroke-width=\"0.2\" stroke=\"black\" d=\"M 500 917 559 1007\"/>\n",
       "<path stroke-width=\"0.2\" stroke=\"black\" d=\"M 548 932 517 990\"/>\n",
       "<path stroke-width=\"0.2\" stroke=\"black\" d=\"M 548 932 584 961\"/>\n",
       "<path stroke-width=\"0.2\" stroke=\"black\" d=\"M 548 932 481 965\"/>\n",
       "<path stroke-width=\"0.2\" stroke=\"black\" d=\"M 490 310 460 479\"/>\n",
       "<path stroke-width=\"0.2\" stroke=\"black\" d=\"M 490 310 644 441\"/>\n",
       "<path stroke-width=\"0.2\" stroke=\"black\" d=\"M 521 314 435 276\"/>\n",
       "<path stroke-width=\"0.2\" stroke=\"black\" d=\"M 521 314 448 360\"/>\n",
       "<path stroke-width=\"0.2\" stroke=\"black\" d=\"M 521 314 485 369\"/>\n",
       "<path stroke-width=\"0.2\" stroke=\"black\" d=\"M 521 314 513 354\"/>\n",
       "<path stroke-width=\"0.2\" stroke=\"black\" d=\"M 521 314 490 310\"/>\n",
       "<path stroke-width=\"0.2\" stroke=\"black\" d=\"M 521 314 596 499\"/>\n",
       "<path stroke-width=\"0.2\" stroke=\"black\" d=\"M 521 314 604 451\"/>\n",
       "<path stroke-width=\"0.2\" stroke=\"black\" d=\"M 521 314 478 531\"/>\n",
       "<path stroke-width=\"0.2\" stroke=\"black\" d=\"M 521 314 460 479\"/>\n",
       "<path stroke-width=\"0.2\" stroke=\"black\" d=\"M 521 314 644 441\"/>\n",
       "<path stroke-width=\"0.2\" stroke=\"black\" d=\"M 684 407 699 217\"/>\n",
       "<path stroke-width=\"0.2\" stroke=\"black\" d=\"M 490 310 478 531\"/>\n",
       "<path stroke-width=\"0.2\" stroke=\"black\" d=\"M 684 407 683 254\"/>\n",
       "<path stroke-width=\"0.2\" stroke=\"black\" d=\"M 684 407 668 342\"/>\n",
       "<path stroke-width=\"0.2\" stroke=\"black\" d=\"M 684 407 705 436\"/>\n",
       "<path stroke-width=\"0.2\" stroke=\"black\" d=\"M 684 407 727 315\"/>\n",
       "<path stroke-width=\"0.2\" stroke=\"black\" d=\"M 684 407 694 370\"/>\n",
       "<path stroke-width=\"0.2\" stroke=\"black\" d=\"M 684 407 615 323\"/>\n",
       "<path stroke-width=\"0.2\" stroke=\"black\" d=\"M 684 407 631 552\"/>\n",
       "<path stroke-width=\"0.2\" stroke=\"black\" d=\"M 684 407 637 368\"/>\n",
       "<path stroke-width=\"0.2\" stroke=\"black\" d=\"M 684 407 548 442\"/>\n",
       "<path stroke-width=\"0.2\" stroke=\"black\" d=\"M 684 407 596 499\"/>\n",
       "<path stroke-width=\"0.2\" stroke=\"black\" d=\"M 684 407 644 441\"/>\n",
       "<path stroke-width=\"0.2\" stroke=\"black\" d=\"M 637 368 699 217\"/>\n",
       "<path stroke-width=\"0.2\" stroke=\"black\" d=\"M 637 368 683 254\"/>\n",
       "<path stroke-width=\"0.2\" stroke=\"black\" d=\"M 637 368 655 302\"/>\n",
       "<path stroke-width=\"0.2\" stroke=\"black\" d=\"M 684 407 655 302\"/>\n",
       "<path stroke-width=\"0.2\" stroke=\"black\" d=\"M 318 369 478 531\"/>\n",
       "<path stroke-width=\"0.2\" stroke=\"black\" d=\"M 490 310 604 451\"/>\n",
       "<path stroke-width=\"0.2\" stroke=\"black\" d=\"M 490 310 521 314\"/>\n",
       "<path stroke-width=\"0.2\" stroke=\"black\" d=\"M 548 932 528 809\"/>\n",
       "<path stroke-width=\"0.2\" stroke=\"black\" d=\"M 548 932 605 696\"/>\n",
       "<path stroke-width=\"0.2\" stroke=\"black\" d=\"M 549 215 604 451\"/>\n",
       "<path stroke-width=\"0.2\" stroke=\"black\" d=\"M 549 215 532 544\"/>\n",
       "<path stroke-width=\"0.2\" stroke=\"black\" d=\"M 549 215 644 441\"/>\n",
       "<path stroke-width=\"0.2\" stroke=\"black\" d=\"M 485 369 435 276\"/>\n",
       "<path stroke-width=\"0.2\" stroke=\"black\" d=\"M 485 369 448 360\"/>\n",
       "<path stroke-width=\"0.2\" stroke=\"black\" d=\"M 485 369 513 354\"/>\n",
       "<path stroke-width=\"0.2\" stroke=\"black\" d=\"M 485 369 490 310\"/>\n",
       "<path stroke-width=\"0.2\" stroke=\"black\" d=\"M 485 369 521 314\"/>\n",
       "<path stroke-width=\"0.2\" stroke=\"black\" d=\"M 485 369 596 499\"/>\n",
       "<path stroke-width=\"0.2\" stroke=\"black\" d=\"M 485 369 604 451\"/>\n",
       "<path stroke-width=\"0.2\" stroke=\"black\" d=\"M 485 369 478 531\"/>\n",
       "<path stroke-width=\"0.2\" stroke=\"black\" d=\"M 490 310 596 499\"/>\n",
       "<path stroke-width=\"0.2\" stroke=\"black\" d=\"M 485 369 644 441\"/>\n",
       "<path stroke-width=\"0.2\" stroke=\"black\" d=\"M 513 354 448 360\"/>\n",
       "<path stroke-width=\"0.2\" stroke=\"black\" d=\"M 513 354 485 369\"/>\n",
       "<path stroke-width=\"0.2\" stroke=\"black\" d=\"M 513 354 490 310\"/>\n",
       "<path stroke-width=\"0.2\" stroke=\"black\" d=\"M 513 354 521 314\"/>\n",
       "<path stroke-width=\"0.2\" stroke=\"black\" d=\"M 513 354 637 368\"/>\n",
       "<path stroke-width=\"0.2\" stroke=\"black\" d=\"M 513 354 604 451\"/>\n",
       "<path stroke-width=\"0.2\" stroke=\"black\" d=\"M 513 354 478 531\"/>\n",
       "<path stroke-width=\"0.2\" stroke=\"black\" d=\"M 513 354 460 479\"/>\n",
       "<path stroke-width=\"0.2\" stroke=\"black\" d=\"M 513 354 644 441\"/>\n",
       "<path stroke-width=\"0.2\" stroke=\"black\" d=\"M 490 310 435 276\"/>\n",
       "<path stroke-width=\"0.2\" stroke=\"black\" d=\"M 490 310 448 360\"/>\n",
       "<path stroke-width=\"0.2\" stroke=\"black\" d=\"M 490 310 485 369\"/>\n",
       "<path stroke-width=\"0.2\" stroke=\"black\" d=\"M 490 310 513 354\"/>\n",
       "<path stroke-width=\"0.2\" stroke=\"black\" d=\"M 513 354 435 276\"/>\n",
       "<path stroke-width=\"0.2\" stroke=\"black\" d=\"M 637 368 668 342\"/>\n",
       "<path stroke-width=\"0.2\" stroke=\"black\" d=\"M 318 369 448 360\"/>\n",
       "<path stroke-width=\"0.2\" stroke=\"black\" d=\"M 328 658 440 432\"/>\n",
       "<path stroke-width=\"0.2\" stroke=\"black\" d=\"M 655 302 637 368\"/>\n",
       "<path stroke-width=\"0.2\" stroke=\"black\" d=\"M 655 302 548 442\"/>\n",
       "<path stroke-width=\"0.2\" stroke=\"black\" d=\"M 655 302 596 499\"/>\n",
       "<path stroke-width=\"0.2\" stroke=\"black\" d=\"M 668 342 699 217\"/>\n",
       "<path stroke-width=\"0.2\" stroke=\"black\" d=\"M 668 342 683 254\"/>\n",
       "<path stroke-width=\"0.2\" stroke=\"black\" d=\"M 668 342 655 302\"/>\n",
       "<path stroke-width=\"0.2\" stroke=\"black\" d=\"M 668 342 705 436\"/>\n",
       "<path stroke-width=\"0.2\" stroke=\"black\" d=\"M 668 342 727 315\"/>\n",
       "<path stroke-width=\"0.2\" stroke=\"black\" d=\"M 668 342 694 370\"/>\n",
       "<path stroke-width=\"0.2\" stroke=\"black\" d=\"M 668 342 615 323\"/>\n",
       "<path stroke-width=\"0.2\" stroke=\"black\" d=\"M 668 342 631 552\"/>\n",
       "<path stroke-width=\"0.2\" stroke=\"black\" d=\"M 668 342 684 407\"/>\n",
       "<path stroke-width=\"0.2\" stroke=\"black\" d=\"M 668 342 637 368\"/>\n",
       "<path stroke-width=\"0.2\" stroke=\"black\" d=\"M 668 342 548 442\"/>\n",
       "<path stroke-width=\"0.2\" stroke=\"black\" d=\"M 668 342 596 499\"/>\n",
       "<path stroke-width=\"0.2\" stroke=\"black\" d=\"M 705 436 683 254\"/>\n",
       "<path stroke-width=\"0.2\" stroke=\"black\" d=\"M 705 436 655 302\"/>\n",
       "<path stroke-width=\"0.2\" stroke=\"black\" d=\"M 705 436 668 342\"/>\n",
       "<path stroke-width=\"0.2\" stroke=\"black\" d=\"M 705 436 727 315\"/>\n",
       "<path stroke-width=\"0.2\" stroke=\"black\" d=\"M 705 436 694 370\"/>\n",
       "<path stroke-width=\"0.2\" stroke=\"black\" d=\"M 705 436 615 323\"/>\n",
       "<path stroke-width=\"0.2\" stroke=\"black\" d=\"M 705 436 631 552\"/>\n",
       "<path stroke-width=\"0.2\" stroke=\"black\" d=\"M 705 436 684 407\"/>\n",
       "<path stroke-width=\"0.2\" stroke=\"black\" d=\"M 705 436 637 368\"/>\n",
       "<path stroke-width=\"0.2\" stroke=\"black\" d=\"M 705 436 548 442\"/>\n",
       "<path stroke-width=\"0.2\" stroke=\"black\" d=\"M 705 436 596 499\"/>\n",
       "<path stroke-width=\"0.2\" stroke=\"black\" d=\"M 727 315 683 254\"/>\n",
       "<path stroke-width=\"0.2\" stroke=\"black\" d=\"M 655 302 684 407\"/>\n",
       "<path stroke-width=\"0.2\" stroke=\"black\" d=\"M 655 302 631 552\"/>\n",
       "<path stroke-width=\"0.2\" stroke=\"black\" d=\"M 655 302 615 323\"/>\n",
       "<path stroke-width=\"0.2\" stroke=\"black\" d=\"M 655 302 694 370\"/>\n",
       "<path stroke-width=\"0.2\" stroke=\"black\" d=\"M 435 127 548 442\"/>\n",
       "<path stroke-width=\"0.2\" stroke=\"black\" d=\"M 435 127 440 432\"/>\n",
       "<path stroke-width=\"0.2\" stroke=\"black\" d=\"M 699 217 683 254\"/>\n",
       "<path stroke-width=\"0.2\" stroke=\"black\" d=\"M 699 217 655 302\"/>\n",
       "<path stroke-width=\"0.2\" stroke=\"black\" d=\"M 699 217 668 342\"/>\n",
       "<path stroke-width=\"0.2\" stroke=\"black\" d=\"M 699 217 615 323\"/>\n",
       "<path stroke-width=\"0.2\" stroke=\"black\" d=\"M 699 217 684 407\"/>\n",
       "<path stroke-width=\"0.2\" stroke=\"black\" d=\"M 699 217 637 368\"/>\n",
       "<path stroke-width=\"0.2\" stroke=\"black\" d=\"M 699 217 596 499\"/>\n",
       "<path stroke-width=\"0.2\" stroke=\"black\" d=\"M 723 900 764 860\"/>\n",
       "<path stroke-width=\"0.2\" stroke=\"black\" d=\"M 723 900 596 499\"/>\n",
       "<path stroke-width=\"0.2\" stroke=\"black\" d=\"M 764 860 723 900\"/>\n",
       "<path stroke-width=\"0.2\" stroke=\"black\" d=\"M 764 860 596 499\"/>\n",
       "<path stroke-width=\"0.2\" stroke=\"black\" d=\"M 727 315 655 302\"/>\n",
       "<path stroke-width=\"0.2\" stroke=\"black\" d=\"M 683 254 699 217\"/>\n",
       "<path stroke-width=\"0.2\" stroke=\"black\" d=\"M 683 254 668 342\"/>\n",
       "<path stroke-width=\"0.2\" stroke=\"black\" d=\"M 683 254 705 436\"/>\n",
       "<path stroke-width=\"0.2\" stroke=\"black\" d=\"M 683 254 727 315\"/>\n",
       "<path stroke-width=\"0.2\" stroke=\"black\" d=\"M 683 254 694 370\"/>\n",
       "<path stroke-width=\"0.2\" stroke=\"black\" d=\"M 683 254 615 323\"/>\n",
       "<path stroke-width=\"0.2\" stroke=\"black\" d=\"M 683 254 684 407\"/>\n",
       "<path stroke-width=\"0.2\" stroke=\"black\" d=\"M 683 254 637 368\"/>\n",
       "<path stroke-width=\"0.2\" stroke=\"black\" d=\"M 683 254 596 499\"/>\n",
       "<path stroke-width=\"0.2\" stroke=\"black\" d=\"M 655 302 699 217\"/>\n",
       "<path stroke-width=\"0.2\" stroke=\"black\" d=\"M 655 302 683 254\"/>\n",
       "<path stroke-width=\"0.2\" stroke=\"black\" d=\"M 655 302 668 342\"/>\n",
       "<path stroke-width=\"0.2\" stroke=\"black\" d=\"M 655 302 705 436\"/>\n",
       "<path stroke-width=\"0.2\" stroke=\"black\" d=\"M 655 302 727 315\"/>\n",
       "<path stroke-width=\"0.2\" stroke=\"black\" d=\"M 683 254 655 302\"/>\n",
       "<path stroke-width=\"0.2\" stroke=\"black\" d=\"M 727 315 668 342\"/>\n",
       "<path stroke-width=\"0.2\" stroke=\"black\" d=\"M 727 315 705 436\"/>\n",
       "<path stroke-width=\"0.2\" stroke=\"black\" d=\"M 727 315 694 370\"/>\n",
       "<path stroke-width=\"0.2\" stroke=\"black\" d=\"M 631 552 655 302\"/>\n",
       "<path stroke-width=\"0.2\" stroke=\"black\" d=\"M 631 552 668 342\"/>\n",
       "<path stroke-width=\"0.2\" stroke=\"black\" d=\"M 631 552 705 436\"/>\n",
       "<path stroke-width=\"0.2\" stroke=\"black\" d=\"M 631 552 694 370\"/>\n",
       "<path stroke-width=\"0.2\" stroke=\"black\" d=\"M 631 552 615 323\"/>\n",
       "<path stroke-width=\"0.2\" stroke=\"black\" d=\"M 631 552 448 360\"/>\n",
       "<path stroke-width=\"0.2\" stroke=\"black\" d=\"M 631 552 684 407\"/>\n",
       "<path stroke-width=\"0.2\" stroke=\"black\" d=\"M 631 552 637 368\"/>\n",
       "<path stroke-width=\"0.2\" stroke=\"black\" d=\"M 631 552 548 442\"/>\n",
       "<path stroke-width=\"0.2\" stroke=\"black\" d=\"M 631 552 596 499\"/>\n",
       "<path stroke-width=\"0.2\" stroke=\"black\" d=\"M 375 809 338 609\"/>\n",
       "<path stroke-width=\"0.2\" stroke=\"black\" d=\"M 375 809 525 481\"/>\n",
       "<path stroke-width=\"0.2\" stroke=\"black\" d=\"M 1044 213 825 311\"/>\n",
       "<path stroke-width=\"0.2\" stroke=\"black\" d=\"M 631 552 635 1044\"/>\n",
       "<path stroke-width=\"0.2\" stroke=\"black\" d=\"M 490 616 548 442\"/>\n",
       "<path stroke-width=\"0.2\" stroke=\"black\" d=\"M 490 616 440 432\"/>\n",
       "<path stroke-width=\"0.2\" stroke=\"black\" d=\"M 490 616 532 544\"/>\n",
       "<path stroke-width=\"0.2\" stroke=\"black\" d=\"M 435 276 448 360\"/>\n",
       "<path stroke-width=\"0.2\" stroke=\"black\" d=\"M 435 276 485 369\"/>\n",
       "<path stroke-width=\"0.2\" stroke=\"black\" d=\"M 435 276 513 354\"/>\n",
       "<path stroke-width=\"0.2\" stroke=\"black\" d=\"M 435 276 490 310\"/>\n",
       "<path stroke-width=\"0.2\" stroke=\"black\" d=\"M 435 276 521 314\"/>\n",
       "<path stroke-width=\"0.2\" stroke=\"black\" d=\"M 435 276 596 499\"/>\n",
       "<path stroke-width=\"0.2\" stroke=\"black\" d=\"M 435 276 478 531\"/>\n",
       "<path stroke-width=\"0.2\" stroke=\"black\" d=\"M 492 1023 478 531\"/>\n",
       "<path stroke-width=\"0.2\" stroke=\"black\" d=\"M 338 609 375 809\"/>\n",
       "<path stroke-width=\"0.2\" stroke=\"black\" d=\"M 338 609 548 442\"/>\n",
       "<path stroke-width=\"0.2\" stroke=\"black\" d=\"M 338 609 478 531\"/>\n",
       "<path stroke-width=\"0.2\" stroke=\"black\" d=\"M 490 616 525 481\"/>\n",
       "<path stroke-width=\"0.2\" stroke=\"black\" d=\"M 328 658 460 479\"/>\n",
       "<path stroke-width=\"0.2\" stroke=\"black\" d=\"M 615 323 596 499\"/>\n",
       "<path stroke-width=\"0.2\" stroke=\"black\" d=\"M 615 323 637 368\"/>\n",
       "<path stroke-width=\"0.2\" stroke=\"black\" d=\"M 727 315 615 323\"/>\n",
       "<path stroke-width=\"0.2\" stroke=\"black\" d=\"M 727 315 684 407\"/>\n",
       "<path stroke-width=\"0.2\" stroke=\"black\" d=\"M 727 315 637 368\"/>\n",
       "<path stroke-width=\"0.2\" stroke=\"black\" d=\"M 727 315 596 499\"/>\n",
       "<path stroke-width=\"0.2\" stroke=\"black\" d=\"M 694 370 683 254\"/>\n",
       "<path stroke-width=\"0.2\" stroke=\"black\" d=\"M 694 370 655 302\"/>\n",
       "<path stroke-width=\"0.2\" stroke=\"black\" d=\"M 694 370 668 342\"/>\n",
       "<path stroke-width=\"0.2\" stroke=\"black\" d=\"M 694 370 705 436\"/>\n",
       "<path stroke-width=\"0.2\" stroke=\"black\" d=\"M 694 370 727 315\"/>\n",
       "<path stroke-width=\"0.2\" stroke=\"black\" d=\"M 694 370 615 323\"/>\n",
       "<path stroke-width=\"0.2\" stroke=\"black\" d=\"M 694 370 631 552\"/>\n",
       "<path stroke-width=\"0.2\" stroke=\"black\" d=\"M 694 370 684 407\"/>\n",
       "<path stroke-width=\"0.2\" stroke=\"black\" d=\"M 694 370 637 368\"/>\n",
       "<path stroke-width=\"0.2\" stroke=\"black\" d=\"M 615 323 548 442\"/>\n",
       "<path stroke-width=\"0.2\" stroke=\"black\" d=\"M 694 370 548 442\"/>\n",
       "<path stroke-width=\"0.2\" stroke=\"black\" d=\"M 94 969 285 768\"/>\n",
       "<path stroke-width=\"0.2\" stroke=\"black\" d=\"M 285 768 94 969\"/>\n",
       "<path stroke-width=\"0.2\" stroke=\"black\" d=\"M 285 768 596 499\"/>\n",
       "<path stroke-width=\"0.2\" stroke=\"black\" d=\"M 615 323 699 217\"/>\n",
       "<path stroke-width=\"0.2\" stroke=\"black\" d=\"M 615 323 683 254\"/>\n",
       "<path stroke-width=\"0.2\" stroke=\"black\" d=\"M 615 323 655 302\"/>\n",
       "<path stroke-width=\"0.2\" stroke=\"black\" d=\"M 615 323 668 342\"/>\n",
       "<path stroke-width=\"0.2\" stroke=\"black\" d=\"M 615 323 705 436\"/>\n",
       "<path stroke-width=\"0.2\" stroke=\"black\" d=\"M 615 323 727 315\"/>\n",
       "<path stroke-width=\"0.2\" stroke=\"black\" d=\"M 615 323 694 370\"/>\n",
       "<path stroke-width=\"0.2\" stroke=\"black\" d=\"M 615 323 631 552\"/>\n",
       "<path stroke-width=\"0.2\" stroke=\"black\" d=\"M 615 323 448 360\"/>\n",
       "<path stroke-width=\"0.2\" stroke=\"black\" d=\"M 615 323 684 407\"/>\n",
       "<path stroke-width=\"0.2\" stroke=\"black\" d=\"M 694 370 596 499\"/>\n",
       "<path stroke-width=\"0.2\" stroke=\"black\" d=\"M 637 368 705 436\"/>\n",
       "<path stroke-width=\"0.2\" stroke=\"black\" d=\"M 637 368 727 315\"/>\n",
       "<path stroke-width=\"0.2\" stroke=\"black\" d=\"M 637 368 694 370\"/>\n",
       "<path stroke-width=\"0.2\" stroke=\"black\" d=\"M 478 531 644 441\"/>\n",
       "<path stroke-width=\"0.2\" stroke=\"black\" d=\"M 460 479 328 658\"/>\n",
       "<path stroke-width=\"0.2\" stroke=\"black\" d=\"M 460 479 318 369\"/>\n",
       "<path stroke-width=\"0.2\" stroke=\"black\" d=\"M 460 479 448 360\"/>\n",
       "<path stroke-width=\"0.2\" stroke=\"black\" d=\"M 460 479 513 354\"/>\n",
       "<path stroke-width=\"0.2\" stroke=\"black\" d=\"M 460 479 490 310\"/>\n",
       "<path stroke-width=\"0.2\" stroke=\"black\" d=\"M 460 479 521 314\"/>\n",
       "<path stroke-width=\"0.2\" stroke=\"black\" d=\"M 460 479 604 451\"/>\n",
       "<path stroke-width=\"0.2\" stroke=\"black\" d=\"M 460 479 532 544\"/>\n",
       "<path stroke-width=\"0.2\" stroke=\"black\" d=\"M 460 479 478 531\"/>\n",
       "<path stroke-width=\"0.2\" stroke=\"black\" d=\"M 460 479 605 696\"/>\n",
       "<path stroke-width=\"0.2\" stroke=\"black\" d=\"M 460 479 644 441\"/>\n",
       "<path stroke-width=\"0.2\" stroke=\"black\" d=\"M 605 696 835 706\"/>\n",
       "<path stroke-width=\"0.2\" stroke=\"black\" d=\"M 605 696 500 917\"/>\n",
       "<path stroke-width=\"0.2\" stroke=\"black\" d=\"M 605 696 559 1007\"/>\n",
       "<path stroke-width=\"0.2\" stroke=\"black\" d=\"M 605 696 517 990\"/>\n",
       "<path stroke-width=\"0.2\" stroke=\"black\" d=\"M 605 696 584 961\"/>\n",
       "<path stroke-width=\"0.2\" stroke=\"black\" d=\"M 605 696 481 965\"/>\n",
       "<path stroke-width=\"0.2\" stroke=\"black\" d=\"M 605 696 528 809\"/>\n",
       "<path stroke-width=\"0.2\" stroke=\"black\" d=\"M 605 696 548 932\"/>\n",
       "<path stroke-width=\"0.2\" stroke=\"black\" d=\"M 605 696 755 601\"/>\n",
       "<path stroke-width=\"0.2\" stroke=\"black\" d=\"M 605 696 787 402\"/>\n",
       "<path stroke-width=\"0.2\" stroke=\"black\" d=\"M 605 696 604 451\"/>\n",
       "<path stroke-width=\"0.2\" stroke=\"black\" d=\"M 605 696 478 531\"/>\n",
       "<path stroke-width=\"0.2\" stroke=\"black\" d=\"M 605 696 460 479\"/>\n",
       "<path stroke-width=\"0.2\" stroke=\"black\" d=\"M 605 696 608 243\"/>\n",
       "<path stroke-width=\"0.2\" stroke=\"black\" d=\"M 605 696 644 441\"/>\n",
       "<path stroke-width=\"0.2\" stroke=\"black\" d=\"M 478 531 605 696\"/>\n",
       "<path stroke-width=\"0.2\" stroke=\"black\" d=\"M 478 531 460 479\"/>\n",
       "<path stroke-width=\"0.2\" stroke=\"black\" d=\"M 478 531 532 544\"/>\n",
       "<path stroke-width=\"0.2\" stroke=\"black\" d=\"M 478 531 604 451\"/>\n",
       "<path stroke-width=\"0.2\" stroke=\"black\" d=\"M 604 451 825 311\"/>\n",
       "<path stroke-width=\"0.2\" stroke=\"black\" d=\"M 604 451 532 544\"/>\n",
       "<path stroke-width=\"0.2\" stroke=\"black\" d=\"M 604 451 478 531\"/>\n",
       "<path stroke-width=\"0.2\" stroke=\"black\" d=\"M 604 451 460 479\"/>\n",
       "<path stroke-width=\"0.2\" stroke=\"black\" d=\"M 604 451 605 696\"/>\n",
       "<path stroke-width=\"0.2\" stroke=\"black\" d=\"M 604 451 644 441\"/>\n",
       "<path stroke-width=\"0.2\" stroke=\"black\" d=\"M 532 544 490 616\"/>\n",
       "<path stroke-width=\"0.2\" stroke=\"black\" d=\"M 532 544 528 809\"/>\n",
       "<path stroke-width=\"0.2\" stroke=\"black\" d=\"M 532 544 549 215\"/>\n",
       "<path stroke-width=\"0.2\" stroke=\"black\" d=\"M 532 544 548 442\"/>\n",
       "<path stroke-width=\"0.2\" stroke=\"black\" d=\"M 532 544 525 481\"/>\n",
       "<path stroke-width=\"0.2\" stroke=\"black\" d=\"M 532 544 440 432\"/>\n",
       "<path stroke-width=\"0.2\" stroke=\"black\" d=\"M 532 544 666 655\"/>\n",
       "<path stroke-width=\"0.2\" stroke=\"black\" d=\"M 842 772 644 441\"/>\n",
       "<path stroke-width=\"0.2\" stroke=\"black\" d=\"M 532 544 604 451\"/>\n",
       "<path stroke-width=\"0.2\" stroke=\"black\" d=\"M 532 544 460 479\"/>\n",
       "<path stroke-width=\"0.2\" stroke=\"black\" d=\"M 532 544 644 441\"/>\n",
       "<path stroke-width=\"0.2\" stroke=\"black\" d=\"M 478 531 435 276\"/>\n",
       "<path stroke-width=\"0.2\" stroke=\"black\" d=\"M 478 531 492 1023\"/>\n",
       "<path stroke-width=\"0.2\" stroke=\"black\" d=\"M 478 531 338 609\"/>\n",
       "<path stroke-width=\"0.2\" stroke=\"black\" d=\"M 478 531 318 369\"/>\n",
       "<path stroke-width=\"0.2\" stroke=\"black\" d=\"M 478 531 448 360\"/>\n",
       "<path stroke-width=\"0.2\" stroke=\"black\" d=\"M 478 531 485 369\"/>\n",
       "<path stroke-width=\"0.2\" stroke=\"black\" d=\"M 478 531 513 354\"/>\n",
       "<path stroke-width=\"0.2\" stroke=\"black\" d=\"M 478 531 490 310\"/>\n",
       "<path stroke-width=\"0.2\" stroke=\"black\" d=\"M 478 531 521 314\"/>\n",
       "<path stroke-width=\"0.2\" stroke=\"black\" d=\"M 478 531 548 442\"/>\n",
       "<path stroke-width=\"0.2\" stroke=\"black\" d=\"M 478 531 596 499\"/>\n",
       "<path stroke-width=\"0.2\" stroke=\"black\" d=\"M 532 544 478 531\"/>\n",
       "<path stroke-width=\"0.2\" stroke=\"black\" d=\"M 890 642 644 441\"/>\n",
       "<path stroke-width=\"0.2\" stroke=\"black\" d=\"M 828 79 644 441\"/>\n",
       "<path stroke-width=\"0.2\" stroke=\"black\" d=\"M 608 243 605 696\"/>\n",
       "<path stroke-width=\"0.2\" stroke=\"black\" d=\"M 644 441 828 79\"/>\n",
       "<path stroke-width=\"0.2\" stroke=\"black\" d=\"M 644 441 608 243\"/>\n",
       "<path stroke-width=\"0.2\" stroke=\"black\" d=\"M 644 441 675 879\"/>\n",
       "<path stroke-width=\"0.2\" stroke=\"black\" d=\"M 644 441 380 556\"/>\n",
       "<path stroke-width=\"0.2\" stroke=\"black\" d=\"M 644 441 355 494\"/>\n",
       "<path stroke-width=\"0.2\" stroke=\"black\" d=\"M 644 441 229 345\"/>\n",
       "<path stroke-width=\"0.2\" stroke=\"black\" d=\"M 165 20 229 345\"/>\n",
       "<path stroke-width=\"0.2\" stroke=\"black\" d=\"M 119 23 229 345\"/>\n",
       "<path stroke-width=\"0.2\" stroke=\"black\" d=\"M 210 39 229 345\"/>\n",
       "<path stroke-width=\"0.2\" stroke=\"black\" d=\"M 20 295 229 345\"/>\n",
       "<path stroke-width=\"0.2\" stroke=\"black\" d=\"M 83 632 229 345\"/>\n",
       "<path stroke-width=\"0.2\" stroke=\"black\" d=\"M 70 163 229 345\"/>\n",
       "<path stroke-width=\"0.2\" stroke=\"black\" d=\"M 380 556 644 441\"/>\n",
       "<path stroke-width=\"0.2\" stroke=\"black\" d=\"M 644 441 890 642\"/>\n",
       "<path stroke-width=\"0.2\" stroke=\"black\" d=\"M 380 556 355 494\"/>\n",
       "<path stroke-width=\"0.2\" stroke=\"black\" d=\"M 355 494 644 441\"/>\n",
       "<path stroke-width=\"0.2\" stroke=\"black\" d=\"M 355 494 380 556\"/>\n",
       "<path stroke-width=\"0.2\" stroke=\"black\" d=\"M 355 494 229 345\"/>\n",
       "<path stroke-width=\"0.2\" stroke=\"black\" d=\"M 229 345 644 441\"/>\n",
       "<path stroke-width=\"0.2\" stroke=\"black\" d=\"M 229 345 165 20\"/>\n",
       "<path stroke-width=\"0.2\" stroke=\"black\" d=\"M 229 345 119 23\"/>\n",
       "<path stroke-width=\"0.2\" stroke=\"black\" d=\"M 229 345 210 39\"/>\n",
       "<path stroke-width=\"0.2\" stroke=\"black\" d=\"M 229 345 20 295\"/>\n",
       "<path stroke-width=\"0.2\" stroke=\"black\" d=\"M 229 345 83 632\"/>\n",
       "<path stroke-width=\"0.2\" stroke=\"black\" d=\"M 229 345 70 163\"/>\n",
       "<path stroke-width=\"0.2\" stroke=\"black\" d=\"M 229 345 380 556\"/>\n",
       "<path stroke-width=\"0.2\" stroke=\"black\" d=\"M 229 345 355 494\"/>\n",
       "<path stroke-width=\"0.2\" stroke=\"black\" d=\"M 229 345 143 707\"/>\n",
       "<path stroke-width=\"0.2\" stroke=\"black\" d=\"M 380 556 229 345\"/>\n",
       "<path stroke-width=\"0.2\" stroke=\"black\" d=\"M 604 451 787 402\"/>\n",
       "<path stroke-width=\"0.2\" stroke=\"black\" d=\"M 644 441 842 772\"/>\n",
       "<path stroke-width=\"0.2\" stroke=\"black\" d=\"M 644 441 460 479\"/>\n",
       "<path stroke-width=\"0.2\" stroke=\"black\" d=\"M 608 243 644 441\"/>\n",
       "<path stroke-width=\"0.2\" stroke=\"black\" d=\"M 675 879 644 441\"/>\n",
       "<path stroke-width=\"0.2\" stroke=\"black\" d=\"M 644 441 549 215\"/>\n",
       "<path stroke-width=\"0.2\" stroke=\"black\" d=\"M 644 441 485 369\"/>\n",
       "<path stroke-width=\"0.2\" stroke=\"black\" d=\"M 644 441 513 354\"/>\n",
       "<path stroke-width=\"0.2\" stroke=\"black\" d=\"M 644 441 490 310\"/>\n",
       "<path stroke-width=\"0.2\" stroke=\"black\" d=\"M 644 441 521 314\"/>\n",
       "<path stroke-width=\"0.2\" stroke=\"black\" d=\"M 644 441 684 407\"/>\n",
       "<path stroke-width=\"0.2\" stroke=\"black\" d=\"M 644 441 637 368\"/>\n",
       "<path stroke-width=\"0.2\" stroke=\"black\" d=\"M 644 441 548 442\"/>\n",
       "<path stroke-width=\"0.2\" stroke=\"black\" d=\"M 644 441 525 481\"/>\n",
       "<path stroke-width=\"0.2\" stroke=\"black\" d=\"M 644 441 440 432\"/>\n",
       "<path stroke-width=\"0.2\" stroke=\"black\" d=\"M 644 441 596 499\"/>\n",
       "<path stroke-width=\"0.2\" stroke=\"black\" d=\"M 644 441 605 696\"/>\n",
       "<path stroke-width=\"0.2\" stroke=\"black\" d=\"M 644 441 744 95\"/>\n",
       "<path stroke-width=\"0.2\" stroke=\"black\" d=\"M 644 441 871 227\"/>\n",
       "<path stroke-width=\"0.2\" stroke=\"black\" d=\"M 644 441 879 353\"/>\n",
       "<path stroke-width=\"0.2\" stroke=\"black\" d=\"M 644 441 884 294\"/>\n",
       "<path stroke-width=\"0.2\" stroke=\"black\" d=\"M 644 441 841 257\"/>\n",
       "<path stroke-width=\"0.2\" stroke=\"black\" d=\"M 644 441 826 199\"/>\n",
       "<path stroke-width=\"0.2\" stroke=\"black\" d=\"M 644 441 501 667\"/>\n",
       "<path stroke-width=\"0.2\" stroke=\"black\" d=\"M 644 441 783 763\"/>\n",
       "<path stroke-width=\"0.2\" stroke=\"black\" d=\"M 644 441 755 601\"/>\n",
       "<path stroke-width=\"0.2\" stroke=\"black\" d=\"M 644 441 787 402\"/>\n",
       "<path stroke-width=\"0.2\" stroke=\"black\" d=\"M 644 441 825 311\"/>\n",
       "<path stroke-width=\"0.2\" stroke=\"black\" d=\"M 644 441 604 451\"/>\n",
       "<path stroke-width=\"0.2\" stroke=\"black\" d=\"M 644 441 532 544\"/>\n",
       "<path stroke-width=\"0.2\" stroke=\"black\" d=\"M 644 441 478 531\"/>\n",
       "<path stroke-width=\"0.2\" stroke=\"black\" d=\"M 644 441 666 655\"/>\n",
       "<path stroke-width=\"0.2\" stroke=\"black\" d=\"M 604 451 755 601\"/>\n",
       "<path stroke-width=\"0.2\" stroke=\"black\" d=\"M 604 451 501 667\"/>\n",
       "<path stroke-width=\"0.2\" stroke=\"black\" d=\"M 604 451 666 655\"/>\n",
       "<path stroke-width=\"0.2\" stroke=\"black\" d=\"M 525 481 532 544\"/>\n",
       "<path stroke-width=\"0.2\" stroke=\"black\" d=\"M 525 481 644 441\"/>\n",
       "<path stroke-width=\"0.2\" stroke=\"black\" d=\"M 440 432 435 127\"/>\n",
       "<path stroke-width=\"0.2\" stroke=\"black\" d=\"M 440 432 490 616\"/>\n",
       "<path stroke-width=\"0.2\" stroke=\"black\" d=\"M 440 432 328 658\"/>\n",
       "<path stroke-width=\"0.2\" stroke=\"black\" d=\"M 440 432 548 442\"/>\n",
       "<path stroke-width=\"0.2\" stroke=\"black\" d=\"M 440 432 525 481\"/>\n",
       "<path stroke-width=\"0.2\" stroke=\"black\" d=\"M 440 432 532 544\"/>\n",
       "<path stroke-width=\"0.2\" stroke=\"black\" d=\"M 440 432 644 441\"/>\n",
       "<path stroke-width=\"0.2\" stroke=\"black\" d=\"M 596 499 699 217\"/>\n",
       "<path stroke-width=\"0.2\" stroke=\"black\" d=\"M 596 499 723 900\"/>\n",
       "<path stroke-width=\"0.2\" stroke=\"black\" d=\"M 596 499 764 860\"/>\n",
       "<path stroke-width=\"0.2\" stroke=\"black\" d=\"M 596 499 683 254\"/>\n",
       "<path stroke-width=\"0.2\" stroke=\"black\" d=\"M 525 481 440 432\"/>\n",
       "<path stroke-width=\"0.2\" stroke=\"black\" d=\"M 596 499 655 302\"/>\n",
       "<path stroke-width=\"0.2\" stroke=\"black\" d=\"M 596 499 705 436\"/>\n",
       "<path stroke-width=\"0.2\" stroke=\"black\" d=\"M 596 499 727 315\"/>\n",
       "<path stroke-width=\"0.2\" stroke=\"black\" d=\"M 596 499 694 370\"/>\n",
       "<path stroke-width=\"0.2\" stroke=\"black\" d=\"M 596 499 285 768\"/>\n",
       "<path stroke-width=\"0.2\" stroke=\"black\" d=\"M 596 499 615 323\"/>\n",
       "<path stroke-width=\"0.2\" stroke=\"black\" d=\"M 596 499 631 552\"/>\n",
       "<path stroke-width=\"0.2\" stroke=\"black\" d=\"M 596 499 435 276\"/>\n",
       "<path stroke-width=\"0.2\" stroke=\"black\" d=\"M 596 499 485 369\"/>\n",
       "<path stroke-width=\"0.2\" stroke=\"black\" d=\"M 596 499 490 310\"/>\n",
       "<path stroke-width=\"0.2\" stroke=\"black\" d=\"M 596 499 521 314\"/>\n",
       "<path stroke-width=\"0.2\" stroke=\"black\" d=\"M 596 499 684 407\"/>\n",
       "<path stroke-width=\"0.2\" stroke=\"black\" d=\"M 596 499 637 368\"/>\n",
       "<path stroke-width=\"0.2\" stroke=\"black\" d=\"M 596 499 548 442\"/>\n",
       "<path stroke-width=\"0.2\" stroke=\"black\" d=\"M 596 499 668 342\"/>\n",
       "<path stroke-width=\"0.2\" stroke=\"black\" d=\"M 596 499 604 451\"/>\n",
       "<path stroke-width=\"0.2\" stroke=\"black\" d=\"M 525 481 548 442\"/>\n",
       "<path stroke-width=\"0.2\" stroke=\"black\" d=\"M 525 481 375 809\"/>\n",
       "<path stroke-width=\"0.2\" stroke=\"black\" d=\"M 637 368 615 323\"/>\n",
       "<path stroke-width=\"0.2\" stroke=\"black\" d=\"M 637 368 631 552\"/>\n",
       "<path stroke-width=\"0.2\" stroke=\"black\" d=\"M 637 368 513 354\"/>\n",
       "<path stroke-width=\"0.2\" stroke=\"black\" d=\"M 637 368 684 407\"/>\n",
       "<path stroke-width=\"0.2\" stroke=\"black\" d=\"M 637 368 548 442\"/>\n",
       "<path stroke-width=\"0.2\" stroke=\"black\" d=\"M 637 368 596 499\"/>\n",
       "<path stroke-width=\"0.2\" stroke=\"black\" d=\"M 637 368 604 451\"/>\n",
       "<path stroke-width=\"0.2\" stroke=\"black\" d=\"M 637 368 644 441\"/>\n",
       "<path stroke-width=\"0.2\" stroke=\"black\" d=\"M 548 442 435 127\"/>\n",
       "<path stroke-width=\"0.2\" stroke=\"black\" d=\"M 548 442 655 302\"/>\n",
       "<path stroke-width=\"0.2\" stroke=\"black\" d=\"M 548 442 668 342\"/>\n",
       "<path stroke-width=\"0.2\" stroke=\"black\" d=\"M 548 442 705 436\"/>\n",
       "<path stroke-width=\"0.2\" stroke=\"black\" d=\"M 548 442 694 370\"/>\n",
       "<path stroke-width=\"0.2\" stroke=\"black\" d=\"M 525 481 490 616\"/>\n",
       "<path stroke-width=\"0.2\" stroke=\"black\" d=\"M 548 442 615 323\"/>\n",
       "<path stroke-width=\"0.2\" stroke=\"black\" d=\"M 548 442 490 616\"/>\n",
       "<path stroke-width=\"0.2\" stroke=\"black\" d=\"M 548 442 338 609\"/>\n",
       "<path stroke-width=\"0.2\" stroke=\"black\" d=\"M 548 442 448 360\"/>\n",
       "<path stroke-width=\"0.2\" stroke=\"black\" d=\"M 548 442 528 809\"/>\n",
       "<path stroke-width=\"0.2\" stroke=\"black\" d=\"M 548 442 684 407\"/>\n",
       "<path stroke-width=\"0.2\" stroke=\"black\" d=\"M 548 442 637 368\"/>\n",
       "<path stroke-width=\"0.2\" stroke=\"black\" d=\"M 548 442 525 481\"/>\n",
       "<path stroke-width=\"0.2\" stroke=\"black\" d=\"M 548 442 440 432\"/>\n",
       "<path stroke-width=\"0.2\" stroke=\"black\" d=\"M 548 442 596 499\"/>\n",
       "<path stroke-width=\"0.2\" stroke=\"black\" d=\"M 548 442 532 544\"/>\n",
       "<path stroke-width=\"0.2\" stroke=\"black\" d=\"M 548 442 478 531\"/>\n",
       "<path stroke-width=\"0.2\" stroke=\"black\" d=\"M 548 442 644 441\"/>\n",
       "<path stroke-width=\"0.2\" stroke=\"black\" d=\"M 525 481 628 47\"/>\n",
       "<path stroke-width=\"0.2\" stroke=\"black\" d=\"M 548 442 631 552\"/>\n",
       "<path stroke-width=\"0.2\" stroke=\"black\" d=\"M 628 47 525 481\"/>\n",
       "<path stroke-width=\"0.2\" stroke=\"black\" d=\"M 596 499 478 531\"/>\n",
       "<path stroke-width=\"0.2\" stroke=\"black\" d=\"M 744 95 825 311\"/>\n",
       "<path stroke-width=\"0.2\" stroke=\"black\" d=\"M 826 199 787 402\"/>\n",
       "<path stroke-width=\"0.2\" stroke=\"black\" d=\"M 826 199 644 441\"/>\n",
       "<path stroke-width=\"0.2\" stroke=\"black\" d=\"M 501 667 604 451\"/>\n",
       "<path stroke-width=\"0.2\" stroke=\"black\" d=\"M 501 667 644 441\"/>\n",
       "<path stroke-width=\"0.2\" stroke=\"black\" d=\"M 783 763 644 441\"/>\n",
       "<path stroke-width=\"0.2\" stroke=\"black\" d=\"M 755 601 835 706\"/>\n",
       "<path stroke-width=\"0.2\" stroke=\"black\" d=\"M 755 601 604 451\"/>\n",
       "<path stroke-width=\"0.2\" stroke=\"black\" d=\"M 755 601 605 696\"/>\n",
       "<path stroke-width=\"0.2\" stroke=\"black\" d=\"M 755 601 644 441\"/>\n",
       "<path stroke-width=\"0.2\" stroke=\"black\" d=\"M 787 402 871 227\"/>\n",
       "<path stroke-width=\"0.2\" stroke=\"black\" d=\"M 787 402 879 353\"/>\n",
       "<path stroke-width=\"0.2\" stroke=\"black\" d=\"M 787 402 884 294\"/>\n",
       "<path stroke-width=\"0.2\" stroke=\"black\" d=\"M 787 402 841 257\"/>\n",
       "<path stroke-width=\"0.2\" stroke=\"black\" d=\"M 826 199 841 257\"/>\n",
       "<path stroke-width=\"0.2\" stroke=\"black\" d=\"M 787 402 826 199\"/>\n",
       "<path stroke-width=\"0.2\" stroke=\"black\" d=\"M 787 402 605 696\"/>\n",
       "<path stroke-width=\"0.2\" stroke=\"black\" d=\"M 787 402 644 441\"/>\n",
       "<path stroke-width=\"0.2\" stroke=\"black\" d=\"M 825 311 1044 213\"/>\n",
       "<path stroke-width=\"0.2\" stroke=\"black\" d=\"M 825 311 744 95\"/>\n",
       "<path stroke-width=\"0.2\" stroke=\"black\" d=\"M 825 311 604 451\"/>\n",
       "<path stroke-width=\"0.2\" stroke=\"black\" d=\"M 825 311 644 441\"/>\n",
       "<path stroke-width=\"0.2\" stroke=\"black\" d=\"M 604 451 549 215\"/>\n",
       "<path stroke-width=\"0.2\" stroke=\"black\" d=\"M 604 451 485 369\"/>\n",
       "<path stroke-width=\"0.2\" stroke=\"black\" d=\"M 604 451 513 354\"/>\n",
       "<path stroke-width=\"0.2\" stroke=\"black\" d=\"M 604 451 490 310\"/>\n",
       "<path stroke-width=\"0.2\" stroke=\"black\" d=\"M 604 451 521 314\"/>\n",
       "<path stroke-width=\"0.2\" stroke=\"black\" d=\"M 604 451 637 368\"/>\n",
       "<path stroke-width=\"0.2\" stroke=\"black\" d=\"M 604 451 596 499\"/>\n",
       "<path stroke-width=\"0.2\" stroke=\"black\" d=\"M 787 402 604 451\"/>\n",
       "<path stroke-width=\"0.2\" stroke=\"black\" d=\"M 596 499 644 441\"/>\n",
       "<path stroke-width=\"0.2\" stroke=\"black\" d=\"M 826 199 884 294\"/>\n",
       "<path stroke-width=\"0.2\" stroke=\"black\" d=\"M 826 199 871 227\"/>\n",
       "<path stroke-width=\"0.2\" stroke=\"black\" d=\"M 744 95 644 441\"/>\n",
       "<path stroke-width=\"0.2\" stroke=\"black\" d=\"M 666 655 604 451\"/>\n",
       "<path stroke-width=\"0.2\" stroke=\"black\" d=\"M 666 655 532 544\"/>\n",
       "<path stroke-width=\"0.2\" stroke=\"black\" d=\"M 666 655 644 441\"/>\n",
       "<path stroke-width=\"0.2\" stroke=\"black\" d=\"M 871 227 879 353\"/>\n",
       "<path stroke-width=\"0.2\" stroke=\"black\" d=\"M 871 227 884 294\"/>\n",
       "<path stroke-width=\"0.2\" stroke=\"black\" d=\"M 871 227 841 257\"/>\n",
       "<path stroke-width=\"0.2\" stroke=\"black\" d=\"M 871 227 826 199\"/>\n",
       "<path stroke-width=\"0.2\" stroke=\"black\" d=\"M 871 227 787 402\"/>\n",
       "<path stroke-width=\"0.2\" stroke=\"black\" d=\"M 871 227 644 441\"/>\n",
       "<path stroke-width=\"0.2\" stroke=\"black\" d=\"M 879 353 871 227\"/>\n",
       "<path stroke-width=\"0.2\" stroke=\"black\" d=\"M 879 353 884 294\"/>\n",
       "<path stroke-width=\"0.2\" stroke=\"black\" d=\"M 879 353 841 257\"/>\n",
       "<path stroke-width=\"0.2\" stroke=\"black\" d=\"M 826 199 879 353\"/>\n",
       "<path stroke-width=\"0.2\" stroke=\"black\" d=\"M 879 353 826 199\"/>\n",
       "<path stroke-width=\"0.2\" stroke=\"black\" d=\"M 879 353 644 441\"/>\n",
       "<path stroke-width=\"0.2\" stroke=\"black\" d=\"M 884 294 871 227\"/>\n",
       "<path stroke-width=\"0.2\" stroke=\"black\" d=\"M 884 294 879 353\"/>\n",
       "<path stroke-width=\"0.2\" stroke=\"black\" d=\"M 884 294 841 257\"/>\n",
       "<path stroke-width=\"0.2\" stroke=\"black\" d=\"M 884 294 826 199\"/>\n",
       "<path stroke-width=\"0.2\" stroke=\"black\" d=\"M 884 294 787 402\"/>\n",
       "<path stroke-width=\"0.2\" stroke=\"black\" d=\"M 884 294 644 441\"/>\n",
       "<path stroke-width=\"0.2\" stroke=\"black\" d=\"M 841 257 871 227\"/>\n",
       "<path stroke-width=\"0.2\" stroke=\"black\" d=\"M 841 257 879 353\"/>\n",
       "<path stroke-width=\"0.2\" stroke=\"black\" d=\"M 841 257 884 294\"/>\n",
       "<path stroke-width=\"0.2\" stroke=\"black\" d=\"M 841 257 826 199\"/>\n",
       "<path stroke-width=\"0.2\" stroke=\"black\" d=\"M 841 257 787 402\"/>\n",
       "<path stroke-width=\"0.2\" stroke=\"black\" d=\"M 841 257 644 441\"/>\n",
       "<path stroke-width=\"0.2\" stroke=\"black\" d=\"M 879 353 787 402\"/>\n",
       "<path stroke-width=\"0.2\" stroke=\"black\" d=\"M 635 1044 631 552\"/>\n",
       "<circle cx=\"143\" cy=\"707\" r=\"1.5277777777777777\" style=\"fill:lightblue;stroke:black;stroke-width:1.0\"/>\n",
       "<circle cx=\"229\" cy=\"345\" r=\"6.277777777777778\" style=\"fill:lightblue;stroke:black;stroke-width:1.0\"/>\n",
       "<circle cx=\"355\" cy=\"494\" r=\"2.583333333333333\" style=\"fill:lightblue;stroke:black;stroke-width:1.0\"/>\n",
       "<circle cx=\"380\" cy=\"556\" r=\"2.583333333333333\" style=\"fill:lightblue;stroke:black;stroke-width:1.0\"/>\n",
       "<circle cx=\"70\" cy=\"163\" r=\"1.5277777777777777\" style=\"fill:lightblue;stroke:black;stroke-width:1.0\"/>\n",
       "<circle cx=\"83\" cy=\"632\" r=\"1.5277777777777777\" style=\"fill:lightblue;stroke:black;stroke-width:1.0\"/>\n",
       "<circle cx=\"20\" cy=\"295\" r=\"1.5277777777777777\" style=\"fill:lightblue;stroke:black;stroke-width:1.0\"/>\n",
       "<circle cx=\"210\" cy=\"39\" r=\"1.5277777777777777\" style=\"fill:lightblue;stroke:black;stroke-width:1.0\"/>\n",
       "<circle cx=\"119\" cy=\"23\" r=\"1.5277777777777777\" style=\"fill:lightblue;stroke:black;stroke-width:1.0\"/>\n",
       "<circle cx=\"165\" cy=\"20\" r=\"1.5277777777777777\" style=\"fill:lightblue;stroke:black;stroke-width:1.0\"/>\n",
       "<circle cx=\"644\" cy=\"441\" r=\"20.0\" style=\"fill:lightblue;stroke:black;stroke-width:1.0\"/>\n",
       "<circle cx=\"675\" cy=\"879\" r=\"1.5277777777777777\" style=\"fill:lightblue;stroke:black;stroke-width:1.0\"/>\n",
       "<circle cx=\"608\" cy=\"243\" r=\"2.0555555555555554\" style=\"fill:lightblue;stroke:black;stroke-width:1.0\"/>\n",
       "<circle cx=\"828\" cy=\"79\" r=\"1.5277777777777777\" style=\"fill:lightblue;stroke:black;stroke-width:1.0\"/>\n",
       "<circle cx=\"890\" cy=\"642\" r=\"1.5277777777777777\" style=\"fill:lightblue;stroke:black;stroke-width:1.0\"/>\n",
       "<circle cx=\"842\" cy=\"772\" r=\"1.5277777777777777\" style=\"fill:lightblue;stroke:black;stroke-width:1.0\"/>\n",
       "<circle cx=\"605\" cy=\"696\" r=\"8.916666666666668\" style=\"fill:lightblue;stroke:black;stroke-width:1.0\"/>\n",
       "<circle cx=\"460\" cy=\"479\" r=\"6.805555555555555\" style=\"fill:lightblue;stroke:black;stroke-width:1.0\"/>\n",
       "<circle cx=\"478\" cy=\"531\" r=\"9.444444444444445\" style=\"fill:lightblue;stroke:black;stroke-width:1.0\"/>\n",
       "<circle cx=\"532\" cy=\"544\" r=\"6.805555555555555\" style=\"fill:lightblue;stroke:black;stroke-width:1.0\"/>\n",
       "<circle cx=\"604\" cy=\"451\" r=\"9.972222222222221\" style=\"fill:lightblue;stroke:black;stroke-width:1.0\"/>\n",
       "<circle cx=\"825\" cy=\"311\" r=\"3.111111111111111\" style=\"fill:lightblue;stroke:black;stroke-width:1.0\"/>\n",
       "<circle cx=\"787\" cy=\"402\" r=\"5.222222222222222\" style=\"fill:lightblue;stroke:black;stroke-width:1.0\"/>\n",
       "<circle cx=\"755\" cy=\"601\" r=\"3.111111111111111\" style=\"fill:lightblue;stroke:black;stroke-width:1.0\"/>\n",
       "<circle cx=\"783\" cy=\"763\" r=\"1.5277777777777777\" style=\"fill:lightblue;stroke:black;stroke-width:1.0\"/>\n",
       "<circle cx=\"501\" cy=\"667\" r=\"2.0555555555555554\" style=\"fill:lightblue;stroke:black;stroke-width:1.0\"/>\n",
       "<circle cx=\"826\" cy=\"199\" r=\"4.166666666666666\" style=\"fill:lightblue;stroke:black;stroke-width:1.0\"/>\n",
       "<circle cx=\"841\" cy=\"257\" r=\"4.166666666666666\" style=\"fill:lightblue;stroke:black;stroke-width:1.0\"/>\n",
       "<circle cx=\"884\" cy=\"294\" r=\"4.166666666666666\" style=\"fill:lightblue;stroke:black;stroke-width:1.0\"/>\n",
       "<circle cx=\"879\" cy=\"353\" r=\"4.166666666666666\" style=\"fill:lightblue;stroke:black;stroke-width:1.0\"/>\n",
       "<circle cx=\"871\" cy=\"227\" r=\"4.166666666666666\" style=\"fill:lightblue;stroke:black;stroke-width:1.0\"/>\n",
       "<circle cx=\"666\" cy=\"655\" r=\"2.583333333333333\" style=\"fill:lightblue;stroke:black;stroke-width:1.0\"/>\n",
       "<circle cx=\"744\" cy=\"95\" r=\"2.0555555555555554\" style=\"fill:lightblue;stroke:black;stroke-width:1.0\"/>\n",
       "<circle cx=\"596\" cy=\"499\" r=\"12.61111111111111\" style=\"fill:lightblue;stroke:black;stroke-width:1.0\"/>\n",
       "<circle cx=\"440\" cy=\"432\" r=\"4.694444444444445\" style=\"fill:lightblue;stroke:black;stroke-width:1.0\"/>\n",
       "<circle cx=\"525\" cy=\"481\" r=\"4.694444444444445\" style=\"fill:lightblue;stroke:black;stroke-width:1.0\"/>\n",
       "<circle cx=\"548\" cy=\"442\" r=\"11.027777777777779\" style=\"fill:lightblue;stroke:black;stroke-width:1.0\"/>\n",
       "<circle cx=\"637\" cy=\"368\" r=\"8.916666666666668\" style=\"fill:lightblue;stroke:black;stroke-width:1.0\"/>\n",
       "<circle cx=\"684\" cy=\"407\" r=\"7.861111111111111\" style=\"fill:lightblue;stroke:black;stroke-width:1.0\"/>\n",
       "<circle cx=\"521\" cy=\"314\" r=\"6.277777777777778\" style=\"fill:lightblue;stroke:black;stroke-width:1.0\"/>\n",
       "<circle cx=\"490\" cy=\"310\" r=\"6.277777777777778\" style=\"fill:lightblue;stroke:black;stroke-width:1.0\"/>\n",
       "<circle cx=\"513\" cy=\"354\" r=\"6.277777777777778\" style=\"fill:lightblue;stroke:black;stroke-width:1.0\"/>\n",
       "<circle cx=\"485\" cy=\"369\" r=\"5.75\" style=\"fill:lightblue;stroke:black;stroke-width:1.0\"/>\n",
       "<circle cx=\"549\" cy=\"215\" r=\"2.583333333333333\" style=\"fill:lightblue;stroke:black;stroke-width:1.0\"/>\n",
       "<circle cx=\"548\" cy=\"932\" r=\"4.694444444444445\" style=\"fill:lightblue;stroke:black;stroke-width:1.0\"/>\n",
       "<circle cx=\"528\" cy=\"809\" r=\"5.75\" style=\"fill:lightblue;stroke:black;stroke-width:1.0\"/>\n",
       "<circle cx=\"481\" cy=\"965\" r=\"4.694444444444445\" style=\"fill:lightblue;stroke:black;stroke-width:1.0\"/>\n",
       "<circle cx=\"584\" cy=\"961\" r=\"4.694444444444445\" style=\"fill:lightblue;stroke:black;stroke-width:1.0\"/>\n",
       "<circle cx=\"517\" cy=\"990\" r=\"4.694444444444445\" style=\"fill:lightblue;stroke:black;stroke-width:1.0\"/>\n",
       "<circle cx=\"559\" cy=\"1007\" r=\"4.694444444444445\" style=\"fill:lightblue;stroke:black;stroke-width:1.0\"/>\n",
       "<circle cx=\"500\" cy=\"917\" r=\"4.694444444444445\" style=\"fill:lightblue;stroke:black;stroke-width:1.0\"/>\n",
       "<circle cx=\"835\" cy=\"706\" r=\"2.0555555555555554\" style=\"fill:lightblue;stroke:black;stroke-width:1.0\"/>\n",
       "<circle cx=\"448\" cy=\"360\" r=\"6.805555555555555\" style=\"fill:lightblue;stroke:black;stroke-width:1.0\"/>\n",
       "<circle cx=\"318\" cy=\"369\" r=\"2.583333333333333\" style=\"fill:lightblue;stroke:black;stroke-width:1.0\"/>\n",
       "<circle cx=\"328\" cy=\"658\" r=\"2.0555555555555554\" style=\"fill:lightblue;stroke:black;stroke-width:1.0\"/>\n",
       "<circle cx=\"338\" cy=\"609\" r=\"2.583333333333333\" style=\"fill:lightblue;stroke:black;stroke-width:1.0\"/>\n",
       "<circle cx=\"492\" cy=\"1023\" r=\"1.5277777777777777\" style=\"fill:lightblue;stroke:black;stroke-width:1.0\"/>\n",
       "<circle cx=\"435\" cy=\"276\" r=\"4.694444444444445\" style=\"fill:lightblue;stroke:black;stroke-width:1.0\"/>\n",
       "<circle cx=\"490\" cy=\"616\" r=\"3.111111111111111\" style=\"fill:lightblue;stroke:black;stroke-width:1.0\"/>\n",
       "<circle cx=\"1044\" cy=\"213\" r=\"1.5277777777777777\" style=\"fill:lightblue;stroke:black;stroke-width:1.0\"/>\n",
       "<circle cx=\"375\" cy=\"809\" r=\"2.0555555555555554\" style=\"fill:lightblue;stroke:black;stroke-width:1.0\"/>\n",
       "<circle cx=\"631\" cy=\"552\" r=\"6.805555555555555\" style=\"fill:lightblue;stroke:black;stroke-width:1.0\"/>\n",
       "<circle cx=\"615\" cy=\"323\" r=\"7.861111111111111\" style=\"fill:lightblue;stroke:black;stroke-width:1.0\"/>\n",
       "<circle cx=\"285\" cy=\"768\" r=\"2.0555555555555554\" style=\"fill:lightblue;stroke:black;stroke-width:1.0\"/>\n",
       "<circle cx=\"94\" cy=\"969\" r=\"1.5277777777777777\" style=\"fill:lightblue;stroke:black;stroke-width:1.0\"/>\n",
       "<circle cx=\"694\" cy=\"370\" r=\"6.805555555555555\" style=\"fill:lightblue;stroke:black;stroke-width:1.0\"/>\n",
       "<circle cx=\"727\" cy=\"315\" r=\"5.75\" style=\"fill:lightblue;stroke:black;stroke-width:1.0\"/>\n",
       "<circle cx=\"705\" cy=\"436\" r=\"6.805555555555555\" style=\"fill:lightblue;stroke:black;stroke-width:1.0\"/>\n",
       "<circle cx=\"668\" cy=\"342\" r=\"7.333333333333333\" style=\"fill:lightblue;stroke:black;stroke-width:1.0\"/>\n",
       "<circle cx=\"655\" cy=\"302\" r=\"7.333333333333333\" style=\"fill:lightblue;stroke:black;stroke-width:1.0\"/>\n",
       "<circle cx=\"683\" cy=\"254\" r=\"6.277777777777778\" style=\"fill:lightblue;stroke:black;stroke-width:1.0\"/>\n",
       "<circle cx=\"764\" cy=\"860\" r=\"2.0555555555555554\" style=\"fill:lightblue;stroke:black;stroke-width:1.0\"/>\n",
       "<circle cx=\"723\" cy=\"900\" r=\"2.0555555555555554\" style=\"fill:lightblue;stroke:black;stroke-width:1.0\"/>\n",
       "<circle cx=\"699\" cy=\"217\" r=\"4.694444444444445\" style=\"fill:lightblue;stroke:black;stroke-width:1.0\"/>\n",
       "<circle cx=\"435\" cy=\"127\" r=\"2.0555555555555554\" style=\"fill:lightblue;stroke:black;stroke-width:1.0\"/>\n",
       "<circle cx=\"628\" cy=\"47\" r=\"1.5277777777777777\" style=\"fill:lightblue;stroke:black;stroke-width:1.0\"/>\n",
       "<circle cx=\"635\" cy=\"1044\" r=\"1.5277777777777777\" style=\"fill:lightblue;stroke:black;stroke-width:1.0\"/>\n",
       "</svg>"
      ],
      "text/plain": [
       "<IPython.core.display.SVG object>"
      ]
     },
     "execution_count": 4,
     "metadata": {},
     "output_type": "execute_result"
    }
   ],
   "source": [
    "draw_graph(G, node_size=4, edge_width=0.2) "
   ]
  },
  {
   "cell_type": "markdown",
   "id": "9828280d",
   "metadata": {},
   "source": [
    "# community detection in action"
   ]
  },
  {
   "cell_type": "markdown",
   "id": "eae1b8bb",
   "metadata": {},
   "source": [
    "## scalable community detection (SCD)"
   ]
  },
  {
   "cell_type": "code",
   "execution_count": 5,
   "id": "36fffee7",
   "metadata": {},
   "outputs": [
    {
     "name": "stdout",
     "output_type": "stream",
     "text": [
      "Requirement already satisfied: karateclub in c:\\users\\amird\\appdata\\local\\programs\\python\\python39\\lib\\site-packages (1.3.3)\n",
      "Requirement already satisfied: numpy<1.23.0 in c:\\users\\amird\\appdata\\local\\programs\\python\\python39\\lib\\site-packages (from karateclub) (1.22.4)\n",
      "Requirement already satisfied: networkx<2.7 in c:\\users\\amird\\appdata\\local\\programs\\python\\python39\\lib\\site-packages (from karateclub) (2.6.3)\n",
      "Requirement already satisfied: decorator==4.4.2 in c:\\users\\amird\\appdata\\local\\programs\\python\\python39\\lib\\site-packages (from karateclub) (4.4.2)\n",
      "Requirement already satisfied: tqdm in c:\\users\\amird\\appdata\\local\\programs\\python\\python39\\lib\\site-packages (from karateclub) (4.66.1)\n",
      "Requirement already satisfied: python-louvain in c:\\users\\amird\\appdata\\local\\programs\\python\\python39\\lib\\site-packages (from karateclub) (0.16)\n",
      "Requirement already satisfied: scikit-learn in c:\\users\\amird\\appdata\\local\\programs\\python\\python39\\lib\\site-packages (from karateclub) (1.4.0)\n",
      "Requirement already satisfied: scipy in c:\\users\\amird\\appdata\\local\\programs\\python\\python39\\lib\\site-packages (from karateclub) (1.12.0)\n",
      "Requirement already satisfied: pygsp in c:\\users\\amird\\appdata\\local\\programs\\python\\python39\\lib\\site-packages (from karateclub) (0.5.1)\n",
      "Requirement already satisfied: gensim>=4.0.0 in c:\\users\\amird\\appdata\\local\\programs\\python\\python39\\lib\\site-packages (from karateclub) (4.3.2)\n",
      "Requirement already satisfied: pandas<=1.3.5 in c:\\users\\amird\\appdata\\local\\programs\\python\\python39\\lib\\site-packages (from karateclub) (1.3.5)\n",
      "Requirement already satisfied: six in c:\\users\\amird\\appdata\\roaming\\python\\python39\\site-packages (from karateclub) (1.16.0)\n",
      "Requirement already satisfied: python-Levenshtein in c:\\users\\amird\\appdata\\local\\programs\\python\\python39\\lib\\site-packages (from karateclub) (0.24.0)\n",
      "Requirement already satisfied: smart-open>=1.8.1 in c:\\users\\amird\\appdata\\local\\programs\\python\\python39\\lib\\site-packages (from gensim>=4.0.0->karateclub) (6.4.0)\n",
      "Requirement already satisfied: python-dateutil>=2.7.3 in c:\\users\\amird\\appdata\\roaming\\python\\python39\\site-packages (from pandas<=1.3.5->karateclub) (2.8.2)\n",
      "Requirement already satisfied: pytz>=2017.3 in c:\\users\\amird\\appdata\\local\\programs\\python\\python39\\lib\\site-packages (from pandas<=1.3.5->karateclub) (2024.1)\n",
      "Requirement already satisfied: Levenshtein==0.24.0 in c:\\users\\amird\\appdata\\local\\programs\\python\\python39\\lib\\site-packages (from python-Levenshtein->karateclub) (0.24.0)\n",
      "Requirement already satisfied: rapidfuzz<4.0.0,>=3.1.0 in c:\\users\\amird\\appdata\\local\\programs\\python\\python39\\lib\\site-packages (from Levenshtein==0.24.0->python-Levenshtein->karateclub) (3.6.1)\n",
      "Requirement already satisfied: joblib>=1.2.0 in c:\\users\\amird\\appdata\\local\\programs\\python\\python39\\lib\\site-packages (from scikit-learn->karateclub) (1.3.2)\n",
      "Requirement already satisfied: threadpoolctl>=2.0.0 in c:\\users\\amird\\appdata\\local\\programs\\python\\python39\\lib\\site-packages (from scikit-learn->karateclub) (3.2.0)\n",
      "Requirement already satisfied: colorama in c:\\users\\amird\\appdata\\roaming\\python\\python39\\site-packages (from tqdm->karateclub) (0.4.6)\n",
      "Note: you may need to restart the kernel to use updated packages.\n"
     ]
    }
   ],
   "source": [
    "%pip install karateclub"
   ]
  },
  {
   "cell_type": "code",
   "execution_count": 6,
   "id": "350500fe",
   "metadata": {},
   "outputs": [
    {
     "name": "stderr",
     "output_type": "stream",
     "text": [
      "c:\\Users\\amird\\AppData\\Local\\Programs\\Python\\Python39\\lib\\site-packages\\tqdm\\auto.py:21: TqdmWarning: IProgress not found. Please update jupyter and ipywidgets. See https://ipywidgets.readthedocs.io/en/stable/user_install.html\n",
      "  from .autonotebook import tqdm as notebook_tqdm\n"
     ]
    }
   ],
   "source": [
    "from karateclub.community_detection.non_overlapping.scd import SCD \n",
    "\n",
    "import numpy as np "
   ]
  },
  {
   "cell_type": "code",
   "execution_count": 7,
   "id": "3be95e3a",
   "metadata": {},
   "outputs": [
    {
     "data": {
      "text/plain": [
       "{0: 34,\n",
       " 1: 14,\n",
       " 2: 14,\n",
       " 3: 14,\n",
       " 4: 33,\n",
       " 5: 32,\n",
       " 6: 31,\n",
       " 7: 30,\n",
       " 8: 29,\n",
       " 9: 28,\n",
       " 10: 11,\n",
       " 11: 27,\n",
       " 12: 13,\n",
       " 13: 26,\n",
       " 14: 25,\n",
       " 15: 24,\n",
       " 16: 7,\n",
       " 17: 15,\n",
       " 18: 15,\n",
       " 19: 4,\n",
       " 20: 15,\n",
       " 21: 9,\n",
       " 22: 11,\n",
       " 23: 6,\n",
       " 24: 23,\n",
       " 25: 35,\n",
       " 26: 11,\n",
       " 27: 11,\n",
       " 28: 11,\n",
       " 29: 11,\n",
       " 30: 11,\n",
       " 31: 36,\n",
       " 32: 9,\n",
       " 33: 1,\n",
       " 34: 4,\n",
       " 35: 4,\n",
       " 36: 1,\n",
       " 37: 1,\n",
       " 38: 1,\n",
       " 39: 15,\n",
       " 40: 15,\n",
       " 41: 15,\n",
       " 42: 15,\n",
       " 43: 37,\n",
       " 44: 7,\n",
       " 45: 7,\n",
       " 46: 7,\n",
       " 47: 7,\n",
       " 48: 7,\n",
       " 49: 7,\n",
       " 50: 7,\n",
       " 51: 6,\n",
       " 52: 15,\n",
       " 53: 15,\n",
       " 54: 22,\n",
       " 55: 17,\n",
       " 56: 21,\n",
       " 57: 15,\n",
       " 58: 4,\n",
       " 59: 20,\n",
       " 60: 17,\n",
       " 61: 1,\n",
       " 62: 1,\n",
       " 63: 19,\n",
       " 64: 19,\n",
       " 65: 1,\n",
       " 66: 1,\n",
       " 67: 1,\n",
       " 68: 1,\n",
       " 69: 1,\n",
       " 70: 1,\n",
       " 71: 2,\n",
       " 72: 2,\n",
       " 73: 1,\n",
       " 74: 0,\n",
       " 75: 18,\n",
       " 76: 16}"
      ]
     },
     "execution_count": 7,
     "metadata": {},
     "output_type": "execute_result"
    }
   ],
   "source": [
    "model = SCD()  \n",
    "\n",
    "model.fit(G) \n",
    "\n",
    "clusters = model.get_memberships() \n",
    "clusters"
   ]
  },
  {
   "cell_type": "code",
   "execution_count": 8,
   "id": "7d1bf029",
   "metadata": {},
   "outputs": [
    {
     "data": {
      "text/plain": [
       "array([34, 14, 14, 14, 33, 32, 31, 30, 29, 28, 11, 27, 13, 26, 25, 24,  7,\n",
       "       15, 15,  4, 15,  9, 11,  6, 23, 35, 11, 11, 11, 11, 11, 36,  9,  1,\n",
       "        4,  4,  1,  1,  1, 15, 15, 15, 15, 37,  7,  7,  7,  7,  7,  7,  7,\n",
       "        6, 15, 15, 22, 17, 21, 15,  4, 20, 17,  1,  1, 19, 19,  1,  1,  1,\n",
       "        1,  1,  1,  2,  2,  1,  0, 18, 16])"
      ]
     },
     "execution_count": 8,
     "metadata": {},
     "output_type": "execute_result"
    }
   ],
   "source": [
    "clusters = np.array(list(clusters.values())) \n",
    "clusters"
   ]
  },
  {
   "cell_type": "code",
   "execution_count": 9,
   "id": "12b71253",
   "metadata": {},
   "outputs": [
    {
     "data": {
      "text/html": [
       "<div>\n",
       "<style scoped>\n",
       "    .dataframe tbody tr th:only-of-type {\n",
       "        vertical-align: middle;\n",
       "    }\n",
       "\n",
       "    .dataframe tbody tr th {\n",
       "        vertical-align: top;\n",
       "    }\n",
       "\n",
       "    .dataframe thead th {\n",
       "        text-align: right;\n",
       "    }\n",
       "</style>\n",
       "<table border=\"1\" class=\"dataframe\">\n",
       "  <thead>\n",
       "    <tr style=\"text-align: right;\">\n",
       "      <th></th>\n",
       "      <th>node</th>\n",
       "      <th>cluster</th>\n",
       "    </tr>\n",
       "  </thead>\n",
       "  <tbody>\n",
       "    <tr>\n",
       "      <th>0</th>\n",
       "      <td>Napoleon</td>\n",
       "      <td>34</td>\n",
       "    </tr>\n",
       "    <tr>\n",
       "      <th>1</th>\n",
       "      <td>Myriel</td>\n",
       "      <td>14</td>\n",
       "    </tr>\n",
       "    <tr>\n",
       "      <th>2</th>\n",
       "      <td>MlleBaptistine</td>\n",
       "      <td>14</td>\n",
       "    </tr>\n",
       "    <tr>\n",
       "      <th>3</th>\n",
       "      <td>MmeMagloire</td>\n",
       "      <td>14</td>\n",
       "    </tr>\n",
       "    <tr>\n",
       "      <th>4</th>\n",
       "      <td>CountessDeLo</td>\n",
       "      <td>33</td>\n",
       "    </tr>\n",
       "    <tr>\n",
       "      <th>5</th>\n",
       "      <td>Geborand</td>\n",
       "      <td>32</td>\n",
       "    </tr>\n",
       "    <tr>\n",
       "      <th>6</th>\n",
       "      <td>Champtercier</td>\n",
       "      <td>31</td>\n",
       "    </tr>\n",
       "    <tr>\n",
       "      <th>7</th>\n",
       "      <td>Cravatte</td>\n",
       "      <td>30</td>\n",
       "    </tr>\n",
       "    <tr>\n",
       "      <th>8</th>\n",
       "      <td>Count</td>\n",
       "      <td>29</td>\n",
       "    </tr>\n",
       "    <tr>\n",
       "      <th>9</th>\n",
       "      <td>OldMan</td>\n",
       "      <td>28</td>\n",
       "    </tr>\n",
       "  </tbody>\n",
       "</table>\n",
       "</div>"
      ],
      "text/plain": [
       "             node  cluster\n",
       "0        Napoleon       34\n",
       "1          Myriel       14\n",
       "2  MlleBaptistine       14\n",
       "3     MmeMagloire       14\n",
       "4    CountessDeLo       33\n",
       "5        Geborand       32\n",
       "6    Champtercier       31\n",
       "7        Cravatte       30\n",
       "8           Count       29\n",
       "9          OldMan       28"
      ]
     },
     "execution_count": 9,
     "metadata": {},
     "output_type": "execute_result"
    }
   ],
   "source": [
    "cluster_df = pd.DataFrame({'node':nodes, 'cluster':clusters}) \n",
    "\n",
    "cluster_df.head(10) "
   ]
  },
  {
   "cell_type": "code",
   "execution_count": 10,
   "id": "510a63b7",
   "metadata": {},
   "outputs": [
    {
     "data": {
      "image/png": "[encoded data removed]",
      "text/plain": [
       "<Figure size 640x480 with 1 Axes>"
      ]
     },
     "metadata": {},
     "output_type": "display_data"
    }
   ],
   "source": [
    "title = 'Clusters by Node Count (SCD)' \n",
    "\n",
    "cluster_df['cluster'].value_counts()[0:10].plot.barh(title=title).invert_yaxis() "
   ]
  },
  {
   "cell_type": "code",
   "execution_count": 11,
   "id": "026ab55a",
   "metadata": {},
   "outputs": [
    {
     "name": "stdout",
     "output_type": "stream",
     "text": [
      "['Marius' 'Gavroche' 'Bahorel' 'Joly' 'Prouvaire' 'MmeHucheloup' 'Bossuet'\n",
      " 'Combeferre' 'Mabeuf' 'Grantaire' 'Enjolras' 'Courfeyrac' 'Feuilly']\n"
     ]
    },
    {
     "data": {
      "image/svg+xml": [
       "<svg xmlns=\"http://www.w3.org/2000/svg\" width=\"1124.0\" height=\"1064.0\">\n",
       "<path stroke-width=\"0.2\" stroke=\"black\" d=\"M 1044 158 111 502\"/>\n",
       "<path stroke-width=\"0.2\" stroke=\"black\" d=\"M 79 785 674 684\"/>\n",
       "<path stroke-width=\"0.2\" stroke=\"black\" d=\"M 79 785 20 289\"/>\n",
       "<path stroke-width=\"0.2\" stroke=\"black\" d=\"M 79 785 971 602\"/>\n",
       "<path stroke-width=\"0.2\" stroke=\"black\" d=\"M 79 785 690 1044\"/>\n",
       "<path stroke-width=\"0.2\" stroke=\"black\" d=\"M 79 785 446 243\"/>\n",
       "<path stroke-width=\"0.2\" stroke=\"black\" d=\"M 79 785 965 415\"/>\n",
       "<path stroke-width=\"0.2\" stroke=\"black\" d=\"M 79 785 372 608\"/>\n",
       "<path stroke-width=\"0.2\" stroke=\"black\" d=\"M 79 785 111 502\"/>\n",
       "<path stroke-width=\"0.2\" stroke=\"black\" d=\"M 700 20 232 115\"/>\n",
       "<path stroke-width=\"0.2\" stroke=\"black\" d=\"M 700 20 621 443\"/>\n",
       "<path stroke-width=\"0.2\" stroke=\"black\" d=\"M 700 20 674 684\"/>\n",
       "<path stroke-width=\"0.2\" stroke=\"black\" d=\"M 700 20 20 289\"/>\n",
       "<path stroke-width=\"0.2\" stroke=\"black\" d=\"M 700 20 971 602\"/>\n",
       "<path stroke-width=\"0.2\" stroke=\"black\" d=\"M 700 20 965 415\"/>\n",
       "<path stroke-width=\"0.2\" stroke=\"black\" d=\"M 79 785 621 443\"/>\n",
       "<path stroke-width=\"0.2\" stroke=\"black\" d=\"M 700 20 372 608\"/>\n",
       "<path stroke-width=\"0.2\" stroke=\"black\" d=\"M 700 20 1044 158\"/>\n",
       "<path stroke-width=\"0.2\" stroke=\"black\" d=\"M 20 289 232 115\"/>\n",
       "<path stroke-width=\"0.2\" stroke=\"black\" d=\"M 20 289 621 443\"/>\n",
       "<path stroke-width=\"0.2\" stroke=\"black\" d=\"M 20 289 674 684\"/>\n",
       "<path stroke-width=\"0.2\" stroke=\"black\" d=\"M 20 289 79 785\"/>\n",
       "<path stroke-width=\"0.2\" stroke=\"black\" d=\"M 20 289 700 20\"/>\n",
       "<path stroke-width=\"0.2\" stroke=\"black\" d=\"M 20 289 971 602\"/>\n",
       "<path stroke-width=\"0.2\" stroke=\"black\" d=\"M 20 289 446 243\"/>\n",
       "<path stroke-width=\"0.2\" stroke=\"black\" d=\"M 20 289 965 415\"/>\n",
       "<path stroke-width=\"0.2\" stroke=\"black\" d=\"M 20 289 372 608\"/>\n",
       "<path stroke-width=\"0.2\" stroke=\"black\" d=\"M 20 289 111 502\"/>\n",
       "<path stroke-width=\"0.2\" stroke=\"black\" d=\"M 20 289 1044 158\"/>\n",
       "<path stroke-width=\"0.2\" stroke=\"black\" d=\"M 971 602 232 115\"/>\n",
       "<path stroke-width=\"0.2\" stroke=\"black\" d=\"M 971 602 621 443\"/>\n",
       "<path stroke-width=\"0.2\" stroke=\"black\" d=\"M 700 20 111 502\"/>\n",
       "<path stroke-width=\"0.2\" stroke=\"black\" d=\"M 79 785 232 115\"/>\n",
       "<path stroke-width=\"0.2\" stroke=\"black\" d=\"M 674 684 1044 158\"/>\n",
       "<path stroke-width=\"0.2\" stroke=\"black\" d=\"M 674 684 111 502\"/>\n",
       "<path stroke-width=\"0.2\" stroke=\"black\" d=\"M 232 115 79 785\"/>\n",
       "<path stroke-width=\"0.2\" stroke=\"black\" d=\"M 232 115 700 20\"/>\n",
       "<path stroke-width=\"0.2\" stroke=\"black\" d=\"M 232 115 20 289\"/>\n",
       "<path stroke-width=\"0.2\" stroke=\"black\" d=\"M 232 115 971 602\"/>\n",
       "<path stroke-width=\"0.2\" stroke=\"black\" d=\"M 232 115 446 243\"/>\n",
       "<path stroke-width=\"0.2\" stroke=\"black\" d=\"M 232 115 965 415\"/>\n",
       "<path stroke-width=\"0.2\" stroke=\"black\" d=\"M 232 115 372 608\"/>\n",
       "<path stroke-width=\"0.2\" stroke=\"black\" d=\"M 232 115 111 502\"/>\n",
       "<path stroke-width=\"0.2\" stroke=\"black\" d=\"M 232 115 1044 158\"/>\n",
       "<path stroke-width=\"0.2\" stroke=\"black\" d=\"M 621 443 232 115\"/>\n",
       "<path stroke-width=\"0.2\" stroke=\"black\" d=\"M 621 443 674 684\"/>\n",
       "<path stroke-width=\"0.2\" stroke=\"black\" d=\"M 621 443 79 785\"/>\n",
       "<path stroke-width=\"0.2\" stroke=\"black\" d=\"M 621 443 700 20\"/>\n",
       "<path stroke-width=\"0.2\" stroke=\"black\" d=\"M 621 443 20 289\"/>\n",
       "<path stroke-width=\"0.2\" stroke=\"black\" d=\"M 621 443 971 602\"/>\n",
       "<path stroke-width=\"0.2\" stroke=\"black\" d=\"M 621 443 690 1044\"/>\n",
       "<path stroke-width=\"0.2\" stroke=\"black\" d=\"M 621 443 446 243\"/>\n",
       "<path stroke-width=\"0.2\" stroke=\"black\" d=\"M 674 684 372 608\"/>\n",
       "<path stroke-width=\"0.2\" stroke=\"black\" d=\"M 674 684 965 415\"/>\n",
       "<path stroke-width=\"0.2\" stroke=\"black\" d=\"M 674 684 446 243\"/>\n",
       "<path stroke-width=\"0.2\" stroke=\"black\" d=\"M 674 684 690 1044\"/>\n",
       "<path stroke-width=\"0.2\" stroke=\"black\" d=\"M 674 684 971 602\"/>\n",
       "<path stroke-width=\"0.2\" stroke=\"black\" d=\"M 674 684 20 289\"/>\n",
       "<path stroke-width=\"0.2\" stroke=\"black\" d=\"M 971 602 674 684\"/>\n",
       "<path stroke-width=\"0.2\" stroke=\"black\" d=\"M 674 684 700 20\"/>\n",
       "<path stroke-width=\"0.2\" stroke=\"black\" d=\"M 674 684 621 443\"/>\n",
       "<path stroke-width=\"0.2\" stroke=\"black\" d=\"M 674 684 232 115\"/>\n",
       "<path stroke-width=\"0.2\" stroke=\"black\" d=\"M 621 443 1044 158\"/>\n",
       "<path stroke-width=\"0.2\" stroke=\"black\" d=\"M 621 443 111 502\"/>\n",
       "<path stroke-width=\"0.2\" stroke=\"black\" d=\"M 621 443 372 608\"/>\n",
       "<path stroke-width=\"0.2\" stroke=\"black\" d=\"M 621 443 965 415\"/>\n",
       "<path stroke-width=\"0.2\" stroke=\"black\" d=\"M 674 684 79 785\"/>\n",
       "<path stroke-width=\"0.2\" stroke=\"black\" d=\"M 971 602 79 785\"/>\n",
       "<path stroke-width=\"0.2\" stroke=\"black\" d=\"M 971 602 700 20\"/>\n",
       "<path stroke-width=\"0.2\" stroke=\"black\" d=\"M 971 602 20 289\"/>\n",
       "<path stroke-width=\"0.2\" stroke=\"black\" d=\"M 372 608 621 443\"/>\n",
       "<path stroke-width=\"0.2\" stroke=\"black\" d=\"M 372 608 674 684\"/>\n",
       "<path stroke-width=\"0.2\" stroke=\"black\" d=\"M 372 608 79 785\"/>\n",
       "<path stroke-width=\"0.2\" stroke=\"black\" d=\"M 372 608 700 20\"/>\n",
       "<path stroke-width=\"0.2\" stroke=\"black\" d=\"M 372 608 20 289\"/>\n",
       "<path stroke-width=\"0.2\" stroke=\"black\" d=\"M 372 608 971 602\"/>\n",
       "<path stroke-width=\"0.2\" stroke=\"black\" d=\"M 372 608 690 1044\"/>\n",
       "<path stroke-width=\"0.2\" stroke=\"black\" d=\"M 372 608 446 243\"/>\n",
       "<path stroke-width=\"0.2\" stroke=\"black\" d=\"M 372 608 965 415\"/>\n",
       "<path stroke-width=\"0.2\" stroke=\"black\" d=\"M 372 608 111 502\"/>\n",
       "<path stroke-width=\"0.2\" stroke=\"black\" d=\"M 372 608 1044 158\"/>\n",
       "<path stroke-width=\"0.2\" stroke=\"black\" d=\"M 111 502 232 115\"/>\n",
       "<path stroke-width=\"0.2\" stroke=\"black\" d=\"M 111 502 621 443\"/>\n",
       "<path stroke-width=\"0.2\" stroke=\"black\" d=\"M 111 502 674 684\"/>\n",
       "<path stroke-width=\"0.2\" stroke=\"black\" d=\"M 111 502 79 785\"/>\n",
       "<path stroke-width=\"0.2\" stroke=\"black\" d=\"M 111 502 700 20\"/>\n",
       "<path stroke-width=\"0.2\" stroke=\"black\" d=\"M 111 502 20 289\"/>\n",
       "<path stroke-width=\"0.2\" stroke=\"black\" d=\"M 1044 158 372 608\"/>\n",
       "<path stroke-width=\"0.2\" stroke=\"black\" d=\"M 1044 158 965 415\"/>\n",
       "<path stroke-width=\"0.2\" stroke=\"black\" d=\"M 1044 158 971 602\"/>\n",
       "<path stroke-width=\"0.2\" stroke=\"black\" d=\"M 1044 158 20 289\"/>\n",
       "<path stroke-width=\"0.2\" stroke=\"black\" d=\"M 1044 158 700 20\"/>\n",
       "<path stroke-width=\"0.2\" stroke=\"black\" d=\"M 1044 158 674 684\"/>\n",
       "<path stroke-width=\"0.2\" stroke=\"black\" d=\"M 372 608 232 115\"/>\n",
       "<path stroke-width=\"0.2\" stroke=\"black\" d=\"M 1044 158 621 443\"/>\n",
       "<path stroke-width=\"0.2\" stroke=\"black\" d=\"M 111 502 1044 158\"/>\n",
       "<path stroke-width=\"0.2\" stroke=\"black\" d=\"M 111 502 372 608\"/>\n",
       "<path stroke-width=\"0.2\" stroke=\"black\" d=\"M 111 502 965 415\"/>\n",
       "<path stroke-width=\"0.2\" stroke=\"black\" d=\"M 111 502 446 243\"/>\n",
       "<path stroke-width=\"0.2\" stroke=\"black\" d=\"M 111 502 690 1044\"/>\n",
       "<path stroke-width=\"0.2\" stroke=\"black\" d=\"M 111 502 971 602\"/>\n",
       "<path stroke-width=\"0.2\" stroke=\"black\" d=\"M 1044 158 232 115\"/>\n",
       "<path stroke-width=\"0.2\" stroke=\"black\" d=\"M 232 115 674 684\"/>\n",
       "<path stroke-width=\"0.2\" stroke=\"black\" d=\"M 965 415 1044 158\"/>\n",
       "<path stroke-width=\"0.2\" stroke=\"black\" d=\"M 965 415 372 608\"/>\n",
       "<path stroke-width=\"0.2\" stroke=\"black\" d=\"M 971 602 690 1044\"/>\n",
       "<path stroke-width=\"0.2\" stroke=\"black\" d=\"M 971 602 446 243\"/>\n",
       "<path stroke-width=\"0.2\" stroke=\"black\" d=\"M 971 602 965 415\"/>\n",
       "<path stroke-width=\"0.2\" stroke=\"black\" d=\"M 971 602 372 608\"/>\n",
       "<path stroke-width=\"0.2\" stroke=\"black\" d=\"M 971 602 111 502\"/>\n",
       "<path stroke-width=\"0.2\" stroke=\"black\" d=\"M 971 602 1044 158\"/>\n",
       "<path stroke-width=\"0.2\" stroke=\"black\" d=\"M 690 1044 621 443\"/>\n",
       "<path stroke-width=\"0.2\" stroke=\"black\" d=\"M 690 1044 674 684\"/>\n",
       "<path stroke-width=\"0.2\" stroke=\"black\" d=\"M 690 1044 79 785\"/>\n",
       "<path stroke-width=\"0.2\" stroke=\"black\" d=\"M 690 1044 971 602\"/>\n",
       "<path stroke-width=\"0.2\" stroke=\"black\" d=\"M 690 1044 965 415\"/>\n",
       "<path stroke-width=\"0.2\" stroke=\"black\" d=\"M 690 1044 372 608\"/>\n",
       "<path stroke-width=\"0.2\" stroke=\"black\" d=\"M 690 1044 111 502\"/>\n",
       "<path stroke-width=\"0.2\" stroke=\"black\" d=\"M 446 243 232 115\"/>\n",
       "<path stroke-width=\"0.2\" stroke=\"black\" d=\"M 446 243 621 443\"/>\n",
       "<path stroke-width=\"0.2\" stroke=\"black\" d=\"M 446 243 674 684\"/>\n",
       "<path stroke-width=\"0.2\" stroke=\"black\" d=\"M 446 243 79 785\"/>\n",
       "<path stroke-width=\"0.2\" stroke=\"black\" d=\"M 965 415 446 243\"/>\n",
       "<path stroke-width=\"0.2\" stroke=\"black\" d=\"M 965 415 690 1044\"/>\n",
       "<path stroke-width=\"0.2\" stroke=\"black\" d=\"M 965 415 971 602\"/>\n",
       "<path stroke-width=\"0.2\" stroke=\"black\" d=\"M 965 415 20 289\"/>\n",
       "<path stroke-width=\"0.2\" stroke=\"black\" d=\"M 965 415 700 20\"/>\n",
       "<path stroke-width=\"0.2\" stroke=\"black\" d=\"M 965 415 79 785\"/>\n",
       "<path stroke-width=\"0.2\" stroke=\"black\" d=\"M 965 415 111 502\"/>\n",
       "<path stroke-width=\"0.2\" stroke=\"black\" d=\"M 965 415 674 684\"/>\n",
       "<path stroke-width=\"0.2\" stroke=\"black\" d=\"M 965 415 232 115\"/>\n",
       "<path stroke-width=\"0.2\" stroke=\"black\" d=\"M 446 243 111 502\"/>\n",
       "<path stroke-width=\"0.2\" stroke=\"black\" d=\"M 446 243 372 608\"/>\n",
       "<path stroke-width=\"0.2\" stroke=\"black\" d=\"M 446 243 965 415\"/>\n",
       "<path stroke-width=\"0.2\" stroke=\"black\" d=\"M 446 243 971 602\"/>\n",
       "<path stroke-width=\"0.2\" stroke=\"black\" d=\"M 446 243 20 289\"/>\n",
       "<path stroke-width=\"0.2\" stroke=\"black\" d=\"M 965 415 621 443\"/>\n",
       "<path stroke-width=\"0.2\" stroke=\"black\" d=\"M 232 115 621 443\"/>\n",
       "<circle cx=\"1044\" cy=\"158\" r=\"15.25\" style=\"fill:lightblue;stroke:black;stroke-width:1.0\"/>\n",
       "<circle cx=\"111\" cy=\"502\" r=\"20.0\" style=\"fill:lightblue;stroke:black;stroke-width:1.0\"/>\n",
       "<circle cx=\"372\" cy=\"608\" r=\"20.0\" style=\"fill:lightblue;stroke:black;stroke-width:1.0\"/>\n",
       "<circle cx=\"965\" cy=\"415\" r=\"20.0\" style=\"fill:lightblue;stroke:black;stroke-width:1.0\"/>\n",
       "<circle cx=\"446\" cy=\"243\" r=\"15.25\" style=\"fill:lightblue;stroke:black;stroke-width:1.0\"/>\n",
       "<circle cx=\"690\" cy=\"1044\" r=\"12.083333333333334\" style=\"fill:lightblue;stroke:black;stroke-width:1.0\"/>\n",
       "<circle cx=\"971\" cy=\"602\" r=\"20.0\" style=\"fill:lightblue;stroke:black;stroke-width:1.0\"/>\n",
       "<circle cx=\"20\" cy=\"289\" r=\"18.416666666666668\" style=\"fill:lightblue;stroke:black;stroke-width:1.0\"/>\n",
       "<circle cx=\"700\" cy=\"20\" r=\"15.25\" style=\"fill:lightblue;stroke:black;stroke-width:1.0\"/>\n",
       "<circle cx=\"79\" cy=\"785\" r=\"16.833333333333336\" style=\"fill:lightblue;stroke:black;stroke-width:1.0\"/>\n",
       "<circle cx=\"674\" cy=\"684\" r=\"20.0\" style=\"fill:lightblue;stroke:black;stroke-width:1.0\"/>\n",
       "<circle cx=\"621\" cy=\"443\" r=\"20.0\" style=\"fill:lightblue;stroke:black;stroke-width:1.0\"/>\n",
       "<circle cx=\"232\" cy=\"115\" r=\"18.416666666666668\" style=\"fill:lightblue;stroke:black;stroke-width:1.0\"/>\n",
       "<text text-anchor=\"start\" x=\"1062\" y=\"158\" font-size=\"10\">Marius</text><text text-anchor=\"start\" x=\"134\" y=\"502\" font-size=\"10\">Gavroche</text><text text-anchor=\"start\" x=\"395\" y=\"608\" font-size=\"10\">Bahorel</text><text text-anchor=\"start\" x=\"988\" y=\"415\" font-size=\"10\">Joly</text><text text-anchor=\"start\" x=\"464\" y=\"243\" font-size=\"10\">Prouvaire</text><text text-anchor=\"start\" x=\"705\" y=\"1044\" font-size=\"10\">MmeHucheloup</text><text text-anchor=\"start\" x=\"994\" y=\"602\" font-size=\"10\">Bossuet</text><text text-anchor=\"start\" x=\"41\" y=\"289\" font-size=\"10\">Combeferre</text><text text-anchor=\"start\" x=\"719\" y=\"20\" font-size=\"10\">Mabeuf</text><text text-anchor=\"start\" x=\"98\" y=\"785\" font-size=\"10\">Grantaire</text><text text-anchor=\"start\" x=\"697\" y=\"684\" font-size=\"10\">Enjolras</text><text text-anchor=\"start\" x=\"644\" y=\"443\" font-size=\"10\">Courfeyrac</text><text text-anchor=\"start\" x=\"254\" y=\"115\" font-size=\"10\">Feuilly</text></svg>"
      ],
      "text/plain": [
       "<IPython.core.display.SVG object>"
      ]
     },
     "execution_count": 11,
     "metadata": {},
     "output_type": "execute_result"
    }
   ],
   "source": [
    "check_cluster = 1 \n",
    "\n",
    "community_nodes = cluster_df[cluster_df['cluster']==check_cluster]['node'].to_list() \n",
    "\n",
    "G_comm = G_named.subgraph(community_nodes) \n",
    "\n",
    "draw_graph(G_comm, show_names=True, node_size=5) "
   ]
  },
  {
   "cell_type": "code",
   "execution_count": 12,
   "id": "7393aeb2",
   "metadata": {},
   "outputs": [
    {
     "name": "stdout",
     "output_type": "stream",
     "text": [
      "['Montparnasse' 'Claquesous' 'Brujon' 'Javert' 'Eponine' 'Gueulemer'\n",
      " 'Babet' 'Thenardier' 'MmeThenardier' 'Anzelma']\n"
     ]
    },
    {
     "data": {
      "image/svg+xml": [
       "<svg xmlns=\"http://www.w3.org/2000/svg\" width=\"1124.0\" height=\"1064.0\">\n",
       "<path stroke-width=\"0.2\" stroke=\"black\" d=\"M 868 138 904 448\"/>\n",
       "<path stroke-width=\"0.2\" stroke=\"black\" d=\"M 761 658 521 20\"/>\n",
       "<path stroke-width=\"0.2\" stroke=\"black\" d=\"M 761 658 1044 794\"/>\n",
       "<path stroke-width=\"0.2\" stroke=\"black\" d=\"M 761 658 328 462\"/>\n",
       "<path stroke-width=\"0.2\" stroke=\"black\" d=\"M 761 658 640 373\"/>\n",
       "<path stroke-width=\"0.2\" stroke=\"black\" d=\"M 761 658 505 670\"/>\n",
       "<path stroke-width=\"0.2\" stroke=\"black\" d=\"M 761 658 569 998\"/>\n",
       "<path stroke-width=\"0.2\" stroke=\"black\" d=\"M 640 373 868 138\"/>\n",
       "<path stroke-width=\"0.2\" stroke=\"black\" d=\"M 640 373 904 448\"/>\n",
       "<path stroke-width=\"0.2\" stroke=\"black\" d=\"M 640 373 521 20\"/>\n",
       "<path stroke-width=\"0.2\" stroke=\"black\" d=\"M 640 373 1044 794\"/>\n",
       "<path stroke-width=\"0.2\" stroke=\"black\" d=\"M 640 373 328 462\"/>\n",
       "<path stroke-width=\"0.2\" stroke=\"black\" d=\"M 640 373 761 658\"/>\n",
       "<path stroke-width=\"0.2\" stroke=\"black\" d=\"M 640 373 505 670\"/>\n",
       "<path stroke-width=\"0.2\" stroke=\"black\" d=\"M 640 373 569 998\"/>\n",
       "<path stroke-width=\"0.2\" stroke=\"black\" d=\"M 505 670 868 138\"/>\n",
       "<path stroke-width=\"0.2\" stroke=\"black\" d=\"M 505 670 904 448\"/>\n",
       "<path stroke-width=\"0.2\" stroke=\"black\" d=\"M 505 670 521 20\"/>\n",
       "<path stroke-width=\"0.2\" stroke=\"black\" d=\"M 20 1044 328 462\"/>\n",
       "<path stroke-width=\"0.2\" stroke=\"black\" d=\"M 569 998 20 1044\"/>\n",
       "<path stroke-width=\"0.2\" stroke=\"black\" d=\"M 569 998 505 670\"/>\n",
       "<path stroke-width=\"0.2\" stroke=\"black\" d=\"M 569 998 640 373\"/>\n",
       "<path stroke-width=\"0.2\" stroke=\"black\" d=\"M 569 998 761 658\"/>\n",
       "<path stroke-width=\"0.2\" stroke=\"black\" d=\"M 569 998 328 462\"/>\n",
       "<path stroke-width=\"0.2\" stroke=\"black\" d=\"M 761 658 904 448\"/>\n",
       "<path stroke-width=\"0.2\" stroke=\"black\" d=\"M 569 998 1044 794\"/>\n",
       "<path stroke-width=\"0.2\" stroke=\"black\" d=\"M 505 670 20 1044\"/>\n",
       "<path stroke-width=\"0.2\" stroke=\"black\" d=\"M 505 670 569 998\"/>\n",
       "<path stroke-width=\"0.2\" stroke=\"black\" d=\"M 505 670 640 373\"/>\n",
       "<path stroke-width=\"0.2\" stroke=\"black\" d=\"M 505 670 761 658\"/>\n",
       "<path stroke-width=\"0.2\" stroke=\"black\" d=\"M 505 670 328 462\"/>\n",
       "<path stroke-width=\"0.2\" stroke=\"black\" d=\"M 505 670 1044 794\"/>\n",
       "<path stroke-width=\"0.2\" stroke=\"black\" d=\"M 569 998 904 448\"/>\n",
       "<path stroke-width=\"0.2\" stroke=\"black\" d=\"M 761 658 868 138\"/>\n",
       "<path stroke-width=\"0.2\" stroke=\"black\" d=\"M 328 462 20 1044\"/>\n",
       "<path stroke-width=\"0.2\" stroke=\"black\" d=\"M 328 462 569 998\"/>\n",
       "<path stroke-width=\"0.2\" stroke=\"black\" d=\"M 904 448 569 998\"/>\n",
       "<path stroke-width=\"0.2\" stroke=\"black\" d=\"M 904 448 505 670\"/>\n",
       "<path stroke-width=\"0.2\" stroke=\"black\" d=\"M 904 448 640 373\"/>\n",
       "<path stroke-width=\"0.2\" stroke=\"black\" d=\"M 904 448 761 658\"/>\n",
       "<path stroke-width=\"0.2\" stroke=\"black\" d=\"M 904 448 328 462\"/>\n",
       "<path stroke-width=\"0.2\" stroke=\"black\" d=\"M 904 448 1044 794\"/>\n",
       "<path stroke-width=\"0.2\" stroke=\"black\" d=\"M 521 20 868 138\"/>\n",
       "<path stroke-width=\"0.2\" stroke=\"black\" d=\"M 904 448 521 20\"/>\n",
       "<path stroke-width=\"0.2\" stroke=\"black\" d=\"M 868 138 505 670\"/>\n",
       "<path stroke-width=\"0.2\" stroke=\"black\" d=\"M 868 138 640 373\"/>\n",
       "<path stroke-width=\"0.2\" stroke=\"black\" d=\"M 868 138 761 658\"/>\n",
       "<path stroke-width=\"0.2\" stroke=\"black\" d=\"M 868 138 328 462\"/>\n",
       "<path stroke-width=\"0.2\" stroke=\"black\" d=\"M 868 138 1044 794\"/>\n",
       "<path stroke-width=\"0.2\" stroke=\"black\" d=\"M 868 138 521 20\"/>\n",
       "<path stroke-width=\"0.2\" stroke=\"black\" d=\"M 904 448 868 138\"/>\n",
       "<path stroke-width=\"0.2\" stroke=\"black\" d=\"M 20 1044 505 670\"/>\n",
       "<path stroke-width=\"0.2\" stroke=\"black\" d=\"M 521 20 904 448\"/>\n",
       "<path stroke-width=\"0.2\" stroke=\"black\" d=\"M 521 20 761 658\"/>\n",
       "<path stroke-width=\"0.2\" stroke=\"black\" d=\"M 328 462 505 670\"/>\n",
       "<path stroke-width=\"0.2\" stroke=\"black\" d=\"M 328 462 640 373\"/>\n",
       "<path stroke-width=\"0.2\" stroke=\"black\" d=\"M 328 462 761 658\"/>\n",
       "<path stroke-width=\"0.2\" stroke=\"black\" d=\"M 328 462 521 20\"/>\n",
       "<path stroke-width=\"0.2\" stroke=\"black\" d=\"M 328 462 904 448\"/>\n",
       "<path stroke-width=\"0.2\" stroke=\"black\" d=\"M 328 462 868 138\"/>\n",
       "<path stroke-width=\"0.2\" stroke=\"black\" d=\"M 521 20 328 462\"/>\n",
       "<path stroke-width=\"0.2\" stroke=\"black\" d=\"M 1044 794 569 998\"/>\n",
       "<path stroke-width=\"0.2\" stroke=\"black\" d=\"M 1044 794 640 373\"/>\n",
       "<path stroke-width=\"0.2\" stroke=\"black\" d=\"M 1044 794 761 658\"/>\n",
       "<path stroke-width=\"0.2\" stroke=\"black\" d=\"M 1044 794 904 448\"/>\n",
       "<path stroke-width=\"0.2\" stroke=\"black\" d=\"M 1044 794 868 138\"/>\n",
       "<path stroke-width=\"0.2\" stroke=\"black\" d=\"M 521 20 505 670\"/>\n",
       "<path stroke-width=\"0.2\" stroke=\"black\" d=\"M 521 20 640 373\"/>\n",
       "<path stroke-width=\"0.2\" stroke=\"black\" d=\"M 1044 794 505 670\"/>\n",
       "<path stroke-width=\"0.2\" stroke=\"black\" d=\"M 20 1044 569 998\"/>\n",
       "<circle cx=\"868\" cy=\"138\" r=\"15.777777777777779\" style=\"fill:lightblue;stroke:black;stroke-width:1.0\"/>\n",
       "<circle cx=\"904\" cy=\"448\" r=\"17.88888888888889\" style=\"fill:lightblue;stroke:black;stroke-width:1.0\"/>\n",
       "<circle cx=\"521\" cy=\"20\" r=\"13.666666666666666\" style=\"fill:lightblue;stroke:black;stroke-width:1.0\"/>\n",
       "<circle cx=\"1044\" cy=\"794\" r=\"13.666666666666666\" style=\"fill:lightblue;stroke:black;stroke-width:1.0\"/>\n",
       "<circle cx=\"328\" cy=\"462\" r=\"17.88888888888889\" style=\"fill:lightblue;stroke:black;stroke-width:1.0\"/>\n",
       "<circle cx=\"761\" cy=\"658\" r=\"17.88888888888889\" style=\"fill:lightblue;stroke:black;stroke-width:1.0\"/>\n",
       "<circle cx=\"640\" cy=\"373\" r=\"17.88888888888889\" style=\"fill:lightblue;stroke:black;stroke-width:1.0\"/>\n",
       "<circle cx=\"505\" cy=\"670\" r=\"20.0\" style=\"fill:lightblue;stroke:black;stroke-width:1.0\"/>\n",
       "<circle cx=\"569\" cy=\"998\" r=\"15.777777777777779\" style=\"fill:lightblue;stroke:black;stroke-width:1.0\"/>\n",
       "<circle cx=\"20\" cy=\"1044\" r=\"7.333333333333333\" style=\"fill:lightblue;stroke:black;stroke-width:1.0\"/>\n",
       "<text text-anchor=\"start\" x=\"887\" y=\"138\" font-size=\"10\">Montparnasse</text><text text-anchor=\"start\" x=\"925\" y=\"448\" font-size=\"10\">Claquesous</text><text text-anchor=\"start\" x=\"538\" y=\"20\" font-size=\"10\">Brujon</text><text text-anchor=\"start\" x=\"1060\" y=\"794\" font-size=\"10\">Javert</text><text text-anchor=\"start\" x=\"349\" y=\"462\" font-size=\"10\">Eponine</text><text text-anchor=\"start\" x=\"782\" y=\"658\" font-size=\"10\">Gueulemer</text><text text-anchor=\"start\" x=\"660\" y=\"373\" font-size=\"10\">Babet</text><text text-anchor=\"start\" x=\"528\" y=\"670\" font-size=\"10\">Thenardier</text><text text-anchor=\"start\" x=\"588\" y=\"998\" font-size=\"10\">MmeThenardier</text><text text-anchor=\"start\" x=\"30\" y=\"1044\" font-size=\"10\">Anzelma</text></svg>"
      ],
      "text/plain": [
       "<IPython.core.display.SVG object>"
      ]
     },
     "execution_count": 12,
     "metadata": {},
     "output_type": "execute_result"
    }
   ],
   "source": [
    "check_cluster = 15 \n",
    "\n",
    "community_nodes = cluster_df[cluster_df['cluster']==check_cluster]['node'].to_list() \n",
    "\n",
    "G_comm = G_named.subgraph(community_nodes) \n",
    "\n",
    "draw_graph(G_comm, show_names=True, node_size=5) "
   ]
  },
  {
   "cell_type": "code",
   "execution_count": 13,
   "id": "2a9bce07",
   "metadata": {},
   "outputs": [
    {
     "name": "stdout",
     "output_type": "stream",
     "text": [
      "['Blacheville' 'Fameuil' 'Dahlia' 'Zephine' 'Tholomyes' 'Listolier'\n",
      " 'Fantine' 'Favourite']\n"
     ]
    },
    {
     "data": {
      "image/svg+xml": [
       "<svg xmlns=\"http://www.w3.org/2000/svg\" width=\"1154.0\" height=\"1064.0\">\n",
       "<path stroke-width=\"0.2\" stroke=\"black\" d=\"M 316 20 471 1044\"/>\n",
       "<path stroke-width=\"0.2\" stroke=\"black\" d=\"M 1044 436 896 877\"/>\n",
       "<path stroke-width=\"0.2\" stroke=\"black\" d=\"M 1044 436 20 351\"/>\n",
       "<path stroke-width=\"0.2\" stroke=\"black\" d=\"M 1044 436 93 813\"/>\n",
       "<path stroke-width=\"0.2\" stroke=\"black\" d=\"M 1044 436 793 57\"/>\n",
       "<path stroke-width=\"0.2\" stroke=\"black\" d=\"M 1044 436 519 514\"/>\n",
       "<path stroke-width=\"0.2\" stroke=\"black\" d=\"M 93 813 316 20\"/>\n",
       "<path stroke-width=\"0.2\" stroke=\"black\" d=\"M 93 813 471 1044\"/>\n",
       "<path stroke-width=\"0.2\" stroke=\"black\" d=\"M 93 813 896 877\"/>\n",
       "<path stroke-width=\"0.2\" stroke=\"black\" d=\"M 93 813 20 351\"/>\n",
       "<path stroke-width=\"0.2\" stroke=\"black\" d=\"M 93 813 1044 436\"/>\n",
       "<path stroke-width=\"0.2\" stroke=\"black\" d=\"M 93 813 793 57\"/>\n",
       "<path stroke-width=\"0.2\" stroke=\"black\" d=\"M 1044 436 471 1044\"/>\n",
       "<path stroke-width=\"0.2\" stroke=\"black\" d=\"M 93 813 519 514\"/>\n",
       "<path stroke-width=\"0.2\" stroke=\"black\" d=\"M 793 57 471 1044\"/>\n",
       "<path stroke-width=\"0.2\" stroke=\"black\" d=\"M 793 57 896 877\"/>\n",
       "<path stroke-width=\"0.2\" stroke=\"black\" d=\"M 793 57 20 351\"/>\n",
       "<path stroke-width=\"0.2\" stroke=\"black\" d=\"M 793 57 1044 436\"/>\n",
       "<path stroke-width=\"0.2\" stroke=\"black\" d=\"M 793 57 93 813\"/>\n",
       "<path stroke-width=\"0.2\" stroke=\"black\" d=\"M 793 57 519 514\"/>\n",
       "<path stroke-width=\"0.2\" stroke=\"black\" d=\"M 519 514 316 20\"/>\n",
       "<path stroke-width=\"0.2\" stroke=\"black\" d=\"M 519 514 471 1044\"/>\n",
       "<path stroke-width=\"0.2\" stroke=\"black\" d=\"M 519 514 896 877\"/>\n",
       "<path stroke-width=\"0.2\" stroke=\"black\" d=\"M 519 514 20 351\"/>\n",
       "<path stroke-width=\"0.2\" stroke=\"black\" d=\"M 519 514 1044 436\"/>\n",
       "<path stroke-width=\"0.2\" stroke=\"black\" d=\"M 793 57 316 20\"/>\n",
       "<path stroke-width=\"0.2\" stroke=\"black\" d=\"M 1044 436 316 20\"/>\n",
       "<path stroke-width=\"0.2\" stroke=\"black\" d=\"M 20 351 519 514\"/>\n",
       "<path stroke-width=\"0.2\" stroke=\"black\" d=\"M 20 351 793 57\"/>\n",
       "<path stroke-width=\"0.2\" stroke=\"black\" d=\"M 316 20 896 877\"/>\n",
       "<path stroke-width=\"0.2\" stroke=\"black\" d=\"M 316 20 20 351\"/>\n",
       "<path stroke-width=\"0.2\" stroke=\"black\" d=\"M 316 20 1044 436\"/>\n",
       "<path stroke-width=\"0.2\" stroke=\"black\" d=\"M 316 20 93 813\"/>\n",
       "<path stroke-width=\"0.2\" stroke=\"black\" d=\"M 316 20 793 57\"/>\n",
       "<path stroke-width=\"0.2\" stroke=\"black\" d=\"M 316 20 519 514\"/>\n",
       "<path stroke-width=\"0.2\" stroke=\"black\" d=\"M 471 1044 316 20\"/>\n",
       "<path stroke-width=\"0.2\" stroke=\"black\" d=\"M 471 1044 896 877\"/>\n",
       "<path stroke-width=\"0.2\" stroke=\"black\" d=\"M 471 1044 20 351\"/>\n",
       "<path stroke-width=\"0.2\" stroke=\"black\" d=\"M 471 1044 1044 436\"/>\n",
       "<path stroke-width=\"0.2\" stroke=\"black\" d=\"M 471 1044 93 813\"/>\n",
       "<path stroke-width=\"0.2\" stroke=\"black\" d=\"M 471 1044 793 57\"/>\n",
       "<path stroke-width=\"0.2\" stroke=\"black\" d=\"M 471 1044 519 514\"/>\n",
       "<path stroke-width=\"0.2\" stroke=\"black\" d=\"M 896 877 316 20\"/>\n",
       "<path stroke-width=\"0.2\" stroke=\"black\" d=\"M 896 877 471 1044\"/>\n",
       "<path stroke-width=\"0.2\" stroke=\"black\" d=\"M 896 877 20 351\"/>\n",
       "<path stroke-width=\"0.2\" stroke=\"black\" d=\"M 896 877 1044 436\"/>\n",
       "<path stroke-width=\"0.2\" stroke=\"black\" d=\"M 896 877 93 813\"/>\n",
       "<path stroke-width=\"0.2\" stroke=\"black\" d=\"M 896 877 793 57\"/>\n",
       "<path stroke-width=\"0.2\" stroke=\"black\" d=\"M 896 877 519 514\"/>\n",
       "<path stroke-width=\"0.2\" stroke=\"black\" d=\"M 20 351 316 20\"/>\n",
       "<path stroke-width=\"0.2\" stroke=\"black\" d=\"M 20 351 471 1044\"/>\n",
       "<path stroke-width=\"0.2\" stroke=\"black\" d=\"M 20 351 896 877\"/>\n",
       "<path stroke-width=\"0.2\" stroke=\"black\" d=\"M 20 351 1044 436\"/>\n",
       "<path stroke-width=\"0.2\" stroke=\"black\" d=\"M 20 351 93 813\"/>\n",
       "<path stroke-width=\"0.2\" stroke=\"black\" d=\"M 519 514 93 813\"/>\n",
       "<path stroke-width=\"0.2\" stroke=\"black\" d=\"M 519 514 793 57\"/>\n",
       "<circle cx=\"316\" cy=\"20\" r=\"5.0\" style=\"fill:lightblue;stroke:black;stroke-width:1.0\"/>\n",
       "<circle cx=\"471\" cy=\"1044\" r=\"5.0\" style=\"fill:lightblue;stroke:black;stroke-width:1.0\"/>\n",
       "<circle cx=\"896\" cy=\"877\" r=\"5.0\" style=\"fill:lightblue;stroke:black;stroke-width:1.0\"/>\n",
       "<circle cx=\"20\" cy=\"351\" r=\"5.0\" style=\"fill:lightblue;stroke:black;stroke-width:1.0\"/>\n",
       "<circle cx=\"1044\" cy=\"436\" r=\"5.0\" style=\"fill:lightblue;stroke:black;stroke-width:1.0\"/>\n",
       "<circle cx=\"93\" cy=\"813\" r=\"5.0\" style=\"fill:lightblue;stroke:black;stroke-width:1.0\"/>\n",
       "<circle cx=\"793\" cy=\"57\" r=\"5.0\" style=\"fill:lightblue;stroke:black;stroke-width:1.0\"/>\n",
       "<circle cx=\"519\" cy=\"514\" r=\"5.0\" style=\"fill:lightblue;stroke:black;stroke-width:1.0\"/>\n",
       "<text text-anchor=\"start\" x=\"324\" y=\"20\" font-size=\"10\">Blacheville</text><text text-anchor=\"start\" x=\"479\" y=\"1044\" font-size=\"10\">Fameuil</text><text text-anchor=\"start\" x=\"904\" y=\"877\" font-size=\"10\">Dahlia</text><text text-anchor=\"start\" x=\"28\" y=\"351\" font-size=\"10\">Zephine</text><text text-anchor=\"start\" x=\"1052\" y=\"436\" font-size=\"10\">Tholomyes</text><text text-anchor=\"start\" x=\"101\" y=\"813\" font-size=\"10\">Listolier</text><text text-anchor=\"start\" x=\"801\" y=\"57\" font-size=\"10\">Fantine</text><text text-anchor=\"start\" x=\"527\" y=\"514\" font-size=\"10\">Favourite</text></svg>"
      ],
      "text/plain": [
       "<IPython.core.display.SVG object>"
      ]
     },
     "execution_count": 13,
     "metadata": {},
     "output_type": "execute_result"
    }
   ],
   "source": [
    "check_cluster = 7 \n",
    "\n",
    "community_nodes = cluster_df[cluster_df['cluster']==check_cluster]['node'].to_list() \n",
    "\n",
    "G_comm = G_named.subgraph(community_nodes) \n",
    "\n",
    "draw_graph(G_comm, show_names=True, node_size=5) "
   ]
  },
  {
   "cell_type": "markdown",
   "id": "45c95128",
   "metadata": {},
   "source": [
    "## EgoNetSplitter"
   ]
  },
  {
   "cell_type": "code",
   "execution_count": 14,
   "id": "65570adb",
   "metadata": {},
   "outputs": [],
   "source": [
    "from karateclub.community_detection.overlapping.ego_splitter import EgoNetSplitter \n",
    "\n",
    "model = EgoNetSplitter()  \n",
    "\n",
    "model.fit(G) \n",
    "\n",
    "clusters = model.get_memberships() \n",
    "clusters = np.array(list(clusters.values())) \n",
    "clusters = [i[0] for i in clusters] # needed because put clusters into an array of arrays "
   ]
  },
  {
   "cell_type": "code",
   "execution_count": 15,
   "id": "0d4450fd",
   "metadata": {},
   "outputs": [],
   "source": [
    "cluster_df = pd.DataFrame({'node':nodes, 'cluster':clusters}) "
   ]
  },
  {
   "cell_type": "code",
   "execution_count": 16,
   "id": "f68c5fda",
   "metadata": {},
   "outputs": [
    {
     "data": {
      "image/png": "[encoded data removed]",
      "text/plain": [
       "<Figure size 640x480 with 1 Axes>"
      ]
     },
     "metadata": {},
     "output_type": "display_data"
    }
   ],
   "source": [
    "cluster_df['cluster'].value_counts()[0:10].plot.barh(title=title).invert_yaxis() "
   ]
  },
  {
   "cell_type": "code",
   "execution_count": 17,
   "id": "2cea6567",
   "metadata": {},
   "outputs": [
    {
     "name": "stdout",
     "output_type": "stream",
     "text": [
      "['Labarre' 'Marguerite' 'Chenildieu' 'Valjean' 'Judge' 'MmeDeR' 'Gervais'\n",
      " 'Brevet' 'Bamatabois' 'Cochepaille' 'Champmathieu' 'Scaufflaire' 'Woman1'\n",
      " 'Isabeau']\n"
     ]
    },
    {
     "data": {
      "image/svg+xml": [
       "<svg xmlns=\"http://www.w3.org/2000/svg\" width=\"1174.0\" height=\"1064.0\">\n",
       "<path stroke-width=\"0.2\" stroke=\"black\" d=\"M 112 154 489 577\"/>\n",
       "<path stroke-width=\"0.2\" stroke=\"black\" d=\"M 80 660 489 577\"/>\n",
       "<path stroke-width=\"0.2\" stroke=\"black\" d=\"M 80 660 327 854\"/>\n",
       "<path stroke-width=\"0.2\" stroke=\"black\" d=\"M 80 660 228 714\"/>\n",
       "<path stroke-width=\"0.2\" stroke=\"black\" d=\"M 80 660 248 987\"/>\n",
       "<path stroke-width=\"0.2\" stroke=\"black\" d=\"M 80 660 98 942\"/>\n",
       "<path stroke-width=\"0.2\" stroke=\"black\" d=\"M 228 714 20 807\"/>\n",
       "<path stroke-width=\"0.2\" stroke=\"black\" d=\"M 228 714 489 577\"/>\n",
       "<path stroke-width=\"0.2\" stroke=\"black\" d=\"M 228 714 327 854\"/>\n",
       "<path stroke-width=\"0.2\" stroke=\"black\" d=\"M 228 714 80 660\"/>\n",
       "<path stroke-width=\"0.2\" stroke=\"black\" d=\"M 228 714 248 987\"/>\n",
       "<path stroke-width=\"0.2\" stroke=\"black\" d=\"M 228 714 98 942\"/>\n",
       "<path stroke-width=\"0.2\" stroke=\"black\" d=\"M 80 660 20 807\"/>\n",
       "<path stroke-width=\"0.2\" stroke=\"black\" d=\"M 248 987 20 807\"/>\n",
       "<path stroke-width=\"0.2\" stroke=\"black\" d=\"M 248 987 327 854\"/>\n",
       "<path stroke-width=\"0.2\" stroke=\"black\" d=\"M 248 987 80 660\"/>\n",
       "<path stroke-width=\"0.2\" stroke=\"black\" d=\"M 248 987 228 714\"/>\n",
       "<path stroke-width=\"0.2\" stroke=\"black\" d=\"M 248 987 98 942\"/>\n",
       "<path stroke-width=\"0.2\" stroke=\"black\" d=\"M 98 942 20 807\"/>\n",
       "<path stroke-width=\"0.2\" stroke=\"black\" d=\"M 98 942 489 577\"/>\n",
       "<path stroke-width=\"0.2\" stroke=\"black\" d=\"M 98 942 327 854\"/>\n",
       "<path stroke-width=\"0.2\" stroke=\"black\" d=\"M 98 942 80 660\"/>\n",
       "<path stroke-width=\"0.2\" stroke=\"black\" d=\"M 98 942 228 714\"/>\n",
       "<path stroke-width=\"0.2\" stroke=\"black\" d=\"M 98 942 248 987\"/>\n",
       "<path stroke-width=\"0.2\" stroke=\"black\" d=\"M 1044 494 489 577\"/>\n",
       "<path stroke-width=\"0.2\" stroke=\"black\" d=\"M 248 987 489 577\"/>\n",
       "<path stroke-width=\"0.2\" stroke=\"black\" d=\"M 696 49 489 577\"/>\n",
       "<path stroke-width=\"0.2\" stroke=\"black\" d=\"M 799 1044 489 577\"/>\n",
       "<path stroke-width=\"0.2\" stroke=\"black\" d=\"M 327 854 98 942\"/>\n",
       "<path stroke-width=\"0.2\" stroke=\"black\" d=\"M 927 226 489 577\"/>\n",
       "<path stroke-width=\"0.2\" stroke=\"black\" d=\"M 20 807 489 577\"/>\n",
       "<path stroke-width=\"0.2\" stroke=\"black\" d=\"M 20 807 327 854\"/>\n",
       "<path stroke-width=\"0.2\" stroke=\"black\" d=\"M 20 807 80 660\"/>\n",
       "<path stroke-width=\"0.2\" stroke=\"black\" d=\"M 20 807 228 714\"/>\n",
       "<path stroke-width=\"0.2\" stroke=\"black\" d=\"M 20 807 248 987\"/>\n",
       "<path stroke-width=\"0.2\" stroke=\"black\" d=\"M 20 807 98 942\"/>\n",
       "<path stroke-width=\"0.2\" stroke=\"black\" d=\"M 489 577 112 154\"/>\n",
       "<path stroke-width=\"0.2\" stroke=\"black\" d=\"M 489 577 927 226\"/>\n",
       "<path stroke-width=\"0.2\" stroke=\"black\" d=\"M 489 577 20 807\"/>\n",
       "<path stroke-width=\"0.2\" stroke=\"black\" d=\"M 489 577 327 854\"/>\n",
       "<path stroke-width=\"0.2\" stroke=\"black\" d=\"M 489 577 799 1044\"/>\n",
       "<path stroke-width=\"0.2\" stroke=\"black\" d=\"M 489 577 696 49\"/>\n",
       "<path stroke-width=\"0.2\" stroke=\"black\" d=\"M 489 577 80 660\"/>\n",
       "<path stroke-width=\"0.2\" stroke=\"black\" d=\"M 489 577 228 714\"/>\n",
       "<path stroke-width=\"0.2\" stroke=\"black\" d=\"M 489 577 248 987\"/>\n",
       "<path stroke-width=\"0.2\" stroke=\"black\" d=\"M 489 577 98 942\"/>\n",
       "<path stroke-width=\"0.2\" stroke=\"black\" d=\"M 489 577 1044 494\"/>\n",
       "<path stroke-width=\"0.2\" stroke=\"black\" d=\"M 489 577 401 20\"/>\n",
       "<path stroke-width=\"0.2\" stroke=\"black\" d=\"M 489 577 993 791\"/>\n",
       "<path stroke-width=\"0.2\" stroke=\"black\" d=\"M 327 854 20 807\"/>\n",
       "<path stroke-width=\"0.2\" stroke=\"black\" d=\"M 327 854 489 577\"/>\n",
       "<path stroke-width=\"0.2\" stroke=\"black\" d=\"M 327 854 80 660\"/>\n",
       "<path stroke-width=\"0.2\" stroke=\"black\" d=\"M 327 854 228 714\"/>\n",
       "<path stroke-width=\"0.2\" stroke=\"black\" d=\"M 327 854 248 987\"/>\n",
       "<path stroke-width=\"0.2\" stroke=\"black\" d=\"M 401 20 489 577\"/>\n",
       "<path stroke-width=\"0.2\" stroke=\"black\" d=\"M 993 791 489 577\"/>\n",
       "<circle cx=\"112\" cy=\"154\" r=\"2.4615384615384617\" style=\"fill:lightblue;stroke:black;stroke-width:1.0\"/>\n",
       "<circle cx=\"927\" cy=\"226\" r=\"2.4615384615384617\" style=\"fill:lightblue;stroke:black;stroke-width:1.0\"/>\n",
       "<circle cx=\"20\" cy=\"807\" r=\"9.76923076923077\" style=\"fill:lightblue;stroke:black;stroke-width:1.0\"/>\n",
       "<circle cx=\"489\" cy=\"577\" r=\"20.0\" style=\"fill:lightblue;stroke:black;stroke-width:1.0\"/>\n",
       "<circle cx=\"327\" cy=\"854\" r=\"9.76923076923077\" style=\"fill:lightblue;stroke:black;stroke-width:1.0\"/>\n",
       "<circle cx=\"799\" cy=\"1044\" r=\"2.4615384615384617\" style=\"fill:lightblue;stroke:black;stroke-width:1.0\"/>\n",
       "<circle cx=\"696\" cy=\"49\" r=\"2.4615384615384617\" style=\"fill:lightblue;stroke:black;stroke-width:1.0\"/>\n",
       "<circle cx=\"80\" cy=\"660\" r=\"9.76923076923077\" style=\"fill:lightblue;stroke:black;stroke-width:1.0\"/>\n",
       "<circle cx=\"228\" cy=\"714\" r=\"9.76923076923077\" style=\"fill:lightblue;stroke:black;stroke-width:1.0\"/>\n",
       "<circle cx=\"248\" cy=\"987\" r=\"9.76923076923077\" style=\"fill:lightblue;stroke:black;stroke-width:1.0\"/>\n",
       "<circle cx=\"98\" cy=\"942\" r=\"9.76923076923077\" style=\"fill:lightblue;stroke:black;stroke-width:1.0\"/>\n",
       "<circle cx=\"1044\" cy=\"494\" r=\"2.4615384615384617\" style=\"fill:lightblue;stroke:black;stroke-width:1.0\"/>\n",
       "<circle cx=\"401\" cy=\"20\" r=\"2.4615384615384617\" style=\"fill:lightblue;stroke:black;stroke-width:1.0\"/>\n",
       "<circle cx=\"993\" cy=\"791\" r=\"2.4615384615384617\" style=\"fill:lightblue;stroke:black;stroke-width:1.0\"/>\n",
       "<text text-anchor=\"start\" x=\"117\" y=\"154\" font-size=\"10\">Labarre</text><text text-anchor=\"start\" x=\"932\" y=\"226\" font-size=\"10\">Marguerite</text><text text-anchor=\"start\" x=\"32\" y=\"807\" font-size=\"10\">Chenildieu</text><text text-anchor=\"start\" x=\"512\" y=\"577\" font-size=\"10\">Valjean</text><text text-anchor=\"start\" x=\"340\" y=\"854\" font-size=\"10\">Judge</text><text text-anchor=\"start\" x=\"805\" y=\"1044\" font-size=\"10\">MmeDeR</text><text text-anchor=\"start\" x=\"701\" y=\"49\" font-size=\"10\">Gervais</text><text text-anchor=\"start\" x=\"93\" y=\"660\" font-size=\"10\">Brevet</text><text text-anchor=\"start\" x=\"241\" y=\"714\" font-size=\"10\">Bamatabois</text><text text-anchor=\"start\" x=\"261\" y=\"987\" font-size=\"10\">Cochepaille</text><text text-anchor=\"start\" x=\"111\" y=\"942\" font-size=\"10\">Champmathieu</text><text text-anchor=\"start\" x=\"1049\" y=\"494\" font-size=\"10\">Scaufflaire</text><text text-anchor=\"start\" x=\"406\" y=\"20\" font-size=\"10\">Woman1</text><text text-anchor=\"start\" x=\"999\" y=\"791\" font-size=\"10\">Isabeau</text></svg>"
      ],
      "text/plain": [
       "<IPython.core.display.SVG object>"
      ]
     },
     "execution_count": 17,
     "metadata": {},
     "output_type": "execute_result"
    }
   ],
   "source": [
    "check_cluster = 7 \n",
    "\n",
    "community_nodes = cluster_df[cluster_df['cluster']==check_cluster]['node'].to_list() \n",
    "\n",
    "G_comm = G_named.subgraph(community_nodes) \n",
    "\n",
    "draw_graph(G_comm, show_names=True, node_size=5) "
   ]
  },
  {
   "cell_type": "code",
   "execution_count": 18,
   "id": "9778f7bc",
   "metadata": {},
   "outputs": [
    {
     "name": "stdout",
     "output_type": "stream",
     "text": [
      "['Marius' 'Gavroche' 'MotherPlutarch' 'Bahorel' 'Joly' 'Prouvaire'\n",
      " 'MmeHucheloup' 'Bossuet' 'Combeferre' 'Mabeuf' 'Grantaire' 'Enjolras'\n",
      " 'Courfeyrac' 'Feuilly']\n"
     ]
    },
    {
     "data": {
      "image/svg+xml": [
       "<svg xmlns=\"http://www.w3.org/2000/svg\" width=\"1184.0\" height=\"1064.0\">\n",
       "<path stroke-width=\"0.2\" stroke=\"black\" d=\"M 309 360 752 449\"/>\n",
       "<path stroke-width=\"0.2\" stroke=\"black\" d=\"M 747 20 546 107\"/>\n",
       "<path stroke-width=\"0.2\" stroke=\"black\" d=\"M 747 20 398 182\"/>\n",
       "<path stroke-width=\"0.2\" stroke=\"black\" d=\"M 747 20 562 256\"/>\n",
       "<path stroke-width=\"0.2\" stroke=\"black\" d=\"M 747 20 1044 214\"/>\n",
       "<path stroke-width=\"0.2\" stroke=\"black\" d=\"M 747 20 870 117\"/>\n",
       "<path stroke-width=\"0.2\" stroke=\"black\" d=\"M 747 20 808 314\"/>\n",
       "<path stroke-width=\"0.2\" stroke=\"black\" d=\"M 747 20 682 186\"/>\n",
       "<path stroke-width=\"0.2\" stroke=\"black\" d=\"M 747 20 752 449\"/>\n",
       "<path stroke-width=\"0.2\" stroke=\"black\" d=\"M 404 559 510 391\"/>\n",
       "<path stroke-width=\"0.2\" stroke=\"black\" d=\"M 404 559 676 362\"/>\n",
       "<path stroke-width=\"0.2\" stroke=\"black\" d=\"M 404 559 546 107\"/>\n",
       "<path stroke-width=\"0.2\" stroke=\"black\" d=\"M 404 559 398 182\"/>\n",
       "<path stroke-width=\"0.2\" stroke=\"black\" d=\"M 404 559 562 256\"/>\n",
       "<path stroke-width=\"0.2\" stroke=\"black\" d=\"M 404 559 808 314\"/>\n",
       "<path stroke-width=\"0.2\" stroke=\"black\" d=\"M 404 559 682 186\"/>\n",
       "<path stroke-width=\"0.2\" stroke=\"black\" d=\"M 404 559 20 1044\"/>\n",
       "<path stroke-width=\"0.2\" stroke=\"black\" d=\"M 404 559 752 449\"/>\n",
       "<path stroke-width=\"0.2\" stroke=\"black\" d=\"M 562 256 676 362\"/>\n",
       "<path stroke-width=\"0.2\" stroke=\"black\" d=\"M 562 256 510 391\"/>\n",
       "<path stroke-width=\"0.2\" stroke=\"black\" d=\"M 398 182 309 360\"/>\n",
       "<path stroke-width=\"0.2\" stroke=\"black\" d=\"M 398 182 752 449\"/>\n",
       "<path stroke-width=\"0.2\" stroke=\"black\" d=\"M 398 182 682 186\"/>\n",
       "<path stroke-width=\"0.2\" stroke=\"black\" d=\"M 398 182 808 314\"/>\n",
       "<path stroke-width=\"0.2\" stroke=\"black\" d=\"M 747 20 676 362\"/>\n",
       "<path stroke-width=\"0.2\" stroke=\"black\" d=\"M 398 182 870 117\"/>\n",
       "<path stroke-width=\"0.2\" stroke=\"black\" d=\"M 398 182 404 559\"/>\n",
       "<path stroke-width=\"0.2\" stroke=\"black\" d=\"M 398 182 747 20\"/>\n",
       "<path stroke-width=\"0.2\" stroke=\"black\" d=\"M 398 182 546 107\"/>\n",
       "<path stroke-width=\"0.2\" stroke=\"black\" d=\"M 398 182 676 362\"/>\n",
       "<path stroke-width=\"0.2\" stroke=\"black\" d=\"M 398 182 510 391\"/>\n",
       "<path stroke-width=\"0.2\" stroke=\"black\" d=\"M 404 559 309 360\"/>\n",
       "<path stroke-width=\"0.2\" stroke=\"black\" d=\"M 398 182 562 256\"/>\n",
       "<path stroke-width=\"0.2\" stroke=\"black\" d=\"M 562 256 546 107\"/>\n",
       "<path stroke-width=\"0.2\" stroke=\"black\" d=\"M 747 20 510 391\"/>\n",
       "<path stroke-width=\"0.2\" stroke=\"black\" d=\"M 546 107 752 449\"/>\n",
       "<path stroke-width=\"0.2\" stroke=\"black\" d=\"M 510 391 747 20\"/>\n",
       "<path stroke-width=\"0.2\" stroke=\"black\" d=\"M 510 391 404 559\"/>\n",
       "<path stroke-width=\"0.2\" stroke=\"black\" d=\"M 510 391 398 182\"/>\n",
       "<path stroke-width=\"0.2\" stroke=\"black\" d=\"M 510 391 562 256\"/>\n",
       "<path stroke-width=\"0.2\" stroke=\"black\" d=\"M 510 391 870 117\"/>\n",
       "<path stroke-width=\"0.2\" stroke=\"black\" d=\"M 510 391 808 314\"/>\n",
       "<path stroke-width=\"0.2\" stroke=\"black\" d=\"M 510 391 682 186\"/>\n",
       "<path stroke-width=\"0.2\" stroke=\"black\" d=\"M 510 391 752 449\"/>\n",
       "<path stroke-width=\"0.2\" stroke=\"black\" d=\"M 510 391 309 360\"/>\n",
       "<path stroke-width=\"0.2\" stroke=\"black\" d=\"M 676 362 510 391\"/>\n",
       "<path stroke-width=\"0.2\" stroke=\"black\" d=\"M 676 362 546 107\"/>\n",
       "<path stroke-width=\"0.2\" stroke=\"black\" d=\"M 676 362 747 20\"/>\n",
       "<path stroke-width=\"0.2\" stroke=\"black\" d=\"M 676 362 404 559\"/>\n",
       "<path stroke-width=\"0.2\" stroke=\"black\" d=\"M 676 362 398 182\"/>\n",
       "<path stroke-width=\"0.2\" stroke=\"black\" d=\"M 676 362 562 256\"/>\n",
       "<path stroke-width=\"0.2\" stroke=\"black\" d=\"M 676 362 1044 214\"/>\n",
       "<path stroke-width=\"0.2\" stroke=\"black\" d=\"M 676 362 870 117\"/>\n",
       "<path stroke-width=\"0.2\" stroke=\"black\" d=\"M 546 107 682 186\"/>\n",
       "<path stroke-width=\"0.2\" stroke=\"black\" d=\"M 546 107 808 314\"/>\n",
       "<path stroke-width=\"0.2\" stroke=\"black\" d=\"M 546 107 870 117\"/>\n",
       "<path stroke-width=\"0.2\" stroke=\"black\" d=\"M 546 107 1044 214\"/>\n",
       "<path stroke-width=\"0.2\" stroke=\"black\" d=\"M 546 107 562 256\"/>\n",
       "<path stroke-width=\"0.2\" stroke=\"black\" d=\"M 546 107 398 182\"/>\n",
       "<path stroke-width=\"0.2\" stroke=\"black\" d=\"M 546 107 309 360\"/>\n",
       "<path stroke-width=\"0.2\" stroke=\"black\" d=\"M 546 107 404 559\"/>\n",
       "<path stroke-width=\"0.2\" stroke=\"black\" d=\"M 546 107 676 362\"/>\n",
       "<path stroke-width=\"0.2\" stroke=\"black\" d=\"M 546 107 510 391\"/>\n",
       "<path stroke-width=\"0.2\" stroke=\"black\" d=\"M 676 362 309 360\"/>\n",
       "<path stroke-width=\"0.2\" stroke=\"black\" d=\"M 676 362 752 449\"/>\n",
       "<path stroke-width=\"0.2\" stroke=\"black\" d=\"M 676 362 682 186\"/>\n",
       "<path stroke-width=\"0.2\" stroke=\"black\" d=\"M 676 362 808 314\"/>\n",
       "<path stroke-width=\"0.2\" stroke=\"black\" d=\"M 546 107 747 20\"/>\n",
       "<path stroke-width=\"0.2\" stroke=\"black\" d=\"M 562 256 747 20\"/>\n",
       "<path stroke-width=\"0.2\" stroke=\"black\" d=\"M 562 256 404 559\"/>\n",
       "<path stroke-width=\"0.2\" stroke=\"black\" d=\"M 562 256 398 182\"/>\n",
       "<path stroke-width=\"0.2\" stroke=\"black\" d=\"M 682 186 546 107\"/>\n",
       "<path stroke-width=\"0.2\" stroke=\"black\" d=\"M 682 186 747 20\"/>\n",
       "<path stroke-width=\"0.2\" stroke=\"black\" d=\"M 682 186 404 559\"/>\n",
       "<path stroke-width=\"0.2\" stroke=\"black\" d=\"M 682 186 398 182\"/>\n",
       "<path stroke-width=\"0.2\" stroke=\"black\" d=\"M 682 186 562 256\"/>\n",
       "<path stroke-width=\"0.2\" stroke=\"black\" d=\"M 682 186 1044 214\"/>\n",
       "<path stroke-width=\"0.2\" stroke=\"black\" d=\"M 682 186 870 117\"/>\n",
       "<path stroke-width=\"0.2\" stroke=\"black\" d=\"M 682 186 808 314\"/>\n",
       "<path stroke-width=\"0.2\" stroke=\"black\" d=\"M 682 186 752 449\"/>\n",
       "<path stroke-width=\"0.2\" stroke=\"black\" d=\"M 682 186 309 360\"/>\n",
       "<path stroke-width=\"0.2\" stroke=\"black\" d=\"M 20 1044 404 559\"/>\n",
       "<path stroke-width=\"0.2\" stroke=\"black\" d=\"M 752 449 510 391\"/>\n",
       "<path stroke-width=\"0.2\" stroke=\"black\" d=\"M 752 449 676 362\"/>\n",
       "<path stroke-width=\"0.2\" stroke=\"black\" d=\"M 752 449 546 107\"/>\n",
       "<path stroke-width=\"0.2\" stroke=\"black\" d=\"M 752 449 747 20\"/>\n",
       "<path stroke-width=\"0.2\" stroke=\"black\" d=\"M 752 449 404 559\"/>\n",
       "<path stroke-width=\"0.2\" stroke=\"black\" d=\"M 752 449 398 182\"/>\n",
       "<path stroke-width=\"0.2\" stroke=\"black\" d=\"M 309 360 682 186\"/>\n",
       "<path stroke-width=\"0.2\" stroke=\"black\" d=\"M 309 360 808 314\"/>\n",
       "<path stroke-width=\"0.2\" stroke=\"black\" d=\"M 309 360 562 256\"/>\n",
       "<path stroke-width=\"0.2\" stroke=\"black\" d=\"M 309 360 398 182\"/>\n",
       "<path stroke-width=\"0.2\" stroke=\"black\" d=\"M 309 360 404 559\"/>\n",
       "<path stroke-width=\"0.2\" stroke=\"black\" d=\"M 309 360 546 107\"/>\n",
       "<path stroke-width=\"0.2\" stroke=\"black\" d=\"M 682 186 676 362\"/>\n",
       "<path stroke-width=\"0.2\" stroke=\"black\" d=\"M 309 360 676 362\"/>\n",
       "<path stroke-width=\"0.2\" stroke=\"black\" d=\"M 752 449 309 360\"/>\n",
       "<path stroke-width=\"0.2\" stroke=\"black\" d=\"M 752 449 682 186\"/>\n",
       "<path stroke-width=\"0.2\" stroke=\"black\" d=\"M 752 449 808 314\"/>\n",
       "<path stroke-width=\"0.2\" stroke=\"black\" d=\"M 752 449 870 117\"/>\n",
       "<path stroke-width=\"0.2\" stroke=\"black\" d=\"M 752 449 1044 214\"/>\n",
       "<path stroke-width=\"0.2\" stroke=\"black\" d=\"M 752 449 562 256\"/>\n",
       "<path stroke-width=\"0.2\" stroke=\"black\" d=\"M 309 360 510 391\"/>\n",
       "<path stroke-width=\"0.2\" stroke=\"black\" d=\"M 682 186 510 391\"/>\n",
       "<path stroke-width=\"0.2\" stroke=\"black\" d=\"M 808 314 309 360\"/>\n",
       "<path stroke-width=\"0.2\" stroke=\"black\" d=\"M 808 314 752 449\"/>\n",
       "<path stroke-width=\"0.2\" stroke=\"black\" d=\"M 870 117 510 391\"/>\n",
       "<path stroke-width=\"0.2\" stroke=\"black\" d=\"M 1044 214 752 449\"/>\n",
       "<path stroke-width=\"0.2\" stroke=\"black\" d=\"M 1044 214 682 186\"/>\n",
       "<path stroke-width=\"0.2\" stroke=\"black\" d=\"M 1044 214 808 314\"/>\n",
       "<path stroke-width=\"0.2\" stroke=\"black\" d=\"M 1044 214 562 256\"/>\n",
       "<path stroke-width=\"0.2\" stroke=\"black\" d=\"M 1044 214 747 20\"/>\n",
       "<path stroke-width=\"0.2\" stroke=\"black\" d=\"M 870 117 676 362\"/>\n",
       "<path stroke-width=\"0.2\" stroke=\"black\" d=\"M 1044 214 546 107\"/>\n",
       "<path stroke-width=\"0.2\" stroke=\"black\" d=\"M 562 256 309 360\"/>\n",
       "<path stroke-width=\"0.2\" stroke=\"black\" d=\"M 562 256 752 449\"/>\n",
       "<path stroke-width=\"0.2\" stroke=\"black\" d=\"M 562 256 682 186\"/>\n",
       "<path stroke-width=\"0.2\" stroke=\"black\" d=\"M 562 256 808 314\"/>\n",
       "<path stroke-width=\"0.2\" stroke=\"black\" d=\"M 562 256 870 117\"/>\n",
       "<path stroke-width=\"0.2\" stroke=\"black\" d=\"M 562 256 1044 214\"/>\n",
       "<path stroke-width=\"0.2\" stroke=\"black\" d=\"M 1044 214 676 362\"/>\n",
       "<path stroke-width=\"0.2\" stroke=\"black\" d=\"M 510 391 546 107\"/>\n",
       "<path stroke-width=\"0.2\" stroke=\"black\" d=\"M 870 117 546 107\"/>\n",
       "<path stroke-width=\"0.2\" stroke=\"black\" d=\"M 870 117 398 182\"/>\n",
       "<path stroke-width=\"0.2\" stroke=\"black\" d=\"M 808 314 682 186\"/>\n",
       "<path stroke-width=\"0.2\" stroke=\"black\" d=\"M 808 314 870 117\"/>\n",
       "<path stroke-width=\"0.2\" stroke=\"black\" d=\"M 808 314 1044 214\"/>\n",
       "<path stroke-width=\"0.2\" stroke=\"black\" d=\"M 808 314 562 256\"/>\n",
       "<path stroke-width=\"0.2\" stroke=\"black\" d=\"M 808 314 398 182\"/>\n",
       "<path stroke-width=\"0.2\" stroke=\"black\" d=\"M 808 314 404 559\"/>\n",
       "<path stroke-width=\"0.2\" stroke=\"black\" d=\"M 870 117 747 20\"/>\n",
       "<path stroke-width=\"0.2\" stroke=\"black\" d=\"M 808 314 747 20\"/>\n",
       "<path stroke-width=\"0.2\" stroke=\"black\" d=\"M 808 314 676 362\"/>\n",
       "<path stroke-width=\"0.2\" stroke=\"black\" d=\"M 808 314 510 391\"/>\n",
       "<path stroke-width=\"0.2\" stroke=\"black\" d=\"M 870 117 752 449\"/>\n",
       "<path stroke-width=\"0.2\" stroke=\"black\" d=\"M 870 117 682 186\"/>\n",
       "<path stroke-width=\"0.2\" stroke=\"black\" d=\"M 870 117 808 314\"/>\n",
       "<path stroke-width=\"0.2\" stroke=\"black\" d=\"M 870 117 562 256\"/>\n",
       "<path stroke-width=\"0.2\" stroke=\"black\" d=\"M 808 314 546 107\"/>\n",
       "<path stroke-width=\"0.2\" stroke=\"black\" d=\"M 510 391 676 362\"/>\n",
       "<circle cx=\"309\" cy=\"360\" r=\"15.25\" style=\"fill:lightblue;stroke:black;stroke-width:1.0\"/>\n",
       "<circle cx=\"752\" cy=\"449\" r=\"20.0\" style=\"fill:lightblue;stroke:black;stroke-width:1.0\"/>\n",
       "<circle cx=\"20\" cy=\"1044\" r=\"2.583333333333333\" style=\"fill:lightblue;stroke:black;stroke-width:1.0\"/>\n",
       "<circle cx=\"682\" cy=\"186\" r=\"20.0\" style=\"fill:lightblue;stroke:black;stroke-width:1.0\"/>\n",
       "<circle cx=\"808\" cy=\"314\" r=\"20.0\" style=\"fill:lightblue;stroke:black;stroke-width:1.0\"/>\n",
       "<circle cx=\"870\" cy=\"117\" r=\"15.25\" style=\"fill:lightblue;stroke:black;stroke-width:1.0\"/>\n",
       "<circle cx=\"1044\" cy=\"214\" r=\"12.083333333333334\" style=\"fill:lightblue;stroke:black;stroke-width:1.0\"/>\n",
       "<circle cx=\"562\" cy=\"256\" r=\"20.0\" style=\"fill:lightblue;stroke:black;stroke-width:1.0\"/>\n",
       "<circle cx=\"398\" cy=\"182\" r=\"18.416666666666668\" style=\"fill:lightblue;stroke:black;stroke-width:1.0\"/>\n",
       "<circle cx=\"404\" cy=\"559\" r=\"16.833333333333336\" style=\"fill:lightblue;stroke:black;stroke-width:1.0\"/>\n",
       "<circle cx=\"747\" cy=\"20\" r=\"16.833333333333336\" style=\"fill:lightblue;stroke:black;stroke-width:1.0\"/>\n",
       "<circle cx=\"546\" cy=\"107\" r=\"20.0\" style=\"fill:lightblue;stroke:black;stroke-width:1.0\"/>\n",
       "<circle cx=\"676\" cy=\"362\" r=\"20.0\" style=\"fill:lightblue;stroke:black;stroke-width:1.0\"/>\n",
       "<circle cx=\"510\" cy=\"391\" r=\"18.416666666666668\" style=\"fill:lightblue;stroke:black;stroke-width:1.0\"/>\n",
       "<text text-anchor=\"start\" x=\"327\" y=\"360\" font-size=\"10\">Marius</text><text text-anchor=\"start\" x=\"775\" y=\"449\" font-size=\"10\">Gavroche</text><text text-anchor=\"start\" x=\"25\" y=\"1044\" font-size=\"10\">MotherPlutarch</text><text text-anchor=\"start\" x=\"705\" y=\"186\" font-size=\"10\">Bahorel</text><text text-anchor=\"start\" x=\"831\" y=\"314\" font-size=\"10\">Joly</text><text text-anchor=\"start\" x=\"888\" y=\"117\" font-size=\"10\">Prouvaire</text><text text-anchor=\"start\" x=\"1059\" y=\"214\" font-size=\"10\">MmeHucheloup</text><text text-anchor=\"start\" x=\"585\" y=\"256\" font-size=\"10\">Bossuet</text><text text-anchor=\"start\" x=\"419\" y=\"182\" font-size=\"10\">Combeferre</text><text text-anchor=\"start\" x=\"424\" y=\"559\" font-size=\"10\">Mabeuf</text><text text-anchor=\"start\" x=\"767\" y=\"20\" font-size=\"10\">Grantaire</text><text text-anchor=\"start\" x=\"569\" y=\"107\" font-size=\"10\">Enjolras</text><text text-anchor=\"start\" x=\"699\" y=\"362\" font-size=\"10\">Courfeyrac</text><text text-anchor=\"start\" x=\"531\" y=\"391\" font-size=\"10\">Feuilly</text></svg>"
      ],
      "text/plain": [
       "<IPython.core.display.SVG object>"
      ]
     },
     "execution_count": 18,
     "metadata": {},
     "output_type": "execute_result"
    }
   ],
   "source": [
    "check_cluster = 1 \n",
    "\n",
    "community_nodes = cluster_df[cluster_df['cluster']==check_cluster]['node'].to_list() \n",
    "\n",
    "G_comm = G_named.subgraph(community_nodes) \n",
    "\n",
    "draw_graph(G_comm, show_names=True, node_size=5) "
   ]
  },
  {
   "cell_type": "code",
   "execution_count": 19,
   "id": "7d6835cf",
   "metadata": {},
   "outputs": [
    {
     "name": "stdout",
     "output_type": "stream",
     "text": [
      "['Montparnasse' 'Claquesous' 'Brujon' 'Javert' 'Eponine' 'Boulatruelle'\n",
      " 'Gueulemer' 'Babet' 'Thenardier' 'MmeThenardier' 'Anzelma']\n"
     ]
    },
    {
     "data": {
      "image/svg+xml": [
       "<svg xmlns=\"http://www.w3.org/2000/svg\" width=\"1124.0\" height=\"1064.0\">\n",
       "<path stroke-width=\"0.2\" stroke=\"black\" d=\"M 957 908 793 699\"/>\n",
       "<path stroke-width=\"0.2\" stroke=\"black\" d=\"M 975 619 729 99\"/>\n",
       "<path stroke-width=\"0.2\" stroke=\"black\" d=\"M 975 619 557 648\"/>\n",
       "<path stroke-width=\"0.2\" stroke=\"black\" d=\"M 975 619 852 430\"/>\n",
       "<path stroke-width=\"0.2\" stroke=\"black\" d=\"M 975 619 629 437\"/>\n",
       "<path stroke-width=\"0.2\" stroke=\"black\" d=\"M 975 619 1044 315\"/>\n",
       "<path stroke-width=\"0.2\" stroke=\"black\" d=\"M 975 619 729 1044\"/>\n",
       "<path stroke-width=\"0.2\" stroke=\"black\" d=\"M 557 648 957 908\"/>\n",
       "<path stroke-width=\"0.2\" stroke=\"black\" d=\"M 975 619 793 699\"/>\n",
       "<path stroke-width=\"0.2\" stroke=\"black\" d=\"M 852 430 729 99\"/>\n",
       "<path stroke-width=\"0.2\" stroke=\"black\" d=\"M 852 430 557 648\"/>\n",
       "<path stroke-width=\"0.2\" stroke=\"black\" d=\"M 852 430 975 619\"/>\n",
       "<path stroke-width=\"0.2\" stroke=\"black\" d=\"M 852 430 629 437\"/>\n",
       "<path stroke-width=\"0.2\" stroke=\"black\" d=\"M 852 430 1044 315\"/>\n",
       "<path stroke-width=\"0.2\" stroke=\"black\" d=\"M 852 430 729 1044\"/>\n",
       "<path stroke-width=\"0.2\" stroke=\"black\" d=\"M 975 619 957 908\"/>\n",
       "<path stroke-width=\"0.2\" stroke=\"black\" d=\"M 852 430 793 699\"/>\n",
       "<path stroke-width=\"0.2\" stroke=\"black\" d=\"M 557 648 793 699\"/>\n",
       "<path stroke-width=\"0.2\" stroke=\"black\" d=\"M 557 648 1044 315\"/>\n",
       "<path stroke-width=\"0.2\" stroke=\"black\" d=\"M 355 20 629 437\"/>\n",
       "<path stroke-width=\"0.2\" stroke=\"black\" d=\"M 729 99 355 20\"/>\n",
       "<path stroke-width=\"0.2\" stroke=\"black\" d=\"M 729 99 557 648\"/>\n",
       "<path stroke-width=\"0.2\" stroke=\"black\" d=\"M 729 99 975 619\"/>\n",
       "<path stroke-width=\"0.2\" stroke=\"black\" d=\"M 729 99 852 430\"/>\n",
       "<path stroke-width=\"0.2\" stroke=\"black\" d=\"M 729 99 629 437\"/>\n",
       "<path stroke-width=\"0.2\" stroke=\"black\" d=\"M 557 648 729 1044\"/>\n",
       "<path stroke-width=\"0.2\" stroke=\"black\" d=\"M 729 99 1044 315\"/>\n",
       "<path stroke-width=\"0.2\" stroke=\"black\" d=\"M 557 648 355 20\"/>\n",
       "<path stroke-width=\"0.2\" stroke=\"black\" d=\"M 557 648 729 99\"/>\n",
       "<path stroke-width=\"0.2\" stroke=\"black\" d=\"M 557 648 975 619\"/>\n",
       "<path stroke-width=\"0.2\" stroke=\"black\" d=\"M 557 648 852 430\"/>\n",
       "<path stroke-width=\"0.2\" stroke=\"black\" d=\"M 557 648 20 1024\"/>\n",
       "<path stroke-width=\"0.2\" stroke=\"black\" d=\"M 557 648 629 437\"/>\n",
       "<path stroke-width=\"0.2\" stroke=\"black\" d=\"M 729 99 793 699\"/>\n",
       "<path stroke-width=\"0.2\" stroke=\"black\" d=\"M 852 430 957 908\"/>\n",
       "<path stroke-width=\"0.2\" stroke=\"black\" d=\"M 20 1024 557 648\"/>\n",
       "<path stroke-width=\"0.2\" stroke=\"black\" d=\"M 629 437 355 20\"/>\n",
       "<path stroke-width=\"0.2\" stroke=\"black\" d=\"M 793 699 729 99\"/>\n",
       "<path stroke-width=\"0.2\" stroke=\"black\" d=\"M 793 699 557 648\"/>\n",
       "<path stroke-width=\"0.2\" stroke=\"black\" d=\"M 793 699 975 619\"/>\n",
       "<path stroke-width=\"0.2\" stroke=\"black\" d=\"M 793 699 852 430\"/>\n",
       "<path stroke-width=\"0.2\" stroke=\"black\" d=\"M 793 699 629 437\"/>\n",
       "<path stroke-width=\"0.2\" stroke=\"black\" d=\"M 793 699 1044 315\"/>\n",
       "<path stroke-width=\"0.2\" stroke=\"black\" d=\"M 729 1044 957 908\"/>\n",
       "<path stroke-width=\"0.2\" stroke=\"black\" d=\"M 793 699 729 1044\"/>\n",
       "<path stroke-width=\"0.2\" stroke=\"black\" d=\"M 957 908 557 648\"/>\n",
       "<path stroke-width=\"0.2\" stroke=\"black\" d=\"M 957 908 975 619\"/>\n",
       "<path stroke-width=\"0.2\" stroke=\"black\" d=\"M 957 908 852 430\"/>\n",
       "<path stroke-width=\"0.2\" stroke=\"black\" d=\"M 957 908 629 437\"/>\n",
       "<path stroke-width=\"0.2\" stroke=\"black\" d=\"M 957 908 1044 315\"/>\n",
       "<path stroke-width=\"0.2\" stroke=\"black\" d=\"M 957 908 729 1044\"/>\n",
       "<path stroke-width=\"0.2\" stroke=\"black\" d=\"M 793 699 957 908\"/>\n",
       "<path stroke-width=\"0.2\" stroke=\"black\" d=\"M 729 1044 793 699\"/>\n",
       "<path stroke-width=\"0.2\" stroke=\"black\" d=\"M 729 1044 629 437\"/>\n",
       "<path stroke-width=\"0.2\" stroke=\"black\" d=\"M 729 1044 852 430\"/>\n",
       "<path stroke-width=\"0.2\" stroke=\"black\" d=\"M 629 437 729 99\"/>\n",
       "<path stroke-width=\"0.2\" stroke=\"black\" d=\"M 629 437 557 648\"/>\n",
       "<path stroke-width=\"0.2\" stroke=\"black\" d=\"M 629 437 975 619\"/>\n",
       "<path stroke-width=\"0.2\" stroke=\"black\" d=\"M 629 437 852 430\"/>\n",
       "<path stroke-width=\"0.2\" stroke=\"black\" d=\"M 629 437 729 1044\"/>\n",
       "<path stroke-width=\"0.2\" stroke=\"black\" d=\"M 629 437 793 699\"/>\n",
       "<path stroke-width=\"0.2\" stroke=\"black\" d=\"M 629 437 957 908\"/>\n",
       "<path stroke-width=\"0.2\" stroke=\"black\" d=\"M 1044 315 729 99\"/>\n",
       "<path stroke-width=\"0.2\" stroke=\"black\" d=\"M 1044 315 557 648\"/>\n",
       "<path stroke-width=\"0.2\" stroke=\"black\" d=\"M 1044 315 975 619\"/>\n",
       "<path stroke-width=\"0.2\" stroke=\"black\" d=\"M 1044 315 852 430\"/>\n",
       "<path stroke-width=\"0.2\" stroke=\"black\" d=\"M 1044 315 793 699\"/>\n",
       "<path stroke-width=\"0.2\" stroke=\"black\" d=\"M 1044 315 957 908\"/>\n",
       "<path stroke-width=\"0.2\" stroke=\"black\" d=\"M 729 1044 557 648\"/>\n",
       "<path stroke-width=\"0.2\" stroke=\"black\" d=\"M 729 1044 975 619\"/>\n",
       "<path stroke-width=\"0.2\" stroke=\"black\" d=\"M 355 20 557 648\"/>\n",
       "<path stroke-width=\"0.2\" stroke=\"black\" d=\"M 355 20 729 99\"/>\n",
       "<circle cx=\"957\" cy=\"908\" r=\"14.3\" style=\"fill:lightblue;stroke:black;stroke-width:1.0\"/>\n",
       "<circle cx=\"793\" cy=\"699\" r=\"16.2\" style=\"fill:lightblue;stroke:black;stroke-width:1.0\"/>\n",
       "<circle cx=\"729\" cy=\"1044\" r=\"12.4\" style=\"fill:lightblue;stroke:black;stroke-width:1.0\"/>\n",
       "<circle cx=\"1044\" cy=\"315\" r=\"12.4\" style=\"fill:lightblue;stroke:black;stroke-width:1.0\"/>\n",
       "<circle cx=\"629\" cy=\"437\" r=\"16.2\" style=\"fill:lightblue;stroke:black;stroke-width:1.0\"/>\n",
       "<circle cx=\"20\" cy=\"1024\" r=\"2.9\" style=\"fill:lightblue;stroke:black;stroke-width:1.0\"/>\n",
       "<circle cx=\"852\" cy=\"430\" r=\"16.2\" style=\"fill:lightblue;stroke:black;stroke-width:1.0\"/>\n",
       "<circle cx=\"975\" cy=\"619\" r=\"16.2\" style=\"fill:lightblue;stroke:black;stroke-width:1.0\"/>\n",
       "<circle cx=\"557\" cy=\"648\" r=\"20.0\" style=\"fill:lightblue;stroke:black;stroke-width:1.0\"/>\n",
       "<circle cx=\"729\" cy=\"99\" r=\"14.3\" style=\"fill:lightblue;stroke:black;stroke-width:1.0\"/>\n",
       "<circle cx=\"355\" cy=\"20\" r=\"6.7\" style=\"fill:lightblue;stroke:black;stroke-width:1.0\"/>\n",
       "<text text-anchor=\"start\" x=\"974\" y=\"908\" font-size=\"10\">Montparnasse</text><text text-anchor=\"start\" x=\"812\" y=\"699\" font-size=\"10\">Claquesous</text><text text-anchor=\"start\" x=\"745\" y=\"1044\" font-size=\"10\">Brujon</text><text text-anchor=\"start\" x=\"1059\" y=\"315\" font-size=\"10\">Javert</text><text text-anchor=\"start\" x=\"648\" y=\"437\" font-size=\"10\">Eponine</text><text text-anchor=\"start\" x=\"25\" y=\"1024\" font-size=\"10\">Boulatruelle</text><text text-anchor=\"start\" x=\"872\" y=\"430\" font-size=\"10\">Gueulemer</text><text text-anchor=\"start\" x=\"995\" y=\"619\" font-size=\"10\">Babet</text><text text-anchor=\"start\" x=\"580\" y=\"648\" font-size=\"10\">Thenardier</text><text text-anchor=\"start\" x=\"747\" y=\"99\" font-size=\"10\">MmeThenardier</text><text text-anchor=\"start\" x=\"364\" y=\"20\" font-size=\"10\">Anzelma</text></svg>"
      ],
      "text/plain": [
       "<IPython.core.display.SVG object>"
      ]
     },
     "execution_count": 19,
     "metadata": {},
     "output_type": "execute_result"
    }
   ],
   "source": [
    "check_cluster = 5 \n",
    "\n",
    "community_nodes = cluster_df[cluster_df['cluster']==check_cluster]['node'].to_list() \n",
    "\n",
    "G_comm = G_named.subgraph(community_nodes) \n",
    "\n",
    "draw_graph(G_comm, show_names=True, node_size=5) "
   ]
  },
  {
   "cell_type": "markdown",
   "id": "96b4f00c",
   "metadata": {},
   "source": [
    "# graph embeddings in action"
   ]
  },
  {
   "cell_type": "markdown",
   "id": "6a42fdd0",
   "metadata": {},
   "source": [
    "## FEATHER"
   ]
  },
  {
   "cell_type": "code",
   "execution_count": 20,
   "id": "4cc1026e",
   "metadata": {},
   "outputs": [],
   "source": [
    "def draw_clustering(embeddings, nodes, title): \n",
    "\n",
    "    import plotly.express as px \n",
    "\n",
    "    from sklearn.decomposition import PCA \n",
    "\n",
    "    embed_df = pd.DataFrame(embeddings) \n",
    "\n",
    "    # dim reduction, two features; solely for visualization \n",
    "    model = PCA(n_components=2) \n",
    "\n",
    "    X_features = model.fit_transform(embed_df) \n",
    "\n",
    "    embed_df = pd.DataFrame(X_features) \n",
    "    embed_df.index = nodes \n",
    "    embed_df.columns = ['x', 'y'] \n",
    "\n",
    "    fig = px.scatter(embed_df, x='x', y='y', text=embed_df.index) \n",
    "\n",
    "    fig.update_traces(textposition='top center') \n",
    "    fig.update_layout(height=800, title_text=title, font_size=11) \n",
    "\n",
    "    return fig.show()"
   ]
  },
  {
   "cell_type": "code",
   "execution_count": 21,
   "id": "e2b473c0",
   "metadata": {},
   "outputs": [],
   "source": [
    "from karateclub.node_embedding.attributed.feathernode import FeatherNode \n",
    "\n",
    "model = FeatherNode() \n",
    "\n",
    "model.fit(G, clf_df)  \n",
    "\n",
    "embeddings = model.get_embedding() "
   ]
  },
  {
   "cell_type": "code",
   "execution_count": 22,
   "id": "4de612cd",
   "metadata": {},
   "outputs": [
    {
     "name": "stdout",
     "output_type": "stream",
     "text": [
      "Requirement already satisfied: plotly in c:\\users\\amird\\appdata\\local\\programs\\python\\python39\\lib\\site-packages (5.18.0)\n",
      "Requirement already satisfied: tenacity>=6.2.0 in c:\\users\\amird\\appdata\\local\\programs\\python\\python39\\lib\\site-packages (from plotly) (8.2.3)\n",
      "Requirement already satisfied: packaging in c:\\users\\amird\\appdata\\roaming\\python\\python39\\site-packages (from plotly) (23.2)\n",
      "Note: you may need to restart the kernel to use updated packages.\n"
     ]
    }
   ],
   "source": [
    "%pip install plotly"
   ]
  },
  {
   "cell_type": "code",
   "execution_count": 23,
   "id": "d55ebe53",
   "metadata": {},
   "outputs": [
    {
     "name": "stdout",
     "output_type": "stream",
     "text": [
      "Note: you may need to restart the kernel to use updated packages.\n"
     ]
    }
   ],
   "source": [
    "%pip install nbformat>=4.2.0"
   ]
  },
  {
   "cell_type": "code",
   "execution_count": 24,
   "id": "b46ced31",
   "metadata": {},
   "outputs": [
    {
     "data": {
      "application/vnd.plotly.v1+json": {
       "config": {
        "plotlyServerURL": "https://plot.ly"
       },
       "data": [
        {
         "hovertemplate": "x=%{x}<br>y=%{y}<br>index=%{text}<extra></extra>",
         "legendgroup": "",
         "marker": {
          "color": "#636efa",
          "symbol": "circle"
         },
         "mode": "markers+text",
         "name": "",
         "orientation": "v",
         "showlegend": false,
         "text": [
          "Napoleon",
          "Myriel",
          "MlleBaptistine",
          "MmeMagloire",
          "CountessDeLo",
          "Geborand",
          "Champtercier",
          "Cravatte",
          "Count",
          "OldMan",
          "Valjean",
          "Labarre",
          "Marguerite",
          "MmeDeR",
          "Isabeau",
          "Gervais",
          "Fantine",
          "MmeThenardier",
          "Thenardier",
          "Cosette",
          "Javert",
          "Fauchelevent",
          "Bamatabois",
          "Simplice",
          "Scaufflaire",
          "Woman1",
          "Judge",
          "Champmathieu",
          "Brevet",
          "Chenildieu",
          "Cochepaille",
          "Woman2",
          "MotherInnocent",
          "Gavroche",
          "Gillenormand",
          "MlleGillenormand",
          "Marius",
          "Enjolras",
          "Bossuet",
          "Gueulemer",
          "Babet",
          "Claquesous",
          "Montparnasse",
          "Toussaint",
          "Listolier",
          "Tholomyes",
          "Fameuil",
          "Blacheville",
          "Favourite",
          "Dahlia",
          "Zephine",
          "Perpetue",
          "Eponine",
          "Anzelma",
          "Magnon",
          "Pontmercy",
          "Boulatruelle",
          "Brujon",
          "LtGillenormand",
          "Gribier",
          "MmePontmercy",
          "Mabeuf",
          "Courfeyrac",
          "MmeBurgon",
          "Jondrette",
          "Combeferre",
          "Prouvaire",
          "Feuilly",
          "Bahorel",
          "Joly",
          "Grantaire",
          "Child1",
          "Child2",
          "MmeHucheloup",
          "BaronessT",
          "MlleVaubois",
          "MotherPlutarch"
         ],
         "textposition": "top center",
         "type": "scatter",
         "x": [
          6.812961209149458,
          4.7441509838411,
          2.5494142947007683,
          2.5494142947007683,
          6.812961209149453,
          6.812961209149453,
          6.812961209149453,
          6.812961209149453,
          6.81296120914945,
          6.81296120914945,
          -1.3045974997541323,
          4.999889637964562,
          1.4281734042982297,
          4.999889637964562,
          4.999889637964562,
          4.999889637964562,
          -2.8815430772647908,
          -1.785762999986254,
          -2.269419393500589,
          -1.7709192656139605,
          -2.33363195513777,
          2.2546599504613414,
          -1.8493655414205588,
          0.16194042483544374,
          4.999889637964562,
          1.584410213570317,
          -1.4907816001664482,
          -1.4907816001664482,
          -1.4907816001664482,
          -1.4907816001664482,
          -1.4907816001664482,
          0.361988890652028,
          2.6901103672739186,
          -4.185799255154921,
          -0.47481365638722245,
          0.3052475310208064,
          -3.8664247564032945,
          -5.0731371342082126,
          -5.272518854253857,
          -2.5995752799556464,
          -2.599575279955647,
          -2.674449135596026,
          -2.5375252194048774,
          0.361988890652028,
          -3.5421443730566144,
          -3.694093347556438,
          -3.5421443730566144,
          -3.5421443730566144,
          -3.5421443730566144,
          -3.5421443730566144,
          -3.5421443730566144,
          1.3116458528524628,
          -3.230684348362095,
          -0.30992416444107457,
          1.9608047721474546,
          1.1328427388490476,
          4.154659673655424,
          -2.6264262834507166,
          -0.7153889926703542,
          5.825530351541222,
          3.1475731055005403,
          -4.379991248599483,
          -5.464261105892167,
          3.950105966361296,
          7.210389690688152,
          -5.489459328520083,
          -5.422182996652754,
          -5.4894593285200814,
          -5.560423592056124,
          -5.560423592056124,
          -5.5105809984337535,
          0.9221826740669409,
          0.9221826740669409,
          -4.81995858273146,
          0.5817934156263579,
          4.820228982882439,
          2.8374746549983993
         ],
         "xaxis": "x",
         "y": [
          -1.0757888569624998,
          -0.18019287616732618,
          0.650073655966209,
          0.650073655966209,
          -1.0757888569625007,
          -1.0757888569625007,
          -1.0757888569625007,
          -1.0757888569625007,
          -1.0757888569625007,
          -1.0757888569625007,
          1.2311508345509277,
          -0.2849539754046292,
          1.3394200349677428,
          -0.2849539754046292,
          -0.2849539754046292,
          -0.2849539754046292,
          3.8657839607934927,
          1.1095660428823324,
          0.5060047714063024,
          1.185993450346309,
          1.0110474517293822,
          0.5621468544484067,
          3.690606713918984,
          1.500539069773077,
          -0.2849539754046292,
          0.6393843788773477,
          3.9027862674842253,
          3.9027862674842253,
          3.9027862674842244,
          3.9027862674842244,
          3.9027862674842253,
          1.0421768098498179,
          0.5447345664970152,
          -2.4471126131318286,
          0.3784098674348719,
          0.315871568161501,
          -1.939254053179223,
          -3.6661774901661746,
          -4.347999931708103,
          0.5530949891434658,
          0.5530949891434652,
          0.487794590682369,
          0.4945643319026229,
          1.0421768098498179,
          5.478925151442682,
          4.295513879154985,
          5.478925151442682,
          5.478925151442682,
          5.478925151442682,
          5.478925151442682,
          5.478925151442682,
          1.2667047012669719,
          -0.6220622147125601,
          0.10375817106092414,
          0.1975123491470128,
          -1.210296128006445,
          -0.7464452378716623,
          0.1670880041509189,
          0.15024317423078273,
          -0.6589189084252225,
          -0.22530380950589948,
          -4.566167974667698,
          -4.5174439781141915,
          -2.4603477511474985,
          -1.9915451579434555,
          -5.183456607451932,
          -5.203475662231588,
          -5.183456607451932,
          -4.818889817445022,
          -4.818889817445022,
          -4.77647948599189,
          -1.853867252637785,
          -1.853867252637785,
          -4.298319096458837,
          -1.1612762631769002,
          -0.2907380374561498,
          -3.944736022487626
         ],
         "yaxis": "y"
        }
       ],
       "layout": {
        "font": {
         "size": 11
        },
        "height": 800,
        "legend": {
         "tracegroupgap": 0
        },
        "margin": {
         "t": 60
        },
        "template": {
         "data": {
          "bar": [
           {
            "error_x": {
             "color": "#2a3f5f"
            },
            "error_y": {
             "color": "#2a3f5f"
            },
            "marker": {
             "line": {
              "color": "#E5ECF6",
              "width": 0.5
             },
             "pattern": {
              "fillmode": "overlay",
              "size": 10,
              "solidity": 0.2
             }
            },
            "type": "bar"
           }
          ],
          "barpolar": [
           {
            "marker": {
             "line": {
              "color": "#E5ECF6",
              "width": 0.5
             },
             "pattern": {
              "fillmode": "overlay",
              "size": 10,
              "solidity": 0.2
             }
            },
            "type": "barpolar"
           }
          ],
          "carpet": [
           {
            "aaxis": {
             "endlinecolor": "#2a3f5f",
             "gridcolor": "white",
             "linecolor": "white",
             "minorgridcolor": "white",
             "startlinecolor": "#2a3f5f"
            },
            "baxis": {
             "endlinecolor": "#2a3f5f",
             "gridcolor": "white",
             "linecolor": "white",
             "minorgridcolor": "white",
             "startlinecolor": "#2a3f5f"
            },
            "type": "carpet"
           }
          ],
          "choropleth": [
           {
            "colorbar": {
             "outlinewidth": 0,
             "ticks": ""
            },
            "type": "choropleth"
           }
          ],
          "contour": [
           {
            "colorbar": {
             "outlinewidth": 0,
             "ticks": ""
            },
            "colorscale": [
             [
              0,
              "#0d0887"
             ],
             [
              0.1111111111111111,
              "#46039f"
             ],
             [
              0.2222222222222222,
              "#7201a8"
             ],
             [
              0.3333333333333333,
              "#9c179e"
             ],
             [
              0.4444444444444444,
              "#bd3786"
             ],
             [
              0.5555555555555556,
              "#d8576b"
             ],
             [
              0.6666666666666666,
              "#ed7953"
             ],
             [
              0.7777777777777778,
              "#fb9f3a"
             ],
             [
              0.8888888888888888,
              "#fdca26"
             ],
             [
              1,
              "#f0f921"
             ]
            ],
            "type": "contour"
           }
          ],
          "contourcarpet": [
           {
            "colorbar": {
             "outlinewidth": 0,
             "ticks": ""
            },
            "type": "contourcarpet"
           }
          ],
          "heatmap": [
           {
            "colorbar": {
             "outlinewidth": 0,
             "ticks": ""
            },
            "colorscale": [
             [
              0,
              "#0d0887"
             ],
             [
              0.1111111111111111,
              "#46039f"
             ],
             [
              0.2222222222222222,
              "#7201a8"
             ],
             [
              0.3333333333333333,
              "#9c179e"
             ],
             [
              0.4444444444444444,
              "#bd3786"
             ],
             [
              0.5555555555555556,
              "#d8576b"
             ],
             [
              0.6666666666666666,
              "#ed7953"
             ],
             [
              0.7777777777777778,
              "#fb9f3a"
             ],
             [
              0.8888888888888888,
              "#fdca26"
             ],
             [
              1,
              "#f0f921"
             ]
            ],
            "type": "heatmap"
           }
          ],
          "heatmapgl": [
           {
            "colorbar": {
             "outlinewidth": 0,
             "ticks": ""
            },
            "colorscale": [
             [
              0,
              "#0d0887"
             ],
             [
              0.1111111111111111,
              "#46039f"
             ],
             [
              0.2222222222222222,
              "#7201a8"
             ],
             [
              0.3333333333333333,
              "#9c179e"
             ],
             [
              0.4444444444444444,
              "#bd3786"
             ],
             [
              0.5555555555555556,
              "#d8576b"
             ],
             [
              0.6666666666666666,
              "#ed7953"
             ],
             [
              0.7777777777777778,
              "#fb9f3a"
             ],
             [
              0.8888888888888888,
              "#fdca26"
             ],
             [
              1,
              "#f0f921"
             ]
            ],
            "type": "heatmapgl"
           }
          ],
          "histogram": [
           {
            "marker": {
             "pattern": {
              "fillmode": "overlay",
              "size": 10,
              "solidity": 0.2
             }
            },
            "type": "histogram"
           }
          ],
          "histogram2d": [
           {
            "colorbar": {
             "outlinewidth": 0,
             "ticks": ""
            },
            "colorscale": [
             [
              0,
              "#0d0887"
             ],
             [
              0.1111111111111111,
              "#46039f"
             ],
             [
              0.2222222222222222,
              "#7201a8"
             ],
             [
              0.3333333333333333,
              "#9c179e"
             ],
             [
              0.4444444444444444,
              "#bd3786"
             ],
             [
              0.5555555555555556,
              "#d8576b"
             ],
             [
              0.6666666666666666,
              "#ed7953"
             ],
             [
              0.7777777777777778,
              "#fb9f3a"
             ],
             [
              0.8888888888888888,
              "#fdca26"
             ],
             [
              1,
              "#f0f921"
             ]
            ],
            "type": "histogram2d"
           }
          ],
          "histogram2dcontour": [
           {
            "colorbar": {
             "outlinewidth": 0,
             "ticks": ""
            },
            "colorscale": [
             [
              0,
              "#0d0887"
             ],
             [
              0.1111111111111111,
              "#46039f"
             ],
             [
              0.2222222222222222,
              "#7201a8"
             ],
             [
              0.3333333333333333,
              "#9c179e"
             ],
             [
              0.4444444444444444,
              "#bd3786"
             ],
             [
              0.5555555555555556,
              "#d8576b"
             ],
             [
              0.6666666666666666,
              "#ed7953"
             ],
             [
              0.7777777777777778,
              "#fb9f3a"
             ],
             [
              0.8888888888888888,
              "#fdca26"
             ],
             [
              1,
              "#f0f921"
             ]
            ],
            "type": "histogram2dcontour"
           }
          ],
          "mesh3d": [
           {
            "colorbar": {
             "outlinewidth": 0,
             "ticks": ""
            },
            "type": "mesh3d"
           }
          ],
          "parcoords": [
           {
            "line": {
             "colorbar": {
              "outlinewidth": 0,
              "ticks": ""
             }
            },
            "type": "parcoords"
           }
          ],
          "pie": [
           {
            "automargin": true,
            "type": "pie"
           }
          ],
          "scatter": [
           {
            "fillpattern": {
             "fillmode": "overlay",
             "size": 10,
             "solidity": 0.2
            },
            "type": "scatter"
           }
          ],
          "scatter3d": [
           {
            "line": {
             "colorbar": {
              "outlinewidth": 0,
              "ticks": ""
             }
            },
            "marker": {
             "colorbar": {
              "outlinewidth": 0,
              "ticks": ""
             }
            },
            "type": "scatter3d"
           }
          ],
          "scattercarpet": [
           {
            "marker": {
             "colorbar": {
              "outlinewidth": 0,
              "ticks": ""
             }
            },
            "type": "scattercarpet"
           }
          ],
          "scattergeo": [
           {
            "marker": {
             "colorbar": {
              "outlinewidth": 0,
              "ticks": ""
             }
            },
            "type": "scattergeo"
           }
          ],
          "scattergl": [
           {
            "marker": {
             "colorbar": {
              "outlinewidth": 0,
              "ticks": ""
             }
            },
            "type": "scattergl"
           }
          ],
          "scattermapbox": [
           {
            "marker": {
             "colorbar": {
              "outlinewidth": 0,
              "ticks": ""
             }
            },
            "type": "scattermapbox"
           }
          ],
          "scatterpolar": [
           {
            "marker": {
             "colorbar": {
              "outlinewidth": 0,
              "ticks": ""
             }
            },
            "type": "scatterpolar"
           }
          ],
          "scatterpolargl": [
           {
            "marker": {
             "colorbar": {
              "outlinewidth": 0,
              "ticks": ""
             }
            },
            "type": "scatterpolargl"
           }
          ],
          "scatterternary": [
           {
            "marker": {
             "colorbar": {
              "outlinewidth": 0,
              "ticks": ""
             }
            },
            "type": "scatterternary"
           }
          ],
          "surface": [
           {
            "colorbar": {
             "outlinewidth": 0,
             "ticks": ""
            },
            "colorscale": [
             [
              0,
              "#0d0887"
             ],
             [
              0.1111111111111111,
              "#46039f"
             ],
             [
              0.2222222222222222,
              "#7201a8"
             ],
             [
              0.3333333333333333,
              "#9c179e"
             ],
             [
              0.4444444444444444,
              "#bd3786"
             ],
             [
              0.5555555555555556,
              "#d8576b"
             ],
             [
              0.6666666666666666,
              "#ed7953"
             ],
             [
              0.7777777777777778,
              "#fb9f3a"
             ],
             [
              0.8888888888888888,
              "#fdca26"
             ],
             [
              1,
              "#f0f921"
             ]
            ],
            "type": "surface"
           }
          ],
          "table": [
           {
            "cells": {
             "fill": {
              "color": "#EBF0F8"
             },
             "line": {
              "color": "white"
             }
            },
            "header": {
             "fill": {
              "color": "#C8D4E3"
             },
             "line": {
              "color": "white"
             }
            },
            "type": "table"
           }
          ]
         },
         "layout": {
          "annotationdefaults": {
           "arrowcolor": "#2a3f5f",
           "arrowhead": 0,
           "arrowwidth": 1
          },
          "autotypenumbers": "strict",
          "coloraxis": {
           "colorbar": {
            "outlinewidth": 0,
            "ticks": ""
           }
          },
          "colorscale": {
           "diverging": [
            [
             0,
             "#8e0152"
            ],
            [
             0.1,
             "#c51b7d"
            ],
            [
             0.2,
             "#de77ae"
            ],
            [
             0.3,
             "#f1b6da"
            ],
            [
             0.4,
             "#fde0ef"
            ],
            [
             0.5,
             "#f7f7f7"
            ],
            [
             0.6,
             "#e6f5d0"
            ],
            [
             0.7,
             "#b8e186"
            ],
            [
             0.8,
             "#7fbc41"
            ],
            [
             0.9,
             "#4d9221"
            ],
            [
             1,
             "#276419"
            ]
           ],
           "sequential": [
            [
             0,
             "#0d0887"
            ],
            [
             0.1111111111111111,
             "#46039f"
            ],
            [
             0.2222222222222222,
             "#7201a8"
            ],
            [
             0.3333333333333333,
             "#9c179e"
            ],
            [
             0.4444444444444444,
             "#bd3786"
            ],
            [
             0.5555555555555556,
             "#d8576b"
            ],
            [
             0.6666666666666666,
             "#ed7953"
            ],
            [
             0.7777777777777778,
             "#fb9f3a"
            ],
            [
             0.8888888888888888,
             "#fdca26"
            ],
            [
             1,
             "#f0f921"
            ]
           ],
           "sequentialminus": [
            [
             0,
             "#0d0887"
            ],
            [
             0.1111111111111111,
             "#46039f"
            ],
            [
             0.2222222222222222,
             "#7201a8"
            ],
            [
             0.3333333333333333,
             "#9c179e"
            ],
            [
             0.4444444444444444,
             "#bd3786"
            ],
            [
             0.5555555555555556,
             "#d8576b"
            ],
            [
             0.6666666666666666,
             "#ed7953"
            ],
            [
             0.7777777777777778,
             "#fb9f3a"
            ],
            [
             0.8888888888888888,
             "#fdca26"
            ],
            [
             1,
             "#f0f921"
            ]
           ]
          },
          "colorway": [
           "#636efa",
           "#EF553B",
           "#00cc96",
           "#ab63fa",
           "#FFA15A",
           "#19d3f3",
           "#FF6692",
           "#B6E880",
           "#FF97FF",
           "#FECB52"
          ],
          "font": {
           "color": "#2a3f5f"
          },
          "geo": {
           "bgcolor": "white",
           "lakecolor": "white",
           "landcolor": "#E5ECF6",
           "showlakes": true,
           "showland": true,
           "subunitcolor": "white"
          },
          "hoverlabel": {
           "align": "left"
          },
          "hovermode": "closest",
          "mapbox": {
           "style": "light"
          },
          "paper_bgcolor": "white",
          "plot_bgcolor": "#E5ECF6",
          "polar": {
           "angularaxis": {
            "gridcolor": "white",
            "linecolor": "white",
            "ticks": ""
           },
           "bgcolor": "#E5ECF6",
           "radialaxis": {
            "gridcolor": "white",
            "linecolor": "white",
            "ticks": ""
           }
          },
          "scene": {
           "xaxis": {
            "backgroundcolor": "#E5ECF6",
            "gridcolor": "white",
            "gridwidth": 2,
            "linecolor": "white",
            "showbackground": true,
            "ticks": "",
            "zerolinecolor": "white"
           },
           "yaxis": {
            "backgroundcolor": "#E5ECF6",
            "gridcolor": "white",
            "gridwidth": 2,
            "linecolor": "white",
            "showbackground": true,
            "ticks": "",
            "zerolinecolor": "white"
           },
           "zaxis": {
            "backgroundcolor": "#E5ECF6",
            "gridcolor": "white",
            "gridwidth": 2,
            "linecolor": "white",
            "showbackground": true,
            "ticks": "",
            "zerolinecolor": "white"
           }
          },
          "shapedefaults": {
           "line": {
            "color": "#2a3f5f"
           }
          },
          "ternary": {
           "aaxis": {
            "gridcolor": "white",
            "linecolor": "white",
            "ticks": ""
           },
           "baxis": {
            "gridcolor": "white",
            "linecolor": "white",
            "ticks": ""
           },
           "bgcolor": "#E5ECF6",
           "caxis": {
            "gridcolor": "white",
            "linecolor": "white",
            "ticks": ""
           }
          },
          "title": {
           "x": 0.05
          },
          "xaxis": {
           "automargin": true,
           "gridcolor": "white",
           "linecolor": "white",
           "ticks": "",
           "title": {
            "standoff": 15
           },
           "zerolinecolor": "white",
           "zerolinewidth": 2
          },
          "yaxis": {
           "automargin": true,
           "gridcolor": "white",
           "linecolor": "white",
           "ticks": "",
           "title": {
            "standoff": 15
           },
           "zerolinecolor": "white",
           "zerolinewidth": 2
          }
         }
        },
        "title": {
         "text": "Les Miserables Character Similarity (FeatherNode)"
        },
        "xaxis": {
         "anchor": "y",
         "domain": [
          0,
          1
         ],
         "title": {
          "text": "x"
         }
        },
        "yaxis": {
         "anchor": "x",
         "domain": [
          0,
          1
         ],
         "title": {
          "text": "y"
         }
        }
       }
      }
     },
     "metadata": {},
     "output_type": "display_data"
    }
   ],
   "source": [
    "title = 'Les Miserables Character Similarity (FeatherNode)' \n",
    "\n",
    "draw_clustering(embeddings, nodes, title) "
   ]
  },
  {
   "cell_type": "code",
   "execution_count": 25,
   "id": "defaa33f",
   "metadata": {},
   "outputs": [
    {
     "name": "stdout",
     "output_type": "stream",
     "text": [
      "['Marius' 'Gavroche' 'Courfeyrac' 'Joly' 'Prouvaire' 'Bossuet'\n",
      " 'Combeferre' 'Mabeuf' 'Grantaire' 'Enjolras' 'Bahorel' 'Feuilly']\n"
     ]
    },
    {
     "data": {
      "image/svg+xml": [
       "<svg xmlns=\"http://www.w3.org/2000/svg\" width=\"1124.0\" height=\"1064.0\">\n",
       "<path stroke-width=\"0.2\" stroke=\"black\" d=\"M 1044 751 222 817\"/>\n",
       "<path stroke-width=\"0.2\" stroke=\"black\" d=\"M 245 20 593 700\"/>\n",
       "<path stroke-width=\"0.2\" stroke=\"black\" d=\"M 245 20 794 517\"/>\n",
       "<path stroke-width=\"0.2\" stroke=\"black\" d=\"M 245 20 617 128\"/>\n",
       "<path stroke-width=\"0.2\" stroke=\"black\" d=\"M 245 20 268 547\"/>\n",
       "<path stroke-width=\"0.2\" stroke=\"black\" d=\"M 245 20 448 935\"/>\n",
       "<path stroke-width=\"0.2\" stroke=\"black\" d=\"M 245 20 20 312\"/>\n",
       "<path stroke-width=\"0.2\" stroke=\"black\" d=\"M 245 20 468 360\"/>\n",
       "<path stroke-width=\"0.2\" stroke=\"black\" d=\"M 245 20 842 248\"/>\n",
       "<path stroke-width=\"0.2\" stroke=\"black\" d=\"M 245 20 222 817\"/>\n",
       "<path stroke-width=\"0.2\" stroke=\"black\" d=\"M 818 1044 593 700\"/>\n",
       "<path stroke-width=\"0.2\" stroke=\"black\" d=\"M 818 1044 794 517\"/>\n",
       "<path stroke-width=\"0.2\" stroke=\"black\" d=\"M 818 1044 617 128\"/>\n",
       "<path stroke-width=\"0.2\" stroke=\"black\" d=\"M 818 1044 268 547\"/>\n",
       "<path stroke-width=\"0.2\" stroke=\"black\" d=\"M 818 1044 448 935\"/>\n",
       "<path stroke-width=\"0.2\" stroke=\"black\" d=\"M 818 1044 468 360\"/>\n",
       "<path stroke-width=\"0.2\" stroke=\"black\" d=\"M 818 1044 842 248\"/>\n",
       "<path stroke-width=\"0.2\" stroke=\"black\" d=\"M 818 1044 222 817\"/>\n",
       "<path stroke-width=\"0.2\" stroke=\"black\" d=\"M 818 1044 1044 751\"/>\n",
       "<path stroke-width=\"0.2\" stroke=\"black\" d=\"M 268 547 593 700\"/>\n",
       "<path stroke-width=\"0.2\" stroke=\"black\" d=\"M 268 547 794 517\"/>\n",
       "<path stroke-width=\"0.2\" stroke=\"black\" d=\"M 268 547 617 128\"/>\n",
       "<path stroke-width=\"0.2\" stroke=\"black\" d=\"M 268 547 245 20\"/>\n",
       "<path stroke-width=\"0.2\" stroke=\"black\" d=\"M 268 547 818 1044\"/>\n",
       "<path stroke-width=\"0.2\" stroke=\"black\" d=\"M 268 547 448 935\"/>\n",
       "<path stroke-width=\"0.2\" stroke=\"black\" d=\"M 268 547 20 312\"/>\n",
       "<path stroke-width=\"0.2\" stroke=\"black\" d=\"M 268 547 468 360\"/>\n",
       "<path stroke-width=\"0.2\" stroke=\"black\" d=\"M 268 547 842 248\"/>\n",
       "<path stroke-width=\"0.2\" stroke=\"black\" d=\"M 617 128 1044 751\"/>\n",
       "<path stroke-width=\"0.2\" stroke=\"black\" d=\"M 268 547 222 817\"/>\n",
       "<path stroke-width=\"0.2\" stroke=\"black\" d=\"M 617 128 222 817\"/>\n",
       "<path stroke-width=\"0.2\" stroke=\"black\" d=\"M 617 128 468 360\"/>\n",
       "<path stroke-width=\"0.2\" stroke=\"black\" d=\"M 593 700 245 20\"/>\n",
       "<path stroke-width=\"0.2\" stroke=\"black\" d=\"M 593 700 818 1044\"/>\n",
       "<path stroke-width=\"0.2\" stroke=\"black\" d=\"M 593 700 268 547\"/>\n",
       "<path stroke-width=\"0.2\" stroke=\"black\" d=\"M 593 700 448 935\"/>\n",
       "<path stroke-width=\"0.2\" stroke=\"black\" d=\"M 593 700 20 312\"/>\n",
       "<path stroke-width=\"0.2\" stroke=\"black\" d=\"M 593 700 468 360\"/>\n",
       "<path stroke-width=\"0.2\" stroke=\"black\" d=\"M 593 700 842 248\"/>\n",
       "<path stroke-width=\"0.2\" stroke=\"black\" d=\"M 593 700 222 817\"/>\n",
       "<path stroke-width=\"0.2\" stroke=\"black\" d=\"M 593 700 1044 751\"/>\n",
       "<path stroke-width=\"0.2\" stroke=\"black\" d=\"M 794 517 593 700\"/>\n",
       "<path stroke-width=\"0.2\" stroke=\"black\" d=\"M 794 517 617 128\"/>\n",
       "<path stroke-width=\"0.2\" stroke=\"black\" d=\"M 794 517 245 20\"/>\n",
       "<path stroke-width=\"0.2\" stroke=\"black\" d=\"M 794 517 818 1044\"/>\n",
       "<path stroke-width=\"0.2\" stroke=\"black\" d=\"M 794 517 268 547\"/>\n",
       "<path stroke-width=\"0.2\" stroke=\"black\" d=\"M 794 517 448 935\"/>\n",
       "<path stroke-width=\"0.2\" stroke=\"black\" d=\"M 794 517 20 312\"/>\n",
       "<path stroke-width=\"0.2\" stroke=\"black\" d=\"M 794 517 468 360\"/>\n",
       "<path stroke-width=\"0.2\" stroke=\"black\" d=\"M 794 517 842 248\"/>\n",
       "<path stroke-width=\"0.2\" stroke=\"black\" d=\"M 794 517 222 817\"/>\n",
       "<path stroke-width=\"0.2\" stroke=\"black\" d=\"M 794 517 1044 751\"/>\n",
       "<path stroke-width=\"0.2\" stroke=\"black\" d=\"M 617 128 593 700\"/>\n",
       "<path stroke-width=\"0.2\" stroke=\"black\" d=\"M 617 128 794 517\"/>\n",
       "<path stroke-width=\"0.2\" stroke=\"black\" d=\"M 617 128 245 20\"/>\n",
       "<path stroke-width=\"0.2\" stroke=\"black\" d=\"M 617 128 818 1044\"/>\n",
       "<path stroke-width=\"0.2\" stroke=\"black\" d=\"M 617 128 268 547\"/>\n",
       "<path stroke-width=\"0.2\" stroke=\"black\" d=\"M 617 128 448 935\"/>\n",
       "<path stroke-width=\"0.2\" stroke=\"black\" d=\"M 617 128 20 312\"/>\n",
       "<path stroke-width=\"0.2\" stroke=\"black\" d=\"M 617 128 842 248\"/>\n",
       "<path stroke-width=\"0.2\" stroke=\"black\" d=\"M 268 547 1044 751\"/>\n",
       "<path stroke-width=\"0.2\" stroke=\"black\" d=\"M 448 935 593 700\"/>\n",
       "<path stroke-width=\"0.2\" stroke=\"black\" d=\"M 448 935 794 517\"/>\n",
       "<path stroke-width=\"0.2\" stroke=\"black\" d=\"M 842 248 245 20\"/>\n",
       "<path stroke-width=\"0.2\" stroke=\"black\" d=\"M 842 248 818 1044\"/>\n",
       "<path stroke-width=\"0.2\" stroke=\"black\" d=\"M 842 248 268 547\"/>\n",
       "<path stroke-width=\"0.2\" stroke=\"black\" d=\"M 842 248 448 935\"/>\n",
       "<path stroke-width=\"0.2\" stroke=\"black\" d=\"M 842 248 20 312\"/>\n",
       "<path stroke-width=\"0.2\" stroke=\"black\" d=\"M 842 248 468 360\"/>\n",
       "<path stroke-width=\"0.2\" stroke=\"black\" d=\"M 842 248 222 817\"/>\n",
       "<path stroke-width=\"0.2\" stroke=\"black\" d=\"M 842 248 1044 751\"/>\n",
       "<path stroke-width=\"0.2\" stroke=\"black\" d=\"M 222 817 593 700\"/>\n",
       "<path stroke-width=\"0.2\" stroke=\"black\" d=\"M 222 817 794 517\"/>\n",
       "<path stroke-width=\"0.2\" stroke=\"black\" d=\"M 222 817 617 128\"/>\n",
       "<path stroke-width=\"0.2\" stroke=\"black\" d=\"M 222 817 245 20\"/>\n",
       "<path stroke-width=\"0.2\" stroke=\"black\" d=\"M 222 817 818 1044\"/>\n",
       "<path stroke-width=\"0.2\" stroke=\"black\" d=\"M 222 817 268 547\"/>\n",
       "<path stroke-width=\"0.2\" stroke=\"black\" d=\"M 222 817 448 935\"/>\n",
       "<path stroke-width=\"0.2\" stroke=\"black\" d=\"M 222 817 20 312\"/>\n",
       "<path stroke-width=\"0.2\" stroke=\"black\" d=\"M 222 817 468 360\"/>\n",
       "<path stroke-width=\"0.2\" stroke=\"black\" d=\"M 222 817 842 248\"/>\n",
       "<path stroke-width=\"0.2\" stroke=\"black\" d=\"M 222 817 1044 751\"/>\n",
       "<path stroke-width=\"0.2\" stroke=\"black\" d=\"M 1044 751 593 700\"/>\n",
       "<path stroke-width=\"0.2\" stroke=\"black\" d=\"M 1044 751 794 517\"/>\n",
       "<path stroke-width=\"0.2\" stroke=\"black\" d=\"M 1044 751 617 128\"/>\n",
       "<path stroke-width=\"0.2\" stroke=\"black\" d=\"M 1044 751 818 1044\"/>\n",
       "<path stroke-width=\"0.2\" stroke=\"black\" d=\"M 1044 751 268 547\"/>\n",
       "<path stroke-width=\"0.2\" stroke=\"black\" d=\"M 1044 751 448 935\"/>\n",
       "<path stroke-width=\"0.2\" stroke=\"black\" d=\"M 1044 751 468 360\"/>\n",
       "<path stroke-width=\"0.2\" stroke=\"black\" d=\"M 1044 751 842 248\"/>\n",
       "<path stroke-width=\"0.2\" stroke=\"black\" d=\"M 842 248 617 128\"/>\n",
       "<path stroke-width=\"0.2\" stroke=\"black\" d=\"M 842 248 794 517\"/>\n",
       "<path stroke-width=\"0.2\" stroke=\"black\" d=\"M 842 248 593 700\"/>\n",
       "<path stroke-width=\"0.2\" stroke=\"black\" d=\"M 468 360 1044 751\"/>\n",
       "<path stroke-width=\"0.2\" stroke=\"black\" d=\"M 448 935 617 128\"/>\n",
       "<path stroke-width=\"0.2\" stroke=\"black\" d=\"M 448 935 245 20\"/>\n",
       "<path stroke-width=\"0.2\" stroke=\"black\" d=\"M 448 935 818 1044\"/>\n",
       "<path stroke-width=\"0.2\" stroke=\"black\" d=\"M 448 935 268 547\"/>\n",
       "<path stroke-width=\"0.2\" stroke=\"black\" d=\"M 448 935 20 312\"/>\n",
       "<path stroke-width=\"0.2\" stroke=\"black\" d=\"M 448 935 468 360\"/>\n",
       "<path stroke-width=\"0.2\" stroke=\"black\" d=\"M 448 935 842 248\"/>\n",
       "<path stroke-width=\"0.2\" stroke=\"black\" d=\"M 448 935 222 817\"/>\n",
       "<path stroke-width=\"0.2\" stroke=\"black\" d=\"M 448 935 1044 751\"/>\n",
       "<path stroke-width=\"0.2\" stroke=\"black\" d=\"M 20 312 593 700\"/>\n",
       "<path stroke-width=\"0.2\" stroke=\"black\" d=\"M 20 312 794 517\"/>\n",
       "<path stroke-width=\"0.2\" stroke=\"black\" d=\"M 20 312 617 128\"/>\n",
       "<path stroke-width=\"0.2\" stroke=\"black\" d=\"M 20 312 245 20\"/>\n",
       "<path stroke-width=\"0.2\" stroke=\"black\" d=\"M 593 700 617 128\"/>\n",
       "<path stroke-width=\"0.2\" stroke=\"black\" d=\"M 20 312 268 547\"/>\n",
       "<path stroke-width=\"0.2\" stroke=\"black\" d=\"M 20 312 468 360\"/>\n",
       "<path stroke-width=\"0.2\" stroke=\"black\" d=\"M 20 312 842 248\"/>\n",
       "<path stroke-width=\"0.2\" stroke=\"black\" d=\"M 20 312 222 817\"/>\n",
       "<path stroke-width=\"0.2\" stroke=\"black\" d=\"M 468 360 593 700\"/>\n",
       "<path stroke-width=\"0.2\" stroke=\"black\" d=\"M 468 360 794 517\"/>\n",
       "<path stroke-width=\"0.2\" stroke=\"black\" d=\"M 468 360 617 128\"/>\n",
       "<path stroke-width=\"0.2\" stroke=\"black\" d=\"M 468 360 245 20\"/>\n",
       "<path stroke-width=\"0.2\" stroke=\"black\" d=\"M 468 360 818 1044\"/>\n",
       "<path stroke-width=\"0.2\" stroke=\"black\" d=\"M 468 360 268 547\"/>\n",
       "<path stroke-width=\"0.2\" stroke=\"black\" d=\"M 468 360 448 935\"/>\n",
       "<path stroke-width=\"0.2\" stroke=\"black\" d=\"M 468 360 20 312\"/>\n",
       "<path stroke-width=\"0.2\" stroke=\"black\" d=\"M 468 360 842 248\"/>\n",
       "<path stroke-width=\"0.2\" stroke=\"black\" d=\"M 468 360 222 817\"/>\n",
       "<path stroke-width=\"0.2\" stroke=\"black\" d=\"M 20 312 448 935\"/>\n",
       "<path stroke-width=\"0.2\" stroke=\"black\" d=\"M 593 700 794 517\"/>\n",
       "<circle cx=\"1044\" cy=\"751\" r=\"16.545454545454547\" style=\"fill:lightblue;stroke:black;stroke-width:1.0\"/>\n",
       "<circle cx=\"222\" cy=\"817\" r=\"20.0\" style=\"fill:lightblue;stroke:black;stroke-width:1.0\"/>\n",
       "<circle cx=\"842\" cy=\"248\" r=\"20.0\" style=\"fill:lightblue;stroke:black;stroke-width:1.0\"/>\n",
       "<circle cx=\"468\" cy=\"360\" r=\"20.0\" style=\"fill:lightblue;stroke:black;stroke-width:1.0\"/>\n",
       "<circle cx=\"20\" cy=\"312\" r=\"16.545454545454547\" style=\"fill:lightblue;stroke:black;stroke-width:1.0\"/>\n",
       "<circle cx=\"448\" cy=\"935\" r=\"20.0\" style=\"fill:lightblue;stroke:black;stroke-width:1.0\"/>\n",
       "<circle cx=\"268\" cy=\"547\" r=\"20.0\" style=\"fill:lightblue;stroke:black;stroke-width:1.0\"/>\n",
       "<circle cx=\"818\" cy=\"1044\" r=\"16.545454545454547\" style=\"fill:lightblue;stroke:black;stroke-width:1.0\"/>\n",
       "<circle cx=\"245\" cy=\"20\" r=\"16.545454545454547\" style=\"fill:lightblue;stroke:black;stroke-width:1.0\"/>\n",
       "<circle cx=\"617\" cy=\"128\" r=\"20.0\" style=\"fill:lightblue;stroke:black;stroke-width:1.0\"/>\n",
       "<circle cx=\"794\" cy=\"517\" r=\"20.0\" style=\"fill:lightblue;stroke:black;stroke-width:1.0\"/>\n",
       "<circle cx=\"593\" cy=\"700\" r=\"20.0\" style=\"fill:lightblue;stroke:black;stroke-width:1.0\"/>\n",
       "<text text-anchor=\"start\" x=\"1063\" y=\"751\" font-size=\"10\">Marius</text><text text-anchor=\"start\" x=\"245\" y=\"817\" font-size=\"10\">Gavroche</text><text text-anchor=\"start\" x=\"865\" y=\"248\" font-size=\"10\">Courfeyrac</text><text text-anchor=\"start\" x=\"491\" y=\"360\" font-size=\"10\">Joly</text><text text-anchor=\"start\" x=\"39\" y=\"312\" font-size=\"10\">Prouvaire</text><text text-anchor=\"start\" x=\"471\" y=\"935\" font-size=\"10\">Bossuet</text><text text-anchor=\"start\" x=\"291\" y=\"547\" font-size=\"10\">Combeferre</text><text text-anchor=\"start\" x=\"838\" y=\"1044\" font-size=\"10\">Mabeuf</text><text text-anchor=\"start\" x=\"265\" y=\"20\" font-size=\"10\">Grantaire</text><text text-anchor=\"start\" x=\"640\" y=\"128\" font-size=\"10\">Enjolras</text><text text-anchor=\"start\" x=\"817\" y=\"517\" font-size=\"10\">Bahorel</text><text text-anchor=\"start\" x=\"616\" y=\"700\" font-size=\"10\">Feuilly</text></svg>"
      ],
      "text/plain": [
       "<IPython.core.display.SVG object>"
      ]
     },
     "execution_count": 25,
     "metadata": {},
     "output_type": "execute_result"
    }
   ],
   "source": [
    "node = 'Feuilly' \n",
    "\n",
    "G_ego = nx.ego_graph(G_named, node) \n",
    "\n",
    "draw_graph(G_ego, show_names=True, node_size=3) "
   ]
  },
  {
   "cell_type": "code",
   "execution_count": 26,
   "id": "8df74daa",
   "metadata": {},
   "outputs": [
    {
     "name": "stdout",
     "output_type": "stream",
     "text": [
      "['Gavroche' 'Courfeyrac' 'Joly' 'Prouvaire' 'Bossuet' 'Combeferre'\n",
      " 'Grantaire' 'Enjolras' 'Bahorel' 'Feuilly']\n"
     ]
    },
    {
     "data": {
      "image/svg+xml": [
       "<svg xmlns=\"http://www.w3.org/2000/svg\" width=\"1164.0\" height=\"1064.0\">\n",
       "<path stroke-width=\"0.2\" stroke=\"black\" d=\"M 454 1044 149 858\"/>\n",
       "<path stroke-width=\"0.2\" stroke=\"black\" d=\"M 695 599 149 858\"/>\n",
       "<path stroke-width=\"0.2\" stroke=\"black\" d=\"M 695 599 454 1044\"/>\n",
       "<path stroke-width=\"0.2\" stroke=\"black\" d=\"M 914 205 251 84\"/>\n",
       "<path stroke-width=\"0.2\" stroke=\"black\" d=\"M 914 205 610 20\"/>\n",
       "<path stroke-width=\"0.2\" stroke=\"black\" d=\"M 914 205 695 599\"/>\n",
       "<path stroke-width=\"0.2\" stroke=\"black\" d=\"M 914 205 1044 600\"/>\n",
       "<path stroke-width=\"0.2\" stroke=\"black\" d=\"M 914 205 812 979\"/>\n",
       "<path stroke-width=\"0.2\" stroke=\"black\" d=\"M 914 205 368 463\"/>\n",
       "<path stroke-width=\"0.2\" stroke=\"black\" d=\"M 695 599 20 464\"/>\n",
       "<path stroke-width=\"0.2\" stroke=\"black\" d=\"M 914 205 20 464\"/>\n",
       "<path stroke-width=\"0.2\" stroke=\"black\" d=\"M 914 205 454 1044\"/>\n",
       "<path stroke-width=\"0.2\" stroke=\"black\" d=\"M 1044 600 251 84\"/>\n",
       "<path stroke-width=\"0.2\" stroke=\"black\" d=\"M 1044 600 610 20\"/>\n",
       "<path stroke-width=\"0.2\" stroke=\"black\" d=\"M 1044 600 695 599\"/>\n",
       "<path stroke-width=\"0.2\" stroke=\"black\" d=\"M 1044 600 914 205\"/>\n",
       "<path stroke-width=\"0.2\" stroke=\"black\" d=\"M 1044 600 812 979\"/>\n",
       "<path stroke-width=\"0.2\" stroke=\"black\" d=\"M 1044 600 368 463\"/>\n",
       "<path stroke-width=\"0.2\" stroke=\"black\" d=\"M 1044 600 20 464\"/>\n",
       "<path stroke-width=\"0.2\" stroke=\"black\" d=\"M 914 205 149 858\"/>\n",
       "<path stroke-width=\"0.2\" stroke=\"black\" d=\"M 695 599 368 463\"/>\n",
       "<path stroke-width=\"0.2\" stroke=\"black\" d=\"M 695 599 812 979\"/>\n",
       "<path stroke-width=\"0.2\" stroke=\"black\" d=\"M 695 599 1044 600\"/>\n",
       "<path stroke-width=\"0.2\" stroke=\"black\" d=\"M 251 84 914 205\"/>\n",
       "<path stroke-width=\"0.2\" stroke=\"black\" d=\"M 251 84 1044 600\"/>\n",
       "<path stroke-width=\"0.2\" stroke=\"black\" d=\"M 251 84 812 979\"/>\n",
       "<path stroke-width=\"0.2\" stroke=\"black\" d=\"M 251 84 368 463\"/>\n",
       "<path stroke-width=\"0.2\" stroke=\"black\" d=\"M 251 84 20 464\"/>\n",
       "<path stroke-width=\"0.2\" stroke=\"black\" d=\"M 251 84 149 858\"/>\n",
       "<path stroke-width=\"0.2\" stroke=\"black\" d=\"M 251 84 454 1044\"/>\n",
       "<path stroke-width=\"0.2\" stroke=\"black\" d=\"M 610 20 251 84\"/>\n",
       "<path stroke-width=\"0.2\" stroke=\"black\" d=\"M 610 20 695 599\"/>\n",
       "<path stroke-width=\"0.2\" stroke=\"black\" d=\"M 610 20 914 205\"/>\n",
       "<path stroke-width=\"0.2\" stroke=\"black\" d=\"M 610 20 1044 600\"/>\n",
       "<path stroke-width=\"0.2\" stroke=\"black\" d=\"M 610 20 812 979\"/>\n",
       "<path stroke-width=\"0.2\" stroke=\"black\" d=\"M 610 20 368 463\"/>\n",
       "<path stroke-width=\"0.2\" stroke=\"black\" d=\"M 610 20 20 464\"/>\n",
       "<path stroke-width=\"0.2\" stroke=\"black\" d=\"M 610 20 149 858\"/>\n",
       "<path stroke-width=\"0.2\" stroke=\"black\" d=\"M 610 20 454 1044\"/>\n",
       "<path stroke-width=\"0.2\" stroke=\"black\" d=\"M 695 599 251 84\"/>\n",
       "<path stroke-width=\"0.2\" stroke=\"black\" d=\"M 695 599 610 20\"/>\n",
       "<path stroke-width=\"0.2\" stroke=\"black\" d=\"M 695 599 914 205\"/>\n",
       "<path stroke-width=\"0.2\" stroke=\"black\" d=\"M 1044 600 149 858\"/>\n",
       "<path stroke-width=\"0.2\" stroke=\"black\" d=\"M 1044 600 454 1044\"/>\n",
       "<path stroke-width=\"0.2\" stroke=\"black\" d=\"M 812 979 251 84\"/>\n",
       "<path stroke-width=\"0.2\" stroke=\"black\" d=\"M 812 979 610 20\"/>\n",
       "<path stroke-width=\"0.2\" stroke=\"black\" d=\"M 20 464 149 858\"/>\n",
       "<path stroke-width=\"0.2\" stroke=\"black\" d=\"M 20 464 454 1044\"/>\n",
       "<path stroke-width=\"0.2\" stroke=\"black\" d=\"M 149 858 251 84\"/>\n",
       "<path stroke-width=\"0.2\" stroke=\"black\" d=\"M 149 858 610 20\"/>\n",
       "<path stroke-width=\"0.2\" stroke=\"black\" d=\"M 149 858 695 599\"/>\n",
       "<path stroke-width=\"0.2\" stroke=\"black\" d=\"M 149 858 914 205\"/>\n",
       "<path stroke-width=\"0.2\" stroke=\"black\" d=\"M 149 858 1044 600\"/>\n",
       "<path stroke-width=\"0.2\" stroke=\"black\" d=\"M 149 858 812 979\"/>\n",
       "<path stroke-width=\"0.2\" stroke=\"black\" d=\"M 149 858 368 463\"/>\n",
       "<path stroke-width=\"0.2\" stroke=\"black\" d=\"M 149 858 20 464\"/>\n",
       "<path stroke-width=\"0.2\" stroke=\"black\" d=\"M 149 858 454 1044\"/>\n",
       "<path stroke-width=\"0.2\" stroke=\"black\" d=\"M 454 1044 251 84\"/>\n",
       "<path stroke-width=\"0.2\" stroke=\"black\" d=\"M 454 1044 610 20\"/>\n",
       "<path stroke-width=\"0.2\" stroke=\"black\" d=\"M 454 1044 695 599\"/>\n",
       "<path stroke-width=\"0.2\" stroke=\"black\" d=\"M 454 1044 914 205\"/>\n",
       "<path stroke-width=\"0.2\" stroke=\"black\" d=\"M 454 1044 1044 600\"/>\n",
       "<path stroke-width=\"0.2\" stroke=\"black\" d=\"M 454 1044 812 979\"/>\n",
       "<path stroke-width=\"0.2\" stroke=\"black\" d=\"M 454 1044 368 463\"/>\n",
       "<path stroke-width=\"0.2\" stroke=\"black\" d=\"M 454 1044 20 464\"/>\n",
       "<path stroke-width=\"0.2\" stroke=\"black\" d=\"M 20 464 368 463\"/>\n",
       "<path stroke-width=\"0.2\" stroke=\"black\" d=\"M 251 84 695 599\"/>\n",
       "<path stroke-width=\"0.2\" stroke=\"black\" d=\"M 20 464 812 979\"/>\n",
       "<path stroke-width=\"0.2\" stroke=\"black\" d=\"M 20 464 914 205\"/>\n",
       "<path stroke-width=\"0.2\" stroke=\"black\" d=\"M 812 979 695 599\"/>\n",
       "<path stroke-width=\"0.2\" stroke=\"black\" d=\"M 812 979 914 205\"/>\n",
       "<path stroke-width=\"0.2\" stroke=\"black\" d=\"M 812 979 1044 600\"/>\n",
       "<path stroke-width=\"0.2\" stroke=\"black\" d=\"M 812 979 368 463\"/>\n",
       "<path stroke-width=\"0.2\" stroke=\"black\" d=\"M 812 979 20 464\"/>\n",
       "<path stroke-width=\"0.2\" stroke=\"black\" d=\"M 812 979 149 858\"/>\n",
       "<path stroke-width=\"0.2\" stroke=\"black\" d=\"M 812 979 454 1044\"/>\n",
       "<path stroke-width=\"0.2\" stroke=\"black\" d=\"M 368 463 251 84\"/>\n",
       "<path stroke-width=\"0.2\" stroke=\"black\" d=\"M 368 463 610 20\"/>\n",
       "<path stroke-width=\"0.2\" stroke=\"black\" d=\"M 368 463 695 599\"/>\n",
       "<path stroke-width=\"0.2\" stroke=\"black\" d=\"M 368 463 914 205\"/>\n",
       "<path stroke-width=\"0.2\" stroke=\"black\" d=\"M 368 463 1044 600\"/>\n",
       "<path stroke-width=\"0.2\" stroke=\"black\" d=\"M 368 463 812 979\"/>\n",
       "<path stroke-width=\"0.2\" stroke=\"black\" d=\"M 368 463 20 464\"/>\n",
       "<path stroke-width=\"0.2\" stroke=\"black\" d=\"M 368 463 149 858\"/>\n",
       "<path stroke-width=\"0.2\" stroke=\"black\" d=\"M 368 463 454 1044\"/>\n",
       "<path stroke-width=\"0.2\" stroke=\"black\" d=\"M 20 464 251 84\"/>\n",
       "<path stroke-width=\"0.2\" stroke=\"black\" d=\"M 20 464 610 20\"/>\n",
       "<path stroke-width=\"0.2\" stroke=\"black\" d=\"M 20 464 695 599\"/>\n",
       "<path stroke-width=\"0.2\" stroke=\"black\" d=\"M 20 464 1044 600\"/>\n",
       "<path stroke-width=\"0.2\" stroke=\"black\" d=\"M 251 84 610 20\"/>\n",
       "<circle cx=\"454\" cy=\"1044\" r=\"3.0\" style=\"fill:lightblue;stroke:black;stroke-width:1.0\"/>\n",
       "<circle cx=\"149\" cy=\"858\" r=\"3.0\" style=\"fill:lightblue;stroke:black;stroke-width:1.0\"/>\n",
       "<circle cx=\"20\" cy=\"464\" r=\"3.0\" style=\"fill:lightblue;stroke:black;stroke-width:1.0\"/>\n",
       "<circle cx=\"368\" cy=\"463\" r=\"3.0\" style=\"fill:lightblue;stroke:black;stroke-width:1.0\"/>\n",
       "<circle cx=\"812\" cy=\"979\" r=\"3.0\" style=\"fill:lightblue;stroke:black;stroke-width:1.0\"/>\n",
       "<circle cx=\"1044\" cy=\"600\" r=\"3.0\" style=\"fill:lightblue;stroke:black;stroke-width:1.0\"/>\n",
       "<circle cx=\"914\" cy=\"205\" r=\"3.0\" style=\"fill:lightblue;stroke:black;stroke-width:1.0\"/>\n",
       "<circle cx=\"695\" cy=\"599\" r=\"3.0\" style=\"fill:lightblue;stroke:black;stroke-width:1.0\"/>\n",
       "<circle cx=\"610\" cy=\"20\" r=\"3.0\" style=\"fill:lightblue;stroke:black;stroke-width:1.0\"/>\n",
       "<circle cx=\"251\" cy=\"84\" r=\"3.0\" style=\"fill:lightblue;stroke:black;stroke-width:1.0\"/>\n",
       "<text text-anchor=\"start\" x=\"460\" y=\"1044\" font-size=\"10\">Gavroche</text><text text-anchor=\"start\" x=\"155\" y=\"858\" font-size=\"10\">Courfeyrac</text><text text-anchor=\"start\" x=\"26\" y=\"464\" font-size=\"10\">Joly</text><text text-anchor=\"start\" x=\"374\" y=\"463\" font-size=\"10\">Prouvaire</text><text text-anchor=\"start\" x=\"818\" y=\"979\" font-size=\"10\">Bossuet</text><text text-anchor=\"start\" x=\"1050\" y=\"600\" font-size=\"10\">Combeferre</text><text text-anchor=\"start\" x=\"920\" y=\"205\" font-size=\"10\">Grantaire</text><text text-anchor=\"start\" x=\"701\" y=\"599\" font-size=\"10\">Enjolras</text><text text-anchor=\"start\" x=\"616\" y=\"20\" font-size=\"10\">Bahorel</text><text text-anchor=\"start\" x=\"257\" y=\"84\" font-size=\"10\">Feuilly</text></svg>"
      ],
      "text/plain": [
       "<IPython.core.display.SVG object>"
      ]
     },
     "execution_count": 26,
     "metadata": {},
     "output_type": "execute_result"
    }
   ],
   "source": [
    "node = 'Prouvaire' \n",
    "\n",
    "G_ego = nx.ego_graph(G_named, node) \n",
    "\n",
    "draw_graph(G_ego, show_names=True, node_size=3) "
   ]
  },
  {
   "cell_type": "code",
   "execution_count": 27,
   "id": "7ea3cab4",
   "metadata": {},
   "outputs": [
    {
     "name": "stdout",
     "output_type": "stream",
     "text": [
      "['Valjean' 'Fauchelevent' 'MotherInnocent']\n"
     ]
    },
    {
     "data": {
      "image/svg+xml": [
       "<svg xmlns=\"http://www.w3.org/2000/svg\" width=\"1204.0\" height=\"1064.0\">\n",
       "<path stroke-width=\"0.2\" stroke=\"black\" d=\"M 192 1044 20 20\"/>\n",
       "<path stroke-width=\"0.2\" stroke=\"black\" d=\"M 192 1044 1044 390\"/>\n",
       "<path stroke-width=\"0.2\" stroke=\"black\" d=\"M 20 20 192 1044\"/>\n",
       "<path stroke-width=\"0.2\" stroke=\"black\" d=\"M 20 20 1044 390\"/>\n",
       "<path stroke-width=\"0.2\" stroke=\"black\" d=\"M 1044 390 192 1044\"/>\n",
       "<path stroke-width=\"0.2\" stroke=\"black\" d=\"M 1044 390 20 20\"/>\n",
       "<circle cx=\"192\" cy=\"1044\" r=\"3.0\" style=\"fill:lightblue;stroke:black;stroke-width:1.0\"/>\n",
       "<circle cx=\"20\" cy=\"20\" r=\"3.0\" style=\"fill:lightblue;stroke:black;stroke-width:1.0\"/>\n",
       "<circle cx=\"1044\" cy=\"390\" r=\"3.0\" style=\"fill:lightblue;stroke:black;stroke-width:1.0\"/>\n",
       "<text text-anchor=\"start\" x=\"198\" y=\"1044\" font-size=\"10\">Valjean</text><text text-anchor=\"start\" x=\"26\" y=\"20\" font-size=\"10\">Fauchelevent</text><text text-anchor=\"start\" x=\"1050\" y=\"390\" font-size=\"10\">MotherInnocent</text></svg>"
      ],
      "text/plain": [
       "<IPython.core.display.SVG object>"
      ]
     },
     "execution_count": 27,
     "metadata": {},
     "output_type": "execute_result"
    }
   ],
   "source": [
    "node = 'MotherInnocent' \n",
    "\n",
    "G_ego = nx.ego_graph(G_named, node) \n",
    "\n",
    "draw_graph(G_ego, show_names=True, node_size=3) "
   ]
  },
  {
   "cell_type": "code",
   "execution_count": 28,
   "id": "54307f12",
   "metadata": {},
   "outputs": [
    {
     "name": "stdout",
     "output_type": "stream",
     "text": [
      "['MlleBaptistine' 'MmeMagloire' 'Myriel' 'Valjean']\n"
     ]
    },
    {
     "data": {
      "image/svg+xml": [
       "<svg xmlns=\"http://www.w3.org/2000/svg\" width=\"1124.0\" height=\"1064.0\">\n",
       "<path stroke-width=\"0.2\" stroke=\"black\" d=\"M 20 210 212 1044\"/>\n",
       "<path stroke-width=\"0.2\" stroke=\"black\" d=\"M 20 210 1044 853\"/>\n",
       "<path stroke-width=\"0.2\" stroke=\"black\" d=\"M 20 210 851 20\"/>\n",
       "<path stroke-width=\"0.2\" stroke=\"black\" d=\"M 212 1044 20 210\"/>\n",
       "<path stroke-width=\"0.2\" stroke=\"black\" d=\"M 212 1044 1044 853\"/>\n",
       "<path stroke-width=\"0.2\" stroke=\"black\" d=\"M 212 1044 851 20\"/>\n",
       "<path stroke-width=\"0.2\" stroke=\"black\" d=\"M 1044 853 20 210\"/>\n",
       "<path stroke-width=\"0.2\" stroke=\"black\" d=\"M 1044 853 212 1044\"/>\n",
       "<path stroke-width=\"0.2\" stroke=\"black\" d=\"M 1044 853 851 20\"/>\n",
       "<path stroke-width=\"0.2\" stroke=\"black\" d=\"M 851 20 20 210\"/>\n",
       "<path stroke-width=\"0.2\" stroke=\"black\" d=\"M 851 20 212 1044\"/>\n",
       "<path stroke-width=\"0.2\" stroke=\"black\" d=\"M 851 20 1044 853\"/>\n",
       "<circle cx=\"20\" cy=\"210\" r=\"3.0\" style=\"fill:lightblue;stroke:black;stroke-width:1.0\"/>\n",
       "<circle cx=\"212\" cy=\"1044\" r=\"3.0\" style=\"fill:lightblue;stroke:black;stroke-width:1.0\"/>\n",
       "<circle cx=\"1044\" cy=\"853\" r=\"3.0\" style=\"fill:lightblue;stroke:black;stroke-width:1.0\"/>\n",
       "<circle cx=\"851\" cy=\"20\" r=\"3.0\" style=\"fill:lightblue;stroke:black;stroke-width:1.0\"/>\n",
       "<text text-anchor=\"start\" x=\"26\" y=\"210\" font-size=\"10\">MlleBaptistine</text><text text-anchor=\"start\" x=\"218\" y=\"1044\" font-size=\"10\">MmeMagloire</text><text text-anchor=\"start\" x=\"1050\" y=\"853\" font-size=\"10\">Myriel</text><text text-anchor=\"start\" x=\"857\" y=\"20\" font-size=\"10\">Valjean</text></svg>"
      ],
      "text/plain": [
       "<IPython.core.display.SVG object>"
      ]
     },
     "execution_count": 28,
     "metadata": {},
     "output_type": "execute_result"
    }
   ],
   "source": [
    "node = 'MmeMagloire' \n",
    "\n",
    "G_ego = nx.ego_graph(G_named, node) \n",
    "\n",
    "draw_graph(G_ego, show_names=True, node_size=3) "
   ]
  },
  {
   "cell_type": "code",
   "execution_count": 29,
   "id": "12a3eae8",
   "metadata": {},
   "outputs": [
    {
     "data": {
      "text/html": [
       "<div>\n",
       "<style scoped>\n",
       "    .dataframe tbody tr th:only-of-type {\n",
       "        vertical-align: middle;\n",
       "    }\n",
       "\n",
       "    .dataframe tbody tr th {\n",
       "        vertical-align: top;\n",
       "    }\n",
       "\n",
       "    .dataframe thead th {\n",
       "        text-align: right;\n",
       "    }\n",
       "</style>\n",
       "<table border=\"1\" class=\"dataframe\">\n",
       "  <thead>\n",
       "    <tr style=\"text-align: right;\">\n",
       "      <th></th>\n",
       "      <th>0</th>\n",
       "      <th>1</th>\n",
       "      <th>2</th>\n",
       "      <th>3</th>\n",
       "      <th>4</th>\n",
       "      <th>5</th>\n",
       "      <th>6</th>\n",
       "      <th>7</th>\n",
       "      <th>8</th>\n",
       "      <th>9</th>\n",
       "      <th>...</th>\n",
       "      <th>1741</th>\n",
       "      <th>1742</th>\n",
       "      <th>1743</th>\n",
       "      <th>1744</th>\n",
       "      <th>1745</th>\n",
       "      <th>1746</th>\n",
       "      <th>1747</th>\n",
       "      <th>1748</th>\n",
       "      <th>1749</th>\n",
       "      <th>label</th>\n",
       "    </tr>\n",
       "  </thead>\n",
       "  <tbody>\n",
       "    <tr>\n",
       "      <th>Napoleon</th>\n",
       "      <td>0.664985</td>\n",
       "      <td>0.471134</td>\n",
       "      <td>0.136111</td>\n",
       "      <td>-0.016215</td>\n",
       "      <td>0.154984</td>\n",
       "      <td>0.469122</td>\n",
       "      <td>0.601893</td>\n",
       "      <td>0.404308</td>\n",
       "      <td>0.049391</td>\n",
       "      <td>-0.137721</td>\n",
       "      <td>...</td>\n",
       "      <td>0.006781</td>\n",
       "      <td>0.006675</td>\n",
       "      <td>0.006496</td>\n",
       "      <td>0.006248</td>\n",
       "      <td>0.005933</td>\n",
       "      <td>0.005554</td>\n",
       "      <td>0.005116</td>\n",
       "      <td>0.004622</td>\n",
       "      <td>0.004078</td>\n",
       "      <td>0</td>\n",
       "    </tr>\n",
       "    <tr>\n",
       "      <th>Myriel</th>\n",
       "      <td>0.910804</td>\n",
       "      <td>0.723366</td>\n",
       "      <td>0.656674</td>\n",
       "      <td>0.610370</td>\n",
       "      <td>0.466355</td>\n",
       "      <td>0.628329</td>\n",
       "      <td>0.440952</td>\n",
       "      <td>0.388751</td>\n",
       "      <td>0.242645</td>\n",
       "      <td>0.030653</td>\n",
       "      <td>...</td>\n",
       "      <td>0.018148</td>\n",
       "      <td>0.017863</td>\n",
       "      <td>0.017386</td>\n",
       "      <td>0.016723</td>\n",
       "      <td>0.015879</td>\n",
       "      <td>0.014865</td>\n",
       "      <td>0.013691</td>\n",
       "      <td>0.012369</td>\n",
       "      <td>0.010915</td>\n",
       "      <td>0</td>\n",
       "    </tr>\n",
       "    <tr>\n",
       "      <th>MlleBaptistine</th>\n",
       "      <td>0.786000</td>\n",
       "      <td>0.345126</td>\n",
       "      <td>0.209002</td>\n",
       "      <td>0.136510</td>\n",
       "      <td>-0.156203</td>\n",
       "      <td>0.299175</td>\n",
       "      <td>-0.070888</td>\n",
       "      <td>-0.104387</td>\n",
       "      <td>-0.352101</td>\n",
       "      <td>-0.747891</td>\n",
       "      <td>...</td>\n",
       "      <td>0.036940</td>\n",
       "      <td>0.036360</td>\n",
       "      <td>0.035390</td>\n",
       "      <td>0.034039</td>\n",
       "      <td>0.032322</td>\n",
       "      <td>0.030257</td>\n",
       "      <td>0.027867</td>\n",
       "      <td>0.025177</td>\n",
       "      <td>0.022217</td>\n",
       "      <td>0</td>\n",
       "    </tr>\n",
       "    <tr>\n",
       "      <th>MmeMagloire</th>\n",
       "      <td>0.786000</td>\n",
       "      <td>0.345126</td>\n",
       "      <td>0.209002</td>\n",
       "      <td>0.136510</td>\n",
       "      <td>-0.156203</td>\n",
       "      <td>0.299175</td>\n",
       "      <td>-0.070888</td>\n",
       "      <td>-0.104387</td>\n",
       "      <td>-0.352101</td>\n",
       "      <td>-0.747891</td>\n",
       "      <td>...</td>\n",
       "      <td>0.036940</td>\n",
       "      <td>0.036360</td>\n",
       "      <td>0.035390</td>\n",
       "      <td>0.034039</td>\n",
       "      <td>0.032322</td>\n",
       "      <td>0.030257</td>\n",
       "      <td>0.027867</td>\n",
       "      <td>0.025177</td>\n",
       "      <td>0.022217</td>\n",
       "      <td>0</td>\n",
       "    </tr>\n",
       "    <tr>\n",
       "      <th>CountessDeLo</th>\n",
       "      <td>0.664985</td>\n",
       "      <td>0.471134</td>\n",
       "      <td>0.136111</td>\n",
       "      <td>-0.016215</td>\n",
       "      <td>0.154984</td>\n",
       "      <td>0.469122</td>\n",
       "      <td>0.601893</td>\n",
       "      <td>0.404308</td>\n",
       "      <td>0.049391</td>\n",
       "      <td>-0.137721</td>\n",
       "      <td>...</td>\n",
       "      <td>0.006781</td>\n",
       "      <td>0.006675</td>\n",
       "      <td>0.006496</td>\n",
       "      <td>0.006248</td>\n",
       "      <td>0.005933</td>\n",
       "      <td>0.005554</td>\n",
       "      <td>0.005116</td>\n",
       "      <td>0.004622</td>\n",
       "      <td>0.004078</td>\n",
       "      <td>0</td>\n",
       "    </tr>\n",
       "    <tr>\n",
       "      <th>Geborand</th>\n",
       "      <td>0.664985</td>\n",
       "      <td>0.471134</td>\n",
       "      <td>0.136111</td>\n",
       "      <td>-0.016215</td>\n",
       "      <td>0.154984</td>\n",
       "      <td>0.469122</td>\n",
       "      <td>0.601893</td>\n",
       "      <td>0.404308</td>\n",
       "      <td>0.049391</td>\n",
       "      <td>-0.137721</td>\n",
       "      <td>...</td>\n",
       "      <td>0.006781</td>\n",
       "      <td>0.006675</td>\n",
       "      <td>0.006496</td>\n",
       "      <td>0.006248</td>\n",
       "      <td>0.005933</td>\n",
       "      <td>0.005554</td>\n",
       "      <td>0.005116</td>\n",
       "      <td>0.004622</td>\n",
       "      <td>0.004078</td>\n",
       "      <td>0</td>\n",
       "    </tr>\n",
       "    <tr>\n",
       "      <th>Champtercier</th>\n",
       "      <td>0.664985</td>\n",
       "      <td>0.471134</td>\n",
       "      <td>0.136111</td>\n",
       "      <td>-0.016215</td>\n",
       "      <td>0.154984</td>\n",
       "      <td>0.469122</td>\n",
       "      <td>0.601893</td>\n",
       "      <td>0.404308</td>\n",
       "      <td>0.049391</td>\n",
       "      <td>-0.137721</td>\n",
       "      <td>...</td>\n",
       "      <td>0.006781</td>\n",
       "      <td>0.006675</td>\n",
       "      <td>0.006496</td>\n",
       "      <td>0.006248</td>\n",
       "      <td>0.005933</td>\n",
       "      <td>0.005554</td>\n",
       "      <td>0.005116</td>\n",
       "      <td>0.004622</td>\n",
       "      <td>0.004078</td>\n",
       "      <td>0</td>\n",
       "    </tr>\n",
       "    <tr>\n",
       "      <th>Cravatte</th>\n",
       "      <td>0.664985</td>\n",
       "      <td>0.471134</td>\n",
       "      <td>0.136111</td>\n",
       "      <td>-0.016215</td>\n",
       "      <td>0.154984</td>\n",
       "      <td>0.469122</td>\n",
       "      <td>0.601893</td>\n",
       "      <td>0.404308</td>\n",
       "      <td>0.049391</td>\n",
       "      <td>-0.137721</td>\n",
       "      <td>...</td>\n",
       "      <td>0.006781</td>\n",
       "      <td>0.006675</td>\n",
       "      <td>0.006496</td>\n",
       "      <td>0.006248</td>\n",
       "      <td>0.005933</td>\n",
       "      <td>0.005554</td>\n",
       "      <td>0.005116</td>\n",
       "      <td>0.004622</td>\n",
       "      <td>0.004078</td>\n",
       "      <td>0</td>\n",
       "    </tr>\n",
       "    <tr>\n",
       "      <th>Count</th>\n",
       "      <td>0.664985</td>\n",
       "      <td>0.471134</td>\n",
       "      <td>0.136111</td>\n",
       "      <td>-0.016215</td>\n",
       "      <td>0.154984</td>\n",
       "      <td>0.469122</td>\n",
       "      <td>0.601893</td>\n",
       "      <td>0.404308</td>\n",
       "      <td>0.049391</td>\n",
       "      <td>-0.137721</td>\n",
       "      <td>...</td>\n",
       "      <td>0.006781</td>\n",
       "      <td>0.006675</td>\n",
       "      <td>0.006496</td>\n",
       "      <td>0.006248</td>\n",
       "      <td>0.005933</td>\n",
       "      <td>0.005554</td>\n",
       "      <td>0.005116</td>\n",
       "      <td>0.004622</td>\n",
       "      <td>0.004078</td>\n",
       "      <td>0</td>\n",
       "    </tr>\n",
       "    <tr>\n",
       "      <th>OldMan</th>\n",
       "      <td>0.664985</td>\n",
       "      <td>0.471134</td>\n",
       "      <td>0.136111</td>\n",
       "      <td>-0.016215</td>\n",
       "      <td>0.154984</td>\n",
       "      <td>0.469122</td>\n",
       "      <td>0.601893</td>\n",
       "      <td>0.404308</td>\n",
       "      <td>0.049391</td>\n",
       "      <td>-0.137721</td>\n",
       "      <td>...</td>\n",
       "      <td>0.006781</td>\n",
       "      <td>0.006675</td>\n",
       "      <td>0.006496</td>\n",
       "      <td>0.006248</td>\n",
       "      <td>0.005933</td>\n",
       "      <td>0.005554</td>\n",
       "      <td>0.005116</td>\n",
       "      <td>0.004622</td>\n",
       "      <td>0.004078</td>\n",
       "      <td>0</td>\n",
       "    </tr>\n",
       "  </tbody>\n",
       "</table>\n",
       "<p>10 rows × 1751 columns</p>\n",
       "</div>"
      ],
      "text/plain": [
       "                       0         1         2         3         4         5  \\\n",
       "Napoleon        0.664985  0.471134  0.136111 -0.016215  0.154984  0.469122   \n",
       "Myriel          0.910804  0.723366  0.656674  0.610370  0.466355  0.628329   \n",
       "MlleBaptistine  0.786000  0.345126  0.209002  0.136510 -0.156203  0.299175   \n",
       "MmeMagloire     0.786000  0.345126  0.209002  0.136510 -0.156203  0.299175   \n",
       "CountessDeLo    0.664985  0.471134  0.136111 -0.016215  0.154984  0.469122   \n",
       "Geborand        0.664985  0.471134  0.136111 -0.016215  0.154984  0.469122   \n",
       "Champtercier    0.664985  0.471134  0.136111 -0.016215  0.154984  0.469122   \n",
       "Cravatte        0.664985  0.471134  0.136111 -0.016215  0.154984  0.469122   \n",
       "Count           0.664985  0.471134  0.136111 -0.016215  0.154984  0.469122   \n",
       "OldMan          0.664985  0.471134  0.136111 -0.016215  0.154984  0.469122   \n",
       "\n",
       "                       6         7         8         9  ...      1741  \\\n",
       "Napoleon        0.601893  0.404308  0.049391 -0.137721  ...  0.006781   \n",
       "Myriel          0.440952  0.388751  0.242645  0.030653  ...  0.018148   \n",
       "MlleBaptistine -0.070888 -0.104387 -0.352101 -0.747891  ...  0.036940   \n",
       "MmeMagloire    -0.070888 -0.104387 -0.352101 -0.747891  ...  0.036940   \n",
       "CountessDeLo    0.601893  0.404308  0.049391 -0.137721  ...  0.006781   \n",
       "Geborand        0.601893  0.404308  0.049391 -0.137721  ...  0.006781   \n",
       "Champtercier    0.601893  0.404308  0.049391 -0.137721  ...  0.006781   \n",
       "Cravatte        0.601893  0.404308  0.049391 -0.137721  ...  0.006781   \n",
       "Count           0.601893  0.404308  0.049391 -0.137721  ...  0.006781   \n",
       "OldMan          0.601893  0.404308  0.049391 -0.137721  ...  0.006781   \n",
       "\n",
       "                    1742      1743      1744      1745      1746      1747  \\\n",
       "Napoleon        0.006675  0.006496  0.006248  0.005933  0.005554  0.005116   \n",
       "Myriel          0.017863  0.017386  0.016723  0.015879  0.014865  0.013691   \n",
       "MlleBaptistine  0.036360  0.035390  0.034039  0.032322  0.030257  0.027867   \n",
       "MmeMagloire     0.036360  0.035390  0.034039  0.032322  0.030257  0.027867   \n",
       "CountessDeLo    0.006675  0.006496  0.006248  0.005933  0.005554  0.005116   \n",
       "Geborand        0.006675  0.006496  0.006248  0.005933  0.005554  0.005116   \n",
       "Champtercier    0.006675  0.006496  0.006248  0.005933  0.005554  0.005116   \n",
       "Cravatte        0.006675  0.006496  0.006248  0.005933  0.005554  0.005116   \n",
       "Count           0.006675  0.006496  0.006248  0.005933  0.005554  0.005116   \n",
       "OldMan          0.006675  0.006496  0.006248  0.005933  0.005554  0.005116   \n",
       "\n",
       "                    1748      1749  label  \n",
       "Napoleon        0.004622  0.004078      0  \n",
       "Myriel          0.012369  0.010915      0  \n",
       "MlleBaptistine  0.025177  0.022217      0  \n",
       "MmeMagloire     0.025177  0.022217      0  \n",
       "CountessDeLo    0.004622  0.004078      0  \n",
       "Geborand        0.004622  0.004078      0  \n",
       "Champtercier    0.004622  0.004078      0  \n",
       "Cravatte        0.004622  0.004078      0  \n",
       "Count           0.004622  0.004078      0  \n",
       "OldMan          0.004622  0.004078      0  \n",
       "\n",
       "[10 rows x 1751 columns]"
      ]
     },
     "execution_count": 29,
     "metadata": {},
     "output_type": "execute_result"
    }
   ],
   "source": [
    "eb_df = pd.DataFrame(embeddings, index=nodes) \n",
    "\n",
    "eb_df['label'] = clf_df['label'] \n",
    "\n",
    "eb_df.head(10) "
   ]
  },
  {
   "cell_type": "code",
   "execution_count": 30,
   "id": "80a46849",
   "metadata": {},
   "outputs": [],
   "source": [
    "from sklearn.model_selection import train_test_split \n",
    "\n",
    "X_cols = [c for c in eb_df.columns if c != 'label'] \n",
    "\n",
    "X = eb_df[X_cols] \n",
    "\n",
    "y = eb_df['label'] \n",
    "\n",
    "X_train, X_test, y_train, y_test = train_test_split(X, y, random_state=1337, test_size=0.3) "
   ]
  },
  {
   "cell_type": "code",
   "execution_count": 31,
   "id": "e6171ec6",
   "metadata": {},
   "outputs": [
    {
     "name": "stdout",
     "output_type": "stream",
     "text": [
      "train accuracy: 0.9811320754716981\n",
      "test accuracy: 1.0\n"
     ]
    }
   ],
   "source": [
    "from sklearn.ensemble import RandomForestClassifier \n",
    "\n",
    "clf = RandomForestClassifier(random_state=1337) \n",
    "clf.fit(X_train, y_train) \n",
    "\n",
    "train_acc = clf.score(X_train, y_train) \n",
    "test_acc = clf.score(X_test, y_test) \n",
    "\n",
    "print('train accuracy: {}\\ntest accuracy: {}'.format(train_acc, test_acc)) "
   ]
  },
  {
   "cell_type": "code",
   "execution_count": 32,
   "id": "3571a8a7",
   "metadata": {},
   "outputs": [
    {
     "data": {
      "image/png": "[encoded data removed]",
      "text/plain": [
       "<Figure size 1000x400 with 1 Axes>"
      ]
     },
     "metadata": {},
     "output_type": "display_data"
    }
   ],
   "source": [
    "importances = pd.DataFrame(clf.feature_importances_, index=X_train.columns) \n",
    "\n",
    "importances.columns = ['importance'] \n",
    "\n",
    "importances.sort_values('importance', ascending=False, inplace=True) \n",
    "\n",
    "importances[0:10].plot.barh(figsize=(10,4)).invert_yaxis() "
   ]
  },
  {
   "cell_type": "markdown",
   "id": "a7b7bf02",
   "metadata": {},
   "source": [
    "## NodeSketch"
   ]
  },
  {
   "cell_type": "code",
   "execution_count": 33,
   "id": "b66794a7",
   "metadata": {},
   "outputs": [
    {
     "data": {
      "application/vnd.plotly.v1+json": {
       "config": {
        "plotlyServerURL": "https://plot.ly"
       },
       "data": [
        {
         "hovertemplate": "x=%{x}<br>y=%{y}<br>index=%{text}<extra></extra>",
         "legendgroup": "",
         "marker": {
          "color": "#636efa",
          "symbol": "circle"
         },
         "mode": "markers+text",
         "name": "",
         "orientation": "v",
         "showlegend": false,
         "text": [
          "Napoleon",
          "Myriel",
          "MlleBaptistine",
          "MmeMagloire",
          "CountessDeLo",
          "Geborand",
          "Champtercier",
          "Cravatte",
          "Count",
          "OldMan",
          "Valjean",
          "Labarre",
          "Marguerite",
          "MmeDeR",
          "Isabeau",
          "Gervais",
          "Fantine",
          "MmeThenardier",
          "Thenardier",
          "Cosette",
          "Javert",
          "Fauchelevent",
          "Bamatabois",
          "Simplice",
          "Scaufflaire",
          "Woman1",
          "Judge",
          "Champmathieu",
          "Brevet",
          "Chenildieu",
          "Cochepaille",
          "Woman2",
          "MotherInnocent",
          "Gavroche",
          "Gillenormand",
          "MlleGillenormand",
          "Marius",
          "Enjolras",
          "Bossuet",
          "Gueulemer",
          "Babet",
          "Claquesous",
          "Montparnasse",
          "Toussaint",
          "Listolier",
          "Tholomyes",
          "Fameuil",
          "Blacheville",
          "Favourite",
          "Dahlia",
          "Zephine",
          "Perpetue",
          "Eponine",
          "Anzelma",
          "Magnon",
          "Pontmercy",
          "Boulatruelle",
          "Brujon",
          "LtGillenormand",
          "Gribier",
          "MmePontmercy",
          "Mabeuf",
          "Courfeyrac",
          "MmeBurgon",
          "Jondrette",
          "Combeferre",
          "Prouvaire",
          "Feuilly",
          "Bahorel",
          "Joly",
          "Grantaire",
          "Child1",
          "Child2",
          "MmeHucheloup",
          "BaronessT",
          "MlleVaubois",
          "MotherPlutarch"
         ],
         "textposition": "top center",
         "type": "scatter",
         "x": [
          -183.9998008041993,
          -159.1747528707784,
          -159.07766188788773,
          -159.0776618878879,
          -172.62138693215812,
          -169.59437905192556,
          -167.02524894593967,
          -161.33402457405856,
          -163.15115149268803,
          -157.99592825799832,
          -60.56899115654485,
          -128.1827254697772,
          -115.96147384685472,
          -124.34594783360394,
          -122.30750329167743,
          -115.91802766059222,
          -12.32699960630393,
          -12.405843829480352,
          22.00833069102798,
          -2.251127691498646,
          -39.68637261705575,
          -62.156735126377775,
          -61.13636998493848,
          -72.72776769880589,
          -104.67318907351986,
          -94.79692536530371,
          -52.28873626955131,
          -52.28873626955131,
          -52.28873626955131,
          -52.28873626955131,
          -52.28873626955131,
          -92.57066962135175,
          -83.93297031156864,
          114.54210379976485,
          29.72359677064084,
          24.228942416367932,
          65.7227582613371,
          107.35938215234155,
          104.69454766113564,
          -7.803880554131125,
          -7.803880554131125,
          -2.4726584382050247,
          3.3553579996994225,
          -55.2419583746323,
          39.31012773904242,
          33.18299173623911,
          39.31012773904242,
          39.31012773904242,
          39.31012773904242,
          39.31012773904242,
          39.31012773904242,
          -55.00723643341059,
          53.71474691489938,
          -26.521087484254384,
          -13.325131874414678,
          44.95132442344471,
          36.250083910913276,
          47.14197814855116,
          33.25780487410461,
          34.7007654275163,
          95.62410903415291,
          139.20104976673545,
          156.09067148158337,
          112.67061029495387,
          166.98649416987013,
          133.96225523588893,
          142.48891091761905,
          133.96225523588893,
          158.63520356204157,
          158.63520356204157,
          167.89487770308526,
          132.36824901851847,
          132.36824901851847,
          157.32215219978693,
          94.0649424748172,
          116.01116186348645,
          199.6392747904849
         ],
         "xaxis": "x",
         "y": [
          -8.598242246313907,
          -16.563048595778216,
          -20.435180894024516,
          -20.435180894024505,
          -7.609118307668199,
          -6.56798680782346,
          -4.892789094639586,
          -7.375709518954932,
          -1.2900682625412656,
          -2.9162706273344607,
          0.12835421143132483,
          -7.982551444751847,
          -2.8020297911998266,
          -6.510585984927596,
          -4.575483633891471,
          -4.251373483706708,
          -5.38697036520349,
          28.944198575018106,
          33.79548228706548,
          43.445131025549635,
          15.87065417524025,
          8.618684583418982,
          -0.4085837476991405,
          -23.16698463493676,
          0.2242060217005454,
          1.8268560628625883,
          9.003725762940686,
          9.003725762940684,
          9.003725762940688,
          9.003725762940686,
          9.003725762940686,
          -6.665279068384805,
          9.166557531101619,
          68.16243756418557,
          58.22783001533014,
          72.51989202917846,
          71.52030668211572,
          69.82839607678478,
          83.25480994825315,
          42.27786918398631,
          42.27786918398631,
          38.9435072047413,
          43.15214069598561,
          16.841155879582733,
          -39.04708512814002,
          -25.554089031867534,
          -39.04708512814002,
          -39.04708512814002,
          -39.04708512814002,
          -39.04708512814002,
          -39.04708512814002,
          -33.62188869009068,
          7.141648891527498,
          -40.36926119647604,
          -20.803332391202765,
          22.74617921852465,
          14.559753118809736,
          3.6490890417256625,
          21.362064542009307,
          -31.951222122537363,
          -19.451323267409563,
          -22.768784812743135,
          -17.18961140690217,
          -6.144834704008504,
          -14.673478176745126,
          -5.808770701194053,
          -3.570902192890019,
          -5.808770701194056,
          -15.786294499348383,
          -15.786294499348383,
          -12.702084585370379,
          -36.52165870520043,
          -36.52165870520044,
          -4.270378408328211,
          -41.198551302720375,
          -42.750354089769004,
          -17.534210201627573
         ],
         "yaxis": "y"
        }
       ],
       "layout": {
        "font": {
         "size": 11
        },
        "height": 800,
        "legend": {
         "tracegroupgap": 0
        },
        "margin": {
         "t": 60
        },
        "template": {
         "data": {
          "bar": [
           {
            "error_x": {
             "color": "#2a3f5f"
            },
            "error_y": {
             "color": "#2a3f5f"
            },
            "marker": {
             "line": {
              "color": "#E5ECF6",
              "width": 0.5
             },
             "pattern": {
              "fillmode": "overlay",
              "size": 10,
              "solidity": 0.2
             }
            },
            "type": "bar"
           }
          ],
          "barpolar": [
           {
            "marker": {
             "line": {
              "color": "#E5ECF6",
              "width": 0.5
             },
             "pattern": {
              "fillmode": "overlay",
              "size": 10,
              "solidity": 0.2
             }
            },
            "type": "barpolar"
           }
          ],
          "carpet": [
           {
            "aaxis": {
             "endlinecolor": "#2a3f5f",
             "gridcolor": "white",
             "linecolor": "white",
             "minorgridcolor": "white",
             "startlinecolor": "#2a3f5f"
            },
            "baxis": {
             "endlinecolor": "#2a3f5f",
             "gridcolor": "white",
             "linecolor": "white",
             "minorgridcolor": "white",
             "startlinecolor": "#2a3f5f"
            },
            "type": "carpet"
           }
          ],
          "choropleth": [
           {
            "colorbar": {
             "outlinewidth": 0,
             "ticks": ""
            },
            "type": "choropleth"
           }
          ],
          "contour": [
           {
            "colorbar": {
             "outlinewidth": 0,
             "ticks": ""
            },
            "colorscale": [
             [
              0,
              "#0d0887"
             ],
             [
              0.1111111111111111,
              "#46039f"
             ],
             [
              0.2222222222222222,
              "#7201a8"
             ],
             [
              0.3333333333333333,
              "#9c179e"
             ],
             [
              0.4444444444444444,
              "#bd3786"
             ],
             [
              0.5555555555555556,
              "#d8576b"
             ],
             [
              0.6666666666666666,
              "#ed7953"
             ],
             [
              0.7777777777777778,
              "#fb9f3a"
             ],
             [
              0.8888888888888888,
              "#fdca26"
             ],
             [
              1,
              "#f0f921"
             ]
            ],
            "type": "contour"
           }
          ],
          "contourcarpet": [
           {
            "colorbar": {
             "outlinewidth": 0,
             "ticks": ""
            },
            "type": "contourcarpet"
           }
          ],
          "heatmap": [
           {
            "colorbar": {
             "outlinewidth": 0,
             "ticks": ""
            },
            "colorscale": [
             [
              0,
              "#0d0887"
             ],
             [
              0.1111111111111111,
              "#46039f"
             ],
             [
              0.2222222222222222,
              "#7201a8"
             ],
             [
              0.3333333333333333,
              "#9c179e"
             ],
             [
              0.4444444444444444,
              "#bd3786"
             ],
             [
              0.5555555555555556,
              "#d8576b"
             ],
             [
              0.6666666666666666,
              "#ed7953"
             ],
             [
              0.7777777777777778,
              "#fb9f3a"
             ],
             [
              0.8888888888888888,
              "#fdca26"
             ],
             [
              1,
              "#f0f921"
             ]
            ],
            "type": "heatmap"
           }
          ],
          "heatmapgl": [
           {
            "colorbar": {
             "outlinewidth": 0,
             "ticks": ""
            },
            "colorscale": [
             [
              0,
              "#0d0887"
             ],
             [
              0.1111111111111111,
              "#46039f"
             ],
             [
              0.2222222222222222,
              "#7201a8"
             ],
             [
              0.3333333333333333,
              "#9c179e"
             ],
             [
              0.4444444444444444,
              "#bd3786"
             ],
             [
              0.5555555555555556,
              "#d8576b"
             ],
             [
              0.6666666666666666,
              "#ed7953"
             ],
             [
              0.7777777777777778,
              "#fb9f3a"
             ],
             [
              0.8888888888888888,
              "#fdca26"
             ],
             [
              1,
              "#f0f921"
             ]
            ],
            "type": "heatmapgl"
           }
          ],
          "histogram": [
           {
            "marker": {
             "pattern": {
              "fillmode": "overlay",
              "size": 10,
              "solidity": 0.2
             }
            },
            "type": "histogram"
           }
          ],
          "histogram2d": [
           {
            "colorbar": {
             "outlinewidth": 0,
             "ticks": ""
            },
            "colorscale": [
             [
              0,
              "#0d0887"
             ],
             [
              0.1111111111111111,
              "#46039f"
             ],
             [
              0.2222222222222222,
              "#7201a8"
             ],
             [
              0.3333333333333333,
              "#9c179e"
             ],
             [
              0.4444444444444444,
              "#bd3786"
             ],
             [
              0.5555555555555556,
              "#d8576b"
             ],
             [
              0.6666666666666666,
              "#ed7953"
             ],
             [
              0.7777777777777778,
              "#fb9f3a"
             ],
             [
              0.8888888888888888,
              "#fdca26"
             ],
             [
              1,
              "#f0f921"
             ]
            ],
            "type": "histogram2d"
           }
          ],
          "histogram2dcontour": [
           {
            "colorbar": {
             "outlinewidth": 0,
             "ticks": ""
            },
            "colorscale": [
             [
              0,
              "#0d0887"
             ],
             [
              0.1111111111111111,
              "#46039f"
             ],
             [
              0.2222222222222222,
              "#7201a8"
             ],
             [
              0.3333333333333333,
              "#9c179e"
             ],
             [
              0.4444444444444444,
              "#bd3786"
             ],
             [
              0.5555555555555556,
              "#d8576b"
             ],
             [
              0.6666666666666666,
              "#ed7953"
             ],
             [
              0.7777777777777778,
              "#fb9f3a"
             ],
             [
              0.8888888888888888,
              "#fdca26"
             ],
             [
              1,
              "#f0f921"
             ]
            ],
            "type": "histogram2dcontour"
           }
          ],
          "mesh3d": [
           {
            "colorbar": {
             "outlinewidth": 0,
             "ticks": ""
            },
            "type": "mesh3d"
           }
          ],
          "parcoords": [
           {
            "line": {
             "colorbar": {
              "outlinewidth": 0,
              "ticks": ""
             }
            },
            "type": "parcoords"
           }
          ],
          "pie": [
           {
            "automargin": true,
            "type": "pie"
           }
          ],
          "scatter": [
           {
            "fillpattern": {
             "fillmode": "overlay",
             "size": 10,
             "solidity": 0.2
            },
            "type": "scatter"
           }
          ],
          "scatter3d": [
           {
            "line": {
             "colorbar": {
              "outlinewidth": 0,
              "ticks": ""
             }
            },
            "marker": {
             "colorbar": {
              "outlinewidth": 0,
              "ticks": ""
             }
            },
            "type": "scatter3d"
           }
          ],
          "scattercarpet": [
           {
            "marker": {
             "colorbar": {
              "outlinewidth": 0,
              "ticks": ""
             }
            },
            "type": "scattercarpet"
           }
          ],
          "scattergeo": [
           {
            "marker": {
             "colorbar": {
              "outlinewidth": 0,
              "ticks": ""
             }
            },
            "type": "scattergeo"
           }
          ],
          "scattergl": [
           {
            "marker": {
             "colorbar": {
              "outlinewidth": 0,
              "ticks": ""
             }
            },
            "type": "scattergl"
           }
          ],
          "scattermapbox": [
           {
            "marker": {
             "colorbar": {
              "outlinewidth": 0,
              "ticks": ""
             }
            },
            "type": "scattermapbox"
           }
          ],
          "scatterpolar": [
           {
            "marker": {
             "colorbar": {
              "outlinewidth": 0,
              "ticks": ""
             }
            },
            "type": "scatterpolar"
           }
          ],
          "scatterpolargl": [
           {
            "marker": {
             "colorbar": {
              "outlinewidth": 0,
              "ticks": ""
             }
            },
            "type": "scatterpolargl"
           }
          ],
          "scatterternary": [
           {
            "marker": {
             "colorbar": {
              "outlinewidth": 0,
              "ticks": ""
             }
            },
            "type": "scatterternary"
           }
          ],
          "surface": [
           {
            "colorbar": {
             "outlinewidth": 0,
             "ticks": ""
            },
            "colorscale": [
             [
              0,
              "#0d0887"
             ],
             [
              0.1111111111111111,
              "#46039f"
             ],
             [
              0.2222222222222222,
              "#7201a8"
             ],
             [
              0.3333333333333333,
              "#9c179e"
             ],
             [
              0.4444444444444444,
              "#bd3786"
             ],
             [
              0.5555555555555556,
              "#d8576b"
             ],
             [
              0.6666666666666666,
              "#ed7953"
             ],
             [
              0.7777777777777778,
              "#fb9f3a"
             ],
             [
              0.8888888888888888,
              "#fdca26"
             ],
             [
              1,
              "#f0f921"
             ]
            ],
            "type": "surface"
           }
          ],
          "table": [
           {
            "cells": {
             "fill": {
              "color": "#EBF0F8"
             },
             "line": {
              "color": "white"
             }
            },
            "header": {
             "fill": {
              "color": "#C8D4E3"
             },
             "line": {
              "color": "white"
             }
            },
            "type": "table"
           }
          ]
         },
         "layout": {
          "annotationdefaults": {
           "arrowcolor": "#2a3f5f",
           "arrowhead": 0,
           "arrowwidth": 1
          },
          "autotypenumbers": "strict",
          "coloraxis": {
           "colorbar": {
            "outlinewidth": 0,
            "ticks": ""
           }
          },
          "colorscale": {
           "diverging": [
            [
             0,
             "#8e0152"
            ],
            [
             0.1,
             "#c51b7d"
            ],
            [
             0.2,
             "#de77ae"
            ],
            [
             0.3,
             "#f1b6da"
            ],
            [
             0.4,
             "#fde0ef"
            ],
            [
             0.5,
             "#f7f7f7"
            ],
            [
             0.6,
             "#e6f5d0"
            ],
            [
             0.7,
             "#b8e186"
            ],
            [
             0.8,
             "#7fbc41"
            ],
            [
             0.9,
             "#4d9221"
            ],
            [
             1,
             "#276419"
            ]
           ],
           "sequential": [
            [
             0,
             "#0d0887"
            ],
            [
             0.1111111111111111,
             "#46039f"
            ],
            [
             0.2222222222222222,
             "#7201a8"
            ],
            [
             0.3333333333333333,
             "#9c179e"
            ],
            [
             0.4444444444444444,
             "#bd3786"
            ],
            [
             0.5555555555555556,
             "#d8576b"
            ],
            [
             0.6666666666666666,
             "#ed7953"
            ],
            [
             0.7777777777777778,
             "#fb9f3a"
            ],
            [
             0.8888888888888888,
             "#fdca26"
            ],
            [
             1,
             "#f0f921"
            ]
           ],
           "sequentialminus": [
            [
             0,
             "#0d0887"
            ],
            [
             0.1111111111111111,
             "#46039f"
            ],
            [
             0.2222222222222222,
             "#7201a8"
            ],
            [
             0.3333333333333333,
             "#9c179e"
            ],
            [
             0.4444444444444444,
             "#bd3786"
            ],
            [
             0.5555555555555556,
             "#d8576b"
            ],
            [
             0.6666666666666666,
             "#ed7953"
            ],
            [
             0.7777777777777778,
             "#fb9f3a"
            ],
            [
             0.8888888888888888,
             "#fdca26"
            ],
            [
             1,
             "#f0f921"
            ]
           ]
          },
          "colorway": [
           "#636efa",
           "#EF553B",
           "#00cc96",
           "#ab63fa",
           "#FFA15A",
           "#19d3f3",
           "#FF6692",
           "#B6E880",
           "#FF97FF",
           "#FECB52"
          ],
          "font": {
           "color": "#2a3f5f"
          },
          "geo": {
           "bgcolor": "white",
           "lakecolor": "white",
           "landcolor": "#E5ECF6",
           "showlakes": true,
           "showland": true,
           "subunitcolor": "white"
          },
          "hoverlabel": {
           "align": "left"
          },
          "hovermode": "closest",
          "mapbox": {
           "style": "light"
          },
          "paper_bgcolor": "white",
          "plot_bgcolor": "#E5ECF6",
          "polar": {
           "angularaxis": {
            "gridcolor": "white",
            "linecolor": "white",
            "ticks": ""
           },
           "bgcolor": "#E5ECF6",
           "radialaxis": {
            "gridcolor": "white",
            "linecolor": "white",
            "ticks": ""
           }
          },
          "scene": {
           "xaxis": {
            "backgroundcolor": "#E5ECF6",
            "gridcolor": "white",
            "gridwidth": 2,
            "linecolor": "white",
            "showbackground": true,
            "ticks": "",
            "zerolinecolor": "white"
           },
           "yaxis": {
            "backgroundcolor": "#E5ECF6",
            "gridcolor": "white",
            "gridwidth": 2,
            "linecolor": "white",
            "showbackground": true,
            "ticks": "",
            "zerolinecolor": "white"
           },
           "zaxis": {
            "backgroundcolor": "#E5ECF6",
            "gridcolor": "white",
            "gridwidth": 2,
            "linecolor": "white",
            "showbackground": true,
            "ticks": "",
            "zerolinecolor": "white"
           }
          },
          "shapedefaults": {
           "line": {
            "color": "#2a3f5f"
           }
          },
          "ternary": {
           "aaxis": {
            "gridcolor": "white",
            "linecolor": "white",
            "ticks": ""
           },
           "baxis": {
            "gridcolor": "white",
            "linecolor": "white",
            "ticks": ""
           },
           "bgcolor": "#E5ECF6",
           "caxis": {
            "gridcolor": "white",
            "linecolor": "white",
            "ticks": ""
           }
          },
          "title": {
           "x": 0.05
          },
          "xaxis": {
           "automargin": true,
           "gridcolor": "white",
           "linecolor": "white",
           "ticks": "",
           "title": {
            "standoff": 15
           },
           "zerolinecolor": "white",
           "zerolinewidth": 2
          },
          "yaxis": {
           "automargin": true,
           "gridcolor": "white",
           "linecolor": "white",
           "ticks": "",
           "title": {
            "standoff": 15
           },
           "zerolinecolor": "white",
           "zerolinewidth": 2
          }
         }
        },
        "title": {
         "text": "Les Miserables Character Similarity (NodeSketch)"
        },
        "xaxis": {
         "anchor": "y",
         "domain": [
          0,
          1
         ],
         "title": {
          "text": "x"
         }
        },
        "yaxis": {
         "anchor": "x",
         "domain": [
          0,
          1
         ],
         "title": {
          "text": "y"
         }
        }
       }
      }
     },
     "metadata": {},
     "output_type": "display_data"
    }
   ],
   "source": [
    "from karateclub.node_embedding.neighbourhood.nodesketch import NodeSketch \n",
    "\n",
    "model = NodeSketch() \n",
    "model.fit(G) \n",
    "\n",
    "embeddings = model.get_embedding() \n",
    "\n",
    "title = 'Les Miserables Character Similarity (NodeSketch)' \n",
    "\n",
    "draw_clustering(embeddings, nodes, title) "
   ]
  },
  {
   "cell_type": "code",
   "execution_count": 34,
   "id": "7abc4836",
   "metadata": {},
   "outputs": [
    {
     "name": "stdout",
     "output_type": "stream",
     "text": [
      "['Marius' 'Montparnasse' 'Claquesous' 'Brujon' 'Eponine' 'Gueulemer'\n",
      " 'Babet' 'Thenardier' 'Mabeuf' 'MmeThenardier' 'Courfeyrac' 'Anzelma']\n"
     ]
    },
    {
     "data": {
      "image/svg+xml": [
       "<svg xmlns=\"http://www.w3.org/2000/svg\" width=\"1154.0\" height=\"1064.0\">\n",
       "<path stroke-width=\"0.2\" stroke=\"black\" d=\"M 236 462 563 524\"/>\n",
       "<path stroke-width=\"0.2\" stroke=\"black\" d=\"M 668 802 912 382\"/>\n",
       "<path stroke-width=\"0.2\" stroke=\"black\" d=\"M 668 802 1019 527\"/>\n",
       "<path stroke-width=\"0.2\" stroke=\"black\" d=\"M 668 802 929 972\"/>\n",
       "<path stroke-width=\"0.2\" stroke=\"black\" d=\"M 668 802 236 462\"/>\n",
       "<path stroke-width=\"0.2\" stroke=\"black\" d=\"M 886 741 730 608\"/>\n",
       "<path stroke-width=\"0.2\" stroke=\"black\" d=\"M 886 741 668 802\"/>\n",
       "<path stroke-width=\"0.2\" stroke=\"black\" d=\"M 668 802 563 524\"/>\n",
       "<path stroke-width=\"0.2\" stroke=\"black\" d=\"M 886 741 1044 752\"/>\n",
       "<path stroke-width=\"0.2\" stroke=\"black\" d=\"M 886 741 912 382\"/>\n",
       "<path stroke-width=\"0.2\" stroke=\"black\" d=\"M 886 741 1019 527\"/>\n",
       "<path stroke-width=\"0.2\" stroke=\"black\" d=\"M 886 741 929 972\"/>\n",
       "<path stroke-width=\"0.2\" stroke=\"black\" d=\"M 1044 752 730 608\"/>\n",
       "<path stroke-width=\"0.2\" stroke=\"black\" d=\"M 1044 752 668 802\"/>\n",
       "<path stroke-width=\"0.2\" stroke=\"black\" d=\"M 1044 752 886 741\"/>\n",
       "<path stroke-width=\"0.2\" stroke=\"black\" d=\"M 886 741 563 524\"/>\n",
       "<path stroke-width=\"0.2\" stroke=\"black\" d=\"M 1044 752 563 524\"/>\n",
       "<path stroke-width=\"0.2\" stroke=\"black\" d=\"M 668 802 1044 752\"/>\n",
       "<path stroke-width=\"0.2\" stroke=\"black\" d=\"M 668 802 730 608\"/>\n",
       "<path stroke-width=\"0.2\" stroke=\"black\" d=\"M 426 1044 563 524\"/>\n",
       "<path stroke-width=\"0.2\" stroke=\"black\" d=\"M 20 292 180 20\"/>\n",
       "<path stroke-width=\"0.2\" stroke=\"black\" d=\"M 20 292 563 524\"/>\n",
       "<path stroke-width=\"0.2\" stroke=\"black\" d=\"M 20 292 236 462\"/>\n",
       "<path stroke-width=\"0.2\" stroke=\"black\" d=\"M 730 608 426 1044\"/>\n",
       "<path stroke-width=\"0.2\" stroke=\"black\" d=\"M 730 608 668 802\"/>\n",
       "<path stroke-width=\"0.2\" stroke=\"black\" d=\"M 668 802 886 741\"/>\n",
       "<path stroke-width=\"0.2\" stroke=\"black\" d=\"M 730 608 886 741\"/>\n",
       "<path stroke-width=\"0.2\" stroke=\"black\" d=\"M 730 608 563 524\"/>\n",
       "<path stroke-width=\"0.2\" stroke=\"black\" d=\"M 730 608 1019 527\"/>\n",
       "<path stroke-width=\"0.2\" stroke=\"black\" d=\"M 180 20 20 292\"/>\n",
       "<path stroke-width=\"0.2\" stroke=\"black\" d=\"M 180 20 563 524\"/>\n",
       "<path stroke-width=\"0.2\" stroke=\"black\" d=\"M 180 20 236 462\"/>\n",
       "<path stroke-width=\"0.2\" stroke=\"black\" d=\"M 668 802 426 1044\"/>\n",
       "<path stroke-width=\"0.2\" stroke=\"black\" d=\"M 730 608 1044 752\"/>\n",
       "<path stroke-width=\"0.2\" stroke=\"black\" d=\"M 1044 752 912 382\"/>\n",
       "<path stroke-width=\"0.2\" stroke=\"black\" d=\"M 1044 752 1019 527\"/>\n",
       "<path stroke-width=\"0.2\" stroke=\"black\" d=\"M 1044 752 929 972\"/>\n",
       "<path stroke-width=\"0.2\" stroke=\"black\" d=\"M 1019 527 886 741\"/>\n",
       "<path stroke-width=\"0.2\" stroke=\"black\" d=\"M 1019 527 1044 752\"/>\n",
       "<path stroke-width=\"0.2\" stroke=\"black\" d=\"M 1019 527 563 524\"/>\n",
       "<path stroke-width=\"0.2\" stroke=\"black\" d=\"M 1019 527 912 382\"/>\n",
       "<path stroke-width=\"0.2\" stroke=\"black\" d=\"M 1019 527 929 972\"/>\n",
       "<path stroke-width=\"0.2\" stroke=\"black\" d=\"M 929 972 668 802\"/>\n",
       "<path stroke-width=\"0.2\" stroke=\"black\" d=\"M 1019 527 668 802\"/>\n",
       "<path stroke-width=\"0.2\" stroke=\"black\" d=\"M 929 972 886 741\"/>\n",
       "<path stroke-width=\"0.2\" stroke=\"black\" d=\"M 929 972 563 524\"/>\n",
       "<path stroke-width=\"0.2\" stroke=\"black\" d=\"M 929 972 912 382\"/>\n",
       "<path stroke-width=\"0.2\" stroke=\"black\" d=\"M 929 972 1019 527\"/>\n",
       "<path stroke-width=\"0.2\" stroke=\"black\" d=\"M 236 462 20 292\"/>\n",
       "<path stroke-width=\"0.2\" stroke=\"black\" d=\"M 236 462 180 20\"/>\n",
       "<path stroke-width=\"0.2\" stroke=\"black\" d=\"M 236 462 668 802\"/>\n",
       "<path stroke-width=\"0.2\" stroke=\"black\" d=\"M 929 972 1044 752\"/>\n",
       "<path stroke-width=\"0.2\" stroke=\"black\" d=\"M 1019 527 730 608\"/>\n",
       "<path stroke-width=\"0.2\" stroke=\"black\" d=\"M 912 382 929 972\"/>\n",
       "<path stroke-width=\"0.2\" stroke=\"black\" d=\"M 912 382 1019 527\"/>\n",
       "<path stroke-width=\"0.2\" stroke=\"black\" d=\"M 563 524 426 1044\"/>\n",
       "<path stroke-width=\"0.2\" stroke=\"black\" d=\"M 563 524 20 292\"/>\n",
       "<path stroke-width=\"0.2\" stroke=\"black\" d=\"M 563 524 730 608\"/>\n",
       "<path stroke-width=\"0.2\" stroke=\"black\" d=\"M 563 524 180 20\"/>\n",
       "<path stroke-width=\"0.2\" stroke=\"black\" d=\"M 563 524 668 802\"/>\n",
       "<path stroke-width=\"0.2\" stroke=\"black\" d=\"M 563 524 886 741\"/>\n",
       "<path stroke-width=\"0.2\" stroke=\"black\" d=\"M 563 524 1044 752\"/>\n",
       "<path stroke-width=\"0.2\" stroke=\"black\" d=\"M 563 524 912 382\"/>\n",
       "<path stroke-width=\"0.2\" stroke=\"black\" d=\"M 563 524 1019 527\"/>\n",
       "<path stroke-width=\"0.2\" stroke=\"black\" d=\"M 563 524 929 972\"/>\n",
       "<path stroke-width=\"0.2\" stroke=\"black\" d=\"M 563 524 236 462\"/>\n",
       "<path stroke-width=\"0.2\" stroke=\"black\" d=\"M 912 382 668 802\"/>\n",
       "<path stroke-width=\"0.2\" stroke=\"black\" d=\"M 912 382 886 741\"/>\n",
       "<path stroke-width=\"0.2\" stroke=\"black\" d=\"M 912 382 1044 752\"/>\n",
       "<path stroke-width=\"0.2\" stroke=\"black\" d=\"M 912 382 563 524\"/>\n",
       "<path stroke-width=\"0.2\" stroke=\"black\" d=\"M 426 1044 668 802\"/>\n",
       "<path stroke-width=\"0.2\" stroke=\"black\" d=\"M 426 1044 730 608\"/>\n",
       "<circle cx=\"236\" cy=\"462\" r=\"7.909090909090909\" style=\"fill:lightblue;stroke:black;stroke-width:1.0\"/>\n",
       "<circle cx=\"929\" cy=\"972\" r=\"11.363636363636363\" style=\"fill:lightblue;stroke:black;stroke-width:1.0\"/>\n",
       "<circle cx=\"1019\" cy=\"527\" r=\"13.090909090909092\" style=\"fill:lightblue;stroke:black;stroke-width:1.0\"/>\n",
       "<circle cx=\"912\" cy=\"382\" r=\"11.363636363636363\" style=\"fill:lightblue;stroke:black;stroke-width:1.0\"/>\n",
       "<circle cx=\"563\" cy=\"524\" r=\"20.0\" style=\"fill:lightblue;stroke:black;stroke-width:1.0\"/>\n",
       "<circle cx=\"1044\" cy=\"752\" r=\"13.090909090909092\" style=\"fill:lightblue;stroke:black;stroke-width:1.0\"/>\n",
       "<circle cx=\"886\" cy=\"741\" r=\"13.090909090909092\" style=\"fill:lightblue;stroke:black;stroke-width:1.0\"/>\n",
       "<circle cx=\"668\" cy=\"802\" r=\"16.545454545454547\" style=\"fill:lightblue;stroke:black;stroke-width:1.0\"/>\n",
       "<circle cx=\"180\" cy=\"20\" r=\"6.181818181818182\" style=\"fill:lightblue;stroke:black;stroke-width:1.0\"/>\n",
       "<circle cx=\"730\" cy=\"608\" r=\"11.363636363636363\" style=\"fill:lightblue;stroke:black;stroke-width:1.0\"/>\n",
       "<circle cx=\"20\" cy=\"292\" r=\"6.181818181818182\" style=\"fill:lightblue;stroke:black;stroke-width:1.0\"/>\n",
       "<circle cx=\"426\" cy=\"1044\" r=\"6.181818181818182\" style=\"fill:lightblue;stroke:black;stroke-width:1.0\"/>\n",
       "<text text-anchor=\"start\" x=\"247\" y=\"462\" font-size=\"10\">Marius</text><text text-anchor=\"start\" x=\"944\" y=\"972\" font-size=\"10\">Montparnasse</text><text text-anchor=\"start\" x=\"1035\" y=\"527\" font-size=\"10\">Claquesous</text><text text-anchor=\"start\" x=\"927\" y=\"382\" font-size=\"10\">Brujon</text><text text-anchor=\"start\" x=\"586\" y=\"524\" font-size=\"10\">Eponine</text><text text-anchor=\"start\" x=\"1060\" y=\"752\" font-size=\"10\">Gueulemer</text><text text-anchor=\"start\" x=\"902\" y=\"741\" font-size=\"10\">Babet</text><text text-anchor=\"start\" x=\"688\" y=\"802\" font-size=\"10\">Thenardier</text><text text-anchor=\"start\" x=\"189\" y=\"20\" font-size=\"10\">Mabeuf</text><text text-anchor=\"start\" x=\"745\" y=\"608\" font-size=\"10\">MmeThenardier</text><text text-anchor=\"start\" x=\"29\" y=\"292\" font-size=\"10\">Courfeyrac</text><text text-anchor=\"start\" x=\"435\" y=\"1044\" font-size=\"10\">Anzelma</text></svg>"
      ],
      "text/plain": [
       "<IPython.core.display.SVG object>"
      ]
     },
     "execution_count": 34,
     "metadata": {},
     "output_type": "execute_result"
    }
   ],
   "source": [
    "node = 'Eponine' \n",
    "\n",
    "G_ego = nx.ego_graph(G_named, node) \n",
    "\n",
    "draw_graph(G_ego, show_names=True, node_size=3) "
   ]
  },
  {
   "cell_type": "code",
   "execution_count": 35,
   "id": "fa6c2b10",
   "metadata": {},
   "outputs": [
    {
     "name": "stdout",
     "output_type": "stream",
     "text": [
      "['Montparnasse' 'Claquesous' 'Gavroche' 'Brujon' 'Eponine' 'Thenardier'\n",
      " 'Babet' 'Gueulemer']\n"
     ]
    },
    {
     "data": {
      "image/svg+xml": [
       "<svg xmlns=\"http://www.w3.org/2000/svg\" width=\"1164.0\" height=\"1064.0\">\n",
       "<path stroke-width=\"0.2\" stroke=\"black\" d=\"M 20 359 371 20\"/>\n",
       "<path stroke-width=\"0.2\" stroke=\"black\" d=\"M 925 100 1044 513\"/>\n",
       "<path stroke-width=\"0.2\" stroke=\"black\" d=\"M 925 100 742 724\"/>\n",
       "<path stroke-width=\"0.2\" stroke=\"black\" d=\"M 925 100 543 406\"/>\n",
       "<path stroke-width=\"0.2\" stroke=\"black\" d=\"M 1044 513 20 359\"/>\n",
       "<path stroke-width=\"0.2\" stroke=\"black\" d=\"M 1044 513 371 20\"/>\n",
       "<path stroke-width=\"0.2\" stroke=\"black\" d=\"M 1044 513 332 1044\"/>\n",
       "<path stroke-width=\"0.2\" stroke=\"black\" d=\"M 1044 513 135 636\"/>\n",
       "<path stroke-width=\"0.2\" stroke=\"black\" d=\"M 1044 513 925 100\"/>\n",
       "<path stroke-width=\"0.2\" stroke=\"black\" d=\"M 1044 513 742 724\"/>\n",
       "<path stroke-width=\"0.2\" stroke=\"black\" d=\"M 1044 513 543 406\"/>\n",
       "<path stroke-width=\"0.2\" stroke=\"black\" d=\"M 925 100 135 636\"/>\n",
       "<path stroke-width=\"0.2\" stroke=\"black\" d=\"M 742 724 20 359\"/>\n",
       "<path stroke-width=\"0.2\" stroke=\"black\" d=\"M 742 724 332 1044\"/>\n",
       "<path stroke-width=\"0.2\" stroke=\"black\" d=\"M 742 724 135 636\"/>\n",
       "<path stroke-width=\"0.2\" stroke=\"black\" d=\"M 742 724 925 100\"/>\n",
       "<path stroke-width=\"0.2\" stroke=\"black\" d=\"M 742 724 1044 513\"/>\n",
       "<path stroke-width=\"0.2\" stroke=\"black\" d=\"M 742 724 543 406\"/>\n",
       "<path stroke-width=\"0.2\" stroke=\"black\" d=\"M 543 406 20 359\"/>\n",
       "<path stroke-width=\"0.2\" stroke=\"black\" d=\"M 543 406 371 20\"/>\n",
       "<path stroke-width=\"0.2\" stroke=\"black\" d=\"M 543 406 332 1044\"/>\n",
       "<path stroke-width=\"0.2\" stroke=\"black\" d=\"M 543 406 135 636\"/>\n",
       "<path stroke-width=\"0.2\" stroke=\"black\" d=\"M 543 406 925 100\"/>\n",
       "<path stroke-width=\"0.2\" stroke=\"black\" d=\"M 742 724 371 20\"/>\n",
       "<path stroke-width=\"0.2\" stroke=\"black\" d=\"M 925 100 371 20\"/>\n",
       "<path stroke-width=\"0.2\" stroke=\"black\" d=\"M 925 100 20 359\"/>\n",
       "<path stroke-width=\"0.2\" stroke=\"black\" d=\"M 135 636 543 406\"/>\n",
       "<path stroke-width=\"0.2\" stroke=\"black\" d=\"M 20 359 332 1044\"/>\n",
       "<path stroke-width=\"0.2\" stroke=\"black\" d=\"M 20 359 135 636\"/>\n",
       "<path stroke-width=\"0.2\" stroke=\"black\" d=\"M 20 359 925 100\"/>\n",
       "<path stroke-width=\"0.2\" stroke=\"black\" d=\"M 20 359 1044 513\"/>\n",
       "<path stroke-width=\"0.2\" stroke=\"black\" d=\"M 20 359 742 724\"/>\n",
       "<path stroke-width=\"0.2\" stroke=\"black\" d=\"M 20 359 543 406\"/>\n",
       "<path stroke-width=\"0.2\" stroke=\"black\" d=\"M 371 20 20 359\"/>\n",
       "<path stroke-width=\"0.2\" stroke=\"black\" d=\"M 371 20 135 636\"/>\n",
       "<path stroke-width=\"0.2\" stroke=\"black\" d=\"M 371 20 925 100\"/>\n",
       "<path stroke-width=\"0.2\" stroke=\"black\" d=\"M 371 20 1044 513\"/>\n",
       "<path stroke-width=\"0.2\" stroke=\"black\" d=\"M 371 20 742 724\"/>\n",
       "<path stroke-width=\"0.2\" stroke=\"black\" d=\"M 371 20 543 406\"/>\n",
       "<path stroke-width=\"0.2\" stroke=\"black\" d=\"M 332 1044 20 359\"/>\n",
       "<path stroke-width=\"0.2\" stroke=\"black\" d=\"M 332 1044 135 636\"/>\n",
       "<path stroke-width=\"0.2\" stroke=\"black\" d=\"M 332 1044 1044 513\"/>\n",
       "<path stroke-width=\"0.2\" stroke=\"black\" d=\"M 332 1044 742 724\"/>\n",
       "<path stroke-width=\"0.2\" stroke=\"black\" d=\"M 332 1044 543 406\"/>\n",
       "<path stroke-width=\"0.2\" stroke=\"black\" d=\"M 135 636 20 359\"/>\n",
       "<path stroke-width=\"0.2\" stroke=\"black\" d=\"M 135 636 371 20\"/>\n",
       "<path stroke-width=\"0.2\" stroke=\"black\" d=\"M 135 636 332 1044\"/>\n",
       "<path stroke-width=\"0.2\" stroke=\"black\" d=\"M 135 636 925 100\"/>\n",
       "<path stroke-width=\"0.2\" stroke=\"black\" d=\"M 135 636 1044 513\"/>\n",
       "<path stroke-width=\"0.2\" stroke=\"black\" d=\"M 135 636 742 724\"/>\n",
       "<path stroke-width=\"0.2\" stroke=\"black\" d=\"M 543 406 1044 513\"/>\n",
       "<path stroke-width=\"0.2\" stroke=\"black\" d=\"M 543 406 742 724\"/>\n",
       "<circle cx=\"20\" cy=\"359\" r=\"20.0\" style=\"fill:lightblue;stroke:black;stroke-width:1.0\"/>\n",
       "<circle cx=\"371\" cy=\"20\" r=\"17.285714285714285\" style=\"fill:lightblue;stroke:black;stroke-width:1.0\"/>\n",
       "<circle cx=\"332\" cy=\"1044\" r=\"14.571428571428571\" style=\"fill:lightblue;stroke:black;stroke-width:1.0\"/>\n",
       "<circle cx=\"135\" cy=\"636\" r=\"20.0\" style=\"fill:lightblue;stroke:black;stroke-width:1.0\"/>\n",
       "<circle cx=\"925\" cy=\"100\" r=\"17.285714285714285\" style=\"fill:lightblue;stroke:black;stroke-width:1.0\"/>\n",
       "<circle cx=\"1044\" cy=\"513\" r=\"20.0\" style=\"fill:lightblue;stroke:black;stroke-width:1.0\"/>\n",
       "<circle cx=\"742\" cy=\"724\" r=\"20.0\" style=\"fill:lightblue;stroke:black;stroke-width:1.0\"/>\n",
       "<circle cx=\"543\" cy=\"406\" r=\"20.0\" style=\"fill:lightblue;stroke:black;stroke-width:1.0\"/>\n",
       "<text text-anchor=\"start\" x=\"43\" y=\"359\" font-size=\"10\">Montparnasse</text><text text-anchor=\"start\" x=\"391\" y=\"20\" font-size=\"10\">Claquesous</text><text text-anchor=\"start\" x=\"350\" y=\"1044\" font-size=\"10\">Gavroche</text><text text-anchor=\"start\" x=\"158\" y=\"636\" font-size=\"10\">Brujon</text><text text-anchor=\"start\" x=\"945\" y=\"100\" font-size=\"10\">Eponine</text><text text-anchor=\"start\" x=\"1067\" y=\"513\" font-size=\"10\">Thenardier</text><text text-anchor=\"start\" x=\"765\" y=\"724\" font-size=\"10\">Babet</text><text text-anchor=\"start\" x=\"566\" y=\"406\" font-size=\"10\">Gueulemer</text></svg>"
      ],
      "text/plain": [
       "<IPython.core.display.SVG object>"
      ]
     },
     "execution_count": 35,
     "metadata": {},
     "output_type": "execute_result"
    }
   ],
   "source": [
    "node = 'Brujon' \n",
    "\n",
    "G_ego = nx.ego_graph(G_named, node) \n",
    "\n",
    "draw_graph(G_ego, show_names=True, node_size=3) "
   ]
  },
  {
   "cell_type": "code",
   "execution_count": 36,
   "id": "e7d8517a",
   "metadata": {},
   "outputs": [
    {
     "data": {
      "text/html": [
       "<div>\n",
       "<style scoped>\n",
       "    .dataframe tbody tr th:only-of-type {\n",
       "        vertical-align: middle;\n",
       "    }\n",
       "\n",
       "    .dataframe tbody tr th {\n",
       "        vertical-align: top;\n",
       "    }\n",
       "\n",
       "    .dataframe thead th {\n",
       "        text-align: right;\n",
       "    }\n",
       "</style>\n",
       "<table border=\"1\" class=\"dataframe\">\n",
       "  <thead>\n",
       "    <tr style=\"text-align: right;\">\n",
       "      <th></th>\n",
       "      <th>0</th>\n",
       "      <th>1</th>\n",
       "      <th>2</th>\n",
       "      <th>3</th>\n",
       "      <th>4</th>\n",
       "      <th>5</th>\n",
       "      <th>6</th>\n",
       "      <th>7</th>\n",
       "      <th>8</th>\n",
       "      <th>9</th>\n",
       "      <th>...</th>\n",
       "      <th>23</th>\n",
       "      <th>24</th>\n",
       "      <th>25</th>\n",
       "      <th>26</th>\n",
       "      <th>27</th>\n",
       "      <th>28</th>\n",
       "      <th>29</th>\n",
       "      <th>30</th>\n",
       "      <th>31</th>\n",
       "      <th>label</th>\n",
       "    </tr>\n",
       "  </thead>\n",
       "  <tbody>\n",
       "    <tr>\n",
       "      <th>Napoleon</th>\n",
       "      <td>1</td>\n",
       "      <td>1</td>\n",
       "      <td>0</td>\n",
       "      <td>1</td>\n",
       "      <td>0</td>\n",
       "      <td>0</td>\n",
       "      <td>0</td>\n",
       "      <td>1</td>\n",
       "      <td>1</td>\n",
       "      <td>0</td>\n",
       "      <td>...</td>\n",
       "      <td>1</td>\n",
       "      <td>0</td>\n",
       "      <td>1</td>\n",
       "      <td>0</td>\n",
       "      <td>0</td>\n",
       "      <td>1</td>\n",
       "      <td>0</td>\n",
       "      <td>1</td>\n",
       "      <td>1</td>\n",
       "      <td>0</td>\n",
       "    </tr>\n",
       "    <tr>\n",
       "      <th>Myriel</th>\n",
       "      <td>1</td>\n",
       "      <td>3</td>\n",
       "      <td>0</td>\n",
       "      <td>10</td>\n",
       "      <td>5</td>\n",
       "      <td>5</td>\n",
       "      <td>9</td>\n",
       "      <td>1</td>\n",
       "      <td>2</td>\n",
       "      <td>2</td>\n",
       "      <td>...</td>\n",
       "      <td>2</td>\n",
       "      <td>6</td>\n",
       "      <td>10</td>\n",
       "      <td>10</td>\n",
       "      <td>4</td>\n",
       "      <td>9</td>\n",
       "      <td>10</td>\n",
       "      <td>4</td>\n",
       "      <td>7</td>\n",
       "      <td>0</td>\n",
       "    </tr>\n",
       "    <tr>\n",
       "      <th>MlleBaptistine</th>\n",
       "      <td>1</td>\n",
       "      <td>3</td>\n",
       "      <td>3</td>\n",
       "      <td>10</td>\n",
       "      <td>2</td>\n",
       "      <td>10</td>\n",
       "      <td>2</td>\n",
       "      <td>1</td>\n",
       "      <td>2</td>\n",
       "      <td>2</td>\n",
       "      <td>...</td>\n",
       "      <td>2</td>\n",
       "      <td>10</td>\n",
       "      <td>10</td>\n",
       "      <td>10</td>\n",
       "      <td>3</td>\n",
       "      <td>3</td>\n",
       "      <td>10</td>\n",
       "      <td>10</td>\n",
       "      <td>1</td>\n",
       "      <td>0</td>\n",
       "    </tr>\n",
       "    <tr>\n",
       "      <th>MmeMagloire</th>\n",
       "      <td>1</td>\n",
       "      <td>3</td>\n",
       "      <td>3</td>\n",
       "      <td>10</td>\n",
       "      <td>2</td>\n",
       "      <td>10</td>\n",
       "      <td>2</td>\n",
       "      <td>1</td>\n",
       "      <td>2</td>\n",
       "      <td>2</td>\n",
       "      <td>...</td>\n",
       "      <td>2</td>\n",
       "      <td>10</td>\n",
       "      <td>10</td>\n",
       "      <td>10</td>\n",
       "      <td>3</td>\n",
       "      <td>3</td>\n",
       "      <td>10</td>\n",
       "      <td>10</td>\n",
       "      <td>1</td>\n",
       "      <td>0</td>\n",
       "    </tr>\n",
       "    <tr>\n",
       "      <th>CountessDeLo</th>\n",
       "      <td>1</td>\n",
       "      <td>4</td>\n",
       "      <td>1</td>\n",
       "      <td>4</td>\n",
       "      <td>1</td>\n",
       "      <td>4</td>\n",
       "      <td>1</td>\n",
       "      <td>1</td>\n",
       "      <td>1</td>\n",
       "      <td>4</td>\n",
       "      <td>...</td>\n",
       "      <td>1</td>\n",
       "      <td>4</td>\n",
       "      <td>1</td>\n",
       "      <td>4</td>\n",
       "      <td>4</td>\n",
       "      <td>4</td>\n",
       "      <td>1</td>\n",
       "      <td>4</td>\n",
       "      <td>1</td>\n",
       "      <td>0</td>\n",
       "    </tr>\n",
       "    <tr>\n",
       "      <th>Geborand</th>\n",
       "      <td>1</td>\n",
       "      <td>1</td>\n",
       "      <td>5</td>\n",
       "      <td>1</td>\n",
       "      <td>5</td>\n",
       "      <td>5</td>\n",
       "      <td>5</td>\n",
       "      <td>1</td>\n",
       "      <td>1</td>\n",
       "      <td>5</td>\n",
       "      <td>...</td>\n",
       "      <td>1</td>\n",
       "      <td>5</td>\n",
       "      <td>1</td>\n",
       "      <td>5</td>\n",
       "      <td>5</td>\n",
       "      <td>5</td>\n",
       "      <td>1</td>\n",
       "      <td>1</td>\n",
       "      <td>1</td>\n",
       "      <td>0</td>\n",
       "    </tr>\n",
       "    <tr>\n",
       "      <th>Champtercier</th>\n",
       "      <td>1</td>\n",
       "      <td>1</td>\n",
       "      <td>6</td>\n",
       "      <td>1</td>\n",
       "      <td>6</td>\n",
       "      <td>6</td>\n",
       "      <td>1</td>\n",
       "      <td>1</td>\n",
       "      <td>6</td>\n",
       "      <td>6</td>\n",
       "      <td>...</td>\n",
       "      <td>1</td>\n",
       "      <td>6</td>\n",
       "      <td>1</td>\n",
       "      <td>1</td>\n",
       "      <td>6</td>\n",
       "      <td>6</td>\n",
       "      <td>1</td>\n",
       "      <td>1</td>\n",
       "      <td>1</td>\n",
       "      <td>0</td>\n",
       "    </tr>\n",
       "    <tr>\n",
       "      <th>Cravatte</th>\n",
       "      <td>1</td>\n",
       "      <td>1</td>\n",
       "      <td>7</td>\n",
       "      <td>7</td>\n",
       "      <td>7</td>\n",
       "      <td>7</td>\n",
       "      <td>7</td>\n",
       "      <td>1</td>\n",
       "      <td>7</td>\n",
       "      <td>7</td>\n",
       "      <td>...</td>\n",
       "      <td>1</td>\n",
       "      <td>1</td>\n",
       "      <td>1</td>\n",
       "      <td>7</td>\n",
       "      <td>7</td>\n",
       "      <td>7</td>\n",
       "      <td>7</td>\n",
       "      <td>1</td>\n",
       "      <td>7</td>\n",
       "      <td>0</td>\n",
       "    </tr>\n",
       "    <tr>\n",
       "      <th>Count</th>\n",
       "      <td>1</td>\n",
       "      <td>1</td>\n",
       "      <td>8</td>\n",
       "      <td>1</td>\n",
       "      <td>8</td>\n",
       "      <td>8</td>\n",
       "      <td>1</td>\n",
       "      <td>1</td>\n",
       "      <td>8</td>\n",
       "      <td>1</td>\n",
       "      <td>...</td>\n",
       "      <td>1</td>\n",
       "      <td>8</td>\n",
       "      <td>8</td>\n",
       "      <td>1</td>\n",
       "      <td>8</td>\n",
       "      <td>8</td>\n",
       "      <td>1</td>\n",
       "      <td>1</td>\n",
       "      <td>1</td>\n",
       "      <td>0</td>\n",
       "    </tr>\n",
       "    <tr>\n",
       "      <th>OldMan</th>\n",
       "      <td>1</td>\n",
       "      <td>9</td>\n",
       "      <td>9</td>\n",
       "      <td>9</td>\n",
       "      <td>1</td>\n",
       "      <td>9</td>\n",
       "      <td>9</td>\n",
       "      <td>1</td>\n",
       "      <td>9</td>\n",
       "      <td>9</td>\n",
       "      <td>...</td>\n",
       "      <td>1</td>\n",
       "      <td>1</td>\n",
       "      <td>9</td>\n",
       "      <td>1</td>\n",
       "      <td>9</td>\n",
       "      <td>9</td>\n",
       "      <td>1</td>\n",
       "      <td>1</td>\n",
       "      <td>1</td>\n",
       "      <td>0</td>\n",
       "    </tr>\n",
       "  </tbody>\n",
       "</table>\n",
       "<p>10 rows × 33 columns</p>\n",
       "</div>"
      ],
      "text/plain": [
       "                0  1  2   3  4   5  6  7  8  9  ...  23  24  25  26  27  28  \\\n",
       "Napoleon        1  1  0   1  0   0  0  1  1  0  ...   1   0   1   0   0   1   \n",
       "Myriel          1  3  0  10  5   5  9  1  2  2  ...   2   6  10  10   4   9   \n",
       "MlleBaptistine  1  3  3  10  2  10  2  1  2  2  ...   2  10  10  10   3   3   \n",
       "MmeMagloire     1  3  3  10  2  10  2  1  2  2  ...   2  10  10  10   3   3   \n",
       "CountessDeLo    1  4  1   4  1   4  1  1  1  4  ...   1   4   1   4   4   4   \n",
       "Geborand        1  1  5   1  5   5  5  1  1  5  ...   1   5   1   5   5   5   \n",
       "Champtercier    1  1  6   1  6   6  1  1  6  6  ...   1   6   1   1   6   6   \n",
       "Cravatte        1  1  7   7  7   7  7  1  7  7  ...   1   1   1   7   7   7   \n",
       "Count           1  1  8   1  8   8  1  1  8  1  ...   1   8   8   1   8   8   \n",
       "OldMan          1  9  9   9  1   9  9  1  9  9  ...   1   1   9   1   9   9   \n",
       "\n",
       "                29  30  31  label  \n",
       "Napoleon         0   1   1      0  \n",
       "Myriel          10   4   7      0  \n",
       "MlleBaptistine  10  10   1      0  \n",
       "MmeMagloire     10  10   1      0  \n",
       "CountessDeLo     1   4   1      0  \n",
       "Geborand         1   1   1      0  \n",
       "Champtercier     1   1   1      0  \n",
       "Cravatte         7   1   7      0  \n",
       "Count            1   1   1      0  \n",
       "OldMan           1   1   1      0  \n",
       "\n",
       "[10 rows x 33 columns]"
      ]
     },
     "execution_count": 36,
     "metadata": {},
     "output_type": "execute_result"
    }
   ],
   "source": [
    "eb_df = pd.DataFrame(embeddings, index=nodes) \n",
    "eb_df['label'] = clf_df['label'] \n",
    "eb_df.head(10) "
   ]
  },
  {
   "cell_type": "code",
   "execution_count": 37,
   "id": "c48dd381",
   "metadata": {},
   "outputs": [
    {
     "name": "stdout",
     "output_type": "stream",
     "text": [
      "train accuracy: 0.9811320754716981\n",
      "test accuracy: 1.0\n"
     ]
    }
   ],
   "source": [
    "X_cols = [c for c in eb_df.columns if c != 'label'] \n",
    "\n",
    "X = eb_df[X_cols] \n",
    "y = eb_df['label'] \n",
    "\n",
    "X_train, X_test, y_train, y_test = train_test_split(X, y, random_state=1337, test_size=0.3) \n",
    "\n",
    "clf = RandomForestClassifier(random_state=1337) \n",
    "clf.fit(X_train, y_train) \n",
    "\n",
    "train_acc = clf.score(X_train, y_train) \n",
    "test_acc = clf.score(X_test, y_test) \n",
    "\n",
    "print('train accuracy: {}\\ntest accuracy: {}'.format(train_acc, test_acc)) "
   ]
  },
  {
   "cell_type": "code",
   "execution_count": 38,
   "id": "aafac30a",
   "metadata": {},
   "outputs": [
    {
     "data": {
      "image/png": "[encoded data removed]",
      "text/plain": [
       "<Figure size 1000x400 with 1 Axes>"
      ]
     },
     "metadata": {},
     "output_type": "display_data"
    }
   ],
   "source": [
    "importances = pd.DataFrame(clf.feature_importances_, index=X_train.columns) \n",
    "importances.columns = ['importance'] \n",
    "importances.sort_values('importance', ascending=False, inplace=True) \n",
    "importances[0:10].plot.barh(figsize=(10,4)).invert_yaxis() "
   ]
  },
  {
   "cell_type": "markdown",
   "id": "04448163",
   "metadata": {},
   "source": [
    "## RandNE"
   ]
  },
  {
   "cell_type": "code",
   "execution_count": 39,
   "id": "60537fe3",
   "metadata": {},
   "outputs": [
    {
     "data": {
      "application/vnd.plotly.v1+json": {
       "config": {
        "plotlyServerURL": "https://plot.ly"
       },
       "data": [
        {
         "hovertemplate": "x=%{x}<br>y=%{y}<br>index=%{text}<extra></extra>",
         "legendgroup": "",
         "marker": {
          "color": "#636efa",
          "symbol": "circle"
         },
         "mode": "markers+text",
         "name": "",
         "orientation": "v",
         "showlegend": false,
         "text": [
          "Napoleon",
          "Myriel",
          "MlleBaptistine",
          "MmeMagloire",
          "CountessDeLo",
          "Geborand",
          "Champtercier",
          "Cravatte",
          "Count",
          "OldMan",
          "Valjean",
          "Labarre",
          "Marguerite",
          "MmeDeR",
          "Isabeau",
          "Gervais",
          "Fantine",
          "MmeThenardier",
          "Thenardier",
          "Cosette",
          "Javert",
          "Fauchelevent",
          "Bamatabois",
          "Simplice",
          "Scaufflaire",
          "Woman1",
          "Judge",
          "Champmathieu",
          "Brevet",
          "Chenildieu",
          "Cochepaille",
          "Woman2",
          "MotherInnocent",
          "Gavroche",
          "Gillenormand",
          "MlleGillenormand",
          "Marius",
          "Enjolras",
          "Bossuet",
          "Gueulemer",
          "Babet",
          "Claquesous",
          "Montparnasse",
          "Toussaint",
          "Listolier",
          "Tholomyes",
          "Fameuil",
          "Blacheville",
          "Favourite",
          "Dahlia",
          "Zephine",
          "Perpetue",
          "Eponine",
          "Anzelma",
          "Magnon",
          "Pontmercy",
          "Boulatruelle",
          "Brujon",
          "LtGillenormand",
          "Gribier",
          "MmePontmercy",
          "Mabeuf",
          "Courfeyrac",
          "MmeBurgon",
          "Jondrette",
          "Combeferre",
          "Prouvaire",
          "Feuilly",
          "Bahorel",
          "Joly",
          "Grantaire",
          "Child1",
          "Child2",
          "MmeHucheloup",
          "BaronessT",
          "MlleVaubois",
          "MotherPlutarch"
         ],
         "textposition": "top center",
         "type": "scatter",
         "x": [
          5.022264432434077,
          5.028944066818028,
          5.193145143680041,
          5.193145143680041,
          5.243731089097166,
          5.039572399153744,
          5.208590827178269,
          4.747276338493155,
          5.555140583322253,
          5.3063532517240555,
          0.9884593267649394,
          2.364272762213143,
          2.096771126489264,
          2.632695768841049,
          1.899202579149274,
          2.330671133066516,
          0.5655815435579572,
          -0.8318310936894334,
          -1.1821170287511447,
          -0.557407713277249,
          -0.3691713583584605,
          0.9413555161817805,
          2.6409534560699743,
          1.3244110454614924,
          2.5697088206720746,
          1.3276639090750972,
          3.1614282800722218,
          3.1614282800722218,
          3.1614282800722218,
          3.1614282800722218,
          3.1614282800722218,
          1.0793703992488353,
          1.8920903088111172,
          -3.361818448746027,
          -0.6211203685773323,
          -0.5078432094253774,
          -2.824261135199472,
          -3.964624505250355,
          -4.366227404199694,
          -1.3053840549949383,
          -1.3053840549949383,
          -1.1806535936215425,
          -1.2001515369246045,
          0.7212674797723492,
          0.20472976526500267,
          -0.2553090275317321,
          0.20472976526500267,
          0.20472976526500267,
          0.20472976526500267,
          0.20472976526500267,
          0.20472976526500267,
          0.8632345036703546,
          -2.3954642934729105,
          -2.151592591153682,
          -1.3323838559258732,
          -1.5876672172013728,
          -0.1577366796982054,
          -1.9661327960286863,
          -1.3637800768893344,
          -0.36203456484250846,
          -0.6926929769425635,
          -4.501814299963423,
          -4.945992824239128,
          -2.8077123333123346,
          -1.5777065695109942,
          -4.9454195576806,
          -5.005433630608106,
          -4.9454195576806,
          -5.0237915980678505,
          -5.0237915980678505,
          -5.091866504982612,
          -3.125554757091322,
          -3.125554757091322,
          -4.994722357450108,
          -1.3306824929280692,
          -0.10339620301669503,
          -2.4197443191886974
         ],
         "xaxis": "x",
         "y": [
          6.53068797944713,
          4.606035966390684,
          2.4154244842155643,
          2.415424484215557,
          6.333485870568888,
          6.2260113065179326,
          6.329406979470511,
          6.014329882332001,
          6.118397525893203,
          6.257040669233689,
          -1.0481044625401943,
          -2.7778603101151056,
          -3.439859728324191,
          -2.4550900856913493,
          -2.0169785835113974,
          -2.0273608219987445,
          -3.101071644651,
          -1.8687087199362367,
          -1.2748453621077798,
          -1.5602800391535816,
          -1.5841317687629966,
          -1.465891766889055,
          -3.4428680933151656,
          -3.077225588289574,
          -2.6173609628790744,
          -2.285554825651839,
          -3.229298062583699,
          -3.229298062583699,
          -3.229298062583699,
          -3.229298062583699,
          -3.229298062583699,
          -2.535905416326583,
          -1.7021959785866574,
          1.396426075168381,
          -0.7233940810299513,
          -0.924815156846518,
          0.6815802108536423,
          1.7437690480383454,
          2.3268518869102026,
          -1.235212383232397,
          -1.235212383232397,
          -1.3291302395683917,
          -1.152013867905314,
          -2.390713800431438,
          -3.1951211558316372,
          -2.6903946689178104,
          -3.1951211558316372,
          -3.1951211558316372,
          -3.1951211558316372,
          -3.1951211558316372,
          -3.1951211558316372,
          -2.460850502572388,
          -0.3884724347580398,
          -1.0373223198498576,
          -0.39447982889756905,
          -0.2080083094518919,
          -0.32571404650409147,
          -0.4502445586122842,
          -0.2359508379155968,
          0.28409050912471906,
          -0.5371504154111156,
          2.1615282827906435,
          2.58904077374721,
          1.98635607239961,
          1.3601407358060178,
          2.784703033749067,
          2.9779648340651166,
          2.784703033749067,
          2.8889992723372293,
          2.8889992723372293,
          3.0835386290583022,
          2.0934522829030415,
          2.0934522829030415,
          2.976399928724064,
          0.24628370124230742,
          -0.1541958211627705,
          0.8772620487462728
         ],
         "yaxis": "y"
        }
       ],
       "layout": {
        "font": {
         "size": 11
        },
        "height": 800,
        "legend": {
         "tracegroupgap": 0
        },
        "margin": {
         "t": 60
        },
        "template": {
         "data": {
          "bar": [
           {
            "error_x": {
             "color": "#2a3f5f"
            },
            "error_y": {
             "color": "#2a3f5f"
            },
            "marker": {
             "line": {
              "color": "#E5ECF6",
              "width": 0.5
             },
             "pattern": {
              "fillmode": "overlay",
              "size": 10,
              "solidity": 0.2
             }
            },
            "type": "bar"
           }
          ],
          "barpolar": [
           {
            "marker": {
             "line": {
              "color": "#E5ECF6",
              "width": 0.5
             },
             "pattern": {
              "fillmode": "overlay",
              "size": 10,
              "solidity": 0.2
             }
            },
            "type": "barpolar"
           }
          ],
          "carpet": [
           {
            "aaxis": {
             "endlinecolor": "#2a3f5f",
             "gridcolor": "white",
             "linecolor": "white",
             "minorgridcolor": "white",
             "startlinecolor": "#2a3f5f"
            },
            "baxis": {
             "endlinecolor": "#2a3f5f",
             "gridcolor": "white",
             "linecolor": "white",
             "minorgridcolor": "white",
             "startlinecolor": "#2a3f5f"
            },
            "type": "carpet"
           }
          ],
          "choropleth": [
           {
            "colorbar": {
             "outlinewidth": 0,
             "ticks": ""
            },
            "type": "choropleth"
           }
          ],
          "contour": [
           {
            "colorbar": {
             "outlinewidth": 0,
             "ticks": ""
            },
            "colorscale": [
             [
              0,
              "#0d0887"
             ],
             [
              0.1111111111111111,
              "#46039f"
             ],
             [
              0.2222222222222222,
              "#7201a8"
             ],
             [
              0.3333333333333333,
              "#9c179e"
             ],
             [
              0.4444444444444444,
              "#bd3786"
             ],
             [
              0.5555555555555556,
              "#d8576b"
             ],
             [
              0.6666666666666666,
              "#ed7953"
             ],
             [
              0.7777777777777778,
              "#fb9f3a"
             ],
             [
              0.8888888888888888,
              "#fdca26"
             ],
             [
              1,
              "#f0f921"
             ]
            ],
            "type": "contour"
           }
          ],
          "contourcarpet": [
           {
            "colorbar": {
             "outlinewidth": 0,
             "ticks": ""
            },
            "type": "contourcarpet"
           }
          ],
          "heatmap": [
           {
            "colorbar": {
             "outlinewidth": 0,
             "ticks": ""
            },
            "colorscale": [
             [
              0,
              "#0d0887"
             ],
             [
              0.1111111111111111,
              "#46039f"
             ],
             [
              0.2222222222222222,
              "#7201a8"
             ],
             [
              0.3333333333333333,
              "#9c179e"
             ],
             [
              0.4444444444444444,
              "#bd3786"
             ],
             [
              0.5555555555555556,
              "#d8576b"
             ],
             [
              0.6666666666666666,
              "#ed7953"
             ],
             [
              0.7777777777777778,
              "#fb9f3a"
             ],
             [
              0.8888888888888888,
              "#fdca26"
             ],
             [
              1,
              "#f0f921"
             ]
            ],
            "type": "heatmap"
           }
          ],
          "heatmapgl": [
           {
            "colorbar": {
             "outlinewidth": 0,
             "ticks": ""
            },
            "colorscale": [
             [
              0,
              "#0d0887"
             ],
             [
              0.1111111111111111,
              "#46039f"
             ],
             [
              0.2222222222222222,
              "#7201a8"
             ],
             [
              0.3333333333333333,
              "#9c179e"
             ],
             [
              0.4444444444444444,
              "#bd3786"
             ],
             [
              0.5555555555555556,
              "#d8576b"
             ],
             [
              0.6666666666666666,
              "#ed7953"
             ],
             [
              0.7777777777777778,
              "#fb9f3a"
             ],
             [
              0.8888888888888888,
              "#fdca26"
             ],
             [
              1,
              "#f0f921"
             ]
            ],
            "type": "heatmapgl"
           }
          ],
          "histogram": [
           {
            "marker": {
             "pattern": {
              "fillmode": "overlay",
              "size": 10,
              "solidity": 0.2
             }
            },
            "type": "histogram"
           }
          ],
          "histogram2d": [
           {
            "colorbar": {
             "outlinewidth": 0,
             "ticks": ""
            },
            "colorscale": [
             [
              0,
              "#0d0887"
             ],
             [
              0.1111111111111111,
              "#46039f"
             ],
             [
              0.2222222222222222,
              "#7201a8"
             ],
             [
              0.3333333333333333,
              "#9c179e"
             ],
             [
              0.4444444444444444,
              "#bd3786"
             ],
             [
              0.5555555555555556,
              "#d8576b"
             ],
             [
              0.6666666666666666,
              "#ed7953"
             ],
             [
              0.7777777777777778,
              "#fb9f3a"
             ],
             [
              0.8888888888888888,
              "#fdca26"
             ],
             [
              1,
              "#f0f921"
             ]
            ],
            "type": "histogram2d"
           }
          ],
          "histogram2dcontour": [
           {
            "colorbar": {
             "outlinewidth": 0,
             "ticks": ""
            },
            "colorscale": [
             [
              0,
              "#0d0887"
             ],
             [
              0.1111111111111111,
              "#46039f"
             ],
             [
              0.2222222222222222,
              "#7201a8"
             ],
             [
              0.3333333333333333,
              "#9c179e"
             ],
             [
              0.4444444444444444,
              "#bd3786"
             ],
             [
              0.5555555555555556,
              "#d8576b"
             ],
             [
              0.6666666666666666,
              "#ed7953"
             ],
             [
              0.7777777777777778,
              "#fb9f3a"
             ],
             [
              0.8888888888888888,
              "#fdca26"
             ],
             [
              1,
              "#f0f921"
             ]
            ],
            "type": "histogram2dcontour"
           }
          ],
          "mesh3d": [
           {
            "colorbar": {
             "outlinewidth": 0,
             "ticks": ""
            },
            "type": "mesh3d"
           }
          ],
          "parcoords": [
           {
            "line": {
             "colorbar": {
              "outlinewidth": 0,
              "ticks": ""
             }
            },
            "type": "parcoords"
           }
          ],
          "pie": [
           {
            "automargin": true,
            "type": "pie"
           }
          ],
          "scatter": [
           {
            "fillpattern": {
             "fillmode": "overlay",
             "size": 10,
             "solidity": 0.2
            },
            "type": "scatter"
           }
          ],
          "scatter3d": [
           {
            "line": {
             "colorbar": {
              "outlinewidth": 0,
              "ticks": ""
             }
            },
            "marker": {
             "colorbar": {
              "outlinewidth": 0,
              "ticks": ""
             }
            },
            "type": "scatter3d"
           }
          ],
          "scattercarpet": [
           {
            "marker": {
             "colorbar": {
              "outlinewidth": 0,
              "ticks": ""
             }
            },
            "type": "scattercarpet"
           }
          ],
          "scattergeo": [
           {
            "marker": {
             "colorbar": {
              "outlinewidth": 0,
              "ticks": ""
             }
            },
            "type": "scattergeo"
           }
          ],
          "scattergl": [
           {
            "marker": {
             "colorbar": {
              "outlinewidth": 0,
              "ticks": ""
             }
            },
            "type": "scattergl"
           }
          ],
          "scattermapbox": [
           {
            "marker": {
             "colorbar": {
              "outlinewidth": 0,
              "ticks": ""
             }
            },
            "type": "scattermapbox"
           }
          ],
          "scatterpolar": [
           {
            "marker": {
             "colorbar": {
              "outlinewidth": 0,
              "ticks": ""
             }
            },
            "type": "scatterpolar"
           }
          ],
          "scatterpolargl": [
           {
            "marker": {
             "colorbar": {
              "outlinewidth": 0,
              "ticks": ""
             }
            },
            "type": "scatterpolargl"
           }
          ],
          "scatterternary": [
           {
            "marker": {
             "colorbar": {
              "outlinewidth": 0,
              "ticks": ""
             }
            },
            "type": "scatterternary"
           }
          ],
          "surface": [
           {
            "colorbar": {
             "outlinewidth": 0,
             "ticks": ""
            },
            "colorscale": [
             [
              0,
              "#0d0887"
             ],
             [
              0.1111111111111111,
              "#46039f"
             ],
             [
              0.2222222222222222,
              "#7201a8"
             ],
             [
              0.3333333333333333,
              "#9c179e"
             ],
             [
              0.4444444444444444,
              "#bd3786"
             ],
             [
              0.5555555555555556,
              "#d8576b"
             ],
             [
              0.6666666666666666,
              "#ed7953"
             ],
             [
              0.7777777777777778,
              "#fb9f3a"
             ],
             [
              0.8888888888888888,
              "#fdca26"
             ],
             [
              1,
              "#f0f921"
             ]
            ],
            "type": "surface"
           }
          ],
          "table": [
           {
            "cells": {
             "fill": {
              "color": "#EBF0F8"
             },
             "line": {
              "color": "white"
             }
            },
            "header": {
             "fill": {
              "color": "#C8D4E3"
             },
             "line": {
              "color": "white"
             }
            },
            "type": "table"
           }
          ]
         },
         "layout": {
          "annotationdefaults": {
           "arrowcolor": "#2a3f5f",
           "arrowhead": 0,
           "arrowwidth": 1
          },
          "autotypenumbers": "strict",
          "coloraxis": {
           "colorbar": {
            "outlinewidth": 0,
            "ticks": ""
           }
          },
          "colorscale": {
           "diverging": [
            [
             0,
             "#8e0152"
            ],
            [
             0.1,
             "#c51b7d"
            ],
            [
             0.2,
             "#de77ae"
            ],
            [
             0.3,
             "#f1b6da"
            ],
            [
             0.4,
             "#fde0ef"
            ],
            [
             0.5,
             "#f7f7f7"
            ],
            [
             0.6,
             "#e6f5d0"
            ],
            [
             0.7,
             "#b8e186"
            ],
            [
             0.8,
             "#7fbc41"
            ],
            [
             0.9,
             "#4d9221"
            ],
            [
             1,
             "#276419"
            ]
           ],
           "sequential": [
            [
             0,
             "#0d0887"
            ],
            [
             0.1111111111111111,
             "#46039f"
            ],
            [
             0.2222222222222222,
             "#7201a8"
            ],
            [
             0.3333333333333333,
             "#9c179e"
            ],
            [
             0.4444444444444444,
             "#bd3786"
            ],
            [
             0.5555555555555556,
             "#d8576b"
            ],
            [
             0.6666666666666666,
             "#ed7953"
            ],
            [
             0.7777777777777778,
             "#fb9f3a"
            ],
            [
             0.8888888888888888,
             "#fdca26"
            ],
            [
             1,
             "#f0f921"
            ]
           ],
           "sequentialminus": [
            [
             0,
             "#0d0887"
            ],
            [
             0.1111111111111111,
             "#46039f"
            ],
            [
             0.2222222222222222,
             "#7201a8"
            ],
            [
             0.3333333333333333,
             "#9c179e"
            ],
            [
             0.4444444444444444,
             "#bd3786"
            ],
            [
             0.5555555555555556,
             "#d8576b"
            ],
            [
             0.6666666666666666,
             "#ed7953"
            ],
            [
             0.7777777777777778,
             "#fb9f3a"
            ],
            [
             0.8888888888888888,
             "#fdca26"
            ],
            [
             1,
             "#f0f921"
            ]
           ]
          },
          "colorway": [
           "#636efa",
           "#EF553B",
           "#00cc96",
           "#ab63fa",
           "#FFA15A",
           "#19d3f3",
           "#FF6692",
           "#B6E880",
           "#FF97FF",
           "#FECB52"
          ],
          "font": {
           "color": "#2a3f5f"
          },
          "geo": {
           "bgcolor": "white",
           "lakecolor": "white",
           "landcolor": "#E5ECF6",
           "showlakes": true,
           "showland": true,
           "subunitcolor": "white"
          },
          "hoverlabel": {
           "align": "left"
          },
          "hovermode": "closest",
          "mapbox": {
           "style": "light"
          },
          "paper_bgcolor": "white",
          "plot_bgcolor": "#E5ECF6",
          "polar": {
           "angularaxis": {
            "gridcolor": "white",
            "linecolor": "white",
            "ticks": ""
           },
           "bgcolor": "#E5ECF6",
           "radialaxis": {
            "gridcolor": "white",
            "linecolor": "white",
            "ticks": ""
           }
          },
          "scene": {
           "xaxis": {
            "backgroundcolor": "#E5ECF6",
            "gridcolor": "white",
            "gridwidth": 2,
            "linecolor": "white",
            "showbackground": true,
            "ticks": "",
            "zerolinecolor": "white"
           },
           "yaxis": {
            "backgroundcolor": "#E5ECF6",
            "gridcolor": "white",
            "gridwidth": 2,
            "linecolor": "white",
            "showbackground": true,
            "ticks": "",
            "zerolinecolor": "white"
           },
           "zaxis": {
            "backgroundcolor": "#E5ECF6",
            "gridcolor": "white",
            "gridwidth": 2,
            "linecolor": "white",
            "showbackground": true,
            "ticks": "",
            "zerolinecolor": "white"
           }
          },
          "shapedefaults": {
           "line": {
            "color": "#2a3f5f"
           }
          },
          "ternary": {
           "aaxis": {
            "gridcolor": "white",
            "linecolor": "white",
            "ticks": ""
           },
           "baxis": {
            "gridcolor": "white",
            "linecolor": "white",
            "ticks": ""
           },
           "bgcolor": "#E5ECF6",
           "caxis": {
            "gridcolor": "white",
            "linecolor": "white",
            "ticks": ""
           }
          },
          "title": {
           "x": 0.05
          },
          "xaxis": {
           "automargin": true,
           "gridcolor": "white",
           "linecolor": "white",
           "ticks": "",
           "title": {
            "standoff": 15
           },
           "zerolinecolor": "white",
           "zerolinewidth": 2
          },
          "yaxis": {
           "automargin": true,
           "gridcolor": "white",
           "linecolor": "white",
           "ticks": "",
           "title": {
            "standoff": 15
           },
           "zerolinecolor": "white",
           "zerolinewidth": 2
          }
         }
        },
        "title": {
         "text": "Les Miserables Character Similarity (RandNE)"
        },
        "xaxis": {
         "anchor": "y",
         "domain": [
          0,
          1
         ],
         "title": {
          "text": "x"
         }
        },
        "yaxis": {
         "anchor": "x",
         "domain": [
          0,
          1
         ],
         "title": {
          "text": "y"
         }
        }
       }
      }
     },
     "metadata": {},
     "output_type": "display_data"
    }
   ],
   "source": [
    "from karateclub.node_embedding.neighbourhood.randne import RandNE \n",
    "\n",
    "model = RandNE()  \n",
    "\n",
    "model.fit(G) \n",
    "\n",
    "embeddings = model.get_embedding() \n",
    "\n",
    "title = 'Les Miserables Character Similarity (RandNE)' \n",
    "\n",
    "draw_clustering(embeddings, nodes, title) "
   ]
  },
  {
   "cell_type": "code",
   "execution_count": 40,
   "id": "3dcace21",
   "metadata": {},
   "outputs": [
    {
     "name": "stdout",
     "output_type": "stream",
     "text": [
      "['Joly' 'Bossuet' 'Combeferre' 'Bahorel' 'Gillenormand' 'Pontmercy'\n",
      " 'MlleGillenormand' 'Valjean' 'Mabeuf' 'BaronessT' 'Enjolras' 'Courfeyrac'\n",
      " 'Marius' 'Gavroche' 'Eponine' 'LtGillenormand' 'Feuilly' 'Cosette'\n",
      " 'Thenardier' 'Tholomyes']\n"
     ]
    },
    {
     "data": {
      "image/svg+xml": [
       "<svg xmlns=\"http://www.w3.org/2000/svg\" width=\"1154.0\" height=\"1064.0\">\n",
       "<path stroke-width=\"0.2\" stroke=\"black\" d=\"M 127 36 335 116\"/>\n",
       "<path stroke-width=\"0.2\" stroke=\"black\" d=\"M 458 444 623 453\"/>\n",
       "<path stroke-width=\"0.2\" stroke=\"black\" d=\"M 458 444 105 360\"/>\n",
       "<path stroke-width=\"0.2\" stroke=\"black\" d=\"M 458 444 1044 361\"/>\n",
       "<path stroke-width=\"0.2\" stroke=\"black\" d=\"M 458 444 250 300\"/>\n",
       "<path stroke-width=\"0.2\" stroke=\"black\" d=\"M 458 444 141 229\"/>\n",
       "<path stroke-width=\"0.2\" stroke=\"black\" d=\"M 458 444 342 249\"/>\n",
       "<path stroke-width=\"0.2\" stroke=\"black\" d=\"M 458 444 116 640\"/>\n",
       "<path stroke-width=\"0.2\" stroke=\"black\" d=\"M 458 444 848 915\"/>\n",
       "<path stroke-width=\"0.2\" stroke=\"black\" d=\"M 458 444 20 251\"/>\n",
       "<path stroke-width=\"0.2\" stroke=\"black\" d=\"M 458 444 653 821\"/>\n",
       "<path stroke-width=\"0.2\" stroke=\"black\" d=\"M 458 444 484 611\"/>\n",
       "<path stroke-width=\"0.2\" stroke=\"black\" d=\"M 458 444 436 1044\"/>\n",
       "<path stroke-width=\"0.2\" stroke=\"black\" d=\"M 342 249 127 36\"/>\n",
       "<path stroke-width=\"0.2\" stroke=\"black\" d=\"M 342 249 335 116\"/>\n",
       "<path stroke-width=\"0.2\" stroke=\"black\" d=\"M 342 249 234 20\"/>\n",
       "<path stroke-width=\"0.2\" stroke=\"black\" d=\"M 458 444 832 737\"/>\n",
       "<path stroke-width=\"0.2\" stroke=\"black\" d=\"M 342 249 41 118\"/>\n",
       "<path stroke-width=\"0.2\" stroke=\"black\" d=\"M 458 444 788 232\"/>\n",
       "<path stroke-width=\"0.2\" stroke=\"black\" d=\"M 458 444 41 118\"/>\n",
       "<path stroke-width=\"0.2\" stroke=\"black\" d=\"M 250 300 342 249\"/>\n",
       "<path stroke-width=\"0.2\" stroke=\"black\" d=\"M 250 300 20 251\"/>\n",
       "<path stroke-width=\"0.2\" stroke=\"black\" d=\"M 141 229 127 36\"/>\n",
       "<path stroke-width=\"0.2\" stroke=\"black\" d=\"M 141 229 335 116\"/>\n",
       "<path stroke-width=\"0.2\" stroke=\"black\" d=\"M 141 229 234 20\"/>\n",
       "<path stroke-width=\"0.2\" stroke=\"black\" d=\"M 141 229 41 118\"/>\n",
       "<path stroke-width=\"0.2\" stroke=\"black\" d=\"M 141 229 105 360\"/>\n",
       "<path stroke-width=\"0.2\" stroke=\"black\" d=\"M 141 229 250 300\"/>\n",
       "<path stroke-width=\"0.2\" stroke=\"black\" d=\"M 141 229 458 444\"/>\n",
       "<path stroke-width=\"0.2\" stroke=\"black\" d=\"M 141 229 342 249\"/>\n",
       "<path stroke-width=\"0.2\" stroke=\"black\" d=\"M 141 229 116 640\"/>\n",
       "<path stroke-width=\"0.2\" stroke=\"black\" d=\"M 141 229 20 251\"/>\n",
       "<path stroke-width=\"0.2\" stroke=\"black\" d=\"M 458 444 127 36\"/>\n",
       "<path stroke-width=\"0.2\" stroke=\"black\" d=\"M 458 444 335 116\"/>\n",
       "<path stroke-width=\"0.2\" stroke=\"black\" d=\"M 458 444 234 20\"/>\n",
       "<path stroke-width=\"0.2\" stroke=\"black\" d=\"M 458 444 906 606\"/>\n",
       "<path stroke-width=\"0.2\" stroke=\"black\" d=\"M 250 300 458 444\"/>\n",
       "<path stroke-width=\"0.2\" stroke=\"black\" d=\"M 342 249 623 453\"/>\n",
       "<path stroke-width=\"0.2\" stroke=\"black\" d=\"M 342 249 250 300\"/>\n",
       "<path stroke-width=\"0.2\" stroke=\"black\" d=\"M 20 251 458 444\"/>\n",
       "<path stroke-width=\"0.2\" stroke=\"black\" d=\"M 20 251 342 249\"/>\n",
       "<path stroke-width=\"0.2\" stroke=\"black\" d=\"M 653 821 906 606\"/>\n",
       "<path stroke-width=\"0.2\" stroke=\"black\" d=\"M 653 821 832 737\"/>\n",
       "<path stroke-width=\"0.2\" stroke=\"black\" d=\"M 653 821 623 453\"/>\n",
       "<path stroke-width=\"0.2\" stroke=\"black\" d=\"M 653 821 458 444\"/>\n",
       "<path stroke-width=\"0.2\" stroke=\"black\" d=\"M 653 821 848 915\"/>\n",
       "<path stroke-width=\"0.2\" stroke=\"black\" d=\"M 653 821 484 611\"/>\n",
       "<path stroke-width=\"0.2\" stroke=\"black\" d=\"M 653 821 436 1044\"/>\n",
       "<path stroke-width=\"0.2\" stroke=\"black\" d=\"M 484 611 788 232\"/>\n",
       "<path stroke-width=\"0.2\" stroke=\"black\" d=\"M 484 611 623 453\"/>\n",
       "<path stroke-width=\"0.2\" stroke=\"black\" d=\"M 484 611 458 444\"/>\n",
       "<path stroke-width=\"0.2\" stroke=\"black\" d=\"M 484 611 342 249\"/>\n",
       "<path stroke-width=\"0.2\" stroke=\"black\" d=\"M 484 611 116 640\"/>\n",
       "<path stroke-width=\"0.2\" stroke=\"black\" d=\"M 484 611 653 821\"/>\n",
       "<path stroke-width=\"0.2\" stroke=\"black\" d=\"M 20 251 141 229\"/>\n",
       "<path stroke-width=\"0.2\" stroke=\"black\" d=\"M 342 249 105 360\"/>\n",
       "<path stroke-width=\"0.2\" stroke=\"black\" d=\"M 20 251 250 300\"/>\n",
       "<path stroke-width=\"0.2\" stroke=\"black\" d=\"M 20 251 41 118\"/>\n",
       "<path stroke-width=\"0.2\" stroke=\"black\" d=\"M 342 249 141 229\"/>\n",
       "<path stroke-width=\"0.2\" stroke=\"black\" d=\"M 342 249 458 444\"/>\n",
       "<path stroke-width=\"0.2\" stroke=\"black\" d=\"M 342 249 20 251\"/>\n",
       "<path stroke-width=\"0.2\" stroke=\"black\" d=\"M 342 249 484 611\"/>\n",
       "<path stroke-width=\"0.2\" stroke=\"black\" d=\"M 116 640 105 360\"/>\n",
       "<path stroke-width=\"0.2\" stroke=\"black\" d=\"M 116 640 141 229\"/>\n",
       "<path stroke-width=\"0.2\" stroke=\"black\" d=\"M 116 640 458 444\"/>\n",
       "<path stroke-width=\"0.2\" stroke=\"black\" d=\"M 116 640 484 611\"/>\n",
       "<path stroke-width=\"0.2\" stroke=\"black\" d=\"M 848 915 906 606\"/>\n",
       "<path stroke-width=\"0.2\" stroke=\"black\" d=\"M 848 915 832 737\"/>\n",
       "<path stroke-width=\"0.2\" stroke=\"black\" d=\"M 848 915 458 444\"/>\n",
       "<path stroke-width=\"0.2\" stroke=\"black\" d=\"M 848 915 653 821\"/>\n",
       "<path stroke-width=\"0.2\" stroke=\"black\" d=\"M 20 251 127 36\"/>\n",
       "<path stroke-width=\"0.2\" stroke=\"black\" d=\"M 20 251 335 116\"/>\n",
       "<path stroke-width=\"0.2\" stroke=\"black\" d=\"M 20 251 234 20\"/>\n",
       "<path stroke-width=\"0.2\" stroke=\"black\" d=\"M 20 251 105 360\"/>\n",
       "<path stroke-width=\"0.2\" stroke=\"black\" d=\"M 250 300 141 229\"/>\n",
       "<path stroke-width=\"0.2\" stroke=\"black\" d=\"M 250 300 105 360\"/>\n",
       "<path stroke-width=\"0.2\" stroke=\"black\" d=\"M 250 300 623 453\"/>\n",
       "<path stroke-width=\"0.2\" stroke=\"black\" d=\"M 234 20 335 116\"/>\n",
       "<path stroke-width=\"0.2\" stroke=\"black\" d=\"M 234 20 41 118\"/>\n",
       "<path stroke-width=\"0.2\" stroke=\"black\" d=\"M 234 20 105 360\"/>\n",
       "<path stroke-width=\"0.2\" stroke=\"black\" d=\"M 234 20 250 300\"/>\n",
       "<path stroke-width=\"0.2\" stroke=\"black\" d=\"M 234 20 141 229\"/>\n",
       "<path stroke-width=\"0.2\" stroke=\"black\" d=\"M 234 20 458 444\"/>\n",
       "<path stroke-width=\"0.2\" stroke=\"black\" d=\"M 234 20 342 249\"/>\n",
       "<path stroke-width=\"0.2\" stroke=\"black\" d=\"M 234 20 20 251\"/>\n",
       "<path stroke-width=\"0.2\" stroke=\"black\" d=\"M 41 118 127 36\"/>\n",
       "<path stroke-width=\"0.2\" stroke=\"black\" d=\"M 41 118 335 116\"/>\n",
       "<path stroke-width=\"0.2\" stroke=\"black\" d=\"M 41 118 234 20\"/>\n",
       "<path stroke-width=\"0.2\" stroke=\"black\" d=\"M 41 118 105 360\"/>\n",
       "<path stroke-width=\"0.2\" stroke=\"black\" d=\"M 41 118 250 300\"/>\n",
       "<path stroke-width=\"0.2\" stroke=\"black\" d=\"M 41 118 141 229\"/>\n",
       "<path stroke-width=\"0.2\" stroke=\"black\" d=\"M 41 118 458 444\"/>\n",
       "<path stroke-width=\"0.2\" stroke=\"black\" d=\"M 234 20 127 36\"/>\n",
       "<path stroke-width=\"0.2\" stroke=\"black\" d=\"M 41 118 342 249\"/>\n",
       "<path stroke-width=\"0.2\" stroke=\"black\" d=\"M 335 116 20 251\"/>\n",
       "<path stroke-width=\"0.2\" stroke=\"black\" d=\"M 335 116 458 444\"/>\n",
       "<path stroke-width=\"0.2\" stroke=\"black\" d=\"M 127 36 234 20\"/>\n",
       "<path stroke-width=\"0.2\" stroke=\"black\" d=\"M 127 36 41 118\"/>\n",
       "<path stroke-width=\"0.2\" stroke=\"black\" d=\"M 127 36 105 360\"/>\n",
       "<path stroke-width=\"0.2\" stroke=\"black\" d=\"M 127 36 250 300\"/>\n",
       "<path stroke-width=\"0.2\" stroke=\"black\" d=\"M 127 36 141 229\"/>\n",
       "<path stroke-width=\"0.2\" stroke=\"black\" d=\"M 127 36 458 444\"/>\n",
       "<path stroke-width=\"0.2\" stroke=\"black\" d=\"M 127 36 342 249\"/>\n",
       "<path stroke-width=\"0.2\" stroke=\"black\" d=\"M 127 36 20 251\"/>\n",
       "<path stroke-width=\"0.2\" stroke=\"black\" d=\"M 335 116 127 36\"/>\n",
       "<path stroke-width=\"0.2\" stroke=\"black\" d=\"M 335 116 234 20\"/>\n",
       "<path stroke-width=\"0.2\" stroke=\"black\" d=\"M 335 116 41 118\"/>\n",
       "<path stroke-width=\"0.2\" stroke=\"black\" d=\"M 335 116 623 453\"/>\n",
       "<path stroke-width=\"0.2\" stroke=\"black\" d=\"M 335 116 105 360\"/>\n",
       "<path stroke-width=\"0.2\" stroke=\"black\" d=\"M 335 116 250 300\"/>\n",
       "<path stroke-width=\"0.2\" stroke=\"black\" d=\"M 335 116 141 229\"/>\n",
       "<path stroke-width=\"0.2\" stroke=\"black\" d=\"M 335 116 342 249\"/>\n",
       "<path stroke-width=\"0.2\" stroke=\"black\" d=\"M 41 118 20 251\"/>\n",
       "<path stroke-width=\"0.2\" stroke=\"black\" d=\"M 906 606 832 737\"/>\n",
       "<path stroke-width=\"0.2\" stroke=\"black\" d=\"M 906 606 623 453\"/>\n",
       "<path stroke-width=\"0.2\" stroke=\"black\" d=\"M 105 360 335 116\"/>\n",
       "<path stroke-width=\"0.2\" stroke=\"black\" d=\"M 105 360 234 20\"/>\n",
       "<path stroke-width=\"0.2\" stroke=\"black\" d=\"M 105 360 41 118\"/>\n",
       "<path stroke-width=\"0.2\" stroke=\"black\" d=\"M 105 360 250 300\"/>\n",
       "<path stroke-width=\"0.2\" stroke=\"black\" d=\"M 105 360 141 229\"/>\n",
       "<path stroke-width=\"0.2\" stroke=\"black\" d=\"M 105 360 458 444\"/>\n",
       "<path stroke-width=\"0.2\" stroke=\"black\" d=\"M 105 360 342 249\"/>\n",
       "<path stroke-width=\"0.2\" stroke=\"black\" d=\"M 105 360 116 640\"/>\n",
       "<path stroke-width=\"0.2\" stroke=\"black\" d=\"M 105 360 20 251\"/>\n",
       "<path stroke-width=\"0.2\" stroke=\"black\" d=\"M 1044 361 906 606\"/>\n",
       "<path stroke-width=\"0.2\" stroke=\"black\" d=\"M 1044 361 458 444\"/>\n",
       "<path stroke-width=\"0.2\" stroke=\"black\" d=\"M 250 300 127 36\"/>\n",
       "<path stroke-width=\"0.2\" stroke=\"black\" d=\"M 250 300 335 116\"/>\n",
       "<path stroke-width=\"0.2\" stroke=\"black\" d=\"M 250 300 234 20\"/>\n",
       "<path stroke-width=\"0.2\" stroke=\"black\" d=\"M 250 300 41 118\"/>\n",
       "<path stroke-width=\"0.2\" stroke=\"black\" d=\"M 105 360 127 36\"/>\n",
       "<path stroke-width=\"0.2\" stroke=\"black\" d=\"M 623 453 484 611\"/>\n",
       "<path stroke-width=\"0.2\" stroke=\"black\" d=\"M 623 453 653 821\"/>\n",
       "<path stroke-width=\"0.2\" stroke=\"black\" d=\"M 623 453 342 249\"/>\n",
       "<path stroke-width=\"0.2\" stroke=\"black\" d=\"M 906 606 1044 361\"/>\n",
       "<path stroke-width=\"0.2\" stroke=\"black\" d=\"M 906 606 458 444\"/>\n",
       "<path stroke-width=\"0.2\" stroke=\"black\" d=\"M 906 606 848 915\"/>\n",
       "<path stroke-width=\"0.2\" stroke=\"black\" d=\"M 906 606 653 821\"/>\n",
       "<path stroke-width=\"0.2\" stroke=\"black\" d=\"M 788 232 458 444\"/>\n",
       "<path stroke-width=\"0.2\" stroke=\"black\" d=\"M 788 232 484 611\"/>\n",
       "<path stroke-width=\"0.2\" stroke=\"black\" d=\"M 832 737 906 606\"/>\n",
       "<path stroke-width=\"0.2\" stroke=\"black\" d=\"M 436 1044 458 444\"/>\n",
       "<path stroke-width=\"0.2\" stroke=\"black\" d=\"M 832 737 623 453\"/>\n",
       "<path stroke-width=\"0.2\" stroke=\"black\" d=\"M 832 737 848 915\"/>\n",
       "<path stroke-width=\"0.2\" stroke=\"black\" d=\"M 832 737 653 821\"/>\n",
       "<path stroke-width=\"0.2\" stroke=\"black\" d=\"M 623 453 335 116\"/>\n",
       "<path stroke-width=\"0.2\" stroke=\"black\" d=\"M 623 453 906 606\"/>\n",
       "<path stroke-width=\"0.2\" stroke=\"black\" d=\"M 623 453 832 737\"/>\n",
       "<path stroke-width=\"0.2\" stroke=\"black\" d=\"M 623 453 250 300\"/>\n",
       "<path stroke-width=\"0.2\" stroke=\"black\" d=\"M 623 453 458 444\"/>\n",
       "<path stroke-width=\"0.2\" stroke=\"black\" d=\"M 832 737 458 444\"/>\n",
       "<path stroke-width=\"0.2\" stroke=\"black\" d=\"M 436 1044 653 821\"/>\n",
       "<circle cx=\"127\" cy=\"36\" r=\"10.0\" style=\"fill:lightblue;stroke:black;stroke-width:1.0\"/>\n",
       "<circle cx=\"335\" cy=\"116\" r=\"11.0\" style=\"fill:lightblue;stroke:black;stroke-width:1.0\"/>\n",
       "<circle cx=\"234\" cy=\"20\" r=\"10.0\" style=\"fill:lightblue;stroke:black;stroke-width:1.0\"/>\n",
       "<circle cx=\"41\" cy=\"118\" r=\"10.0\" style=\"fill:lightblue;stroke:black;stroke-width:1.0\"/>\n",
       "<circle cx=\"906\" cy=\"606\" r=\"7.0\" style=\"fill:lightblue;stroke:black;stroke-width:1.0\"/>\n",
       "<circle cx=\"788\" cy=\"232\" r=\"3.0\" style=\"fill:lightblue;stroke:black;stroke-width:1.0\"/>\n",
       "<circle cx=\"832\" cy=\"737\" r=\"6.0\" style=\"fill:lightblue;stroke:black;stroke-width:1.0\"/>\n",
       "<circle cx=\"623\" cy=\"453\" r=\"9.0\" style=\"fill:lightblue;stroke:black;stroke-width:1.0\"/>\n",
       "<circle cx=\"105\" cy=\"360\" r=\"11.0\" style=\"fill:lightblue;stroke:black;stroke-width:1.0\"/>\n",
       "<circle cx=\"1044\" cy=\"361\" r=\"3.0\" style=\"fill:lightblue;stroke:black;stroke-width:1.0\"/>\n",
       "<circle cx=\"250\" cy=\"300\" r=\"11.0\" style=\"fill:lightblue;stroke:black;stroke-width:1.0\"/>\n",
       "<circle cx=\"141\" cy=\"229\" r=\"11.0\" style=\"fill:lightblue;stroke:black;stroke-width:1.0\"/>\n",
       "<circle cx=\"458\" cy=\"444\" r=\"20.0\" style=\"fill:lightblue;stroke:black;stroke-width:1.0\"/>\n",
       "<circle cx=\"342\" cy=\"249\" r=\"12.0\" style=\"fill:lightblue;stroke:black;stroke-width:1.0\"/>\n",
       "<circle cx=\"116\" cy=\"640\" r=\"5.0\" style=\"fill:lightblue;stroke:black;stroke-width:1.0\"/>\n",
       "<circle cx=\"848\" cy=\"915\" r=\"5.0\" style=\"fill:lightblue;stroke:black;stroke-width:1.0\"/>\n",
       "<circle cx=\"20\" cy=\"251\" r=\"10.0\" style=\"fill:lightblue;stroke:black;stroke-width:1.0\"/>\n",
       "<circle cx=\"653\" cy=\"821\" r=\"8.0\" style=\"fill:lightblue;stroke:black;stroke-width:1.0\"/>\n",
       "<circle cx=\"484\" cy=\"611\" r=\"7.0\" style=\"fill:lightblue;stroke:black;stroke-width:1.0\"/>\n",
       "<circle cx=\"436\" cy=\"1044\" r=\"3.0\" style=\"fill:lightblue;stroke:black;stroke-width:1.0\"/>\n",
       "<text text-anchor=\"start\" x=\"140\" y=\"36\" font-size=\"10\">Joly</text><text text-anchor=\"start\" x=\"349\" y=\"116\" font-size=\"10\">Bossuet</text><text text-anchor=\"start\" x=\"247\" y=\"20\" font-size=\"10\">Combeferre</text><text text-anchor=\"start\" x=\"54\" y=\"118\" font-size=\"10\">Bahorel</text><text text-anchor=\"start\" x=\"916\" y=\"606\" font-size=\"10\">Gillenormand</text><text text-anchor=\"start\" x=\"794\" y=\"232\" font-size=\"10\">Pontmercy</text><text text-anchor=\"start\" x=\"841\" y=\"737\" font-size=\"10\">MlleGillenormand</text><text text-anchor=\"start\" x=\"635\" y=\"453\" font-size=\"10\">Valjean</text><text text-anchor=\"start\" x=\"119\" y=\"360\" font-size=\"10\">Mabeuf</text><text text-anchor=\"start\" x=\"1050\" y=\"361\" font-size=\"10\">BaronessT</text><text text-anchor=\"start\" x=\"264\" y=\"300\" font-size=\"10\">Enjolras</text><text text-anchor=\"start\" x=\"155\" y=\"229\" font-size=\"10\">Courfeyrac</text><text text-anchor=\"start\" x=\"481\" y=\"444\" font-size=\"10\">Marius</text><text text-anchor=\"start\" x=\"357\" y=\"249\" font-size=\"10\">Gavroche</text><text text-anchor=\"start\" x=\"124\" y=\"640\" font-size=\"10\">Eponine</text><text text-anchor=\"start\" x=\"856\" y=\"915\" font-size=\"10\">LtGillenormand</text><text text-anchor=\"start\" x=\"33\" y=\"251\" font-size=\"10\">Feuilly</text><text text-anchor=\"start\" x=\"664\" y=\"821\" font-size=\"10\">Cosette</text><text text-anchor=\"start\" x=\"494\" y=\"611\" font-size=\"10\">Thenardier</text><text text-anchor=\"start\" x=\"442\" y=\"1044\" font-size=\"10\">Tholomyes</text></svg>"
      ],
      "text/plain": [
       "<IPython.core.display.SVG object>"
      ]
     },
     "execution_count": 40,
     "metadata": {},
     "output_type": "execute_result"
    }
   ],
   "source": [
    "node = 'Marius' \n",
    "\n",
    "G_ego = nx.ego_graph(G_named, node) \n",
    "\n",
    "draw_graph(G_ego, show_names=True, node_size=3) "
   ]
  },
  {
   "cell_type": "code",
   "execution_count": 41,
   "id": "36c09db7",
   "metadata": {},
   "outputs": [
    {
     "name": "stdout",
     "output_type": "stream",
     "text": [
      "['MotherPlutarch' 'Mabeuf']\n"
     ]
    },
    {
     "data": {
      "image/svg+xml": [
       "<svg xmlns=\"http://www.w3.org/2000/svg\" width=\"1124.0\" height=\"1064.0\">\n",
       "<path stroke-width=\"0.2\" stroke=\"black\" d=\"M 20 20 1044 1044\"/>\n",
       "<path stroke-width=\"0.2\" stroke=\"black\" d=\"M 1044 1044 20 20\"/>\n",
       "<circle cx=\"20\" cy=\"20\" r=\"3.0\" style=\"fill:lightblue;stroke:black;stroke-width:1.0\"/>\n",
       "<circle cx=\"1044\" cy=\"1044\" r=\"3.0\" style=\"fill:lightblue;stroke:black;stroke-width:1.0\"/>\n",
       "<text text-anchor=\"start\" x=\"26\" y=\"20\" font-size=\"10\">MotherPlutarch</text><text text-anchor=\"start\" x=\"1050\" y=\"1044\" font-size=\"10\">Mabeuf</text></svg>"
      ],
      "text/plain": [
       "<IPython.core.display.SVG object>"
      ]
     },
     "execution_count": 41,
     "metadata": {},
     "output_type": "execute_result"
    }
   ],
   "source": [
    "node = 'MotherPlutarch' \n",
    "\n",
    "G_ego = nx.ego_graph(G_named, node) \n",
    "\n",
    "draw_graph(G_ego, show_names=True, node_size=3) "
   ]
  },
  {
   "cell_type": "code",
   "execution_count": 42,
   "id": "7c9811e4",
   "metadata": {},
   "outputs": [
    {
     "data": {
      "text/html": [
       "<div>\n",
       "<style scoped>\n",
       "    .dataframe tbody tr th:only-of-type {\n",
       "        vertical-align: middle;\n",
       "    }\n",
       "\n",
       "    .dataframe tbody tr th {\n",
       "        vertical-align: top;\n",
       "    }\n",
       "\n",
       "    .dataframe thead th {\n",
       "        text-align: right;\n",
       "    }\n",
       "</style>\n",
       "<table border=\"1\" class=\"dataframe\">\n",
       "  <thead>\n",
       "    <tr style=\"text-align: right;\">\n",
       "      <th></th>\n",
       "      <th>0</th>\n",
       "      <th>1</th>\n",
       "      <th>2</th>\n",
       "      <th>3</th>\n",
       "      <th>4</th>\n",
       "      <th>5</th>\n",
       "      <th>6</th>\n",
       "      <th>7</th>\n",
       "      <th>8</th>\n",
       "      <th>9</th>\n",
       "      <th>...</th>\n",
       "      <th>68</th>\n",
       "      <th>69</th>\n",
       "      <th>70</th>\n",
       "      <th>71</th>\n",
       "      <th>72</th>\n",
       "      <th>73</th>\n",
       "      <th>74</th>\n",
       "      <th>75</th>\n",
       "      <th>76</th>\n",
       "      <th>label</th>\n",
       "    </tr>\n",
       "  </thead>\n",
       "  <tbody>\n",
       "    <tr>\n",
       "      <th>Napoleon</th>\n",
       "      <td>-0.948999</td>\n",
       "      <td>-0.370539</td>\n",
       "      <td>1.019771</td>\n",
       "      <td>-1.546844</td>\n",
       "      <td>1.402960</td>\n",
       "      <td>1.120856</td>\n",
       "      <td>-0.568228</td>\n",
       "      <td>-1.519486</td>\n",
       "      <td>0.948075</td>\n",
       "      <td>-1.082952</td>\n",
       "      <td>...</td>\n",
       "      <td>1.906159</td>\n",
       "      <td>2.644384</td>\n",
       "      <td>0.218053</td>\n",
       "      <td>0.159104</td>\n",
       "      <td>0.934097</td>\n",
       "      <td>2.359730</td>\n",
       "      <td>-0.653231</td>\n",
       "      <td>0.227149</td>\n",
       "      <td>-0.503227</td>\n",
       "      <td>0</td>\n",
       "    </tr>\n",
       "    <tr>\n",
       "      <th>Myriel</th>\n",
       "      <td>-0.610640</td>\n",
       "      <td>0.090700</td>\n",
       "      <td>0.049499</td>\n",
       "      <td>-1.010176</td>\n",
       "      <td>0.796567</td>\n",
       "      <td>0.448242</td>\n",
       "      <td>1.176782</td>\n",
       "      <td>0.142189</td>\n",
       "      <td>1.695997</td>\n",
       "      <td>-0.956446</td>\n",
       "      <td>...</td>\n",
       "      <td>0.238334</td>\n",
       "      <td>1.600401</td>\n",
       "      <td>-0.011550</td>\n",
       "      <td>0.767777</td>\n",
       "      <td>0.245079</td>\n",
       "      <td>1.778985</td>\n",
       "      <td>-0.529803</td>\n",
       "      <td>-0.115408</td>\n",
       "      <td>-0.865915</td>\n",
       "      <td>0</td>\n",
       "    </tr>\n",
       "    <tr>\n",
       "      <th>MlleBaptistine</th>\n",
       "      <td>-0.817743</td>\n",
       "      <td>-0.554192</td>\n",
       "      <td>0.195265</td>\n",
       "      <td>-1.858893</td>\n",
       "      <td>1.151244</td>\n",
       "      <td>-0.231442</td>\n",
       "      <td>2.786735</td>\n",
       "      <td>0.482611</td>\n",
       "      <td>1.710762</td>\n",
       "      <td>0.601138</td>\n",
       "      <td>...</td>\n",
       "      <td>1.414692</td>\n",
       "      <td>0.623162</td>\n",
       "      <td>0.254414</td>\n",
       "      <td>0.264657</td>\n",
       "      <td>0.612472</td>\n",
       "      <td>1.445655</td>\n",
       "      <td>-0.067747</td>\n",
       "      <td>-0.669005</td>\n",
       "      <td>-0.936394</td>\n",
       "      <td>0</td>\n",
       "    </tr>\n",
       "    <tr>\n",
       "      <th>MmeMagloire</th>\n",
       "      <td>-0.817743</td>\n",
       "      <td>-0.554192</td>\n",
       "      <td>0.195265</td>\n",
       "      <td>-1.858893</td>\n",
       "      <td>1.151244</td>\n",
       "      <td>-0.231442</td>\n",
       "      <td>2.786735</td>\n",
       "      <td>0.482611</td>\n",
       "      <td>1.710762</td>\n",
       "      <td>0.601138</td>\n",
       "      <td>...</td>\n",
       "      <td>1.414692</td>\n",
       "      <td>0.623162</td>\n",
       "      <td>0.254414</td>\n",
       "      <td>0.264657</td>\n",
       "      <td>0.612472</td>\n",
       "      <td>1.445655</td>\n",
       "      <td>-0.067747</td>\n",
       "      <td>-0.669005</td>\n",
       "      <td>-0.936394</td>\n",
       "      <td>0</td>\n",
       "    </tr>\n",
       "    <tr>\n",
       "      <th>CountessDeLo</th>\n",
       "      <td>-0.216952</td>\n",
       "      <td>-1.242731</td>\n",
       "      <td>2.450365</td>\n",
       "      <td>-0.852710</td>\n",
       "      <td>0.944617</td>\n",
       "      <td>0.507591</td>\n",
       "      <td>0.425176</td>\n",
       "      <td>-1.436033</td>\n",
       "      <td>2.486548</td>\n",
       "      <td>-1.007876</td>\n",
       "      <td>...</td>\n",
       "      <td>0.114750</td>\n",
       "      <td>1.392726</td>\n",
       "      <td>0.630268</td>\n",
       "      <td>3.428321</td>\n",
       "      <td>1.422459</td>\n",
       "      <td>1.222064</td>\n",
       "      <td>-1.347355</td>\n",
       "      <td>0.853628</td>\n",
       "      <td>-1.532143</td>\n",
       "      <td>0</td>\n",
       "    </tr>\n",
       "    <tr>\n",
       "      <th>Geborand</th>\n",
       "      <td>-0.120592</td>\n",
       "      <td>1.374095</td>\n",
       "      <td>1.992590</td>\n",
       "      <td>0.611790</td>\n",
       "      <td>1.330882</td>\n",
       "      <td>1.169039</td>\n",
       "      <td>2.547460</td>\n",
       "      <td>-1.041690</td>\n",
       "      <td>1.818367</td>\n",
       "      <td>-1.134910</td>\n",
       "      <td>...</td>\n",
       "      <td>1.609993</td>\n",
       "      <td>1.391578</td>\n",
       "      <td>0.850674</td>\n",
       "      <td>1.195215</td>\n",
       "      <td>-0.526138</td>\n",
       "      <td>2.330457</td>\n",
       "      <td>-0.183465</td>\n",
       "      <td>0.484761</td>\n",
       "      <td>-1.140059</td>\n",
       "      <td>0</td>\n",
       "    </tr>\n",
       "    <tr>\n",
       "      <th>Champtercier</th>\n",
       "      <td>0.169160</td>\n",
       "      <td>1.485793</td>\n",
       "      <td>0.963990</td>\n",
       "      <td>-0.051599</td>\n",
       "      <td>0.582123</td>\n",
       "      <td>2.055235</td>\n",
       "      <td>0.132082</td>\n",
       "      <td>0.604906</td>\n",
       "      <td>1.326603</td>\n",
       "      <td>-0.193353</td>\n",
       "      <td>...</td>\n",
       "      <td>-0.849449</td>\n",
       "      <td>0.915424</td>\n",
       "      <td>-0.090989</td>\n",
       "      <td>-0.925257</td>\n",
       "      <td>1.535475</td>\n",
       "      <td>2.548945</td>\n",
       "      <td>-0.799657</td>\n",
       "      <td>-0.218955</td>\n",
       "      <td>-1.463225</td>\n",
       "      <td>0</td>\n",
       "    </tr>\n",
       "    <tr>\n",
       "      <th>Cravatte</th>\n",
       "      <td>-0.288429</td>\n",
       "      <td>-0.158740</td>\n",
       "      <td>0.461061</td>\n",
       "      <td>0.226257</td>\n",
       "      <td>0.898541</td>\n",
       "      <td>0.576785</td>\n",
       "      <td>0.636480</td>\n",
       "      <td>-2.532547</td>\n",
       "      <td>0.761615</td>\n",
       "      <td>-0.566386</td>\n",
       "      <td>...</td>\n",
       "      <td>-0.349996</td>\n",
       "      <td>3.087163</td>\n",
       "      <td>-1.298550</td>\n",
       "      <td>1.710087</td>\n",
       "      <td>-1.423577</td>\n",
       "      <td>1.931920</td>\n",
       "      <td>0.971493</td>\n",
       "      <td>0.446216</td>\n",
       "      <td>-2.530790</td>\n",
       "      <td>0</td>\n",
       "    </tr>\n",
       "    <tr>\n",
       "      <th>Count</th>\n",
       "      <td>-2.173779</td>\n",
       "      <td>0.361887</td>\n",
       "      <td>1.540971</td>\n",
       "      <td>-0.698783</td>\n",
       "      <td>0.742119</td>\n",
       "      <td>0.261203</td>\n",
       "      <td>0.860602</td>\n",
       "      <td>1.204151</td>\n",
       "      <td>0.853675</td>\n",
       "      <td>-1.458796</td>\n",
       "      <td>...</td>\n",
       "      <td>0.860835</td>\n",
       "      <td>1.060284</td>\n",
       "      <td>-1.009853</td>\n",
       "      <td>0.839885</td>\n",
       "      <td>0.071028</td>\n",
       "      <td>1.706517</td>\n",
       "      <td>-0.047615</td>\n",
       "      <td>2.233535</td>\n",
       "      <td>-2.580347</td>\n",
       "      <td>0</td>\n",
       "    </tr>\n",
       "    <tr>\n",
       "      <th>OldMan</th>\n",
       "      <td>0.181095</td>\n",
       "      <td>-1.714148</td>\n",
       "      <td>0.102184</td>\n",
       "      <td>-0.943174</td>\n",
       "      <td>1.800889</td>\n",
       "      <td>3.403846</td>\n",
       "      <td>0.165649</td>\n",
       "      <td>0.168705</td>\n",
       "      <td>2.112665</td>\n",
       "      <td>-2.533567</td>\n",
       "      <td>...</td>\n",
       "      <td>0.400448</td>\n",
       "      <td>0.939491</td>\n",
       "      <td>-1.681064</td>\n",
       "      <td>1.099397</td>\n",
       "      <td>-0.197978</td>\n",
       "      <td>-0.175982</td>\n",
       "      <td>-1.541636</td>\n",
       "      <td>1.744847</td>\n",
       "      <td>-1.734477</td>\n",
       "      <td>0</td>\n",
       "    </tr>\n",
       "  </tbody>\n",
       "</table>\n",
       "<p>10 rows × 78 columns</p>\n",
       "</div>"
      ],
      "text/plain": [
       "                       0         1         2         3         4         5  \\\n",
       "Napoleon       -0.948999 -0.370539  1.019771 -1.546844  1.402960  1.120856   \n",
       "Myriel         -0.610640  0.090700  0.049499 -1.010176  0.796567  0.448242   \n",
       "MlleBaptistine -0.817743 -0.554192  0.195265 -1.858893  1.151244 -0.231442   \n",
       "MmeMagloire    -0.817743 -0.554192  0.195265 -1.858893  1.151244 -0.231442   \n",
       "CountessDeLo   -0.216952 -1.242731  2.450365 -0.852710  0.944617  0.507591   \n",
       "Geborand       -0.120592  1.374095  1.992590  0.611790  1.330882  1.169039   \n",
       "Champtercier    0.169160  1.485793  0.963990 -0.051599  0.582123  2.055235   \n",
       "Cravatte       -0.288429 -0.158740  0.461061  0.226257  0.898541  0.576785   \n",
       "Count          -2.173779  0.361887  1.540971 -0.698783  0.742119  0.261203   \n",
       "OldMan          0.181095 -1.714148  0.102184 -0.943174  1.800889  3.403846   \n",
       "\n",
       "                       6         7         8         9  ...        68  \\\n",
       "Napoleon       -0.568228 -1.519486  0.948075 -1.082952  ...  1.906159   \n",
       "Myriel          1.176782  0.142189  1.695997 -0.956446  ...  0.238334   \n",
       "MlleBaptistine  2.786735  0.482611  1.710762  0.601138  ...  1.414692   \n",
       "MmeMagloire     2.786735  0.482611  1.710762  0.601138  ...  1.414692   \n",
       "CountessDeLo    0.425176 -1.436033  2.486548 -1.007876  ...  0.114750   \n",
       "Geborand        2.547460 -1.041690  1.818367 -1.134910  ...  1.609993   \n",
       "Champtercier    0.132082  0.604906  1.326603 -0.193353  ... -0.849449   \n",
       "Cravatte        0.636480 -2.532547  0.761615 -0.566386  ... -0.349996   \n",
       "Count           0.860602  1.204151  0.853675 -1.458796  ...  0.860835   \n",
       "OldMan          0.165649  0.168705  2.112665 -2.533567  ...  0.400448   \n",
       "\n",
       "                      69        70        71        72        73        74  \\\n",
       "Napoleon        2.644384  0.218053  0.159104  0.934097  2.359730 -0.653231   \n",
       "Myriel          1.600401 -0.011550  0.767777  0.245079  1.778985 -0.529803   \n",
       "MlleBaptistine  0.623162  0.254414  0.264657  0.612472  1.445655 -0.067747   \n",
       "MmeMagloire     0.623162  0.254414  0.264657  0.612472  1.445655 -0.067747   \n",
       "CountessDeLo    1.392726  0.630268  3.428321  1.422459  1.222064 -1.347355   \n",
       "Geborand        1.391578  0.850674  1.195215 -0.526138  2.330457 -0.183465   \n",
       "Champtercier    0.915424 -0.090989 -0.925257  1.535475  2.548945 -0.799657   \n",
       "Cravatte        3.087163 -1.298550  1.710087 -1.423577  1.931920  0.971493   \n",
       "Count           1.060284 -1.009853  0.839885  0.071028  1.706517 -0.047615   \n",
       "OldMan          0.939491 -1.681064  1.099397 -0.197978 -0.175982 -1.541636   \n",
       "\n",
       "                      75        76  label  \n",
       "Napoleon        0.227149 -0.503227      0  \n",
       "Myriel         -0.115408 -0.865915      0  \n",
       "MlleBaptistine -0.669005 -0.936394      0  \n",
       "MmeMagloire    -0.669005 -0.936394      0  \n",
       "CountessDeLo    0.853628 -1.532143      0  \n",
       "Geborand        0.484761 -1.140059      0  \n",
       "Champtercier   -0.218955 -1.463225      0  \n",
       "Cravatte        0.446216 -2.530790      0  \n",
       "Count           2.233535 -2.580347      0  \n",
       "OldMan          1.744847 -1.734477      0  \n",
       "\n",
       "[10 rows x 78 columns]"
      ]
     },
     "execution_count": 42,
     "metadata": {},
     "output_type": "execute_result"
    }
   ],
   "source": [
    "eb_df = pd.DataFrame(embeddings, index=nodes) \n",
    "eb_df['label'] = clf_df['label'] \n",
    "eb_df.head(10) "
   ]
  },
  {
   "cell_type": "code",
   "execution_count": 43,
   "id": "29b79240",
   "metadata": {},
   "outputs": [
    {
     "name": "stdout",
     "output_type": "stream",
     "text": [
      "train accuracy: 0.9811320754716981\n",
      "test accuracy: 0.9166666666666666\n"
     ]
    }
   ],
   "source": [
    "X_cols = [c for c in eb_df.columns if c != 'label'] \n",
    "\n",
    "X = eb_df[X_cols] \n",
    "y = eb_df['label'] \n",
    "\n",
    "X_train, X_test, y_train, y_test = train_test_split(X, y, random_state=1337, test_size=0.3) \n",
    "\n",
    "clf = RandomForestClassifier(random_state=1337) \n",
    "clf.fit(X_train, y_train) \n",
    "\n",
    "train_acc = clf.score(X_train, y_train) \n",
    "test_acc = clf.score(X_test, y_test) \n",
    "\n",
    "print('train accuracy: {}\\ntest accuracy: {}'.format(train_acc, test_acc)) "
   ]
  },
  {
   "cell_type": "markdown",
   "id": "28394057",
   "metadata": {},
   "source": [
    "## GraRep"
   ]
  },
  {
   "cell_type": "code",
   "execution_count": 44,
   "id": "cc555d70",
   "metadata": {},
   "outputs": [],
   "source": [
    "from karateclub.node_embedding.neighbourhood.grarep import GraRep \n",
    "\n",
    "model = GraRep() \n",
    "\n",
    "model.fit(G) \n",
    "\n",
    "embeddings = model.get_embedding() "
   ]
  },
  {
   "cell_type": "code",
   "execution_count": 45,
   "id": "99077e14",
   "metadata": {},
   "outputs": [
    {
     "data": {
      "text/html": [
       "<div>\n",
       "<style scoped>\n",
       "    .dataframe tbody tr th:only-of-type {\n",
       "        vertical-align: middle;\n",
       "    }\n",
       "\n",
       "    .dataframe tbody tr th {\n",
       "        vertical-align: top;\n",
       "    }\n",
       "\n",
       "    .dataframe thead th {\n",
       "        text-align: right;\n",
       "    }\n",
       "</style>\n",
       "<table border=\"1\" class=\"dataframe\">\n",
       "  <thead>\n",
       "    <tr style=\"text-align: right;\">\n",
       "      <th></th>\n",
       "      <th>0</th>\n",
       "      <th>1</th>\n",
       "      <th>2</th>\n",
       "      <th>3</th>\n",
       "      <th>4</th>\n",
       "      <th>5</th>\n",
       "      <th>6</th>\n",
       "      <th>7</th>\n",
       "      <th>8</th>\n",
       "      <th>9</th>\n",
       "      <th>...</th>\n",
       "      <th>151</th>\n",
       "      <th>152</th>\n",
       "      <th>153</th>\n",
       "      <th>154</th>\n",
       "      <th>155</th>\n",
       "      <th>156</th>\n",
       "      <th>157</th>\n",
       "      <th>158</th>\n",
       "      <th>159</th>\n",
       "      <th>label</th>\n",
       "    </tr>\n",
       "  </thead>\n",
       "  <tbody>\n",
       "    <tr>\n",
       "      <th>Napoleon</th>\n",
       "      <td>5.316003</td>\n",
       "      <td>-3.257897</td>\n",
       "      <td>-0.414313</td>\n",
       "      <td>1.171641</td>\n",
       "      <td>23.673025</td>\n",
       "      <td>2.923977</td>\n",
       "      <td>-0.002217</td>\n",
       "      <td>-0.387702</td>\n",
       "      <td>-0.766810</td>\n",
       "      <td>0.681690</td>\n",
       "      <td>...</td>\n",
       "      <td>-0.032577</td>\n",
       "      <td>0.004475</td>\n",
       "      <td>-0.005909</td>\n",
       "      <td>-0.000112</td>\n",
       "      <td>0.005546</td>\n",
       "      <td>-0.021997</td>\n",
       "      <td>-0.036247</td>\n",
       "      <td>0.117460</td>\n",
       "      <td>0.004010</td>\n",
       "      <td>0</td>\n",
       "    </tr>\n",
       "    <tr>\n",
       "      <th>Myriel</th>\n",
       "      <td>57.396095</td>\n",
       "      <td>-21.274029</td>\n",
       "      <td>-7.043912</td>\n",
       "      <td>-10.142180</td>\n",
       "      <td>13.683681</td>\n",
       "      <td>0.938422</td>\n",
       "      <td>1.390509</td>\n",
       "      <td>-0.456746</td>\n",
       "      <td>-0.610024</td>\n",
       "      <td>-1.751686</td>\n",
       "      <td>...</td>\n",
       "      <td>0.101423</td>\n",
       "      <td>0.006521</td>\n",
       "      <td>0.008563</td>\n",
       "      <td>-0.012048</td>\n",
       "      <td>-0.015738</td>\n",
       "      <td>-0.000004</td>\n",
       "      <td>-0.000011</td>\n",
       "      <td>0.000026</td>\n",
       "      <td>-0.000001</td>\n",
       "      <td>0</td>\n",
       "    </tr>\n",
       "    <tr>\n",
       "      <th>MlleBaptistine</th>\n",
       "      <td>52.836117</td>\n",
       "      <td>-19.825819</td>\n",
       "      <td>-6.545948</td>\n",
       "      <td>-9.071099</td>\n",
       "      <td>15.858015</td>\n",
       "      <td>1.348985</td>\n",
       "      <td>1.242817</td>\n",
       "      <td>-0.419276</td>\n",
       "      <td>-0.499468</td>\n",
       "      <td>-1.808167</td>\n",
       "      <td>...</td>\n",
       "      <td>0.133588</td>\n",
       "      <td>-0.021598</td>\n",
       "      <td>0.030302</td>\n",
       "      <td>0.010605</td>\n",
       "      <td>-0.016456</td>\n",
       "      <td>-0.000004</td>\n",
       "      <td>-0.000011</td>\n",
       "      <td>0.000026</td>\n",
       "      <td>0.000005</td>\n",
       "      <td>0</td>\n",
       "    </tr>\n",
       "    <tr>\n",
       "      <th>MmeMagloire</th>\n",
       "      <td>52.836117</td>\n",
       "      <td>-19.825819</td>\n",
       "      <td>-6.545948</td>\n",
       "      <td>-9.071099</td>\n",
       "      <td>15.858015</td>\n",
       "      <td>1.348985</td>\n",
       "      <td>1.242817</td>\n",
       "      <td>-0.419276</td>\n",
       "      <td>-0.499468</td>\n",
       "      <td>-1.808167</td>\n",
       "      <td>...</td>\n",
       "      <td>0.133588</td>\n",
       "      <td>-0.021598</td>\n",
       "      <td>0.030302</td>\n",
       "      <td>0.010605</td>\n",
       "      <td>-0.016456</td>\n",
       "      <td>-0.000004</td>\n",
       "      <td>-0.000011</td>\n",
       "      <td>0.000026</td>\n",
       "      <td>0.000005</td>\n",
       "      <td>0</td>\n",
       "    </tr>\n",
       "    <tr>\n",
       "      <th>CountessDeLo</th>\n",
       "      <td>5.316003</td>\n",
       "      <td>-3.257897</td>\n",
       "      <td>-0.414313</td>\n",
       "      <td>1.171641</td>\n",
       "      <td>23.673025</td>\n",
       "      <td>2.923977</td>\n",
       "      <td>-0.002217</td>\n",
       "      <td>-0.387702</td>\n",
       "      <td>-0.766810</td>\n",
       "      <td>0.681690</td>\n",
       "      <td>...</td>\n",
       "      <td>-0.032577</td>\n",
       "      <td>0.004473</td>\n",
       "      <td>-0.005909</td>\n",
       "      <td>-0.000111</td>\n",
       "      <td>0.005544</td>\n",
       "      <td>-0.015041</td>\n",
       "      <td>0.029235</td>\n",
       "      <td>-0.040203</td>\n",
       "      <td>0.087162</td>\n",
       "      <td>0</td>\n",
       "    </tr>\n",
       "    <tr>\n",
       "      <th>Geborand</th>\n",
       "      <td>5.316003</td>\n",
       "      <td>-3.257897</td>\n",
       "      <td>-0.414313</td>\n",
       "      <td>1.171641</td>\n",
       "      <td>23.673025</td>\n",
       "      <td>2.923977</td>\n",
       "      <td>-0.002217</td>\n",
       "      <td>-0.387702</td>\n",
       "      <td>-0.766810</td>\n",
       "      <td>0.681690</td>\n",
       "      <td>...</td>\n",
       "      <td>-0.032578</td>\n",
       "      <td>0.004476</td>\n",
       "      <td>-0.005907</td>\n",
       "      <td>-0.000117</td>\n",
       "      <td>0.005542</td>\n",
       "      <td>-0.059969</td>\n",
       "      <td>0.056563</td>\n",
       "      <td>0.003699</td>\n",
       "      <td>0.008070</td>\n",
       "      <td>0</td>\n",
       "    </tr>\n",
       "    <tr>\n",
       "      <th>Champtercier</th>\n",
       "      <td>5.316003</td>\n",
       "      <td>-3.257897</td>\n",
       "      <td>-0.414313</td>\n",
       "      <td>1.171641</td>\n",
       "      <td>23.673025</td>\n",
       "      <td>2.923977</td>\n",
       "      <td>-0.002217</td>\n",
       "      <td>-0.387702</td>\n",
       "      <td>-0.766810</td>\n",
       "      <td>0.681690</td>\n",
       "      <td>...</td>\n",
       "      <td>-0.032578</td>\n",
       "      <td>0.004477</td>\n",
       "      <td>-0.005905</td>\n",
       "      <td>-0.000118</td>\n",
       "      <td>0.005542</td>\n",
       "      <td>0.016766</td>\n",
       "      <td>-0.036481</td>\n",
       "      <td>-0.017145</td>\n",
       "      <td>0.042617</td>\n",
       "      <td>0</td>\n",
       "    </tr>\n",
       "    <tr>\n",
       "      <th>Cravatte</th>\n",
       "      <td>5.316003</td>\n",
       "      <td>-3.257896</td>\n",
       "      <td>-0.414313</td>\n",
       "      <td>1.171641</td>\n",
       "      <td>23.673025</td>\n",
       "      <td>2.923977</td>\n",
       "      <td>-0.002217</td>\n",
       "      <td>-0.387702</td>\n",
       "      <td>-0.766810</td>\n",
       "      <td>0.681690</td>\n",
       "      <td>...</td>\n",
       "      <td>-0.032577</td>\n",
       "      <td>0.004474</td>\n",
       "      <td>-0.005909</td>\n",
       "      <td>-0.000111</td>\n",
       "      <td>0.005544</td>\n",
       "      <td>0.107698</td>\n",
       "      <td>-0.018705</td>\n",
       "      <td>-0.004800</td>\n",
       "      <td>-0.002677</td>\n",
       "      <td>0</td>\n",
       "    </tr>\n",
       "    <tr>\n",
       "      <th>Count</th>\n",
       "      <td>5.316003</td>\n",
       "      <td>-3.257896</td>\n",
       "      <td>-0.414313</td>\n",
       "      <td>1.171641</td>\n",
       "      <td>23.673025</td>\n",
       "      <td>2.923977</td>\n",
       "      <td>-0.002217</td>\n",
       "      <td>-0.387702</td>\n",
       "      <td>-0.766810</td>\n",
       "      <td>0.681690</td>\n",
       "      <td>...</td>\n",
       "      <td>-0.032577</td>\n",
       "      <td>0.004475</td>\n",
       "      <td>-0.005908</td>\n",
       "      <td>-0.000112</td>\n",
       "      <td>0.005548</td>\n",
       "      <td>0.022988</td>\n",
       "      <td>0.080873</td>\n",
       "      <td>0.000505</td>\n",
       "      <td>-0.075782</td>\n",
       "      <td>0</td>\n",
       "    </tr>\n",
       "    <tr>\n",
       "      <th>OldMan</th>\n",
       "      <td>5.316003</td>\n",
       "      <td>-3.257896</td>\n",
       "      <td>-0.414313</td>\n",
       "      <td>1.171641</td>\n",
       "      <td>23.673025</td>\n",
       "      <td>2.923977</td>\n",
       "      <td>-0.002217</td>\n",
       "      <td>-0.387702</td>\n",
       "      <td>-0.766810</td>\n",
       "      <td>0.681690</td>\n",
       "      <td>...</td>\n",
       "      <td>-0.032577</td>\n",
       "      <td>0.004475</td>\n",
       "      <td>-0.005908</td>\n",
       "      <td>-0.000111</td>\n",
       "      <td>0.005550</td>\n",
       "      <td>-0.050472</td>\n",
       "      <td>-0.075320</td>\n",
       "      <td>-0.059314</td>\n",
       "      <td>-0.063383</td>\n",
       "      <td>0</td>\n",
       "    </tr>\n",
       "  </tbody>\n",
       "</table>\n",
       "<p>10 rows × 161 columns</p>\n",
       "</div>"
      ],
      "text/plain": [
       "                        0          1         2          3          4  \\\n",
       "Napoleon         5.316003  -3.257897 -0.414313   1.171641  23.673025   \n",
       "Myriel          57.396095 -21.274029 -7.043912 -10.142180  13.683681   \n",
       "MlleBaptistine  52.836117 -19.825819 -6.545948  -9.071099  15.858015   \n",
       "MmeMagloire     52.836117 -19.825819 -6.545948  -9.071099  15.858015   \n",
       "CountessDeLo     5.316003  -3.257897 -0.414313   1.171641  23.673025   \n",
       "Geborand         5.316003  -3.257897 -0.414313   1.171641  23.673025   \n",
       "Champtercier     5.316003  -3.257897 -0.414313   1.171641  23.673025   \n",
       "Cravatte         5.316003  -3.257896 -0.414313   1.171641  23.673025   \n",
       "Count            5.316003  -3.257896 -0.414313   1.171641  23.673025   \n",
       "OldMan           5.316003  -3.257896 -0.414313   1.171641  23.673025   \n",
       "\n",
       "                       5         6         7         8         9  ...  \\\n",
       "Napoleon        2.923977 -0.002217 -0.387702 -0.766810  0.681690  ...   \n",
       "Myriel          0.938422  1.390509 -0.456746 -0.610024 -1.751686  ...   \n",
       "MlleBaptistine  1.348985  1.242817 -0.419276 -0.499468 -1.808167  ...   \n",
       "MmeMagloire     1.348985  1.242817 -0.419276 -0.499468 -1.808167  ...   \n",
       "CountessDeLo    2.923977 -0.002217 -0.387702 -0.766810  0.681690  ...   \n",
       "Geborand        2.923977 -0.002217 -0.387702 -0.766810  0.681690  ...   \n",
       "Champtercier    2.923977 -0.002217 -0.387702 -0.766810  0.681690  ...   \n",
       "Cravatte        2.923977 -0.002217 -0.387702 -0.766810  0.681690  ...   \n",
       "Count           2.923977 -0.002217 -0.387702 -0.766810  0.681690  ...   \n",
       "OldMan          2.923977 -0.002217 -0.387702 -0.766810  0.681690  ...   \n",
       "\n",
       "                     151       152       153       154       155       156  \\\n",
       "Napoleon       -0.032577  0.004475 -0.005909 -0.000112  0.005546 -0.021997   \n",
       "Myriel          0.101423  0.006521  0.008563 -0.012048 -0.015738 -0.000004   \n",
       "MlleBaptistine  0.133588 -0.021598  0.030302  0.010605 -0.016456 -0.000004   \n",
       "MmeMagloire     0.133588 -0.021598  0.030302  0.010605 -0.016456 -0.000004   \n",
       "CountessDeLo   -0.032577  0.004473 -0.005909 -0.000111  0.005544 -0.015041   \n",
       "Geborand       -0.032578  0.004476 -0.005907 -0.000117  0.005542 -0.059969   \n",
       "Champtercier   -0.032578  0.004477 -0.005905 -0.000118  0.005542  0.016766   \n",
       "Cravatte       -0.032577  0.004474 -0.005909 -0.000111  0.005544  0.107698   \n",
       "Count          -0.032577  0.004475 -0.005908 -0.000112  0.005548  0.022988   \n",
       "OldMan         -0.032577  0.004475 -0.005908 -0.000111  0.005550 -0.050472   \n",
       "\n",
       "                     157       158       159  label  \n",
       "Napoleon       -0.036247  0.117460  0.004010      0  \n",
       "Myriel         -0.000011  0.000026 -0.000001      0  \n",
       "MlleBaptistine -0.000011  0.000026  0.000005      0  \n",
       "MmeMagloire    -0.000011  0.000026  0.000005      0  \n",
       "CountessDeLo    0.029235 -0.040203  0.087162      0  \n",
       "Geborand        0.056563  0.003699  0.008070      0  \n",
       "Champtercier   -0.036481 -0.017145  0.042617      0  \n",
       "Cravatte       -0.018705 -0.004800 -0.002677      0  \n",
       "Count           0.080873  0.000505 -0.075782      0  \n",
       "OldMan         -0.075320 -0.059314 -0.063383      0  \n",
       "\n",
       "[10 rows x 161 columns]"
      ]
     },
     "execution_count": 45,
     "metadata": {},
     "output_type": "execute_result"
    }
   ],
   "source": [
    "eb_df = pd.DataFrame(embeddings, index=nodes) \n",
    "eb_df['label'] = clf_df['label'] \n",
    "eb_df.head(10) "
   ]
  },
  {
   "cell_type": "code",
   "execution_count": 46,
   "id": "f9a952d7",
   "metadata": {},
   "outputs": [
    {
     "name": "stdout",
     "output_type": "stream",
     "text": [
      "train accuracy: 0.9811320754716981\n",
      "test accuracy: 0.9583333333333334\n"
     ]
    }
   ],
   "source": [
    "X_cols = [c for c in eb_df.columns if c != 'label'] \n",
    "\n",
    "X = eb_df[X_cols] \n",
    "y = eb_df['label'] \n",
    "\n",
    "X_train, X_test, y_train, y_test = train_test_split(X, y, random_state=1337, test_size=0.3) \n",
    "\n",
    "clf = RandomForestClassifier(random_state=1337) \n",
    "clf.fit(X_train, y_train) \n",
    "\n",
    "train_acc = clf.score(X_train, y_train) \n",
    "test_acc = clf.score(X_test, y_test) \n",
    "\n",
    "print('train accuracy: {}\\ntest accuracy: {}'.format(train_acc, test_acc)) "
   ]
  }
 ],
 "metadata": {
  "kernelspec": {
   "display_name": "Python 3",
   "language": "python",
   "name": "python3"
  },
  "language_info": {
   "codemirror_mode": {
    "name": "ipython",
    "version": 3
   },
   "file_extension": ".py",
   "mimetype": "text/x-python",
   "name": "python",
   "nbconvert_exporter": "python",
   "pygments_lexer": "ipython3",
   "version": "3.9.13"
  }
 },
 "nbformat": 4,
 "nbformat_minor": 5
}
